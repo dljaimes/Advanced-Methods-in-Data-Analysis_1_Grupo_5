{
 "cells": [
  {
   "cell_type": "markdown",
   "metadata": {},
   "source": [
    "# Project 3\n",
    "\n",
    "\n",
    "# Movie Genre Classification\n",
    "\n",
    "Classify a movie genre based on its plot.\n",
    "\n",
    "<img src=\"moviegenre.png\"\n",
    "     style=\"float: left; margin-right: 10px;\" />\n",
    "\n",
    "\n",
    "\n",
    "\n",
    "https://www.kaggle.com/c/miia4201-202019-p3-moviegenreclassification/overview\n",
    "\n",
    "### Data\n",
    "\n",
    "Input:\n",
    "- movie plot\n",
    "\n",
    "Output:\n",
    "Probability of the movie belong to each genre\n",
    "\n",
    "\n",
    "### Evaluation\n",
    "\n",
    "- 20% API\n",
    "- 30% Report with all the details of the solution, the analysis and the conclusions. The report cannot exceed 10 pages, must be send in PDF format and must be self-contained.\n",
    "- 50% Performance in the Kaggle competition (The grade for each group will be proportional to the ranking it occupies in the competition. The group in the first place will obtain 5 points, for each position below, 0.25 points will be subtracted, that is: first place: 5 points, second: 4.75 points, third place: 4.50 points ... eleventh place: 2.50 points, twelfth place: 2.25 points).\n",
    "\n",
    "• The project must be carried out in the groups assigned for module 4.\n",
    "• Use clear and rigorous procedures.\n",
    "• The delivery of the project is on July 12, 2020, 11:59 pm, through Sicua + (Upload: the API and the report in PDF format).\n",
    "• No projects will be received after the delivery time or by any other means than the one established. \n",
    "\n",
    "\n",
    "\n",
    "\n",
    "### Acknowledgements\n",
    "\n",
    "We thank Professor Fabio Gonzalez, Ph.D. and his student John Arevalo for providing this dataset.\n",
    "\n",
    "See https://arxiv.org/abs/1702.01992"
   ]
  },
  {
   "cell_type": "markdown",
   "metadata": {},
   "source": [
    "## Sample Submission"
   ]
  },
  {
   "cell_type": "code",
   "execution_count": 40,
   "metadata": {},
   "outputs": [],
   "source": [
    "import pandas as pd\n",
    "import os\n",
    "import numpy as np\n",
    "from sklearn.feature_extraction.text import CountVectorizer\n",
    "from sklearn.preprocessing import MultiLabelBinarizer\n",
    "from sklearn.multiclass import OneVsRestClassifier\n",
    "from sklearn.ensemble import RandomForestRegressor, RandomForestClassifier\n",
    "from sklearn.metrics import r2_score, roc_auc_score\n",
    "from sklearn.model_selection import train_test_split"
   ]
  },
  {
   "cell_type": "code",
   "execution_count": 41,
   "metadata": {},
   "outputs": [],
   "source": [
    "dataTraining = pd.read_csv('https://github.com/albahnsen/AdvancedMethodsDataAnalysisClass/raw/master/datasets/dataTraining.zip', encoding='UTF-8', index_col=0)\n",
    "dataTesting = pd.read_csv('https://github.com/albahnsen/AdvancedMethodsDataAnalysisClass/raw/master/datasets/dataTesting.zip', encoding='UTF-8', index_col=0)"
   ]
  },
  {
   "cell_type": "code",
   "execution_count": 42,
   "metadata": {},
   "outputs": [
    {
     "data": {
      "text/html": [
       "<div>\n",
       "<style scoped>\n",
       "    .dataframe tbody tr th:only-of-type {\n",
       "        vertical-align: middle;\n",
       "    }\n",
       "\n",
       "    .dataframe tbody tr th {\n",
       "        vertical-align: top;\n",
       "    }\n",
       "\n",
       "    .dataframe thead th {\n",
       "        text-align: right;\n",
       "    }\n",
       "</style>\n",
       "<table border=\"1\" class=\"dataframe\">\n",
       "  <thead>\n",
       "    <tr style=\"text-align: right;\">\n",
       "      <th></th>\n",
       "      <th>year</th>\n",
       "      <th>title</th>\n",
       "      <th>plot</th>\n",
       "      <th>genres</th>\n",
       "      <th>rating</th>\n",
       "    </tr>\n",
       "  </thead>\n",
       "  <tbody>\n",
       "    <tr>\n",
       "      <th>3107</th>\n",
       "      <td>2003</td>\n",
       "      <td>Most</td>\n",
       "      <td>most is the story of a single father who takes...</td>\n",
       "      <td>['Short', 'Drama']</td>\n",
       "      <td>8.0</td>\n",
       "    </tr>\n",
       "    <tr>\n",
       "      <th>900</th>\n",
       "      <td>2008</td>\n",
       "      <td>How to Be a Serial Killer</td>\n",
       "      <td>a serial killer decides to teach the secrets o...</td>\n",
       "      <td>['Comedy', 'Crime', 'Horror']</td>\n",
       "      <td>5.6</td>\n",
       "    </tr>\n",
       "    <tr>\n",
       "      <th>6724</th>\n",
       "      <td>1941</td>\n",
       "      <td>A Woman's Face</td>\n",
       "      <td>in sweden ,  a female blackmailer with a disfi...</td>\n",
       "      <td>['Drama', 'Film-Noir', 'Thriller']</td>\n",
       "      <td>7.2</td>\n",
       "    </tr>\n",
       "    <tr>\n",
       "      <th>4704</th>\n",
       "      <td>1954</td>\n",
       "      <td>Executive Suite</td>\n",
       "      <td>in a friday afternoon in new york ,  the presi...</td>\n",
       "      <td>['Drama']</td>\n",
       "      <td>7.4</td>\n",
       "    </tr>\n",
       "    <tr>\n",
       "      <th>2582</th>\n",
       "      <td>1990</td>\n",
       "      <td>Narrow Margin</td>\n",
       "      <td>in los angeles ,  the editor of a publishing h...</td>\n",
       "      <td>['Action', 'Crime', 'Thriller']</td>\n",
       "      <td>6.6</td>\n",
       "    </tr>\n",
       "  </tbody>\n",
       "</table>\n",
       "</div>"
      ],
      "text/plain": [
       "      year                      title  \\\n",
       "3107  2003                       Most   \n",
       "900   2008  How to Be a Serial Killer   \n",
       "6724  1941             A Woman's Face   \n",
       "4704  1954            Executive Suite   \n",
       "2582  1990              Narrow Margin   \n",
       "\n",
       "                                                   plot  \\\n",
       "3107  most is the story of a single father who takes...   \n",
       "900   a serial killer decides to teach the secrets o...   \n",
       "6724  in sweden ,  a female blackmailer with a disfi...   \n",
       "4704  in a friday afternoon in new york ,  the presi...   \n",
       "2582  in los angeles ,  the editor of a publishing h...   \n",
       "\n",
       "                                  genres  rating  \n",
       "3107                  ['Short', 'Drama']     8.0  \n",
       "900        ['Comedy', 'Crime', 'Horror']     5.6  \n",
       "6724  ['Drama', 'Film-Noir', 'Thriller']     7.2  \n",
       "4704                           ['Drama']     7.4  \n",
       "2582     ['Action', 'Crime', 'Thriller']     6.6  "
      ]
     },
     "execution_count": 42,
     "metadata": {},
     "output_type": "execute_result"
    }
   ],
   "source": [
    "dataTraining.head()"
   ]
  },
  {
   "cell_type": "code",
   "execution_count": 43,
   "metadata": {},
   "outputs": [
    {
     "data": {
      "text/html": [
       "<div>\n",
       "<style scoped>\n",
       "    .dataframe tbody tr th:only-of-type {\n",
       "        vertical-align: middle;\n",
       "    }\n",
       "\n",
       "    .dataframe tbody tr th {\n",
       "        vertical-align: top;\n",
       "    }\n",
       "\n",
       "    .dataframe thead th {\n",
       "        text-align: right;\n",
       "    }\n",
       "</style>\n",
       "<table border=\"1\" class=\"dataframe\">\n",
       "  <thead>\n",
       "    <tr style=\"text-align: right;\">\n",
       "      <th></th>\n",
       "      <th>year</th>\n",
       "      <th>title</th>\n",
       "      <th>plot</th>\n",
       "    </tr>\n",
       "  </thead>\n",
       "  <tbody>\n",
       "    <tr>\n",
       "      <th>1</th>\n",
       "      <td>1999</td>\n",
       "      <td>Message in a Bottle</td>\n",
       "      <td>who meets by fate ,  shall be sealed by fate ....</td>\n",
       "    </tr>\n",
       "    <tr>\n",
       "      <th>4</th>\n",
       "      <td>1978</td>\n",
       "      <td>Midnight Express</td>\n",
       "      <td>the true story of billy hayes ,  an american c...</td>\n",
       "    </tr>\n",
       "    <tr>\n",
       "      <th>5</th>\n",
       "      <td>1996</td>\n",
       "      <td>Primal Fear</td>\n",
       "      <td>martin vail left the chicago da ' s office to ...</td>\n",
       "    </tr>\n",
       "    <tr>\n",
       "      <th>6</th>\n",
       "      <td>1950</td>\n",
       "      <td>Crisis</td>\n",
       "      <td>husband and wife americans dr .  eugene and mr...</td>\n",
       "    </tr>\n",
       "    <tr>\n",
       "      <th>7</th>\n",
       "      <td>1959</td>\n",
       "      <td>The Tingler</td>\n",
       "      <td>the coroner and scientist dr .  warren chapin ...</td>\n",
       "    </tr>\n",
       "  </tbody>\n",
       "</table>\n",
       "</div>"
      ],
      "text/plain": [
       "   year                title  \\\n",
       "1  1999  Message in a Bottle   \n",
       "4  1978     Midnight Express   \n",
       "5  1996          Primal Fear   \n",
       "6  1950               Crisis   \n",
       "7  1959          The Tingler   \n",
       "\n",
       "                                                plot  \n",
       "1  who meets by fate ,  shall be sealed by fate ....  \n",
       "4  the true story of billy hayes ,  an american c...  \n",
       "5  martin vail left the chicago da ' s office to ...  \n",
       "6  husband and wife americans dr .  eugene and mr...  \n",
       "7  the coroner and scientist dr .  warren chapin ...  "
      ]
     },
     "execution_count": 43,
     "metadata": {},
     "output_type": "execute_result"
    }
   ],
   "source": [
    "dataTesting.head()"
   ]
  },
  {
   "cell_type": "code",
   "execution_count": 44,
   "metadata": {},
   "outputs": [],
   "source": [
    "from nltk.stem import WordNetLemmatizer "
   ]
  },
  {
   "cell_type": "code",
   "execution_count": 46,
   "metadata": {},
   "outputs": [],
   "source": [
    "def pre_process(text):\n",
    "    # lowercase\n",
    "    text = text.lower()\n",
    "    # tags\n",
    "    text = re.sub('&lt;/?.*?&gt;',' &lt;&gt; ',text)\n",
    "    # special characters and digits\n",
    "    text=re.sub('(\\\\d|\\\\W)+',' ',text)\n",
    "    # remove punctuation\n",
    "    #text = re.sub('[.;:!\\'?,\\\"()\\[\\]]', '', text)\n",
    "    #text = [REPLACE.sub('', line) for line in text]\n",
    "    \n",
    "    return text\n",
    "\n",
    "dataTraining['plot_low']=dataTraining['plot'].apply(lambda x:pre_process(x))\n",
    "dataTesting['plot_low']=dataTesting['plot'].apply(lambda x:pre_process(x))\n",
    "\n",
    "\n",
    "\n",
    "###############################################################################\n",
    "\n",
    "# se eliminan stopwords\n",
    "\n",
    "english_stop_words=stopwords.words('english')\n",
    "\n",
    "def remove_stop_words(corpus):\n",
    "    removed_stop_words = []\n",
    "    for review in corpus:\n",
    "        removed_stop_words.append(\n",
    "            ' '.join([word for word in review.split() \n",
    "                      if word not in english_stop_words])\n",
    "        )\n",
    "    return removed_stop_words\n",
    "\n",
    "dataTraining['plot_low_rm'] = remove_stop_words(dataTraining['plot_low'])\n",
    "dataTesting['plot_low_rm'] = remove_stop_words(dataTesting['plot_low'])\n",
    "\n",
    "###############################################################################\n",
    "\n",
    "# Stemming:\n",
    "\n",
    "\n",
    "def get_stemmed_text(corpus):\n",
    "    stemmer = PorterStemmer()\n",
    "    return [' '.join([stemmer.stem(word) for word in review.split()]) for review in corpus]\n",
    "\n",
    "dataTraining['plot_low_rm_stem'] = get_stemmed_text(dataTraining['plot_low_rm'])\n",
    "dataTesting['plot_low_rm_stem'] = get_stemmed_text(dataTesting['plot_low_rm'])\n",
    "\n",
    "###############################################################################\n",
    "\n",
    "# LEMATIZACION:\n",
    "\n",
    "\n",
    "def lemma(texto):\n",
    "  lemmatizador = WordNetLemmatizer()\n",
    "  return [' '.join([lemmatizador.lemmatize(word) for word in review.split()]) for review in texto]\n",
    "\n",
    "dataTraining['plot_low_rm_lemma'] = lemma(dataTraining['plot_low_rm'])\n",
    "dataTesting['plot_low_rm_lemma'] = lemma(dataTesting['plot_low_rm'])\n"
   ]
  },
  {
   "cell_type": "code",
   "execution_count": 47,
   "metadata": {},
   "outputs": [
    {
     "data": {
      "text/html": [
       "<div>\n",
       "<style scoped>\n",
       "    .dataframe tbody tr th:only-of-type {\n",
       "        vertical-align: middle;\n",
       "    }\n",
       "\n",
       "    .dataframe tbody tr th {\n",
       "        vertical-align: top;\n",
       "    }\n",
       "\n",
       "    .dataframe thead th {\n",
       "        text-align: right;\n",
       "    }\n",
       "</style>\n",
       "<table border=\"1\" class=\"dataframe\">\n",
       "  <thead>\n",
       "    <tr style=\"text-align: right;\">\n",
       "      <th></th>\n",
       "      <th>plot</th>\n",
       "      <th>plot_low</th>\n",
       "      <th>plot_low_rm</th>\n",
       "      <th>plot_low_rm_stem</th>\n",
       "      <th>plot_low_rm_lemma</th>\n",
       "    </tr>\n",
       "  </thead>\n",
       "  <tbody>\n",
       "    <tr>\n",
       "      <th>3107</th>\n",
       "      <td>most is the story of a single father who takes...</td>\n",
       "      <td>most is the story of a single father who takes...</td>\n",
       "      <td>story single father takes eight year old son w...</td>\n",
       "      <td>stori singl father take eight year old son wor...</td>\n",
       "      <td>story single father take eight year old son wo...</td>\n",
       "    </tr>\n",
       "    <tr>\n",
       "      <th>900</th>\n",
       "      <td>a serial killer decides to teach the secrets o...</td>\n",
       "      <td>a serial killer decides to teach the secrets o...</td>\n",
       "      <td>serial killer decides teach secrets satisfying...</td>\n",
       "      <td>serial killer decid teach secret satisfi caree...</td>\n",
       "      <td>serial killer decides teach secret satisfying ...</td>\n",
       "    </tr>\n",
       "    <tr>\n",
       "      <th>6724</th>\n",
       "      <td>in sweden ,  a female blackmailer with a disfi...</td>\n",
       "      <td>in sweden a female blackmailer with a disfigur...</td>\n",
       "      <td>sweden female blackmailer disfiguring facial s...</td>\n",
       "      <td>sweden femal blackmail disfigur facial scar me...</td>\n",
       "      <td>sweden female blackmailer disfiguring facial s...</td>\n",
       "    </tr>\n",
       "    <tr>\n",
       "      <th>4704</th>\n",
       "      <td>in a friday afternoon in new york ,  the presi...</td>\n",
       "      <td>in a friday afternoon in new york the presiden...</td>\n",
       "      <td>friday afternoon new york president tredway co...</td>\n",
       "      <td>friday afternoon new york presid tredway corpo...</td>\n",
       "      <td>friday afternoon new york president tredway co...</td>\n",
       "    </tr>\n",
       "    <tr>\n",
       "      <th>2582</th>\n",
       "      <td>in los angeles ,  the editor of a publishing h...</td>\n",
       "      <td>in los angeles the editor of a publishing hous...</td>\n",
       "      <td>los angeles editor publishing house carol hunn...</td>\n",
       "      <td>lo angel editor publish hous carol hunnicut go...</td>\n",
       "      <td>los angeles editor publishing house carol hunn...</td>\n",
       "    </tr>\n",
       "    <tr>\n",
       "      <th>...</th>\n",
       "      <td>...</td>\n",
       "      <td>...</td>\n",
       "      <td>...</td>\n",
       "      <td>...</td>\n",
       "      <td>...</td>\n",
       "    </tr>\n",
       "    <tr>\n",
       "      <th>8417</th>\n",
       "      <td>\" our marriage ,  their wedding .  \"  it ' s l...</td>\n",
       "      <td>our marriage their wedding it s lesson number...</td>\n",
       "      <td>marriage wedding lesson number one newly engag...</td>\n",
       "      <td>marriag wed lesson number one newli engag coup...</td>\n",
       "      <td>marriage wedding lesson number one newly engag...</td>\n",
       "    </tr>\n",
       "    <tr>\n",
       "      <th>1592</th>\n",
       "      <td>the wandering barbarian ,  conan ,  alongside ...</td>\n",
       "      <td>the wandering barbarian conan alongside his go...</td>\n",
       "      <td>wandering barbarian conan alongside goofy rogu...</td>\n",
       "      <td>wander barbarian conan alongsid goofi rogu pal...</td>\n",
       "      <td>wandering barbarian conan alongside goofy rogu...</td>\n",
       "    </tr>\n",
       "    <tr>\n",
       "      <th>1723</th>\n",
       "      <td>like a tale spun by scheherazade ,  kismet fol...</td>\n",
       "      <td>like a tale spun by scheherazade kismet follow...</td>\n",
       "      <td>like tale spun scheherazade kismet follows rem...</td>\n",
       "      <td>like tale spun scheherazad kismet follow remar...</td>\n",
       "      <td>like tale spun scheherazade kismet follows rem...</td>\n",
       "    </tr>\n",
       "    <tr>\n",
       "      <th>7605</th>\n",
       "      <td>mrs .  brisby ,  a widowed mouse ,  lives in a...</td>\n",
       "      <td>mrs brisby a widowed mouse lives in a cinder b...</td>\n",
       "      <td>mrs brisby widowed mouse lives cinder block ch...</td>\n",
       "      <td>mr brisbi widow mous live cinder block childre...</td>\n",
       "      <td>mr brisby widowed mouse life cinder block chil...</td>\n",
       "    </tr>\n",
       "    <tr>\n",
       "      <th>215</th>\n",
       "      <td>tinker bell journey far north of never land to...</td>\n",
       "      <td>tinker bell journey far north of never land to...</td>\n",
       "      <td>tinker bell journey far north never land patch...</td>\n",
       "      <td>tinker bell journey far north never land patch...</td>\n",
       "      <td>tinker bell journey far north never land patch...</td>\n",
       "    </tr>\n",
       "  </tbody>\n",
       "</table>\n",
       "<p>7895 rows × 5 columns</p>\n",
       "</div>"
      ],
      "text/plain": [
       "                                                   plot  \\\n",
       "3107  most is the story of a single father who takes...   \n",
       "900   a serial killer decides to teach the secrets o...   \n",
       "6724  in sweden ,  a female blackmailer with a disfi...   \n",
       "4704  in a friday afternoon in new york ,  the presi...   \n",
       "2582  in los angeles ,  the editor of a publishing h...   \n",
       "...                                                 ...   \n",
       "8417  \" our marriage ,  their wedding .  \"  it ' s l...   \n",
       "1592  the wandering barbarian ,  conan ,  alongside ...   \n",
       "1723  like a tale spun by scheherazade ,  kismet fol...   \n",
       "7605  mrs .  brisby ,  a widowed mouse ,  lives in a...   \n",
       "215   tinker bell journey far north of never land to...   \n",
       "\n",
       "                                               plot_low  \\\n",
       "3107  most is the story of a single father who takes...   \n",
       "900   a serial killer decides to teach the secrets o...   \n",
       "6724  in sweden a female blackmailer with a disfigur...   \n",
       "4704  in a friday afternoon in new york the presiden...   \n",
       "2582  in los angeles the editor of a publishing hous...   \n",
       "...                                                 ...   \n",
       "8417   our marriage their wedding it s lesson number...   \n",
       "1592  the wandering barbarian conan alongside his go...   \n",
       "1723  like a tale spun by scheherazade kismet follow...   \n",
       "7605  mrs brisby a widowed mouse lives in a cinder b...   \n",
       "215   tinker bell journey far north of never land to...   \n",
       "\n",
       "                                            plot_low_rm  \\\n",
       "3107  story single father takes eight year old son w...   \n",
       "900   serial killer decides teach secrets satisfying...   \n",
       "6724  sweden female blackmailer disfiguring facial s...   \n",
       "4704  friday afternoon new york president tredway co...   \n",
       "2582  los angeles editor publishing house carol hunn...   \n",
       "...                                                 ...   \n",
       "8417  marriage wedding lesson number one newly engag...   \n",
       "1592  wandering barbarian conan alongside goofy rogu...   \n",
       "1723  like tale spun scheherazade kismet follows rem...   \n",
       "7605  mrs brisby widowed mouse lives cinder block ch...   \n",
       "215   tinker bell journey far north never land patch...   \n",
       "\n",
       "                                       plot_low_rm_stem  \\\n",
       "3107  stori singl father take eight year old son wor...   \n",
       "900   serial killer decid teach secret satisfi caree...   \n",
       "6724  sweden femal blackmail disfigur facial scar me...   \n",
       "4704  friday afternoon new york presid tredway corpo...   \n",
       "2582  lo angel editor publish hous carol hunnicut go...   \n",
       "...                                                 ...   \n",
       "8417  marriag wed lesson number one newli engag coup...   \n",
       "1592  wander barbarian conan alongsid goofi rogu pal...   \n",
       "1723  like tale spun scheherazad kismet follow remar...   \n",
       "7605  mr brisbi widow mous live cinder block childre...   \n",
       "215   tinker bell journey far north never land patch...   \n",
       "\n",
       "                                      plot_low_rm_lemma  \n",
       "3107  story single father take eight year old son wo...  \n",
       "900   serial killer decides teach secret satisfying ...  \n",
       "6724  sweden female blackmailer disfiguring facial s...  \n",
       "4704  friday afternoon new york president tredway co...  \n",
       "2582  los angeles editor publishing house carol hunn...  \n",
       "...                                                 ...  \n",
       "8417  marriage wedding lesson number one newly engag...  \n",
       "1592  wandering barbarian conan alongside goofy rogu...  \n",
       "1723  like tale spun scheherazade kismet follows rem...  \n",
       "7605  mr brisby widowed mouse life cinder block chil...  \n",
       "215   tinker bell journey far north never land patch...  \n",
       "\n",
       "[7895 rows x 5 columns]"
      ]
     },
     "execution_count": 47,
     "metadata": {},
     "output_type": "execute_result"
    }
   ],
   "source": [
    "dataTraining[['plot','plot_low','plot_low_rm','plot_low_rm_stem','plot_low_rm_lemma']]"
   ]
  },
  {
   "cell_type": "markdown",
   "metadata": {},
   "source": [
    "### Create count vectorizer\n"
   ]
  },
  {
   "cell_type": "code",
   "execution_count": 48,
   "metadata": {},
   "outputs": [
    {
     "name": "stdout",
     "output_type": "stream",
     "text": [
      "(7895, 5000)\n"
     ]
    }
   ],
   "source": [
    "vect = CountVectorizer(max_features=5000, min_df=0.0005)\n",
    "X_dtm = vect.fit_transform(dataTraining['plot_low_rm_stem'])\n",
    "voca_coun_vec = vect.vocabulary_ # vocabulario de countvectorizer()\n",
    "\n",
    "print(X_dtm.shape)"
   ]
  },
  {
   "cell_type": "code",
   "execution_count": 49,
   "metadata": {},
   "outputs": [
    {
     "name": "stdout",
     "output_type": "stream",
     "text": [
      "{'stori': 4273, 'singl': 4075, 'father': 1635, 'take': 4412, 'eight': 1408, 'year': 4980, 'old': 3133, 'son': 4159, 'work': 4949, 'railroad': 3579, 'bridg': 543, 'day': 1113, 'boy': 513, 'meet': 2816, 'woman': 4941, 'board': 476, 'train': 4591, 'drug': 1345, 'abus': 15, 'goe': 1889, 'engin': 1473, 'room': 3823, 'tell': 4450, 'stay': 4249, 'edg': 1393, 'nearbi': 3008, 'lake': 2510, 'ship': 4027, 'come': 874, 'lift': 2602, 'though': 4505, 'suppos': 4361, 'arriv': 242, 'hour': 2146, 'later': 2527, 'happen': 1996, 'see': 3947, 'tri': 4615, 'warn': 4850, 'abl': 8, 'approach': 213, 'fall': 1610, 'gear': 1846, 'attempt': 278, 'lower': 2670, 'leav': 2556, 'horrif': 2136, 'choic': 756, 'crush': 1056, 'peopl': 3285, 'complet': 901, 'fact': 1599, 'die': 1222, 'save': 3901, 'addict': 46, 'look': 2646, 'window': 4922, 'movi': 2956, 'end': 1465, 'man': 2722, 'wander': 4841, 'new': 3040, 'citi': 780, 'longer': 2644, 'hold': 2105, 'small': 4114, 'babi': 314, 'run': 3847, 'parallel': 3224, 'name': 2985, 'one': 3139, 'femal': 1653, 'climax': 811, 'film': 1673, 'serial': 3977, 'killer': 2469, 'decid': 1137, 'teach': 4435, 'secret': 3940, 'satisfi': 3898, 'career': 647, 'video': 4785, 'store': 4272, 'clerk': 805, 'blackmail': 457, 'disfigur': 1252, 'scar': 3907, 'gentleman': 1854, 'live': 2625, 'beyond': 431, 'mean': 2802, 'becom': 386, 'accomplic': 24, 'love': 2667, 'resign': 3727, 'imposs': 2205, 'return': 3747, 'affect': 68, 'life': 2598, 'chang': 715, 'victim': 4780, 'prove': 3519, 'wife': 4912, 'plastic': 3362, 'surgeon': 4369, 'catch': 675, 'apart': 199, 'believ': 402, 'jewel': 2376, 'thief': 4494, 'rather': 3605, 'offer': 3125, 'chanc': 713, 'like': 2605, 'normal': 3083, 'accept': 18, 'despit': 1196, 'multipl': 2962, 'oper': 3144, 'meanwhil': 2806, 'form': 1742, 'evil': 1547, 'scheme': 3911, 'rid': 3771, 'person': 3302, 'stand': 4235, 'way': 4861, 'fortun': 1751, 'four': 1760, 'nephew': 3029, 'friday': 1796, 'afternoon': 75, 'york': 4984, 'presid': 3447, 'corpor': 987, 'averi': 301, 'invest': 2301, 'banker': 340, 'send': 3963, 'schedul': 3910, 'furnitur': 1820, 'factori': 1601, 'pennsylvania': 3284, 'six': 4084, 'execut': 1564, 'never': 3038, 'appoint': 209, 'vice': 4777, 'death': 1125, 'previou': 3457, 'get': 1863, 'taxi': 4433, 'stroke': 4298, 'street': 4286, 'steal': 4250, 'wallet': 4835, 'money': 2920, 'bodi': 480, 'without': 4937, 'georg': 1856, 'use': 4737, 'inform': 2246, 'make': 2713, 'ask': 254, 'broker': 558, 'sell': 3959, 'much': 2959, 'stock': 4267, 'possibl': 3416, 'intent': 2281, 'buy': 603, 'back': 318, 'morn': 2937, 'price': 3460, 'profit': 3494, 'unsuccess': 4714, 'wait': 4827, 'learn': 2554, 'dead': 1118, 'ambit': 141, 'account': 27, 'control': 967, 'shaw': 4014, 'releas': 3682, 'press': 3449, 'balanc': 331, 'show': 4040, 'assum': 267, 'temporarili': 4456, 'leadership': 2549, 'compani': 892, 'expect': 1573, 'elect': 1420, 'next': 3050, 'seven': 3989, 'member': 2824, 'howev': 2153, 'design': 1190, 'develop': 1208, 'wall': 4833, 'treasur': 4608, 'frederick': 1783, 'oppos': 3149, 'struggl': 4302, 'posit': 3413, 'sale': 3873, 'walter': 4839, 'dudley': 1353, 'marri': 2760, 'mistress': 2901, 'secretari': 3941, 'eva': 1528, 'vote': 4820, 'need': 3014, 'cover': 1016, 'sold': 4144, 'promis': 3501, 'give': 1876, 'manufactur': 2735, 'jess': 2370, 'near': 3007, 'retir': 3743, 'close': 819, 'friend': 1797, 'support': 4360, 'therefor': 4492, 'heir': 2049, 'julia': 2422, 'respons': 3734, 'cast': 670, 'lo': 2629, 'angel': 164, 'editor': 1396, 'publish': 3534, 'hous': 2147, 'carol': 657, 'blind': 463, 'date': 1106, 'lawyer': 2543, 'michael': 2850, 'power': 3424, 'mobster': 2909, 'leo': 2573, 'accident': 21, 'wit': 4934, 'murder': 2964, 'michel': 2851, 'hitman': 2098, 'scare': 3908, 'sneak': 4127, 'hide': 2075, 'isol': 2322, 'cabin': 606, 'canada': 627, 'deputi': 1182, 'district': 1274, 'attorney': 283, 'robert': 3798, 'sgt': 3996, 'discov': 1248, 'report': 3714, 'chief': 747, 'martin': 2767, 'head': 2032, 'helicopt': 2055, 'convinc': 974, 'testifi': 4476, 'follow': 1723, 'pilot': 3341, 'mafia': 2701, 'flee': 1702, 'disclos': 1247, 'three': 4510, 'find': 1679, 'kill': 2468, 'know': 2488, 'might': 2860, 'third': 4498, 'betray': 426, 'offic': 3126, 'two': 4655, 'drifter': 1336, 'pass': 3246, 'western': 4889, 'town': 4574, 'news': 3047, 'local': 2633, 'farmer': 1626, 'cattl': 682, 'stolen': 4269, 'townspeopl': 4576, 'join': 2395, 'poss': 3414, 'perpetr': 3298, 'men': 2827, 'possess': 3415, 'determin': 1205, 'justic': 2433, 'done': 1301, 'spot': 4216, 'gay': 1845, 'night': 3060, 'halloween': 1981, 'west': 4888, 'hollywood': 2110, 'california': 615, 'eddi': 1391, 'joey': 2391, 'go': 1886, 'festiv': 1657, 'encount': 1463, 'psycho': 3527, 'set': 3985, 'eye': 1595, 'stalk': 4232, 'parti': 3239, 'chase': 730, 'jock': 2387, 'dress': 1332, 'drag': 1321, 'pursu': 3543, 'jake': 2338, 'bad': 324, 'want': 4843, 'better': 428, 'surviv': 4378, 'terror': 4473, 'adult': 58, 'morgan': 2936, 'move': 2954, 'away': 309, 'south': 4175, 'coal': 835, 'mine': 2876, 'villag': 4795, 'entir': 1491, 'rememb': 3698, 'grow': 1950, 'period': 3295, 'dust': 1361, 'area': 224, 'yet': 4983, 'green': 1934, 'valley': 4745, 'five': 1694, 'brother': 562, 'sourc': 4174, 'conflict': 930, 'manag': 2723, 'labor': 2501, 'also': 131, 'within': 4936, 'famili': 1614, 'individu': 2230, 'differ': 1224, 'view': 4790, 'role': 3809, 'age': 77, 'immedi': 2192, 'fell': 1650, 'came': 619, 'eldest': 1418, 'front': 1801, 'sister': 4080, 'preacher': 3430, 'mr': 2957, 'slightli': 4108, 'relationship': 3680, 'would': 4959, 'destroy': 1199, 'sibl': 4048, 'obtain': 3110, 'educ': 1398, 'book': 488, 'school': 3914, 'first': 1687, 'experi': 1577, 'post': 3417, 'surpris': 4371, 'result': 3738, 'loss': 2656, 'youth': 4990, 'innoc': 2257, 'whose': 4907, 'skill': 4094, 'desir': 1191, 'unexpectedli': 4688, 'miracul': 2885, 'reviv': 3757, 'minut': 2883, 'wake': 4829, 'annoy': 180, 'abil': 7, 'ghost': 1866, 'even': 1535, 'wors': 4954, 'someth': 4155, 'particularli': 3242, 'frank': 1772, 'break': 528, 'impend': 2198, 'marriag': 2761, 'widow': 4910, 'gwen': 1970, 'put': 3546, 'squar': 4222, 'middl': 2856, 'triangl': 4617, 'spirit': 4207, 'roy': 3838, 'rais': 3581, 'best': 423, 'world': 4951, 'earli': 1375, 'fellow': 1651, 'erni': 1508, 'misunderstand': 2902, 'rough': 3832, 'punk': 3538, 'poor': 3400, 'bowl': 510, 'hand': 1986, 'let': 2584, 'travel': 4605, 'realli': 3621, 'hill': 2086, 'farm': 1625, 'knew': 2483, 'trainer': 4592, 'ever': 1538, 'seen': 3953, 'reluctantli': 3693, 'agre': 84, 'road': 3792, 'shortli': 4037, 'afterward': 76, 'actual': 41, 'outsid': 3180, 'quit': 3561, 'fun': 1812, 'soon': 4163, 'path': 3255, 'cross': 1047, 'still': 4264, 'top': 4560, 'rank': 3597, 'land': 2512, 'toilet': 4546, 'draw': 1327, 'huge': 2156, 'crowd': 1050, 'babe': 313, 'ultim': 4664, 'championship': 711, 'truli': 4634, 'champion': 710, 'guy': 1969, 'camera': 620, 'chronicl': 769, 'terrifi': 4471, 'passag': 3247, 'lose': 2654, 'virgin': 4805, 'help': 2057, 'buddi': 572, 'laid': 2509, 'benefit': 411, 'internet': 2286, 'porn': 3406, 'star': 4239, 'adventur': 62, 'alway': 136, 'dexter': 1213, 'reed': 3653, 'plan': 3357, 'nice': 3051, 'relax': 3681, 'summer': 4346, 'good': 1894, 'worker': 4950, 'ed': 1390, 'skate': 4089, 'car': 643, 'accid': 20, 'teacher': 4436, 'asid': 253, 'job': 2386, 'across': 34, 'open': 3142, 'busi': 595, 'amaz': 139, 'home': 2113, 'ice': 2173, 'cream': 1030, 'truck': 4632, 'drive': 1339, 'idea': 2175, 'bigger': 437, 'whole': 4906, 'restaur': 3736, 'blow': 471, 'owner': 3196, 'jail': 2337, 'illeg': 2187, 'everyth': 1544, 'greenwich': 1935, 'pretti': 3455, 'kind': 2471, 'elderli': 1417, 'neighbor': 3020, 'whenev': 4896, 'keep': 2449, 'vow': 4821, 'poker': 3386, 'play': 3364, 'fish': 1688, 'check': 735, 'win': 4920, 'number': 3099, 'big': 436, 'ticket': 4525, 'ant': 185, 'last': 2525, 'card': 644, 'game': 1831, 'pot': 3418, 'reason': 3624, 'girlfriend': 1875, 'carla': 652, 'propos': 3509, 'regular': 3670, 'littl': 2624, 'alon': 126, 'photo': 3324, 'whatev': 4892, 'measur': 2807, 'locat': 2634, 'accord': 26, 'sole': 4146, 'piec': 3334, 'phillip': 3318, 'million': 2870, 'mix': 2905, 'emot': 1454, 'switch': 4398, 'time': 4533, 'spend': 4197, 'guilt': 1960, 'sometim': 4156, 'suspici': 4385, 'behavior': 399, 'lead': 2547, 'may': 2793, 'appear': 206, 'surfac': 4367, 'especi': 1514, 'polic': 3389, 'neighborhood': 3021, 'suspect': 4382, 'natur': 3000, 'other': 3167, 'factor': 1600, 'san': 3885, 'isabel': 2319, 'witch': 4935, 'supernatur': 4355, 'jack': 2330, 'wyatt': 4972, 'tall': 4418, 'charm': 728, 'actor': 39, 'track': 4582, 'sight': 4056, 'version': 4771, 'belov': 406, 'situat': 4083, 'comedi': 877, 'conceiv': 912, 'vehicl': 4758, 'mere': 2834, 'mortal': 2940, 'fate': 1634, 'step': 4253, 'attract': 284, 'nose': 3087, 'bear': 375, 'resembl': 3723, 'elizabeth': 1432, 'montgomeri': 2928, 'samantha': 3880, 'origin': 3161, 'tv': 4648, 'could': 998, 'seri': 3976, 'taken': 4413, 'settl': 3987, 'turn': 4645, 'right': 3779, 'neither': 3024, 'imagin': 2190, 'marshal': 2763, 'got': 1902, 'sound': 4172, 'stop': 4271, 'young': 4986, 'attent': 280, 'rob': 3794, 'bank': 339, 'bargain': 346, 'wolf': 4940, 'taylor': 4434, 'worth': 4957, 'handsom': 1988, 'televis': 4449, 'great': 1927, 'fantast': 1622, 'countrysid': 1008, 'difficulti': 1226, 'girl': 1874, 'psychologist': 3529, 'ned': 3013, 'clair': 785, 'bet': 424, 'per': 3287, 'shall': 4003, 'women': 4942, 'chosen': 760, 'must': 2972, 'say': 3903, 'ye': 4979, 'choos': 758, 'sexi': 3994, 'fan': 1617, 'american': 145, 'footbal': 1728, 'erin': 1506, 'cooper': 979, 'surround': 4376, 'child': 748, 'player': 3366, 'wealthi': 4866, 'eleanor': 1419, 'demand': 1166, 'intellectu': 2277, 'classic': 792, 'pianist': 3329, 'veronica': 4770, 'call': 616, 'sinc': 4071, 'real': 3617, 'select': 3956, 'truth': 4638, 'mild': 2863, 'manner': 2731, 'dawn': 1111, 'secretli': 3942, 'mob': 2907, 'teen': 4446, 'daughter': 1107, 'joan': 2384, 'mother': 2945, 'law': 2538, 'fbi': 1640, 'phil': 3315, 'gloria': 1885, 'safe': 3865, 'contain': 956, 'kid': 2465, 'strang': 4279, 'white': 4904, 'hate': 2023, 'ex': 1550, 'author': 294, 'kidnap': 2466, 'throughout': 4515, 'easi': 1381, 'precoci': 3433, 'mind': 2875, 'includ': 2215, 'importantli': 2203, 'regardless': 3663, 'case': 665, 'deal': 1121, 'avers': 302, 'shoot': 4032, 'cia': 773, 'ryan': 3858, 'begin': 395, 'attend': 279, 'london': 2639, 'econom': 1389, 'subsequ': 4321, 'enlist': 1479, 'marin': 2753, 'sustain': 4387, 'sever': 3992, 'injuri': 2253, 'afghanistan': 70, 'shot': 4038, 'intens': 2280, 'rehab': 3672, 'grab': 1907, 'harper': 2011, 'finish': 1682, 'studi': 4308, 'seek': 3950, 'terrorist': 4474, 'plot': 3375, 'financi': 1677, 'ten': 4458, 'russian': 3854, 'think': 4497, 'russia': 3853, 'told': 4548, 'anyon': 195, 'cathi': 680, 'doubt': 1312, 'lie': 2596, 'assign': 264, 'someon': 4154, 'assist': 265, 'instead': 2268, 'obvious': 3112, 'bring': 549, 'fiancé': 1660, 'along': 127, 'action': 36, 'heavi': 2043, 'metal': 2841, 'obsess': 3108, 'thirteen': 4499, 'jacob': 2334, 'increas': 2217, 'delinqu': 1161, 'forc': 1731, 'place': 3354, 'we': 4863, 'aunt': 290, 'absent': 12, 'holli': 2109, 'final': 1675, 'order': 3157, 'holm': 2111, 'watson': 4859, 'recruit': 3648, 'fashion': 1629, 'escort': 1513, 'european': 1527, 'throne': 4514, 'nativ': 2999, 'countri': 1007, 'assassin': 259, 'princ': 3467, 'britain': 551, 'persuad': 3306, 'masquerad': 2771, 'ocean': 3119, 'liner': 2614, 'bound': 506, 'unfortun': 4692, 'fill': 1672, 'red': 3649, 'well': 4882, 'challeng': 707, 'deliv': 1162, 'charg': 721, 'destin': 1197, 'among': 150, 'knife': 2484, 'throw': 4516, 'circu': 777, 'perform': 3292, 'shadowi': 3999, 'archaeologist': 218, 'deaf': 1120, 'mute': 2975, 'enigmat': 1477, 'mysteri': 2978, 'song': 4160, 'gun': 1964, 'british': 552, 'human': 2159, 'race': 3564, 'group': 1949, 'rip': 3783, 'daili': 1083, 'walk': 4831, 'athlet': 271, 'disabl': 1239, 'collar': 857, 'homeless': 2115, 'rule': 3844, 'voic': 4815, 'languag': 2516, 'lay': 2544, 'twice': 4652, 'touch': 4566, 'music': 2969, 'scene': 3909, 'focu': 1718, 'alic': 112, 'bag': 326, 'band': 336, 'black': 456, 'cathol': 681, 'disciplin': 1246, 'circl': 776, 'jerk': 2367, 'fear': 1641, 'aspir': 257, 'writer': 4967, 'hanson': 1994, 'recollect': 3639, 'twentieth': 4651, 'centuri': 697, 'francisco': 1771, 'immigr': 2194, 'christin': 765, 'papa': 3220, 'mama': 2721, 'martha': 2764, 'practic': 3425, 'ritual': 3788, 'household': 2148, 'everi': 1540, 'saturday': 3899, 'brought': 564, 'kept': 2459, 'petti': 3311, 'cash': 667, 'weekli': 4878, 'bill': 441, 'enough': 1481, 'worst': 4956, 'thing': 4496, 'compassion': 896, 'anyth': 196, 'husband': 2169, 'children': 750, 'uncl': 4671, 'chri': 761, 'trio': 4622, 'difficult': 1225, 'provid': 3520, 'read': 3615, 'protect': 3515, 'thirti': 4500, 'gordon': 1897, 'eccentr': 1388, 'although': 135, 'duti': 1364, 'deceas': 1132, 'care': 646, 'hire': 2091, 'full': 1809, 'sidney': 4054, 'aspect': 256, 'latest': 2528, 'privat': 3475, 'nurs': 3102, 'louis': 2664, 'inexperienc': 2237, 'respect': 3732, 'word': 4948, 'fantasi': 1621, 'demis': 1167, 'contempl': 957, 'cruis': 1053, 'larri': 2523, 'wilson': 4919, 'receiv': 3631, 'caus': 685, 'forgotten': 1741, 'persona': 3303, 'hometown': 2117, 'continu': 963, 'troubl': 4628, 'seriou': 3978, 'shine': 4026, 'kay': 2447, 'novemb': 3095, 'th': 4479, 'mayor': 2796, 'supervisor': 4358, 'militari': 2866, 'special': 4188, 'team': 4437, 'led': 2558, 'mission': 2895, 'harsh': 2016, 'hostil': 2143, 'eastern': 1386, 'ancient': 159, 'drama': 1325, 'morri': 2938, 'bliss': 464, 'prospect': 3512, 'share': 4009, 'perhap': 3293, 'left': 2560, 'wrap': 4961, 'awkward': 310, 'sexual': 3995, 'former': 1743, 'classmat': 793, 'quickli': 3556, 'unravel': 4710, 'long': 2643, 'boxer': 512, 'tommi': 4553, 'nelson': 3026, 'accus': 29, 'detect': 1203, 'bud': 571, 'lou': 2660, 'investig': 2302, 'invis': 2304, 'formula': 1745, 'inject': 2251, 'face': 1597, 'spark': 4185, 'trap': 4601, 'gangster': 1833, 'fight': 1668, 'champ': 709, 'rocki': 3805, 'billi': 442, 'sword': 4399, 'boat': 477, 'captain': 639, 'highli': 2081, 'competit': 899, 'string': 4294, 'crew': 1038, 'port': 3407, 'octob': 3120, 'weather': 4870, 'ugli': 4662, 'bobbi': 479, 'newli': 3045, 'devot': 1212, 'recent': 3632, 'divorc': 1282, 'sulli': 4343, 'despis': 1195, 'met': 2840, 'alfr': 110, 'quiet': 3557, 'sail': 3868, 'east': 1384, 'ignor': 2182, 'storm': 4274, 'behind': 400, 'bite': 452, 'machin': 2692, 'fail': 1603, 'distant': 1269, 'futur': 1821, 'grip': 1944, 'anoth': 183, 'built': 577, 'relentlessli': 3684, 'advanc': 60, 'slowli': 4112, 'steel': 4251, 'rel': 3678, 'inhabit': 2247, 'thousand': 4507, 'hundr': 2163, 'drift': 1335, 'grim': 1943, 'await': 304, 'inevit': 2236, 'solac': 4142, 'alcohol': 105, 'drink': 1338, 'seemingli': 3952, 'pack': 3201, 'hungri': 2165, 'roam': 3793, 'dispos': 1265, 'remain': 3694, 'pregnant': 3439, 'shelter': 4019, 'doom': 1305, 'popul': 3403, 'older': 3134, 'hunt': 2166, 'seal': 3932, 'renown': 3708, 'sinist': 4076, 'side': 4052, 'search': 3934, 'miss': 2893, 'student': 4307, 'collect': 859, 'tape': 4423, 'content': 960, 'realiz': 3620, 'dark': 1101, 'motiv': 2947, 'disappear': 1240, 'therapi': 4489, 'de': 1116, 'prison': 3474, 'dog': 1291, 'delight': 1160, 'chloe': 755, 'parol': 3236, 'connect': 934, 'chariti': 723, 'ben': 408, 'revers': 3755, 'treatment': 4610, 'matter': 2783, 'ms': 2958, 'incred': 2219, 'found': 1756, 'scientist': 3920, 'cure': 1067, 'depress': 1180, 'rush': 3851, 'product': 3489, 'test': 4475, 'seem': 3951, 'fine': 1680, 'user': 4738, 'start': 4242, 'slip': 4109, 'coma': 871, 'market': 2758, 'depart': 1177, 'daniel': 1097, 'jersey': 2369, 'hard': 2002, 'swim': 4395, 'pool': 3399, 'beauti': 382, 'blond': 466, 'gang': 1832, 'bulli': 580, 'hell': 2056, 'afraid': 71, 'around': 239, 'high': 2078, 'mentor': 2831, 'handyman': 1989, 'naiv': 2983, 'wing': 4924, 'strength': 4287, 'deep': 1145, 'soul': 4171, 'biggest': 438, 'forev': 1737, 'beat': 377, 'forget': 1739, 'juli': 2421, 'houston': 2151, 'teenag': 4447, 'discoveri': 1249, 'tattoo': 4429, 'audrey': 288, 'medic': 2812, 'doctor': 1287, 'institut': 2270, 'visit': 4810, 'introduc': 2296, 'jordan': 2402, 'thoma': 4501, 'drawn': 1328, 'dedic': 1142, 'detroit': 1206, 'collaps': 856, 'base': 356, 'midwestern': 2859, 'icon': 2174, 'refus': 3660, 'build': 576, 'flame': 1696, 'rise': 3784, 'misadventur': 2889, 'confus': 932, 'groom': 1947, 'burn': 592, 'week': 4876, 'wed': 4874, 'wrestl': 4965, 'issu': 2324, 'extend': 1589, 'adolesc': 54, 'nearli': 3009, 'gone': 1893, 'africa': 72, 'dr': 1319, 'ethan': 1522, 'caught': 684, 'commit': 887, 'crime': 1040, 'imprison': 2207, 'florida': 1714, 'mental': 2829, 'psychiatrist': 3525, 'theo': 4486, 'import': 2202, 'gorilla': 1900, 'talk': 4417, 'reach': 3612, 'becam': 383, 'silenc': 4060, 'broken': 557, 'common': 889, 'true': 4633, 'mankind': 2730, 'valu': 4746, 'exist': 1569, 'easili': 1383, 'chicago': 744, 'advertis': 63, 'photograph': 3325, 'matthew': 2784, 'fanci': 1619, 'chines': 753, 'repres': 3715, 'passion': 3249, 'lisa': 2618, 'ago': 83, 'affair': 67, 'simpli': 4067, 'vanish': 4751, 'invit': 2305, 'inde': 2221, 'trip': 4623, 'china': 752, 'luke': 2680, 'jim': 2381, 'wade': 4824, 'parent': 3229, 'definit': 1155, 'crimin': 1041, 'casino': 668, 'line': 2613, 'manni': 2732, 'arnold': 238, 'owe': 3192, 'went': 4885, 'eventu': 1537, 'earn': 1377, 'degre': 1156, 'prosecutor': 3511, 'straight': 4276, 'da': 1080, 'solv': 4152, 'polit': 3394, 'candid': 632, 'governor': 1906, 'prosecut': 3510, 'lifelong': 2599, 'decis': 1138, 'kati': 2446, 'confront': 931, 'destruct': 1200, 'ill': 2186, 'experiment': 1579, 'elimin': 1430, 'closer': 820, 'haunt': 2025, 'thought': 4506, 'unwant': 4719, 'ident': 2178, 'late': 2526, 'playwright': 3367, 'lillian': 2609, 'fame': 1613, 'broadway': 554, 'surprisingli': 4372, 'center': 695, 'acquaint': 32, 'univers': 4699, 'vienna': 4787, 'albert': 103, 'suffer': 4336, 'lover': 2668, 'england': 1474, 'beach': 373, 'celebr': 691, 'confer': 924, 'battl': 367, 'smuggl': 4123, 'nazi': 3004, 'germani': 1860, 'anti': 188, 'danger': 1096, 'jewish': 2378, 'communist': 891, 'brief': 544, 'berlin': 417, 'lilli': 2608, 'moscow': 2941, 'detail': 1202, 'gold': 1890, 'camp': 623, 'mountain': 2951, 'miner': 2877, 'grave': 1925, 'ruthless': 3857, 'sheriff': 4020, 'brave': 526, 'nowher': 3096, 'nobodi': 3072, 'past': 3250, 'shooter': 4033, 'us': 4735, 'navi': 3002, 'admir': 52, 'extrem': 1594, 'greatest': 1929, 'scientif': 3919, 'project': 3498, 'atom': 275, 'submarin': 4319, 'mani': 2726, 'arctic': 223, 'region': 3668, 'shower': 4042, 'size': 4088, 'larg': 2519, 'due': 1354, 'van': 4749, 'allen': 119, 'radiat': 3571, 'belt': 407, 'fire': 1685, 'earth': 1378, 'un': 4666, 'discuss': 1250, 'state': 4245, 'missil': 2894, 'exactli': 1553, 'sixteen': 4085, 'pacif': 3200, 'unabl': 4667, 'govern': 1905, 'proce': 3483, 'intend': 2279, 'wish': 4933, 'gener': 1849, 'loyal': 2671, 'aboard': 9, 'reckless': 3634, 'lee': 2559, 'crane': 1023, 'sub': 4317, 'command': 882, 'susan': 4380, 'research': 3722, 'effect': 1400, 'stress': 4289, 'civilian': 783, 'religi': 3688, 'god': 1888, 'lieuten': 2597, 'connor': 937, 'boss': 499, 'engag': 1472, 'intern': 2285, 'obstacl': 3109, 'peril': 3294, 'potenti': 3419, 'sabotag': 3859, 'expens': 1576, 'paul': 3264, 'pari': 3230, 'french': 1788, 'flight': 1707, 'trade': 4583, 'filmmak': 1674, 'interact': 2282, 'hot': 2144, 'cold': 851, 'self': 3957, 'indulg': 2232, 'els': 1438, 'second': 3939, 'unit': 4698, 'director': 1237, 'english': 1475, 'futurist': 1822, 'sex': 3993, 'actress': 40, 'valentin': 4743, 'titl': 4540, 'charact': 720, 'major': 2712, 'produc': 3488, 'di': 1214, 'unhappi': 4693, 'vision': 4809, 'felix': 1649, 'direct': 1235, 'process': 3486, 'infatu': 2241, 'profession': 3491, 'professor': 3492, 'ad': 42, 'newspap': 3048, 'will': 4916, 'box': 511, 'invent': 2299, 'guinea': 1962, 'pig': 3337, 'answer': 184, 'kitti': 2481, 'model': 2911, 'oppress': 3151, 'reveng': 3753, 'thu': 4519, 'patron': 3261, 'playboy': 3365, 'richard': 3766, 'russel': 3852, 'penni': 3282, 'sue': 4335, 'threaten': 4509, 'made': 2695, 'interest': 2283, 'thug': 4520, 'stuck': 4306, 'mexico': 2845, 'border': 494, 'sullivan': 4344, 'travi': 4606, 'dalla': 1087, 'texa': 4478, 'idealist': 2177, 'kate': 2442, 'nervou': 3032, 'breakdown': 529, 'hospit': 2140, 'lesbian': 2579, 'romant': 3814, 'involv': 2306, 'marilyn': 2752, 'maid': 2707, 'honor': 2124, 'youngest': 4988, 'conni': 936, 'conspiraci': 949, 'freak': 1780, 'agenda': 79, 'feel': 1647, 'mutual': 2976, 'peggi': 3277, 'stumbl': 4311, 'bree': 532, 'golf': 1892, 'instructor': 2272, 'comfort': 880, 'salvat': 3878, 'jason': 2349, 'drown': 1344, 'recogn': 3637, 'earlier': 1376, 'golden': 1891, 'advic': 64, 'assembl': 261, 'greec': 1930, 'hercul': 2065, 'queen': 3551, 'voyag': 4822, 'giant': 1867, 'anim': 170, 'skeleton': 4090, 'armi': 235, 'ray': 3610, 'exploit': 1584, 'danni': 1098, 'grew': 1938, 'emerg': 1450, 'twenti': 4650, 'anna': 173, 'swan': 4389, 'resist': 3728, 'alreadi': 130, 'eric': 1504, 'match': 2778, 'pursuit': 3544, 'entangl': 1486, 'nina': 3064, 'cynic': 1078, 'karen': 2439, 'dramat': 1326, 'grace': 1908, 'mess': 2837, 'realiti': 3619, 'fiction': 1661, 'suicid': 4338, 'creat': 1031, 'upon': 4725, 'unknown': 4701, 'disturb': 1275, 'fatal': 1633, 'complex': 902, 'web': 4872, 'intrigu': 2295, 'notori': 3092, 'art': 244, 'north': 3085, 'carolina': 659, 'verona': 4769, 'rome': 3815, 'reveal': 3751, 'clue': 828, 'uncov': 4676, 'guitar': 1963, 'spiritu': 4208, 'creativ': 1033, 'transform': 4596, 'mous': 2952, 'melodi': 2822, 'wilder': 4914, 'diagnos': 1215, 'termin': 4468, 'abandon': 1, 'boyfriend': 514, 'noth': 3089, 'given': 1877, 'month': 2929, 'rent': 3709, 'empti': 1459, 'pay': 3269, 'credit': 1036, 'deliveri': 1163, 'pizza': 3353, 'electr': 1421, 'crave': 1025, 'childhood': 749, 'effort': 1402, 'el': 1413, 'desper': 1194, 'avoid': 303, 'war': 4844, 'rage': 3576, 'jackson': 2333, 'wannab': 4842, 'intersect': 2289, 'paranorm': 3227, 'coleman': 853, 'door': 1306, 'dream': 1331, 'keller': 2452, 'diamond': 1216, 'joel': 2390, 'knock': 2487, 'conscious': 942, 'wind': 4921, 'buri': 589, 'asleep': 255, 'insid': 2260, 'sleep': 4105, 'contact': 955, 'except': 1558, 'prefer': 3437, 'modern': 2912, 'rebelli': 3627, 'twin': 4653, 'half': 1978, 'mass': 2772, 'transit': 4597, 'similar': 4063, 'insan': 2258, 'lawn': 2540, 'problem': 3482, 'hilari': 2085, 'con': 911, 'king': 2473, 'kong': 2491, 'dana': 1092, 'kick': 2464, 'maxwel': 2792, 'smart': 4116, 'spi': 4200, 'agenc': 78, 'administr': 51, 'attack': 277, 'partner': 3244, 'agent': 80, 'chagrin': 703, 'duo': 1360, 'nevertheless': 3039, 'combat': 872, 'parachut': 3222, 'airplan': 93, 'territori': 4472, 'feet': 1648, 'pound': 3421, 'goon': 1895, 'known': 2490, 'antic': 189, 'compromis': 907, 'casualti': 673, 'america': 144, 'plant': 3360, 'bomb': 483, 'explod': 1583, 'concert': 916, 'marti': 2765, 'egg': 1403, 'dom': 1296, 'bell': 403, 'studio': 4309, 'silent': 4061, 'thwart': 4522, 'spoken': 4212, 'unlik': 4704, 'dirti': 1238, 'hip': 2089, 'hop': 2129, 'type': 4659, 'stripper': 4296, 'probabl': 3479, 'guidanc': 1959, 'blue': 473, 'fairi': 1606, 'wooden': 4946, 'puppet': 3539, 'curiou': 1069, 'wild': 4913, 'younger': 4987, 'cemeteri': 694, 'pick': 3331, 'foster': 1753, 'stepmoth': 4257, 'rosa': 3828, 'rude': 3841, 'stepfath': 4254, 'han': 1985, 'simpl': 4066, 'heart': 2039, 'befriend': 392, 'rudi': 3842, 'togeth': 4545, 'cannot': 634, 'speech': 4192, 'recov': 3645, 'max': 2790, 'basement': 358, 'librari': 2593, 'threat': 4508, 'pledg': 3373, 'oldest': 3135, 'montana': 2927, 'embark': 1445, 'mile': 2865, 'expedit': 1574, 'suitor': 4342, 'brutal': 568, 'heavyweight': 2045, 'miami': 2849, 'winner': 4925, 'gain': 1826, 'loser': 2655, 'endur': 1468, 'ellen': 1434, 'survivor': 4379, 'alien': 114, 'awaken': 306, 'welcom': 4881, 'offici': 3127, 'far': 1623, 'warm': 4849, 'strip': 4295, 'licens': 2595, 'horror': 2138, 'moon': 2932, 'speci': 4187, 'lost': 2657, 'advisor': 66, 'tough': 4567, 'space': 4178, 'lot': 2658, 'nightmar': 3062, 'creatur': 1035, 'prepar': 3443, 'monster': 2925, 'manhattan': 2724, 'class': 791, 'bedroom': 388, 'bathroom': 365, 'uncomfort': 4672, 'lack': 2505, 'connecticut': 935, 'afford': 69, 'estat': 1516, 'technic': 4440, 'cole': 852, 'condemn': 919, 'sooner': 4164, 'bought': 505, 'pit': 3350, 'rich': 3765, 'rock': 3803, 'vacat': 4741, 'badli': 325, 'confid': 926, 'stranger': 4280, 'bar': 341, 'short': 4036, 'appar': 204, 'prime': 3466, 'lt': 2673, 'johnni': 2393, 'morrison': 2939, 'ii': 2183, 'helen': 2053, 'less': 2581, 'faith': 1608, 'happi': 1997, 'lucki': 2677, 'hotel': 2145, 'primari': 3464, 'jessica': 2372, 'maintain': 2711, 'hook': 2126, 'memori': 2825, 'confess': 925, 'john': 2392, 'shaft': 4000, 'sensit': 3968, 'beaten': 378, 'companion': 893, 'humili': 2161, 'racial': 3567, 'jr': 2411, 'waitress': 4828, 'racist': 3569, 'comment': 884, 'grant': 1923, 'bail': 327, 'fled': 1701, 'arrest': 241, 'hear': 2037, 'judg': 2416, 'meantim': 2805, 'dealer': 1122, 'sure': 4365, 'seduct': 3946, 'wanda': 4840, 'associ': 266, 'ken': 2454, 'pile': 3339, 'heist': 2051, 'net': 3034, 'recommend': 3640, 'otto': 3170, 'weapon': 4867, 'expert': 1580, 'toler': 4549, 'weak': 4864, 'speak': 4186, 'italian': 2326, 'doubl': 1311, 'pictur': 3332, 'tip': 4537, 'implic': 2201, 'eileen': 1410, 'hint': 2088, 'task': 4426, 'crown': 1051, 'goal': 1887, 'seduc': 3945, 'defens': 1152, 'archi': 220, 'concern': 915, 'prey': 3459, 'absorb': 14, 'garrett': 1841, 'hall': 1979, 'kyle': 2497, 'minor': 2882, 'leagu': 2550, 'ball': 332, 'christi': 763, 'grandfath': 1917, 'luci': 2675, 'ohio': 3130, 'sign': 4057, 'duck': 1351, 'addit': 47, 'eve': 1533, 'anniversari': 178, 'tom': 4551, 'solomon': 4150, 'violet': 4803, 'barn': 348, 'current': 1070, 'chef': 738, 'christian': 764, 'brit': 550, 'academ': 16, 'psycholog': 3528, 'toward': 4572, 'event': 1536, 'envis': 1497, 'perfect': 3290, 'occur': 3117, 'complic': 903, 'alex': 107, 'cowork': 1020, 'constantli': 951, 'tear': 4438, 'hit': 2094, 'hope': 2130, 'michigan': 2852, 'ann': 172, 'contract': 964, 'resum': 3739, 'outlook': 3177, 'harmoni': 2009, 'altar': 132, 'island': 2321, 'twelv': 4649, 'sam': 3879, 'note': 3088, 'randi': 3593, 'ward': 4845, 'master': 2775, 'scout': 3924, 'troop': 4625, 'fort': 1747, 'station': 4247, 'incid': 2214, 'orphan': 3164, 'system': 4406, 'herbert': 2063, 'sort': 4169, 'file': 1671, 'statu': 4248, 'social': 4134, 'servic': 3983, 'jeopardi': 2365, 'sharp': 4012, 'quest': 3553, 'walt': 4838, 'laura': 2533, 'bishop': 450, 'offspr': 3128, 'correspond': 990, 'amount': 153, 'letter': 2586, 'knowledg': 2489, 'plenti': 3374, 'suppli': 4359, 'elud': 1440, 'pair': 3212, 'accomplish': 25, 'understand': 4681, 'combin': 873, 'lane': 2514, 'frost': 1802, 'bull': 578, 'ride': 3773, 'friendship': 1799, 'codi': 844, 'torment': 4562, 'coach': 834, 'talent': 4416, 'pretend': 3454, 'colleg': 861, 'birth': 448, 'movement': 2955, 'civil': 782, 'leader': 2548, 'organ': 3160, 'torn': 4563, 'secur': 3944, 'wage': 4825, 'soft': 4139, 'embrac': 1448, 'non': 3075, 'violenc': 4801, 'greed': 1931, 'prejudic': 3440, 'inspir': 2264, 'journey': 2408, 'remark': 3696, 'documentari': 1289, 'point': 3384, 'signific': 4059, 'musician': 2970, 'jimmi': 2382, 'page': 3205, 'seattl': 3937, 'magazin': 2702, 'jump': 2426, 'jeff': 2357, 'staff': 4227, 'coastal': 837, 'clear': 800, 'crazi': 1029, 'success': 4329, 'novelist': 3094, 'write': 4966, 'coupl': 1009, 'irish': 2313, 'tuck': 4639, 'bond': 485, 'arizona': 232, 'motorcycl': 2949, 'cop': 980, 'promot': 3502, 'homicid': 2118, 'desert': 1188, 'tale': 4415, 'captiv': 640, 'sky': 4098, 'magic': 2704, 'bean': 374, 'everyon': 1543, 'whoever': 4905, 'wear': 4868, 'chop': 759, 'sent': 3969, 'hors': 2139, 'harass': 2000, 'soldier': 4145, 'princess': 3468, 'ran': 3588, 'trust': 4637, 'advis': 65, 'chamber': 708, 'monk': 2923, 'exchang': 1560, 'allow': 124, 'floor': 1712, 'crack': 1021, 'rain': 3580, 'suddenli': 4334, 'heaven': 2042, 'climb': 812, 'cut': 1075, 'rope': 3827, 'myth': 2980, 'hazel': 2031, 'worri': 4953, 'gruesom': 1952, 'driven': 1340, 'higher': 2079, 'sudden': 4333, 'romanc': 3813, 'escap': 1512, 'loneli': 2641, 'separ': 3971, 'mick': 2853, 'lincoln': 2611, 'assault': 260, 'prostitut': 3513, 'defend': 1151, 'claim': 784, 'evid': 1546, 'link': 2615, 'mike': 2861, 'elli': 1435, 'precinct': 3431, 'club': 827, 'socialit': 4135, 'gregori': 1937, 'shift': 4025, 'divid': 1280, 'heat': 2040, 'fascin': 1628, 'sad': 3862, 'overcom': 3183, 'opposit': 3150, 'percept': 3289, 'violent': 4802, 'appreci': 210, 'enjoy': 1478, 'joe': 2389, 'smaller': 4115, 'pleasur': 3372, 'routin': 3835, 'mistakenli': 2900, 'curs': 1071, 'pain': 3209, 'disappoint': 1241, 'despair': 1193, 'tragic': 4588, 'basic': 360, 'dismay': 1258, 'drill': 1337, 'none': 3076, 'whale': 4891, 'skin': 4095, 'nemesi': 3027, 'sergeant': 3975, 'hara': 1999, 'raw': 3609, 'particular': 3241, 'thorn': 4504, 'nora': 3079, 'dale': 1086, 'warlord': 4848, 'bandit': 337, 'roman': 3812, 'empir': 1456, 'clan': 786, 'ireland': 2310, 'domin': 1298, 'ravag': 3607, 'tribe': 4618, 'nobl': 3070, 'mark': 2757, 'slaughter': 4101, 'blood': 467, 'rescu': 3721, 'captur': 642, 'serv': 3981, 'slave': 4102, 'poison': 3385, 'declar': 1139, 'mate': 2779, 'part': 3238, 'funer': 1816, 'sea': 3931, 'shore': 4035, 'servant': 3982, 'health': 2035, 'guard': 1954, 'traitor': 4593, 'tournament': 4570, 'loyalti': 2672, 'snow': 4130, 'booz': 493, 'disastr': 1244, 'record': 3643, 'aaron': 0, 'resid': 3726, 'delay': 1158, 'altern': 134, 'observ': 3107, 'substanc': 4322, 'greek': 1933, 'rita': 3786, 'amnesia': 149, 'downtown': 1316, 'intertwin': 2290, 'betti': 429, 'stardom': 4240, 'chess': 741, 'paint': 3210, 'drain': 1323, 'urg': 4734, 'figur': 1670, 'anita': 171, 'comput': 909, 'roger': 3807, 'proud': 3518, 'coat': 838, 'kingdom': 2474, 'nine': 3065, 'captor': 641, 'jasper': 2350, 'horac': 2132, 'counti': 1005, 'oklahoma': 3132, 'crystal': 1058, 'capit': 637, 'sweetheart': 4394, 'anni': 176, 'ail': 88, 'buck': 570, 'baker': 330, 'mexican': 2844, 'lord': 2651, 'arrang': 240, 'ransom': 3598, 'tow': 4571, 'clean': 799, 'often': 3129, 'coin': 847, 'watch': 4857, 'smile': 4118, 'adam': 43, 'dean': 1123, 'foundat': 1757, 'emma': 1452, 'specif': 4190, 'singer': 4074, 'popular': 3404, 'beethoven': 391, 'court': 1012, 'ernest': 1507, 'talbot': 4414, 'clever': 807, 'entri': 1494, 'compos': 904, 'conductor': 922, 'appli': 208, 'equal': 1500, 'mickey': 2854, 'orchestr': 3156, 'chip': 754, 'shoulder': 4039, 'nikki': 3063, 'stewart': 4262, 'jealou': 2353, 'co': 833, 'rehears': 3673, 'remak': 3695, 'polish': 3393, 'daydream': 1114, 'ted': 4444, 'illinoi': 2188, 'paid': 3207, 'unexpect': 4687, 'somewhat': 4157, 'cousin': 1015, 'fred': 1781, 'alter': 133, 'stuff': 4310, 'gradual': 1912, 'increasingli': 2218, 'valeri': 4744, 'peter': 3309, 'henri': 2062, 'iron': 2314, 'unwil': 4720, 'werewolf': 4886, 'forest': 1736, 'uneasi': 4685, 'beast': 376, 'sacrific': 3861, 'up': 4723, 'stake': 4231, 'hunter': 2167, 'consequ': 943, 'toll': 4550, 'panic': 3218, 'uniqu': 4697, 'bait': 329, 'ballet': 333, 'dancer': 1094, 'defect': 1150, 'plane': 3358, 'fli': 1706, 'kgb': 2462, 'confin': 928, 'raymond': 3611, 'disillus': 1256, 'focus': 1719, 'marion': 2754, 'began': 394, 'medium': 2814, 'contribut': 966, 'today': 4543, 'oscar': 3166, 'award': 308, 'aftermath': 74, 'orlean': 3163, 'damag': 1089, 'column': 870, 'flood': 1711, 'cocain': 840, 'relief': 3687, 'incur': 2220, 'african': 73, 'depend': 1178, 'testimoni': 4477, 'reluct': 3692, 'fifteen': 1665, 'custodi': 1073, 'frantic': 1777, 'gambler': 1830, 'franki': 1774, 'debt': 1129, 'surveil': 4377, 'shipment': 4028, 'key': 2461, 'disput': 1266, 'wreck': 4964, 'vessel': 4772, 'honest': 2120, 'belong': 405, 'impuls': 2209, 'capt': 638, 'own': 3195, 'pirat': 3348, 'stuart': 4304, 'manipul': 2729, 'steve': 4260, 'gift': 1868, 'offend': 3123, 'seiz': 3955, 'variou': 4753, 'horrifi': 2137, 'lion': 2616, 'warrior': 4852, 'nake': 2984, 'loos': 2649, 'heel': 2047, 'outlaw': 3176, 'stagecoach': 4229, 'stage': 4228, 'trial': 4616, 'rancher': 3590, 'dan': 1091, 'evan': 1532, 'vigilant': 4792, 'split': 4210, 'sieg': 4055, 'garag': 1835, 'mechan': 2809, 'hang': 1990, 'wrong': 4969, 'mom': 2916, 'comic': 881, 'famou': 1616, 'hong': 2123, 'templ': 4454, 'physic': 3327, 'martial': 2766, 'annual': 181, 'held': 2052, 'reclus': 3636, 'billionair': 444, 'renegad': 3705, 'narcot': 2989, 'activ': 37, 'enter': 1487, 'bodyguard': 481, 'ensu': 1484, 'kelli': 2453, 'william': 4918, 'vietnam': 4788, 'took': 4557, 'discharg': 1245, 'gambl': 1829, 'collector': 860, 'dispatch': 1263, 'fighter': 1669, 'underground': 4680, 'virtual': 4807, 'earl': 1374, 'shi': 4024, 'frequent': 1791, 'dispar': 1262, 'ella': 1433, 'intellig': 2278, 'temper': 4452, 'nebraska': 3010, 'veterinarian': 4775, 'clinic': 814, 'sr': 4223, 'carri': 661, 'wound': 4960, 'heal': 2034, 'dynam': 1370, 'li': 2590, 'calm': 617, 'clutch': 831, 'gotten': 1904, 'deadli': 1119, 'independ': 2222, 'temptat': 4457, 'sophist': 4166, 'denni': 1173, 'ambiti': 142, 'depict': 1179, 'depth': 1181, 'question': 3554, 'priest': 3463, 'satan': 3895, 'jesu': 2373, 'patient': 3256, 'occupi': 3116, 'maya': 2794, 'larkin': 2522, 'occurr': 3118, 'showdown': 4041, 'arguabl': 227, 'screen': 3926, 'idol': 2180, 'premier': 3441, 'miller': 2868, 'liter': 2621, 'launch': 2532, 'act': 35, 'fresh': 1792, 'notion': 3091, 'fit': 1692, 'zombi': 4997, 'seat': 3936, 'tap': 4422, 'public': 3532, 'aliv': 117, 'bitten': 453, 'la': 2498, 'amus': 154, 'park': 3232, 'heard': 2038, 'free': 1784, 'businessman': 596, 'target': 4425, 'awak': 305, 'lock': 2635, 'overnight': 3188, 'janitor': 2346, 'establish': 1515, 'interrupt': 2288, 'dragon': 1322, 'sonni': 4162, 'justin': 2435, 'chon': 757, 'steven': 4261, 'kevin': 2460, 'edit': 1395, 'clip': 816, 'shown': 4043, 'style': 4314, 'apach': 198, 'indian': 2225, 'approv': 214, 'reserv': 3725, 'adapt': 44, 'push': 3545, 'necessari': 3011, 'evad': 1530, 'reclaim': 3635, 'sinbad': 4070, 'dare': 1100, 'rogu': 3808, 'spent': 4198, 'frame': 1766, 'priceless': 3461, 'peac': 3272, 'preciou': 3432, 'cours': 1011, 'sun': 4348, 'stow': 4275, 'fulfil': 1808, 'dea': 1117, 'shut': 4046, 'sit': 4081, 'compound': 905, 'billion': 443, 'covert': 1017, 'counter': 1003, 'cell': 693, 'suav': 4316, 'gabriel': 1824, 'financ': 1676, 'vengeanc': 4761, 'super': 4350, 'convict': 973, 'hacker': 1975, 'stanley': 4237, 'legal': 2563, 'masterpiec': 2777, 'janet': 2344, 'leigh': 2568, 'loomi': 2648, 'client': 808, 'fix': 1695, 'motel': 2944, 'norman': 3084, 'lila': 2606, 'hero': 2069, 'cat': 674, 'kim': 2470, 'dump': 1357, 'senat': 3962, 'brian': 538, 'lewi': 2588, 'terribl': 4470, 'campaign': 624, 'mitch': 2903, 'usa': 4736, 'henderson': 2061, 'examin': 1555, 'guess': 1956, 'harri': 2012, 'friendli': 1798, 'mari': 2747, 'bit': 451, 'loui': 2662, 'judd': 2414, 'whereabout': 4898, 'devil': 1210, 'worship': 4955, 'provoc': 3521, 'sophi': 4165, 'arthur': 245, 'boot': 491, 'perfectli': 3291, 'fake': 1609, 'enrol': 1483, 'achiev': 31, 'program': 3496, 'condit': 920, 'enforc': 1471, 'logan': 2637, 'impos': 2204, 'row': 3836, 'colleagu': 858, 'snake': 4125, 'oil': 3131, 'latin': 2529, 'amateur': 138, 'mansion': 2734, 'access': 19, 'properti': 3508, 'cuban': 1060, 'muscl': 2967, 'plu': 3376, 'nanni': 2987, 'memphi': 2826, 'courtney': 1013, 'tiger': 4528, 'streak': 4285, 'cottag': 995, 'birthday': 449, 'fianc': 1659, 'europ': 1526, 'commun': 890, 'disast': 1243, 'resort': 3730, 'readi': 3616, 'replac': 3712, 'review': 3756, 'critic': 1044, 'chuck': 770, 'brown': 565, 'traci': 4581, 'baron': 350, 'count': 1002, 'dracula': 1320, 'vampir': 4748, 'coffin': 846, 'lawrenc': 2541, 'cave': 687, 'frankenstein': 1773, 'influenc': 2245, 'histori': 2093, 'scholarship': 3913, 'harvard': 2018, 'diari': 1219, 'opportun': 3148, 'beth': 425, 'carter': 663, 'rival': 3789, 'extra': 1591, 'graduat': 1913, 'jo': 2383, 'lynn': 2690, 'failur': 1604, 'exam': 1554, 'cheat': 734, 'princip': 3469, 'regain': 3661, 'tie': 4526, 'bed': 387, 'yorker': 4985, 'upper': 4726, 'prize': 3477, 'chao': 717, 'legendari': 2565, 'investor': 2303, 'geoffrey': 1855, 'sport': 4215, 'strain': 4277, 'diplomat': 1234, 'colin': 854, 'corrupt': 991, 'presidenti': 3448, 'academi': 17, 'punish': 3537, 'bribe': 539, 'lone': 2640, 'brick': 541, 'integr': 2276, 'contend': 959, 'diana': 1218, 'rigg': 3778, 'viktor': 4794, 'almost': 125, 'airport': 94, 'nation': 2998, 'regim': 3665, 'paper': 3221, 'air': 90, 'suspend': 4383, 'resolv': 3729, 'dixon': 1284, 'custom': 1074, 'loung': 2666, 'meal': 2801, 'proper': 3507, 'pose': 3412, 'prevent': 3456, 'limit': 2610, 'resourc': 3731, 'employe': 1458, 'initi': 2250, 'airlin': 92, 'warren': 4851, 'demon': 1169, 'loom': 2647, 'davi': 1109, 'joy': 2409, 'dad': 1081, 'snap': 4126, 'neck': 3012, 'grand': 1915, 'field': 1662, 'booki': 489, 'danc': 1093, 'instantli': 2267, 'audienc': 286, 'pet': 3307, 'subject': 4318, 'floyd': 1716, 'render': 3703, 'frustrat': 1804, 'insur': 2275, 'salt': 3877, 'trailer': 4590, 'hapless': 1995, 'sick': 4049, 'destini': 1198, 'franci': 1770, 'blake': 459, 'sickli': 4050, 'ladi': 2508, 'upsid': 4730, 'costum': 994, 'viewer': 4791, 'duncan': 1358, 'averag': 300, 'exit': 1570, 'via': 4776, 'butt': 601, 'eleven': 1428, 'reflect': 3656, 'septemb': 3972, 'explain': 1581, 'dear': 1124, 'recal': 3630, 'tone': 4554, 'term': 4467, 'least': 2555, 'tragedi': 4587, 'confeder': 923, 'color': 867, 'rubi': 3840, 'born': 497, 'caucasian': 683, 'asian': 252, 'descent': 1186, 'hurt': 2168, 'dolphin': 1295, 'attach': 276, 'tail': 4411, 'comedian': 878, 'stall': 4233, 'riot': 3782, 'wonder': 4943, 'sentenc': 3970, 'probat': 3480, 'deeper': 1146, 'scandal': 3906, 'iraq': 2309, 'stark': 4241, 'presum': 3453, 'hitchhik': 2096, 'drunken': 1347, 'jean': 2355, 'jacki': 2332, 'driver': 1341, 'policeman': 3390, 'jacket': 2331, 'corps': 988, 'grown': 1951, 'st': 4224, 'charl': 724, 'tennesse': 4462, 'reappear': 3623, 'enemi': 1469, 'david': 1110, 'ami': 146, 'advantag': 61, 'construct': 952, 'escal': 1511, 'bloodi': 468, 'thiev': 4495, 'alan': 99, 'crossroad': 1048, 'neglect': 3018, 'fairli': 1607, 'react': 3613, 'deepli': 1147, 'compel': 897, 'arm': 234, 'mail': 2708, 'uniform': 4694, 'bug': 575, 'bunni': 584, 'feud': 1658, 'tire': 4538, 'aid': 87, 'humor': 2162, 'instruct': 2271, 'stunt': 4313, 'dj': 1285, 'drake': 1324, 'sidekick': 4053, 'alli': 121, 'whether': 4899, 'villain': 4796, 'chairman': 706, 'nefari': 3016, 'monkey': 2924, 'unbeknownst': 4669, 'neo': 3028, 'brass': 525, 'rabbit': 3562, 'foil': 1721, 'harriet': 2013, 'mahoney': 2706, 'vaudevil': 4755, 'societi': 4136, 'till': 4531, 'toy': 4579, 'network': 3035, 'technolog': 4443, 'nasti': 2994, 'barren': 351, 'buster': 598, 'undercov': 4678, 'particip': 3240, 'robberi': 3796, 'hank': 1991, 'comrad': 910, 'wrote': 4970, 'whisper': 4902, 'consid': 945, 'foremost': 1734, 'alongsid': 128, 'stephen': 4256, 'edgar': 1394, 'allan': 118, 'eli': 1429, 'packag': 3202, 'royal': 3839, 'avail': 298, 'translat': 4598, 'express': 1588, 'closet': 822, 'politician': 3395, 'shop': 4034, 'dysfunct': 1371, 'baltimor': 334, 'wheeler': 4895, 'matt': 2782, 'joyc': 2410, 'bartend': 355, 'cloth': 823, 'tina': 4535, 'joint': 2396, 'craze': 1028, 'grandmoth': 1919, 'galleri': 1828, 'sensat': 3966, 'aris': 230, 'embarrass': 1446, 'cost': 993, 'griev': 1941, 'present': 3445, 'tini': 4536, 'rural': 3850, 'berni': 419, 'taught': 4430, 'sunday': 4349, 'church': 772, 'lend': 2570, 'marjori': 2756, 'sour': 4173, 'attitud': 282, 'fulli': 1811, 'handl': 1987, 'bottom': 504, 'burden': 585, 'salli': 3875, 'stick': 4263, 'mid': 2855, 'wash': 4853, 'pop': 3401, 'bottl': 503, 'madman': 2699, 'bomber': 484, 'mummi': 2963, 'daddi': 1082, 'jay': 2351, 'harold': 2010, 'maria': 2748, 'vanessa': 4750, 'personnel': 3304, 'apprehend': 211, 'smoke': 4121, 'homeland': 2114, 'guilti': 1961, 'transport': 4600, 'bay': 370, 'cuba': 1059, 'bare': 345, 'refuge': 3659, 'host': 2141, 'convert': 972, 'kansa': 2438, 'magician': 2705, 'oz': 3197, 'greedi': 1932, 'selfish': 3958, 'strong': 4299, 'artist': 249, 'strike': 4293, 'gorgeou': 1899, 'theodora': 4487, 'wick': 4908, 'defeat': 1149, 'lure': 2682, 'spell': 4195, 'hassan': 2020, 'ali': 111, 'compet': 898, 'runner': 3849, 'ethnic': 1524, 'superior': 4352, 'wherea': 4897, 'khan': 2463, 'assur': 268, 'unawar': 4668, 'saw': 3902, 'fast': 1630, 'forward': 1752, 'soviet': 4177, 'invas': 2298, 'privileg': 3476, 'telephon': 4448, 'sadist': 3864, 'dread': 1330, 'raft': 3574, 'river': 3791, 'dwarf': 1365, 'council': 999, 'cage': 610, 'suspicion': 4386, 'viciou': 4778, 'bonni': 487, 'clyde': 832, 'hostag': 2142, 'heroin': 2071, 'vet': 4773, 'pure': 3541, 'pride': 3462, 'era': 1502, 'overbear': 3182, 'jane': 2343, 'immatur': 2191, 'lydia': 2687, 'inherit': 2249, 'dash': 1104, 'tribul': 4619, 'gossip': 1901, 'zoo': 4999, 'compar': 895, 'volcano': 4817, 'erupt': 1510, 'hanna': 1992, 'revel': 3752, 'madison': 2698, 'thrust': 4518, 'mistaken': 2899, 'foreign': 1733, 'philip': 3317, 'henchman': 2059, 'leonard': 2575, 'sens': 3965, 'egypt': 1406, 'shake': 4001, 'rocket': 3804, 'elabor': 1414, 'exercis': 1565, 'collis': 864, 'ridicul': 3775, 'robot': 3802, 'christma': 767, 'weird': 4880, 'mad': 2693, 'disguis': 1254, 'hunger': 2164, 'rap': 3599, 'spider': 4201, 'nick': 3054, 'moment': 2917, 'tortur': 4564, 'embroil': 1449, 'crisi': 1043, 'moor': 2933, 'spree': 4219, 'robin': 3800, 'hood': 2125, 'patricia': 3258, 'peer': 3276, 'sherlock': 4021, 'devis': 1211, 'immens': 2193, 'accur': 28, 'site': 4082, 'insist': 2262, 'bu': 569, 'bumbl': 581, 'code': 843, 'messag': 2838, 'coffe': 845, 'unleash': 4702, 'unsuspect': 4716, 'standard': 4236, 'surreal': 4373, 'entertain': 1489, 'nonsens': 3078, 'narrat': 2990, 'drunk': 1346, 'mo': 2906, 'restor': 3737, 'antiqu': 191, 'overhear': 3185, 'itali': 2325, 'manor': 2733, 'abduct': 4, 'shadow': 3998, 'lesli': 2580, 'maker': 2714, 'closest': 821, 'leland': 2569, 'polici': 3392, 'hannah': 1993, 'onto': 3141, 'debut': 1130, 'stun': 4312, 'countless': 1006, 'adopt': 55, 'abort': 10, 'anger': 166, 'encourag': 1464, 'spring': 4220, 'hidden': 2074, 'midst': 2858, 'cult': 1063, 'antholog': 186, 'romero': 3817, 'section': 3943, 'imag': 2189, 'meteor': 2842, 'veng': 4760, 'sand': 3886, 'neg': 3017, 'millionair': 2871, 'therapist': 4490, 'cartel': 662, 'inher': 2248, 'pro': 3478, 'reunion': 3749, 'suburban': 4325, 'anyway': 197, 'prom': 3499, 'reconnect': 3642, 'radio': 3573, 'either': 1411, 'nsa': 3097, 'ador': 56, 'newton': 3049, 'promptli': 3504, 'prone': 3505, 'bernard': 418, 'heroic': 2070, 'uptight': 4732, 'somewher': 4158, 'miser': 2891, 'turkey': 4644, 'ancestor': 157, 'opinion': 3146, 'basi': 359, 'gather': 1843, 'tunnel': 4642, 'virgil': 4804, 'pressur': 3450, 'spiral': 4206, 'excit': 1561, 'excess': 1559, 'sandra': 3889, 'elit': 1431, 'rape': 3600, 'ruin': 3843, 'susi': 4381, 'jerri': 2368, 'risk': 3785, 'spin': 4204, 'wheel': 4893, 'unsatisfi': 4712, 'gym': 1971, 'round': 3833, 'ring': 3780, 'ass': 258, 'otherwis': 3168, 'punch': 3536, 'water': 4858, 'olymp': 3138, 'wood': 4945, 'disrupt': 1267, 'honeymoon': 2122, 'angri': 169, 'poetri': 3383, 'interview': 2292, 'dunn': 1359, 'mention': 2830, 'seth': 3986, 'summon': 4347, 'interrog': 2287, 'traumat': 4604, 'kirbi': 2476, 'capabl': 635, 'hallucin': 1982, 'amongst': 151, 'missionari': 2896, 'strict': 4292, 'andrew': 163, 'male': 2716, 'pregnanc': 3438, 'background': 320, 'odd': 3121, 'preserv': 3446, 'moral': 2934, 'diseas': 1251, 'etern': 1521, 'clark': 789, 'sylvia': 4402, 'fallen': 1611, 'hay': 2030, 'absolut': 13, 'wisconsin': 4931, 'clinton': 815, 'reliv': 3690, 'recount': 3644, 'hopelessli': 2131, 'emili': 1451, 'longtim': 2645, 'confidant': 927, 'april': 215, 'journalist': 2407, 'puzzl': 3547, 'mayb': 2795, 'eat': 1387, 'awar': 307, 'gilbert': 1871, 'strive': 4297, 'absenc': 11, 'low': 2669, 'seventeen': 3990, 'conveni': 969, 'guardian': 1955, 'becki': 385, 'strand': 4278, 'eugen': 1525, 'jade': 2336, 'aristocrat': 231, 'regret': 3669, 'newcom': 3042, 'profess': 3490, 'hypnot': 2171, 'infant': 2240, 'be': 371, 'favorit': 1638, 'novel': 3093, 'devast': 1207, 'phone': 3323, 'beg': 393, 'alexandra': 109, 'tourist': 4569, 'luxuri': 2686, 'invad': 2297, 'succe': 4327, 'featur': 1643, 'pete': 3308, 'stole': 4268, 'dollar': 1293, 'infam': 2239, 'solitari': 4148, 'light': 2603, 'milton': 2873, 'glenn': 1881, 'warden': 4846, 'reign': 3674, 'rest': 3735, 'stab': 4225, 'ga': 1823, 'eager': 1372, 'jame': 2340, 'argu': 226, 'shock': 4030, 'conspir': 948, 'atlanta': 273, 'lace': 2503, 'overli': 3186, 'architect': 221, 'sarah': 3894, 'immin': 2195, 'option': 3153, 'passeng': 3248, 'exacerb': 1551, 'sensibl': 3967, 'suitcas': 4341, 'partnership': 3245, 'quick': 3555, 'rout': 3834, 'inept': 2235, 'marcu': 2742, 'angl': 168, 'caesar': 608, 'smith': 4119, 'employ': 1457, 'patti': 3263, 'eden': 1392, 'conclud': 917, 'ariel': 229, 'habit': 1973, 'unrequit': 4711, 'toni': 4556, 'stella': 4252, 'forti': 1749, 'deserv': 1189, 'winston': 4927, 'shakespear': 4002, 'companionship': 894, 'tree': 4611, 'remov': 3702, 'glass': 1879, 'bent': 416, 'tabl': 4407, 'chest': 742, 'andi': 161, 'facil': 1598, 'volunt': 4818, 'lab': 2499, 'sociopath': 4137, 'revolutionari': 3759, 'ventur': 4764, 'foe': 1720, 'flesh': 1704, 'firm': 1686, 'dinosaur': 1233, 'museum': 2968, 'exhibit': 1567, 'behav': 398, 'suggest': 4337, 'lectur': 2557, 'nanci': 2986, 'clone': 818, 'mud': 2960, 'quartet': 3550, 'exact': 1552, 'mason': 2770, 'plagu': 3355, 'serum': 3980, 'ground': 1948, 'carniv': 656, 'slacker': 4099, 'solar': 4143, 'rebuild': 3629, 'harm': 2008, 'sean': 3933, 'wallac': 4834, 'coast': 836, 'bold': 482, 'transfer': 4595, 'rachel': 3566, 'brothel': 561, 'leg': 2561, 'blame': 460, 'nicknam': 3056, 'lapd': 2517, 'reject': 3676, 'squad': 4221, 'clash': 790, 'mont': 2926, 'method': 2843, 'wield': 4911, 'psychopath': 3530, 'supermarket': 4354, 'amid': 147, 'wave': 4860, 'theori': 4488, 'simultan': 4068, 'furiou': 1819, 'mole': 2914, 'quietli': 3558, 'upstat': 4731, 'robber': 3795, 'surgeri': 4370, 'inspector': 2263, 'owen': 3193, 'gypsi': 1972, 'frozen': 1803, 'castl': 671, 'elsa': 1439, 'borrow': 498, 'journal': 2406, 'equip': 1501, 'peasant': 3274, 'imperi': 2199, 'saint': 3870, 'cavalri': 686, 'convers': 971, 'dolli': 1294, 'woo': 4944, 'christ': 762, 'resurrect': 3740, 'scale': 3904, 'refer': 3655, 'miracl': 2884, 'crippl': 1042, 'fieri': 1664, 'orphanag': 3165, 'industrialist': 2234, 'oliv': 3136, 'reward': 3761, 'rooster': 3825, 'imperson': 2200, 'gari': 1839, 'stretch': 4290, 'crook': 1045, 'vinni': 4799, 'jone': 2401, 'expos': 1587, 'bullet': 579, 'sperm': 4199, 'lazi': 2545, 'pill': 3340, 'sampl': 3882, 'decept': 1136, 'brilliant': 548, 'purpos': 3542, 'behalf': 397, 'bizarr': 455, 'mystic': 2979, 'guid': 1958, 'planet': 3359, 'protagonist': 3514, 'holi': 2107, 'immort': 2196, 'thriller': 4512, 'revolv': 3760, 'stray': 4284, 'inc': 2212, 'shadi': 3997, 'techniqu': 4442, 'atlant': 272, 'tenni': 4463, 'narrow': 2991, 'amanda': 137, 'patern': 3254, 'colonel': 865, 'northern': 3086, 'india': 2224, 'rebel': 3626, 'disapprov': 1242, 'drop': 1342, 'brand': 522, 'mount': 2950, 'barney': 349, 'ross': 3831, 'mercenari': 2832, 'dictat': 1221, 'jeffrey': 2359, 'willi': 4917, 'knit': 2486, 'brodi': 555, 'philosophi': 3320, 'flaw': 1700, 'paula': 3265, 'screenwrit': 3928, 'roommat': 3824, 'symbol': 4403, 'purchas': 3540, 'buffalo': 574, 'virginia': 4806, 'screenplay': 3927, 'spous': 4217, 'progress': 3497, 'nichola': 3052, 'tramp': 4594, 'helena': 2054, 'address': 48, 'venu': 4765, 'milo': 2872, 'wheelchair': 4894, 'decad': 1131, 'fanat': 1618, 'profil': 3493, 'enthusiast': 1490, 'convent': 970, 'edward': 1399, 'ranch': 3589, 'raid': 3577, 'niec': 3058, 'hatr': 2024, 'spill': 4203, 'uncertain': 4670, 'debbi': 1127, 'bicycl': 434, 'frighten': 1800, 'butler': 600, 'garden': 1837, 'scream': 3925, 'snoop': 4129, 'wasteland': 4856, 'stone': 4270, 'mallori': 2718, 'german': 1859, 'identifi': 2179, 'object': 3105, 'presenc': 3444, 'murphi': 2965, 'courag': 1010, 'shame': 4004, 'distinguish': 1270, 'fought': 1754, 'heavili': 2044, 'industri': 2233, 'hair': 1976, 'chemic': 739, 'weav': 4871, 'multi': 2961, 'gerri': 1861, 'feder': 1645, 'bunch': 583, 'thrown': 4517, 'contemporari': 958, 'silver': 4062, 'typic': 4660, 'notic': 3090, 'massacr': 2773, 'proceed': 3485, 'senior': 3964, 'felt': 1652, 'strangl': 4281, 'directli': 1236, 'jenni': 2362, 'hudson': 2155, 'plea': 3368, 'patrol': 3260, 'vinc': 4797, 'bore': 495, 'nun': 3101, 'naval': 3001, 'philadelphia': 3316, 'harbor': 2001, 'sailor': 3869, 'somehow': 4153, 'hole': 2106, 'portrait': 3410, 'korea': 2492, 'zack': 4992, 'korean': 2493, 'thompson': 4502, 'bloom': 469, 'alabama': 97, 'stricken': 4291, 'cancer': 630, 'indirectli': 2229, 'estrang': 1519, 'salesman': 3874, 'unless': 4703, 'reconcil': 3641, 'beatric': 379, 'impress': 2206, 'palac': 3214, 'bride': 542, 'courtship': 1014, 'rose': 3829, 'tutor': 4647, 'citizen': 781, 'mose': 2942, 'unintent': 4695, 'inmat': 2254, 'poem': 3381, 'impact': 2197, 'provok': 3522, 'diner': 1231, 'patrick': 3259, 'dinner': 1232, 'negoti': 3019, 'porter': 3408, 'pawn': 3268, 'winter': 4928, 'function': 1813, 'nois': 3073, 'cling': 813, 'shatter': 4013, 'psych': 3523, 'clay': 797, 'repeat': 3711, 'outrag': 3179, 'request': 3719, 'daisi': 1084, 'carmen': 655, 'hiv': 2099, 'jealousi': 2354, 'vincent': 4798, 'charismat': 722, 'decor': 1141, 'suit': 4339, 'ralli': 3582, 'mae': 2700, 'turner': 4646, 'unstabl': 4713, 'linda': 2612, 'penguin': 3281, 'payment': 3270, 'instal': 2265, 'rick': 3768, 'highway': 2083, 'hippi': 2090, 'dweller': 1366, 'argument': 228, 'arrog': 243, 'sandi': 3888, 'dislik': 1257, 'environ': 1495, 'lifetim': 2601, 'consum': 954, 'broke': 556, 'said': 3867, 'esteem': 1517, 'mill': 2867, 'slept': 4106, 'list': 2619, 'skeptic': 4091, 'horribl': 2135, 'scienc': 3918, 'fair': 1605, 'becca': 384, 'happili': 1998, 'landscap': 2513, 'funni': 1817, 'pull': 3535, 'refug': 3658, 'decent': 1135, 'suitabl': 4340, 'circumst': 779, 'undertak': 4682, 'botch': 501, 'supposedli': 4362, 'competitor': 900, 'bradi': 517, 'dozen': 1318, 'julian': 2423, 'marsh': 2762, 'dorothi': 1310, 'wagon': 4826, 'todd': 4544, 'roberta': 3799, 'harden': 2003, 'ceo': 698, 'bump': 582, 'display': 1264, 'washington': 4854, 'greater': 1928, 'bid': 435, 'egyptian': 1407, 'legend': 2564, 'unearth': 4684, 'tool': 4558, 'devic': 1209, 'col': 849, 'jonathan': 2400, 'neil': 3023, 'boundari': 507, 'cun': 1065, 'phenomenon': 3314, 'derang': 1183, 'gunsling': 1966, 'fourteen': 1761, 'creepi': 1037, 'harvey': 2019, 'kiss': 2478, 'abigail': 6, 'occasion': 3114, 'ruth': 3856, 'deem': 1144, 'crash': 1024, 'aggress': 81, 'written': 4968, 'shark': 4010, 'kindli': 2472, 'jacqu': 2335, 'fund': 1814, 'element': 1424, 'johnson': 2394, 'cotton': 996, 'cooki': 976, 'elena': 1425, 'geniu': 1851, 'theme': 4485, 'mischiev': 2890, 'whit': 4903, 'mall': 2717, 'freshman': 1793, 'couch': 997, 'chat': 731, 'cook': 975, 'yard': 4978, 'foul': 1755, 'mouth': 2953, 'nicol': 3057, 'groceri': 1946, 'poverti': 3422, 'grandma': 1918, 'jew': 2375, 'materi': 2780, 'carl': 651, 'certainli': 701, 'ski': 4093, 'guest': 1957, 'ian': 2172, 'lad': 2506, 'listen': 2620, 'everybodi': 1541, 'pal': 3213, 'infect': 2242, 'viru': 4808, 'ninja': 3067, 'fed': 1644, 'mutat': 2974, 'parker': 3233, 'mobil': 2908, 'ashley': 251, 'paranoid': 3226, 'announc': 179, 'trader': 4584, 'wendel': 4883, 'principl': 3470, 'juri': 2432, 'consult': 953, 'easter': 1385, 'collabor': 855, 'outcom': 3173, 'donni': 1303, 'sympathet': 4404, 'unlock': 4705, 'spoof': 4214, 'cindi': 774, 'roll': 3810, 'ramon': 3585, 'evelyn': 1534, 'evacu': 1529, 'explos': 1586, 'urban': 4733, 'ordinari': 3158, 'traffic': 4586, 'jam': 2339, 'confirm': 929, 'lethal': 2585, 'spread': 4218, 'healthi': 2036, 'unthink': 4717, 'worldwid': 4952, 'luck': 2676, 'ruler': 3845, 'neighbour': 3022, 'forens': 1735, 'stephani': 4255, 'anchor': 158, 'norm': 3081, 'archer': 219, 'commerci': 885, 'global': 1882, 'broadcast': 553, 'desk': 1192, 'fault': 1636, 'cameraman': 621, 'constant': 950, 'season': 3935, 'fountain': 1759, 'malcolm': 2715, 'sofia': 4138, 'appl': 207, 'spectacular': 4191, 'tag': 4410, 'latter': 2530, 'genet': 1850, 'piano': 3330, 'dave': 1108, 'audit': 287, 'prestigi': 3451, 'boston': 500, 'structur': 4301, 'admit': 53, 'requir': 3720, 'casual': 672, 'southern': 4176, 'chain': 704, 'sherri': 4023, 'sing': 4073, 'conclus': 918, 'liquor': 2617, 'lesson': 2582, 'fifth': 1666, 'regiment': 3666, 'perceiv': 3288, 'outcast': 3172, 'kenni': 2456, 'aveng': 299, 'abbi': 2, 'struck': 4300, 'fri': 1794, 'bounti': 508, 'al': 96, 'runaway': 3848, 'sharon': 4011, 'food': 1724, 'enhanc': 1476, 'shuttl': 4047, 'georgia': 1857, 'branch': 521, 'cultur': 1064, 'offens': 3124, 'larger': 2520, 'exampl': 1556, 'obviou': 3111, 'overwhelm': 3191, 'lifestyl': 2600, 'nuclear': 3098, 'wast': 4855, 'meek': 2815, 'wreak': 4963, 'havoc': 2026, 'culmin': 1062, 'weekend': 4877, 'getaway': 1864, 'bob': 478, 'lotteri': 2659, 'superhero': 4351, 'cabl': 607, 'episod': 1499, 'remot': 3701, 'pine': 3344, 'adrian': 57, 'austin': 291, 'faster': 1631, 'insight': 2261, 'brad': 515, 'exot': 1571, 'cancel': 629, 'excus': 1563, 'spare': 4184, 'ginger': 1873, 'hal': 1977, 'disgrac': 1253, 'dentist': 1175, 'dwight': 1367, 'retreat': 3744, 'australian': 293, 'rat': 3603, 'epic': 1498, 'accompani': 23, 'exil': 1568, 'map': 2737, 'cowboy': 1019, 'ricki': 3769, 'elder': 1416, 'chucki': 771, 'paradis': 3223, 'doll': 1292, 'shrink': 4045, 'troup': 4630, 'distanc': 1268, 'oregon': 3159, 'astronaut': 269, 'ahead': 86, 'apollo': 203, 'spacecraft': 4179, 'soap': 4131, 'celest': 692, 'script': 3929, 'venom': 4763, 'improv': 2208, 'rebellion': 3628, 'swing': 4397, 'harlem': 2007, 'prank': 3426, 'hitler': 2097, 'barrett': 352, 'jennif': 2363, 'chemistri': 740, 'deni': 1171, 'reli': 3685, 'parlor': 3234, 'fool': 1725, 'incompet': 2216, 'kit': 2479, 'garbag': 1836, 'dakota': 1085, 'trail': 4589, 'random': 3594, 'usual': 4739, 'genr': 1852, 'gate': 1842, 'barker': 347, 'flashback': 1698, 'caretak': 649, 'insecur': 2259, 'lauri': 2536, 'charli': 726, 'tradit': 4585, 'marci': 2740, 'spike': 4202, 'trick': 4620, 'treat': 4609, 'march': 2739, 'barbara': 343, 'graham': 1914, 'seedi': 3949, 'jungl': 2428, 'oblig': 3106, 'leopold': 2576, 'semi': 3961, 'stubborn': 4305, 'jazz': 2352, 'brooklyn': 560, 'suburb': 4324, 'babysit': 315, 'wide': 4909, 'pink': 3345, 'asylum': 270, 'relat': 3679, 'root': 3826, 'plung': 3377, 'harrow': 2015, 'eleph': 1426, 'ape': 200, 'opt': 3152, 'freedom': 1786, 'mostli': 2943, 'extraordinari': 1593, 'regard': 3662, 'lili': 2607, 'reput': 3718, 'pedro': 3275, 'heather': 2041, 'smooth': 4122, 'pitch': 3351, 'infiltr': 2244, 'sin': 4069, 'jill': 2380, 'contest': 961, 'footstep': 1729, 'maniac': 2727, 'outbreak': 3171, 'santa': 3891, 'cruz': 1057, 'gave': 1844, 'articl': 247, 'flirt': 1710, 'jen': 2360, 'nerd': 3030, 'onlin': 3140, 'nicki': 3055, 'heiress': 2050, 'nightclub': 3061, 'terri': 4469, 'interven': 2291, 'ceremoni': 699, 'grandpa': 1920, 'tight': 4530, 'quarter': 3549, 'theater': 4482, 'counselor': 1001, 'charley': 725, 'sleazi': 4104, 'pam': 3216, 'dian': 1217, 'jude': 2415, 'oti': 3169, 'soror': 4167, 'awri': 311, 'elvi': 1442, 'carpent': 660, 'sweet': 4393, 'laurel': 2534, 'fuel': 1806, 'backyard': 323, 'arena': 225, 'legion': 2566, 'dive': 1277, 'begun': 396, 'trace': 4580, 'overlook': 3187, 'loud': 2661, 'bruce': 566, 'wayn': 4862, 'trauma': 4603, 'counsel': 1000, 'gotham': 1903, 'whilst': 4900, 'armor': 236, 'batman': 366, 'motion': 2946, 'twist': 4654, 'familiar': 1615, 'prep': 3442, 'benedict': 410, 'excel': 1557, 'mainli': 2710, 'donat': 1300, 'juliu': 2425, 'previous': 3458, 'tim': 4532, 'newborn': 3041, 'mask': 2769, 'shape': 4008, 'ego': 1404, 'shannon': 4007, 'pace': 3199, 'outpost': 3178, 'hick': 2073, 'decemb': 1134, 'effici': 1401, 'racer': 3565, 'total': 4565, 'add': 45, 'upset': 4729, 'pray': 3427, 'assert': 262, 'divis': 1281, 'asset': 263, 'hesit': 2072, 'manuscript': 2736, 'proof': 3506, 'compris': 906, 'wealth': 4865, 'upscal': 4728, 'favor': 1637, 'pimp': 3342, 'leon': 2574, 'nonetheless': 3077, 'judi': 2418, 'paig': 3208, 'unconsci': 4673, 'explan': 1582, 'denis': 1172, 'bat': 363, 'cope': 981, 'contin': 962, 'coloni': 866, 'paranoia': 3225, 'lloyd': 2628, 'vast': 4754, 'parasit': 3228, 'newman': 3046, 'varieti': 4752, 'concept': 914, 'strengthen': 4288, 'rare': 3602, 'pollut': 3397, 'exhaust': 1566, 'consist': 947, 'burglar': 587, 'tower': 4573, 'flat': 1699, 'burglari': 588, 'unpreced': 4708, 'sequenc': 3974, 'battlefield': 368, 'manhunt': 2725, 'platoon': 3363, 'globe': 1883, 'il': 2185, 'rosi': 3830, 'midnight': 2857, 'chester': 743, 'countess': 1004, 'worthi': 4958, 'finger': 1681, 'retriev': 3746, 'pioneer': 3346, 'bee': 389, 'brigg': 546, 'clown': 826, 'keith': 2451, 'rooki': 3822, 'anymor': 194, 'predat': 3434, 'benson': 415, 'howard': 2152, 'misfit': 2892, 'junki': 2430, 'forg': 1738, 'flip': 1709, 'tend': 4460, 'feed': 1646, 'chicken': 746, 'debat': 1126, 'explor': 1585, 'creator': 1034, 'submit': 4320, 'digit': 1228, 'democrat': 1168, 'surfer': 4368, 'ranger': 3596, 'barb': 342, 'grief': 1940, 'megan': 2819, 'foot': 1726, 'bart': 354, 'chart': 729, 'thank': 4480, 'mauric': 2788, 'lucr': 2678, 'bless': 462, 'comeback': 875, 'legaci': 2562, 'clara': 788, 'drew': 1333, 'jon': 2399, 'satir': 3897, 'kennedi': 2455, 'wire': 4930, 'newfound': 3044, 'bradley': 518, 'navig': 3003, 'dane': 1095, 'wrath': 4962, 'activist': 38, 'commiss': 886, 'rumor': 3846, 'infidel': 2243, 'odyssey': 3122, 'ron': 3818, 'hogwart': 2104, 'realis': 3618, 'mistak': 2898, 'vega': 4757, 'simon': 4065, 'artifici': 248, 'ideal': 2176, 'rekindl': 3677, 'dismiss': 1259, 'zero': 4994, 'predica': 3435, 'attic': 281, 'yellow': 4982, 'strateg': 4282, 'samuel': 3883, 'deliber': 1159, 'jefferson': 2358, 'joseph': 2403, 'corp': 986, 'tour': 4568, 'nasa': 2992, 'primarili': 3465, 'allianc': 122, 'fortress': 1750, 'blade': 458, 'skull': 4097, 'philosoph': 3319, 'loan': 2631, 'ford': 1732, 'motor': 2948, 'triumph': 4624, 'dougla': 1314, 'retribut': 3745, 'amidst': 148, 'francesca': 1769, 'glamor': 1878, 'rivalri': 3790, 'publicli': 3533, 'phoenix': 3322, 'distract': 1271, 'loot': 2650, 'tyler': 4658, 'endang': 1466, 'bike': 439, 'error': 1509, 'judgment': 2417, 'meant': 2804, 'copi': 982, 'japanes': 2348, 'pow': 3423, 'claud': 795, 'conquer': 938, 'recoveri': 3646, 'deterior': 1204, 'evolv': 1549, 'belief': 401, 'laser': 2524, 'mogul': 2913, 'jeopard': 2364, 'dwindl': 1368, 'stash': 4244, 'shanghai': 4006, 'reloc': 3691, 'specialist': 4189, 'emmett': 1453, 'hijack': 2084, 'unknowingli': 4700, 'crawl': 1027, 'speed': 4193, 'wive': 4938, 'histor': 2092, 'franc': 1768, 'andr': 162, 'stern': 4259, 'dig': 1227, 'headquart': 2033, 'descend': 1185, 'inadvert': 2211, 'experienc': 1578, 'schoolteach': 3916, 'parodi': 3235, 'denver': 1176, 'injur': 2252, 'inventor': 2300, 'alley': 120, 'stabl': 4226, 'maggi': 2703, 'milli': 2869, 'psychot': 3531, 'unfold': 4690, 'fierc': 1663, 'harder': 2004, 'budget': 573, 'nyc': 3103, 'columbia': 869, 'literari': 2622, 'environment': 1496, 'breed': 533, 'huck': 2154, 'finn': 1683, 'charlott': 727, 'folk': 1722, 'mac': 2691, 'backstag': 321, 'laugh': 2531, 'thumb': 4521, 'reverend': 3754, 'pearl': 3273, 'softwar': 4140, 'distribut': 1273, 'revolut': 3758, 'alik': 115, 'mastermind': 2776, 'chill': 751, 'roller': 3811, 'cobb': 839, 'extract': 1592, 'promin': 3500, 'fundament': 1815, 'energi': 1470, 'prior': 3472, 'newest': 3043, 'hooker': 2127, 'laboratori': 2502, 'ronni': 3820, 'spite': 4209, 'hatch': 2022, 'document': 1288, 'creation': 1032, 'sketch': 4092, 'venic': 4762, 'medal': 2810, 'vern': 4767, 'hustler': 2170, 'barri': 353, 'intim': 2293, 'pastor': 3251, 'pre': 3429, 'liaison': 2591, 'conscienc': 941, 'cecilia': 690, 'reuben': 3748, 'everyday': 1542, 'josh': 2404, 'august': 289, 'main': 2709, 'brain': 519, 'hat': 2021, 'qualiti': 3548, 'saniti': 3890, 'pattern': 3262, 'permit': 3297, 'pistol': 3349, 'glori': 1884, 'republ': 3717, 'marco': 2741, 'armstrong': 237, 'mutant': 2973, 'hoffman': 2102, 'tabloid': 4408, 'rod': 3806, 'annabel': 174, 'bookstor': 490, 'solid': 4147, 'burk': 591, 'hawkin': 2029, 'distress': 1272, 'stereotyp': 4258, 'visual': 4812, 'iri': 2312, 'doc': 1286, 'autopsi': 296, 'evalu': 1531, 'thesi': 4493, 'topic': 4561, 'matern': 2781, 'louisiana': 2665, 'maureen': 2787, 'tension': 4465, 'cecil': 689, 'print': 3471, 'soil': 4141, 'span': 4182, 'cinema': 775, 'tast': 4427, 'hardship': 2006, 'doug': 1313, 'leari': 2553, 'forth': 1748, 'ensur': 1485, 'forgiv': 1740, 'conquest': 939, 'ulterior': 4663, 'footag': 1727, 'kidnapp': 2467, 'victor': 4781, 'media': 2811, 'ladder': 2507, 'annihil': 177, 'surrend': 4374, 'redempt': 3650, 'pleas': 3370, 'frenzi': 1790, 'japan': 2347, 'inner': 2256, 'minist': 2879, 'upris': 4727, 'slow': 4111, 'succeed': 4328, 'smuggler': 4124, 'alarm': 100, 'youngster': 4989, 'sebastian': 3938, 'cruel': 1052, 'deed': 1143, 'vietnames': 4789, 'soccer': 4133, 'predict': 3436, 'alpha': 129, 'rene': 3704, 'housekeep': 2149, 'gu': 1953, 'burial': 590, 'sara': 3893, 'fals': 1612, 'insult': 2274, 'conserv': 944, 'gig': 1869, 'tropic': 4627, 'henchmen': 2060, 'kane': 2437, 'iii': 2184, 'noah': 3069, 'prioriti': 3473, 'deborah': 1128, 'higgin': 2077, 'medicin': 2813, 'veteran': 4774, 'elus': 1441, 'olivia': 3137, 'sake': 3871, 'atmospher': 274, 'backdrop': 319, 'catherin': 679, 'describ': 1187, 'loner': 2642, 'townsfolk': 4575, 'hobb': 2100, 'basebal': 357, 'lightn': 2604, 'inexplic': 2238, 'marvin': 2768, 'bailey': 328, 'mi': 2847, 'victoria': 4783, 'anderson': 160, 'carolin': 658, 'coincid': 848, 'claudia': 796, 'cheap': 733, 'bachelor': 317, 'undergo': 4679, 'procedur': 3484, 'donor': 1304, 'bennett': 413, 'clouseau': 825, 'divers': 1279, 'nomin': 3074, 'highest': 2080, 'sloan': 4110, 'curti': 1072, 'mimi': 2874, 'vernon': 4768, 'tech': 4439, 'repair': 3710, 'eras': 1503, 'sixti': 4087, 'titan': 4539, 'melissa': 2821, 'zone': 4998, 'verg': 4766, 'delusion': 1164, 'cain': 611, 'correct': 989, 'patriarch': 3257, 'expel': 1575, 'bred': 531, 'marit': 2755, 'hillari': 2087, 'swamp': 4388, 'trash': 4602, 'savag': 3900, 'alexand': 108, 'reunit': 3750, 'vike': 4793, 'rider': 3774, 'outwardli': 3181, 'opera': 3145, 'trophi': 4626, 'largest': 2521, 'rampag': 3586, 'herman': 2068, 'conduct': 921, 'indiana': 2226, 'religion': 3689, 'sponsor': 4213, 'circuit': 778, 'cup': 1066, 'relic': 3686, 'taunt': 4431, 'peterson': 3310, 'load': 2630, 'flynn': 1717, 'defi': 1153, 'reminisc': 3700, 'reynold': 3763, 'lanc': 2511, 'disord': 1261, 'solut': 4151, 'beneath': 409, 'demonstr': 1170, 'radic': 3572, 'phoeb': 3321, 'cate': 677, 'exclus': 1562, 'arch': 217, 'betsi': 427, 'unfaith': 4689, 'cynthia': 1079, 'shane': 4005, 'rate': 3604, 'rees': 3654, 'grad': 1909, 'rail': 3578, 'fade': 1602, 'certain': 700, 'psychic': 3526, 'unwittingli': 4722, 'candi': 631, 'graphic': 1924, 'ultra': 4665, 'keen': 2448, 'block': 465, 'mississippi': 2897, 'spain': 4181, 'housewif': 2150, 'schoolmat': 3915, 'protest': 3517, 'skip': 4096, 'june': 2427, 'nd': 3005, 'fourth': 1762, 'alec': 106, 'ramsey': 3587, 'sir': 4079, 'duel': 1355, 'craig': 1022, 'maxin': 2791, 'freez': 1787, 'ronald': 3819, 'clock': 817, 'tick': 4524, 'perman': 3296, 'cannib': 633, 'tongu': 4555, 'cri': 1039, 'tiffani': 4527, 'elliott': 1437, 'tenant': 4459, 'perpetu': 3299, 'kat': 2441, 'homosexu': 2119, 'albeit': 102, 'gigolo': 1870, 'von': 4819, 'lavish': 2537, 'diego': 1223, 'kingpin': 2475, 'blown': 472, 'polar': 3387, 'archiv': 222, 'strategi': 4283, 'tactic': 4409, 'retali': 3742, 'reduc': 3652, 'gadget': 1825, 'penelop': 3280, 'clumsi': 830, 'hitch': 2095, 'clearli': 802, 'lui': 2679, 'interfer': 2284, 'toxic': 4577, 'trunk': 4636, 'victorian': 4784, 'enorm': 1480, 'cavern': 688, 'bird': 447, 'underworld': 4683, 'teller': 4451, 'tank': 4421, 'margo': 2745, 'chan': 712, 'wwii': 4971, 'liber': 2592, 'length': 2571, 'knight': 2485, 'duke': 1356, 'lust': 2684, 'victori': 4782, 'resent': 3724, 'perspect': 3305, 'ram': 3584, 'cloud': 824, 'grey': 1939, 'cargo': 650, 'tempera': 4453, 'starv': 4243, 'congressman': 933, 'hack': 1974, 'banish': 338, 'grandpar': 1921, 'che': 732, 'ash': 250, 'emperor': 1455, 'indi': 2223, 'scott': 3923, 'theft': 4484, 'portray': 3411, 'earthquak': 1379, 'bert': 420, 'finch': 1678, 'en': 1460, 'rig': 3777, 'swear': 4391, 'dick': 1220, 'sink': 4077, 'entiti': 1492, 'nixon': 3068, 'iren': 2311, 'walker': 4832, 'tax': 4432, 'height': 2048, 'leak': 2551, 'sniper': 4128, 'auto': 295, 'aim': 89, 'nail': 2982, 'unorthodox': 4707, 'simmon': 4064, 'realm': 3622, 'breath': 530, 'dub': 1349, 'violat': 4800, 'luca': 2674, 'cheer': 736, 'calam': 613, 'wise': 4932, 'sequel': 3973, 'slade': 4100, 'corner': 985, 'apocalypt': 202, 'walsh': 4837, 'sixth': 4086, 'liz': 2626, 'garfield': 1838, 'ace': 30, 'whip': 4901, 'ridden': 3772, 'sought': 4170, 'entranc': 1493, 'blossom': 470, 'pat': 3252, 'lunch': 2681, 'occas': 3113, 'joker': 2398, 'cullen': 1061, 'spanish': 4183, 'farmhous': 1627, 'biker': 440, 'elev': 1427, 'gray': 1926, 'evolut': 1548, 'profound': 3495, 'divulg': 1283, 'junior': 2429, 'angela': 165, 'pierr': 3336, 'clandestin': 787, 'carefre': 648, 'catcher': 676, 'geek': 1847, 'flint': 1708, 'electron': 1422, 'seed': 3948, 'gap': 1834, 'sworn': 4400, 'colorado': 868, 'granddaught': 1916, 'besid': 421, 'penniless': 3283, 'bruno': 567, 'du': 1348, 'visitor': 4811, 'central': 696, 'unoffici': 4706, 'janic': 2345, 'seventh': 3991, 'kathi': 2444, 'segment': 3954, 'sweep': 4392, 'fitzgerald': 1693, 'crusad': 1055, 'slaveri': 4103, 'pen': 3278, 'indiffer': 2228, 'arti': 246, 'pauli': 3266, 'sid': 4051, 'brook': 559, 'ira': 2308, 'adulthood': 59, 'campbel': 625, 'perri': 3300, 'blast': 461, 'pleasant': 3371, 'ban': 335, 'ambassador': 140, 'bureau': 586, 'portland': 3409, 'stint': 4265, 'carlo': 654, 'juggl': 2419, 'subway': 4326, 'robinson': 3801, 'fend': 1655, 'tent': 4466, 'thrill': 4511, 'transplant': 4599, 'domest': 1297, 'bea': 372, 'ufo': 4661, 'level': 2587, 'alaska': 101, 'videotap': 4786, 'session': 3984, 'madg': 2697, 'fratern': 1778, 'grade': 1910, 'spinster': 4205, 'sydney': 4401, 'beau': 380, 'unsur': 4715, 'rang': 3595, 'unprepar': 4709, 'reaction': 3614, 'booth': 492, 'fleet': 1703, 'suprem': 4364, 'forbidden': 1730, 'numer': 3100, 'antonio': 193, 'reform': 3657, 'tango': 4420, 'joanna': 2385, 'bori': 496, 'acquir': 33, 'juliet': 2424, 'nash': 2993, 'flower': 1715, 'cab': 604, 'irrespons': 2315, 'bout': 509, 'cabbi': 605, 'bitter': 454, 'paulin': 3267, 'pin': 3343, 'christoph': 768, 'stan': 4234, 'valuabl': 4747, 'lola': 2638, 'comet': 879, 'katherin': 2443, 'substitut': 4323, 'donna': 1302, 'joke': 2397, 'natali': 2995, 'basketbal': 362, 'rag': 3575, 'sober': 4132, 'margaret': 2743, 'kitchen': 2480, 'chapter': 719, 'iowa': 2307, 'zach': 4991, 'anonym': 182, 'dc': 1115, 'upcom': 4724, 'peabodi': 3271, 'monitor': 2922, 'recreat': 3647, 'trigger': 4621, 'brainwash': 520, 'phantom': 3313, 'bone': 486, 'inn': 2255, 'union': 4696, 'molli': 2915, 'thor': 4503, 'suck': 4332, 'policemen': 3391, 'biographi': 445, 'hawk': 2028, 'label': 2500, 'sheila': 4017, 'enterpris': 1488, 'dilemma': 1229, 'racism': 3568, 'statement': 4246, 'core': 983, 'irv': 2317, 'bright': 547, 'meaning': 2803, 'spoil': 4211, 'unemploy': 4686, 'elliot': 1436, 'songwrit': 4161, 'jan': 2342, 'disgust': 1255, 'repress': 3716, 'rex': 3762, 'penchant': 3279, 'acclaim': 22, 'dylan': 1369, 'freddi': 1782, 'mariann': 2750, 'contractor': 965, 'phylli': 3326, 'jigsaw': 2379, 'album': 104, 'trek': 4612, 'plain': 3356, 'tendenc': 4461, 'tokyo': 4547, 'marian': 2749, 'cool': 977, 'superpow': 4356, 'horn': 2134, 'dutch': 1363, 'juan': 2412, 'hideout': 2076, 'benjamin': 412, 'edna': 1397, 'vaughn': 4756, 'palmer': 3215, 'glen': 1880, 'burt': 593, 'utah': 4740, 'respond': 3733, 'wipe': 4929, 'reincarn': 3675, 'ghetto': 1865, 'smash': 4117, 'nate': 2996, 'manifest': 2728, 'kurt': 2496, 'kathleen': 2445, 'crow': 1049, 'miranda': 2886, 'safeti': 3866, 'walli': 4836, 'norah': 3080, 'cocktail': 842, 'diver': 1278, 'casey': 666, 'ambush': 143, 'gore': 1898, 'item': 2327, 'eighteen': 1409, 'crawford': 1026, 'christina': 766, 'hugh': 2157, 'tune': 4641, 'massiv': 2774, 'chair': 705, 'fat': 1632, 'bush': 594, 'lester': 2583, 'cleveland': 806, 'unusu': 4718, 'syndic': 4405, 'fanni': 1620, 'caleb': 614, 'guru': 1967, 'yakuza': 4975, 'outfit': 3175, 'angi': 167, 'doyl': 1317, 'justifi': 2434, 'nerv': 3031, 'racket': 3570, 'cape': 636, 'physician': 3328, 'fisherman': 1690, 'harrison': 2014, 'roof': 3821, 'protector': 3516, 'sum': 4345, 'agreement': 85, 'barber': 344, 'fay': 1639, 'val': 4742, 'curios': 1068, 'defin': 1154, 'minnesota': 2881, 'grandson': 1922, 'smitten': 4120, 'oppon': 3147, 'patch': 3253, 'fisher': 1689, 'everywher': 1545, 'induc': 2231, 'concentr': 913, 'juvenil': 2436, 'delv': 1165, 'ivi': 2329, 'rebecca': 3625, 'elain': 1415, 'neurot': 3036, 'clayton': 798, 'remind': 3699, 'retain': 3741, 'treacher': 4607, 'mitchel': 2904, 'cheerlead': 737, 'extermin': 1590, 'apocalyps': 201, 'joshua': 2405, 'halli': 1980, 'declin': 1140, 'idyl': 2181, 'horizon': 2133, 'mcclane': 2799, 'stu': 4303, 'nypd': 3104, 'cater': 678, 'bath': 364, 'madelein': 2696, 'wizard': 4939, 'loath': 2632, 'rapidli': 3601, 'kristen': 2494, 'wine': 4923, 'jessi': 2371, 'rhode': 3764, 'maverick': 2789, 'kung': 2495, 'fu': 1805, 'donald': 1299, 'del': 1157, 'pocket': 3379, 'sammi': 3881, 'louie': 2663, 'stir': 4266, 'nobleman': 3071, 'judah': 2413, 'esther': 1518, 'kentucki': 2458, 'lenni': 2572, 'paolo': 3219, 'amor': 152, 'garner': 1840, 'tobi': 4542, 'fenc': 1654, 'gerald': 1858, 'plead': 3369, 'blur': 474, 'mock': 2910, 'troy': 4631, 'vicki': 4779, 'parri': 3237, 'cassi': 669, 'thanksgiv': 4481, 'comed': 876, 'schmidt': 3912, 'vital': 4813, 'collin': 863, 'spencer': 4196, 'hoover': 2128, 'zeu': 4995, 'weari': 4869, 'merchant': 2833, 'trevor': 4614, 'brent': 536, 'overdos': 3184, 'sinclair': 4072, 'clau': 794, 'surf': 4366, 'brandon': 523, 'lizzi': 2627, 'instant': 2266, 'wildli': 4915, 'tate': 4428, 'homer': 2116, 'fraud': 1779, 'channel': 716, 'quirki': 3560, 'fowler': 1763, 'remarri': 3697, 'uncontrol': 4674, 'score': 3921, 'meg': 2817, 'suspens': 4384, 'hockey': 2101, 'darren': 1102, 'aircraft': 91, 'lawman': 2539, 'em': 1444, 'librarian': 2594, 'pan': 3217, 'franklin': 1775, 'karl': 2440, 'lauren': 2535, 'yale': 4976, 'jami': 2341, 'signal': 4058, 'lacey': 2504, 'turbul': 4643, 'heritag': 2067, 'tycoon': 4657, 'poet': 3382, 'ear': 1373, 'cori': 984, 'carver': 664, 'needi': 3015, 'le': 2546, 'dori': 1307, 'ration': 3606, 'easier': 1382, 'wendi': 4884, 'satellit': 3896, 'daryl': 1103, 'formerli': 1744, 'cocki': 841, 'gut': 1968, 'pepper': 3286, 'cute': 1076, 'weed': 4875, 'anticip': 190, 'lodg': 2636, 'chick': 745, 'crop': 1046, 'hamlet': 1984, 'volatil': 4816, 'gene': 1848, 'instrument': 2273, 'outer': 3174, 'climat': 810, 'fox': 1764, 'meat': 2808, 'serious': 3979, 'flora': 1713, 'appeal': 205, 'griffin': 1942, 'overweight': 3190, 'mirror': 2888, 'marijuana': 2751, 'saloon': 3876, 'dim': 1230, 'beverli': 430, 'minion': 2878, 'momma': 2918, 'plantat': 3361, 'deceit': 1133, 'eke': 1412, 'openli': 3143, 'robbi': 3797, 'successor': 4330, 'canadian': 628, 'temporari': 4455, 'pierc': 3335, 'beer': 390, 'tucker': 4640, 'lawson': 2542, 'tens': 4464, 'brotherhood': 563, 'occup': 3115, 'holiday': 2108, 'instinct': 2269, 'herbi': 2064, 'collid': 862, 'prayer': 3428, 'marlow': 2759, 'chandler': 714, 'chad': 702, 'clem': 803, 'troublemak': 4629, 'committe': 888, 'mar': 2738, 'bibl': 433, 'keeper': 2450, 'scam': 3905, 'babysitt': 316, 'literatur': 2623, 'unwit': 4721, 'highlight': 2082, 'shirley': 4029, 'tammi': 4419, 'rico': 3770, 'sanderson': 3887, 'enrag': 1482, 'gordi': 1896, 'fifti': 1667, 'scotland': 3922, 'pole': 3388, 'madam': 2694, 'piranha': 3347, 'mildr': 2864, 'monica': 2921, 'succumb': 4331, 'prompt': 3503, 'anthoni': 187, 'muslim': 2971, 'melt': 2823, 'randal': 3592, 'shoe': 4031, 'stanton': 4238, 'clueless': 829, 'alain': 98, 'moreau': 2935, 'ivan': 2328, 'relentless': 3683, 'mccarthi': 2798, 'paco': 3203, 'gentl': 1853, 'sacr': 3860, 'cliff': 809, 'meredith': 2835, 'tobacco': 4541, 'dude': 1352, 'bessi': 422, 'cameron': 622, 'sherman': 4022, 'potion': 3420, 'warehous': 4847, 'lurk': 2683, 'incarcer': 2213, 'dorian': 1308, 'button': 602, 'controversi': 968, 'fist': 1691, 'cleopatra': 804, 'pod': 3380, 'nigel': 3059, 'samurai': 3884, 'egotist': 1405, 'etc': 1520, 'menac': 2828, 'matti': 2785, 'jupit': 2431, 'nevada': 3037, 'greg': 1936, 'regularli': 3671, 'orin': 3162, 'bother': 502, 'nest': 3033, 'fletcher': 1705, 'ditch': 1276, 'toxin': 4578, 'woodi': 4947, 'nathan': 2997, 'conrad': 940, 'norma': 3082, 'campu': 626, 'nell': 3025, 'dodg': 1290, 'elvira': 1443, 'bust': 597, 'raven': 3608, 'proclaim': 3487, 'enamor': 1461, 'ty': 4656, 'eas': 1380, 'overthrow': 3189, 'painter': 3211, 'neal': 3006, 'rediscov': 3651, 'farewel': 1624, 'unforgett': 4691, 'jet': 2374, 'derek': 1184, 'luther': 2685, 'apprentic': 212, 'swindl': 4396, 'sorri': 4168, 'alison': 116, 'shell': 4018, 'romeo': 3816, 'brash': 524, 'hogan': 2103, 'raccoon': 3563, 'café': 609, 'throat': 4513, 'disney': 1260, 'dorm': 1309, 'roxi': 3837, 'unconvent': 4675, 'recognit': 3638, 'fran': 1767, 'slight': 4107, 'hels': 2058, 'shrek': 4044, 'pact': 3204, 'fiona': 1684, 'spaceship': 4180, 'fragil': 1765, 'merrick': 2836, 'persist': 3301, 'humbl': 2160, 'flash': 1697, 'myra': 2977, 'mythic': 2981, 'clearer': 801, 'napoleon': 2988, 'pittsburgh': 3352, 'malon': 2720, 'settlement': 3988, 'herd': 2066, 'pope': 3402, 'cardin': 645, 'langdon': 2515, 'recept': 3633, 'dawson': 1112, 'founder': 1758, 'cal': 612, 'intimid': 2294, 'mccabe': 2797, 'fugit': 1807, 'jodi': 2388, 'biolog': 446, 'leprechaun': 2577, 'gradi': 1911, 'ferri': 1656, 'gertrud': 1862, 'crumbl': 1054, 'weight': 4879, 'stair': 4230, 'timothi': 4534, 'aka': 95, 'orang': 3154, 'mikey': 2862, 'cutter': 1077, 'rusti': 3855, 'dusti': 1362, 'nicholson': 3053, 'commando': 883, 'calvin': 618, 'winni': 4926, 'gina': 1872, 'kirk': 2477, 'isabella': 2320, 'bella': 404, 'psychiatr': 3524, 'suppress': 4363, 'messeng': 2839, 'honey': 2121, 'eleg': 1423, 'mega': 2818, 'undead': 4677, 'yanke': 4977, 'rio': 3781, 'brazil': 527, 'su': 4315, 'deer': 1148, 'tooth': 4559, 'mia': 2848, 'ana': 155, 'jule': 2420, 'down': 1315, 'matur': 2786, 'expand': 1572, 'dent': 1174, 'ministri': 2880, 'ritter': 3787, 'lean': 2552, 'probe': 3481, 'auction': 285, 'yacht': 4974, 'rand': 3591, 'jewelri': 2377, 'ethic': 1523, 'reno': 3707, 'agn': 82, 'endless': 1467, 'arab': 216, 'hugo': 2158, 'theatr': 4483, 'partli': 3243, 'kent': 2457, 'cow': 1018, 'compuls': 908, 'legitim': 2567, 'teddi': 4445, 'melani': 2820, 'forrest': 1746, 'technician': 4441, 'santiago': 3892, 'jenna': 2361, 'hamilton': 1983, 'adjust': 50, 'polli': 3396, 'surrog': 4375, 'hawaii': 2027, 'damon': 1090, 'monti': 2930, 'waldo': 4830, 'detach': 1201, 'mood': 2931, 'renew': 3706, 'replic': 3713, 'superstar': 4357, 'friction': 1795, 'freed': 1785, 'alicia': 113, 'frenchman': 1789, 'abe': 5, 'hector': 2046, 'rifl': 3776, 'dri': 1334, 'porki': 3405, 'brien': 545, 'inabl': 2210, 'basil': 361, 'lynch': 2689, 'thereaft': 4491, 'preston': 3452, 'regina': 3667, 'braddock': 516, 'embassi': 1447, 'erica': 1505, 'tomb': 4552, 'superman': 4353, 'klein': 2482, 'richi': 3767, 'webb': 4873, 'everett': 1539, 'ralph': 3583, 'parish': 3231, 'pa': 3198, 'dre': 1329, 'franni': 1776, 'gunman': 1965, 'schultz': 3917, 'carli': 653, 'jeremi': 2366, 'murtaugh': 2966, 'speedi': 4194, 'tara': 4424, 'pooh': 3398, 'quentin': 3552, 'hardi': 2005, 'indic': 2227, 'brenda': 534, 'dublin': 1350, 'fuller': 1810, 'xavier': 4973, 'australia': 292, 'data': 1105, 'velma': 4759, 'irrit': 2316, 'dant': 1099, 'beaumont': 381, 'truman': 4635, 'solo': 4149, 'consider': 946, 'dalton': 1088, 'griswold': 1945, 'hart': 2017, 'peyton': 3312, 'shed': 4016, 'cosmo': 992, 'dropout': 1343, 'fearless': 1642, 'brewster': 537, 'pageant': 3206, 'galaxi': 1827, 'jedi': 2356, 'anakin': 156, 'ark': 233, 'furi': 1818, 'colbi': 850, 'abbott': 3, 'pie': 3333, 'fabric': 1596, 'zoe': 4996, 'anton': 192, 'sioux': 4078, 'weston': 4890, 'israel': 2323, 'malloy': 2719, 'yearn': 4981, 'vivian': 4814, 'enchant': 1462, 'slum': 4113, 'nineteenth': 3066, 'tia': 4523, 'adel': 49, 'brendan': 535, 'wesley': 4887, 'lori': 2652, 'piglet': 3338, 'tigger': 4529, 'bianca': 432, 'mona': 2919, 'vulner': 4823, 'lyle': 2688, 'sadi': 3863, 'isaac': 2318, 'chaplin': 718, 'trent': 4613, 'po': 3378, 'holocaust': 2112, 'bo': 475, 'zed': 4993, 'scroll': 3930, 'benni': 414, 'axel': 312, 'reggi': 3664, 'owl': 3194, 'leroy': 2578, 'backup': 322, 'ava': 297, 'shawn': 4015, 'lorrain': 2653, 'coop': 978, 'lara': 2518, 'quinci': 3559, 'allison': 123, 'meyer': 2846, 'butch': 599, 'brice': 540, 'baxter': 369, 'lexi': 2589, 'orb': 3155, 'mccoy': 2800, 'seller': 3960, 'annett': 175, 'swann': 4390, 'miriam': 2887, 'margot': 2746, 'margi': 2744, 'sal': 3872}\n"
     ]
    }
   ],
   "source": [
    "print(voca_coun_vec)"
   ]
  },
  {
   "cell_type": "code",
   "execution_count": 8,
   "metadata": {},
   "outputs": [
    {
     "name": "stdout",
     "output_type": "stream",
     "text": [
      "['aaron', 'abandon', 'abbey', 'abbi', 'abbott', 'abduct', 'abe', 'abel', 'abigail', 'abil', 'abl', 'abl convinc', 'abl escap', 'abl find', 'abl get', 'abl make', 'abner', 'aboard', 'aboard ship', 'abort', 'abound', 'abraham', 'abraham lincoln', 'abroad', 'abruptli', 'absenc', 'absent', 'absolut', 'absorb', 'absurd', 'abu', 'abus', 'abus husband', 'academ', 'academi', 'academi award', 'accept', 'accept invit', 'accept job', 'accept offer', 'access', 'accid', 'accident', 'accident death', 'accident kill', 'acclaim', 'accommod', 'accompani', 'accomplic', 'accomplish']\n"
     ]
    }
   ],
   "source": [
    "print(vect.get_feature_names()[:50])"
   ]
  },
  {
   "cell_type": "markdown",
   "metadata": {},
   "source": [
    "### Create y"
   ]
  },
  {
   "cell_type": "code",
   "execution_count": 50,
   "metadata": {},
   "outputs": [],
   "source": [
    "dataTraining['genres'] = dataTraining['genres'].map(lambda x: eval(x))\n",
    "\n",
    "le = MultiLabelBinarizer()\n",
    "y_genres = le.fit_transform(dataTraining['genres'])"
   ]
  },
  {
   "cell_type": "code",
   "execution_count": 51,
   "metadata": {},
   "outputs": [
    {
     "data": {
      "text/plain": [
       "array([[0, 0, 0, ..., 0, 0, 0],\n",
       "       [0, 0, 0, ..., 0, 0, 0],\n",
       "       [0, 0, 0, ..., 1, 0, 0],\n",
       "       ...,\n",
       "       [0, 1, 0, ..., 0, 0, 0],\n",
       "       [0, 1, 1, ..., 0, 0, 0],\n",
       "       [0, 1, 1, ..., 0, 0, 0]])"
      ]
     },
     "execution_count": 51,
     "metadata": {},
     "output_type": "execute_result"
    }
   ],
   "source": [
    "y_genres"
   ]
  },
  {
   "cell_type": "markdown",
   "metadata": {},
   "source": [
    "# XGBOOST"
   ]
  },
  {
   "cell_type": "code",
   "execution_count": 52,
   "metadata": {},
   "outputs": [],
   "source": [
    "X_train, X_test, y_train_genres, y_test_genres = train_test_split(X_dtm.todense(), y_genres, test_size=0.33, random_state=42)"
   ]
  },
  {
   "cell_type": "code",
   "execution_count": 55,
   "metadata": {},
   "outputs": [],
   "source": [
    "from xgboost import XGBClassifier"
   ]
  },
  {
   "cell_type": "code",
   "execution_count": 78,
   "metadata": {},
   "outputs": [
    {
     "name": "stderr",
     "output_type": "stream",
     "text": [
      "C:\\Users\\esteb\\Anaconda3\\lib\\site-packages\\xgboost\\sklearn.py:1146: UserWarning: The use of label encoder in XGBClassifier is deprecated and will be removed in a future release. To remove this warning, do the following: 1) Pass option use_label_encoder=False when constructing XGBClassifier object; and 2) Encode your labels (y) as integers starting with 0, i.e. 0, 1, 2, ..., [num_class - 1].\n",
      "  warnings.warn(label_encoder_deprecation_msg, UserWarning)\n"
     ]
    },
    {
     "name": "stdout",
     "output_type": "stream",
     "text": [
      "[15:39:06] WARNING: C:/Users/Administrator/workspace/xgboost-win64_release_1.4.0/src/learner.cc:1095: Starting in XGBoost 1.3.0, the default evaluation metric used with the objective 'binary:logistic' was changed from 'error' to 'logloss'. Explicitly set eval_metric if you'd like to restore the old behavior.\n",
      "[15:39:21] WARNING: C:/Users/Administrator/workspace/xgboost-win64_release_1.4.0/src/learner.cc:1095: Starting in XGBoost 1.3.0, the default evaluation metric used with the objective 'binary:logistic' was changed from 'error' to 'logloss'. Explicitly set eval_metric if you'd like to restore the old behavior.\n",
      "[15:39:36] WARNING: C:/Users/Administrator/workspace/xgboost-win64_release_1.4.0/src/learner.cc:1095: Starting in XGBoost 1.3.0, the default evaluation metric used with the objective 'binary:logistic' was changed from 'error' to 'logloss'. Explicitly set eval_metric if you'd like to restore the old behavior.\n",
      "[15:39:51] WARNING: C:/Users/Administrator/workspace/xgboost-win64_release_1.4.0/src/learner.cc:1095: Starting in XGBoost 1.3.0, the default evaluation metric used with the objective 'binary:logistic' was changed from 'error' to 'logloss'. Explicitly set eval_metric if you'd like to restore the old behavior.\n",
      "[15:40:06] WARNING: C:/Users/Administrator/workspace/xgboost-win64_release_1.4.0/src/learner.cc:1095: Starting in XGBoost 1.3.0, the default evaluation metric used with the objective 'binary:logistic' was changed from 'error' to 'logloss'. Explicitly set eval_metric if you'd like to restore the old behavior.\n",
      "[15:40:22] WARNING: C:/Users/Administrator/workspace/xgboost-win64_release_1.4.0/src/learner.cc:1095: Starting in XGBoost 1.3.0, the default evaluation metric used with the objective 'binary:logistic' was changed from 'error' to 'logloss'. Explicitly set eval_metric if you'd like to restore the old behavior.\n",
      "[15:40:38] WARNING: C:/Users/Administrator/workspace/xgboost-win64_release_1.4.0/src/learner.cc:1095: Starting in XGBoost 1.3.0, the default evaluation metric used with the objective 'binary:logistic' was changed from 'error' to 'logloss'. Explicitly set eval_metric if you'd like to restore the old behavior.\n",
      "[15:40:53] WARNING: C:/Users/Administrator/workspace/xgboost-win64_release_1.4.0/src/learner.cc:1095: Starting in XGBoost 1.3.0, the default evaluation metric used with the objective 'binary:logistic' was changed from 'error' to 'logloss'. Explicitly set eval_metric if you'd like to restore the old behavior.\n",
      "[15:41:08] WARNING: C:/Users/Administrator/workspace/xgboost-win64_release_1.4.0/src/learner.cc:1095: Starting in XGBoost 1.3.0, the default evaluation metric used with the objective 'binary:logistic' was changed from 'error' to 'logloss'. Explicitly set eval_metric if you'd like to restore the old behavior.\n",
      "[15:41:22] WARNING: C:/Users/Administrator/workspace/xgboost-win64_release_1.4.0/src/learner.cc:1095: Starting in XGBoost 1.3.0, the default evaluation metric used with the objective 'binary:logistic' was changed from 'error' to 'logloss'. Explicitly set eval_metric if you'd like to restore the old behavior.\n",
      "[15:41:35] WARNING: C:/Users/Administrator/workspace/xgboost-win64_release_1.4.0/src/learner.cc:1095: Starting in XGBoost 1.3.0, the default evaluation metric used with the objective 'binary:logistic' was changed from 'error' to 'logloss'. Explicitly set eval_metric if you'd like to restore the old behavior.\n",
      "[15:41:51] WARNING: C:/Users/Administrator/workspace/xgboost-win64_release_1.4.0/src/learner.cc:1095: Starting in XGBoost 1.3.0, the default evaluation metric used with the objective 'binary:logistic' was changed from 'error' to 'logloss'. Explicitly set eval_metric if you'd like to restore the old behavior.\n",
      "[15:42:07] WARNING: C:/Users/Administrator/workspace/xgboost-win64_release_1.4.0/src/learner.cc:1095: Starting in XGBoost 1.3.0, the default evaluation metric used with the objective 'binary:logistic' was changed from 'error' to 'logloss'. Explicitly set eval_metric if you'd like to restore the old behavior.\n",
      "[15:42:23] WARNING: C:/Users/Administrator/workspace/xgboost-win64_release_1.4.0/src/learner.cc:1095: Starting in XGBoost 1.3.0, the default evaluation metric used with the objective 'binary:logistic' was changed from 'error' to 'logloss'. Explicitly set eval_metric if you'd like to restore the old behavior.\n",
      "[15:42:38] WARNING: C:/Users/Administrator/workspace/xgboost-win64_release_1.4.0/src/learner.cc:1095: Starting in XGBoost 1.3.0, the default evaluation metric used with the objective 'binary:logistic' was changed from 'error' to 'logloss'. Explicitly set eval_metric if you'd like to restore the old behavior.\n",
      "[15:42:53] WARNING: C:/Users/Administrator/workspace/xgboost-win64_release_1.4.0/src/learner.cc:1095: Starting in XGBoost 1.3.0, the default evaluation metric used with the objective 'binary:logistic' was changed from 'error' to 'logloss'. Explicitly set eval_metric if you'd like to restore the old behavior.\n",
      "[15:43:09] WARNING: C:/Users/Administrator/workspace/xgboost-win64_release_1.4.0/src/learner.cc:1095: Starting in XGBoost 1.3.0, the default evaluation metric used with the objective 'binary:logistic' was changed from 'error' to 'logloss'. Explicitly set eval_metric if you'd like to restore the old behavior.\n",
      "[15:43:18] WARNING: C:/Users/Administrator/workspace/xgboost-win64_release_1.4.0/src/learner.cc:1095: Starting in XGBoost 1.3.0, the default evaluation metric used with the objective 'binary:logistic' was changed from 'error' to 'logloss'. Explicitly set eval_metric if you'd like to restore the old behavior.\n",
      "[15:43:33] WARNING: C:/Users/Administrator/workspace/xgboost-win64_release_1.4.0/src/learner.cc:1095: Starting in XGBoost 1.3.0, the default evaluation metric used with the objective 'binary:logistic' was changed from 'error' to 'logloss'. Explicitly set eval_metric if you'd like to restore the old behavior.\n",
      "[15:43:48] WARNING: C:/Users/Administrator/workspace/xgboost-win64_release_1.4.0/src/learner.cc:1095: Starting in XGBoost 1.3.0, the default evaluation metric used with the objective 'binary:logistic' was changed from 'error' to 'logloss'. Explicitly set eval_metric if you'd like to restore the old behavior.\n",
      "[15:44:04] WARNING: C:/Users/Administrator/workspace/xgboost-win64_release_1.4.0/src/learner.cc:1095: Starting in XGBoost 1.3.0, the default evaluation metric used with the objective 'binary:logistic' was changed from 'error' to 'logloss'. Explicitly set eval_metric if you'd like to restore the old behavior.\n",
      "[15:44:19] WARNING: C:/Users/Administrator/workspace/xgboost-win64_release_1.4.0/src/learner.cc:1095: Starting in XGBoost 1.3.0, the default evaluation metric used with the objective 'binary:logistic' was changed from 'error' to 'logloss'. Explicitly set eval_metric if you'd like to restore the old behavior.\n",
      "[15:44:34] WARNING: C:/Users/Administrator/workspace/xgboost-win64_release_1.4.0/src/learner.cc:1095: Starting in XGBoost 1.3.0, the default evaluation metric used with the objective 'binary:logistic' was changed from 'error' to 'logloss'. Explicitly set eval_metric if you'd like to restore the old behavior.\n",
      "[15:44:49] WARNING: C:/Users/Administrator/workspace/xgboost-win64_release_1.4.0/src/learner.cc:1095: Starting in XGBoost 1.3.0, the default evaluation metric used with the objective 'binary:logistic' was changed from 'error' to 'logloss'. Explicitly set eval_metric if you'd like to restore the old behavior.\n"
     ]
    },
    {
     "data": {
      "text/plain": [
       "OneVsRestClassifier(estimator=XGBClassifier(base_score=None, booster=None,\n",
       "                                            colsample_bylevel=None,\n",
       "                                            colsample_bynode=None,\n",
       "                                            colsample_bytree=None, gamma=None,\n",
       "                                            gpu_id=None, importance_type='gain',\n",
       "                                            interaction_constraints=None,\n",
       "                                            learning_rate=0.3,\n",
       "                                            max_delta_step=None, max_depth=5,\n",
       "                                            min_child_weight=None, missing=nan,\n",
       "                                            monotone_constraints=None,\n",
       "                                            n_estimators=100, n_jobs=None,\n",
       "                                            num_parallel_tree=None,\n",
       "                                            random_state=42, reg_alpha=None,\n",
       "                                            reg_lambda=None,\n",
       "                                            scale_pos_weight=None,\n",
       "                                            subsample=None, tree_method=None,\n",
       "                                            validate_parameters=None,\n",
       "                                            verbosity=None))"
      ]
     },
     "execution_count": 78,
     "metadata": {},
     "output_type": "execute_result"
    }
   ],
   "source": [
    "xgb = OneVsRestClassifier(XGBClassifier(random_state=42,n_estimators=100, learning_rate=0.3, max_depth=7))\n",
    "xgb.fit(X_train, y_train_genres)"
   ]
  },
  {
   "cell_type": "code",
   "execution_count": 80,
   "metadata": {},
   "outputs": [
    {
     "data": {
      "text/plain": [
       "0.8434843032865246"
      ]
     },
     "execution_count": 80,
     "metadata": {},
     "output_type": "execute_result"
    }
   ],
   "source": [
    "y_pred_genresxg = xgb.predict_proba(X_test)\n",
    "roc_auc_score(y_test_genres, y_pred_genresxg, average='macro')"
   ]
  },
  {
   "cell_type": "code",
   "execution_count": 79,
   "metadata": {},
   "outputs": [],
   "source": [
    "df = pd.DataFrame(y_test_genres)\n",
    "df.to_csv(\"y_test.csv\")"
   ]
  },
  {
   "cell_type": "code",
   "execution_count": 81,
   "metadata": {},
   "outputs": [],
   "source": [
    "X_test_dtm = vect.transform(dataTesting['plot_low_rm_stem'])\n",
    "\n",
    "cols = ['p_Action', 'p_Adventure', 'p_Animation', 'p_Biography', 'p_Comedy', 'p_Crime', 'p_Documentary', 'p_Drama', 'p_Family',\n",
    "        'p_Fantasy', 'p_Film-Noir', 'p_History', 'p_Horror', 'p_Music', 'p_Musical', 'p_Mystery', 'p_News', 'p_Romance',\n",
    "        'p_Sci-Fi', 'p_Short', 'p_Sport', 'p_Thriller', 'p_War', 'p_Western']\n",
    "\n",
    "y_pred_test_genres = xgb.predict_proba(X_test_dtm)"
   ]
  },
  {
   "cell_type": "code",
   "execution_count": 82,
   "metadata": {},
   "outputs": [],
   "source": [
    "res = pd.DataFrame(y_pred_test_genres, index=dataTesting.index, columns=cols)\n",
    "res.to_csv('pred_xgb1.csv', index_label='ID')"
   ]
  }
 ],
 "metadata": {
  "kernelspec": {
   "display_name": "Python 3",
   "language": "python",
   "name": "python3"
  },
  "language_info": {
   "codemirror_mode": {
    "name": "ipython",
    "version": 3
   },
   "file_extension": ".py",
   "mimetype": "text/x-python",
   "name": "python",
   "nbconvert_exporter": "python",
   "pygments_lexer": "ipython3",
   "version": "3.8.3"
  }
 },
 "nbformat": 4,
 "nbformat_minor": 4
}
