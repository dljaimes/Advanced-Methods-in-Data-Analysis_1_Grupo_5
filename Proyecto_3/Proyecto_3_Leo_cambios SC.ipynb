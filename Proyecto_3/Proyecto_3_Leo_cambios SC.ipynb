{
 "cells": [
  {
   "cell_type": "markdown",
   "metadata": {
    "colab_type": "text",
    "id": "view-in-github"
   },
   "source": [
    "<a href=\"https://colab.research.google.com/github/dljaimes/AdvancedMethodsinDataAnalysis1Grupo_5/blob/main/Proyecto_3_Leo.ipynb\" target=\"_parent\"><img src=\"https://colab.research.google.com/assets/colab-badge.svg\" alt=\"Open In Colab\"/></a>"
   ]
  },
  {
   "cell_type": "markdown",
   "metadata": {
    "id": "QparFGCGZl4v"
   },
   "source": [
    "# Project 3\n",
    "\n",
    "\n",
    "# Movie Genre Classification\n",
    "\n",
    "Classify a movie genre based on its plot.\n",
    "\n",
    "<img src=\"moviegenre.png\"\n",
    "     style=\"float: left; margin-right: 10px;\" />\n",
    "\n",
    "\n",
    "\n",
    "\n",
    "https://www.kaggle.com/c/miia4201-202019-p3-moviegenreclassification/overview\n",
    "\n",
    "### Data\n",
    "\n",
    "Input:\n",
    "- movie plot\n",
    "\n",
    "Output:\n",
    "- Probability of the movie belonging to each genre\n",
    "\n",
    "\n",
    "### Evaluation\n",
    "\n",
    "- 50% Report with all the details of the solution, the analysis and the conclusions. The report cannot exceed 10 pages, must be send in PDF format and must be self-contained.\n",
    "- 50% Performance in the Kaggle competition (The grade for each group will be proportional to the ranking it occupies in the competition. The group in the first place will obtain 5 points, for each position below, 0.25 points will be subtracted, that is: first place: 5 points, second: 4.75 points, third place: 4.50 points ... eleventh place: 2.50 points, twelfth place: 2.25 points).\n",
    "\n",
    "\n",
    "### Deadline\n",
    "- The project must be carried out in the groups assigned.\n",
    "- Use clear and rigorous procedures.\n",
    "- The delivery of the project is on August 1st, 2021, 11:59 pm, through Bloque Neón.\n",
    "- No projects will be received after the delivery time or by any other means than the one established. \n",
    "\n",
    "\n",
    "\n",
    "\n",
    "### Acknowledgements\n",
    "\n",
    "We thank Professor Fabio Gonzalez, Ph.D. and his student John Arevalo for providing this dataset.\n",
    "\n",
    "See https://arxiv.org/abs/1702.01992"
   ]
  },
  {
   "cell_type": "markdown",
   "metadata": {
    "id": "zUiy9HubZl4z"
   },
   "source": [
    "## Sample Submission"
   ]
  },
  {
   "cell_type": "code",
   "execution_count": 12,
   "metadata": {
    "id": "3C77p01CdJu5"
   },
   "outputs": [],
   "source": [
    "#!pip install -q wordcloud\n",
    "#!pip install livelossplot==0.1.2"
   ]
  },
  {
   "cell_type": "code",
   "execution_count": 13,
   "metadata": {
    "id": "cxigCCrwZl40"
   },
   "outputs": [],
   "source": [
    "import pandas as pd\n",
    "import os\n",
    "import numpy as np\n",
    "from sklearn.feature_extraction.text import CountVectorizer, TfidfVectorizer \n",
    "from sklearn.preprocessing import MultiLabelBinarizer\n",
    "from sklearn.multiclass import OneVsRestClassifier\n",
    "from sklearn.ensemble import RandomForestRegressor, RandomForestClassifier\n",
    "from sklearn.metrics import r2_score, roc_auc_score\n",
    "from sklearn.model_selection import train_test_split,GridSearchCV\n",
    "from xgboost import XGBClassifier\n",
    "from sklearn.linear_model import LogisticRegression\n",
    "from sklearn.tree import DecisionTreeClassifier\n",
    "\n",
    "#from keras.models import Sequential\n",
    "#from keras.layers import Flatten\n",
    "#from keras.layers.recurrent import LSTM\n",
    "#from keras.layers.core import Dense, Dropout\n",
    "#from keras.layers.embeddings import Embedding\n",
    "#from keras.preprocessing import sequence\n",
    "#from tensorflow.keras.preprocessing.text import Tokenizer\n",
    "#from tensorflow.keras.preprocessing.sequence import pad_sequences\n",
    "#from livelossplot import PlotLossesKeras\n",
    "\n",
    "#import keras\n",
    "#from keras import backend as K\n",
    "from sklearn.model_selection import train_test_split\n",
    "import re\n",
    "import nltk\n",
    "\n",
    "from nltk.corpus import stopwords\n",
    "#from livelossplot import PlotLossesKeras\n",
    "import warnings\n",
    "warnings.filterwarnings(\"ignore\")"
   ]
  },
  {
   "cell_type": "code",
   "execution_count": 14,
   "metadata": {
    "colab": {
     "base_uri": "https://localhost:8080/"
    },
    "id": "o0v-sfSSdnIb",
    "outputId": "3d44c2d3-b78a-483e-8a7f-1f7c17166ae1"
   },
   "outputs": [
    {
     "name": "stderr",
     "output_type": "stream",
     "text": [
      "[nltk_data] Downloading package stopwords to\n",
      "[nltk_data]     C:\\Users\\sebtc\\AppData\\Roaming\\nltk_data...\n",
      "[nltk_data]   Package stopwords is already up-to-date!\n",
      "[nltk_data] Downloading package wordnet to\n",
      "[nltk_data]     C:\\Users\\sebtc\\AppData\\Roaming\\nltk_data...\n",
      "[nltk_data]   Package wordnet is already up-to-date!\n"
     ]
    }
   ],
   "source": [
    "# Se descargan los Stopwords:\n",
    "nltk.download('stopwords')\n",
    "nltk.corpus.stopwords.words('english')\n",
    "nltk.download('wordnet');"
   ]
  },
  {
   "cell_type": "markdown",
   "metadata": {
    "id": "5FbjuAOfcrgq"
   },
   "source": [
    "# 0. CARGUE DE LOS DATOS"
   ]
  },
  {
   "cell_type": "code",
   "execution_count": 15,
   "metadata": {
    "id": "Z6a4eGeTZl42"
   },
   "outputs": [],
   "source": [
    "dataTraining = pd.read_csv('https://github.com/albahnsen/AdvancedMethodsDataAnalysisClass/raw/master/datasets/dataTraining.zip', encoding='UTF-8', index_col=0)\n",
    "dataTesting = pd.read_csv('https://github.com/albahnsen/AdvancedMethodsDataAnalysisClass/raw/master/datasets/dataTesting.zip', encoding='UTF-8', index_col=0)"
   ]
  },
  {
   "cell_type": "code",
   "execution_count": 16,
   "metadata": {
    "colab": {
     "base_uri": "https://localhost:8080/"
    },
    "id": "y_amaMMQZl44",
    "outputId": "3e16b143-0d84-4eb3-f79f-15edfe29a785"
   },
   "outputs": [
    {
     "name": "stdout",
     "output_type": "stream",
     "text": [
      "Training: \n",
      "       year                      title  \\\n",
      "3107  2003                       Most   \n",
      "900   2008  How to Be a Serial Killer   \n",
      "\n",
      "                                                   plot  \\\n",
      "3107  most is the story of a single father who takes...   \n",
      "900   a serial killer decides to teach the secrets o...   \n",
      "\n",
      "                             genres  rating  \n",
      "3107             ['Short', 'Drama']     8.0  \n",
      "900   ['Comedy', 'Crime', 'Horror']     5.6  \n",
      "------------------------------------------------------------------------------------------------------------------------\n",
      "------------------------------------------------------------------------------------------------------------------------\n",
      "Testing: \n",
      "    year                title  \\\n",
      "1  1999  Message in a Bottle   \n",
      "4  1978     Midnight Express   \n",
      "\n",
      "                                                plot  \n",
      "1  who meets by fate ,  shall be sealed by fate ....  \n",
      "4  the true story of billy hayes ,  an american c...  \n"
     ]
    }
   ],
   "source": [
    "print('Training: \\n',dataTraining.head(2))\n",
    "print('----'*30)\n",
    "print('----'*30)\n",
    "print('Testing: \\n',dataTesting.head(2))"
   ]
  },
  {
   "cell_type": "markdown",
   "metadata": {
    "id": "QrcnLScehg34"
   },
   "source": [
    "# 1. ANÁLISIS VARIABLE DE SALIDA"
   ]
  },
  {
   "cell_type": "code",
   "execution_count": 17,
   "metadata": {
    "id": "ekasx5PAhgmN"
   },
   "outputs": [],
   "source": [
    "dataTraining['genres'] = dataTraining['genres'].map(lambda x: eval(x)) \n",
    "\n",
    "le = MultiLabelBinarizer()\n",
    "y_genres = le.fit_transform(dataTraining['genres'])"
   ]
  },
  {
   "cell_type": "code",
   "execution_count": 18,
   "metadata": {
    "colab": {
     "base_uri": "https://localhost:8080/",
     "height": 393
    },
    "id": "SV60M3othgcL",
    "outputId": "db63c9a0-8168-49cb-e22f-d7b46918e162"
   },
   "outputs": [
    {
     "data": {
      "image/png": "[encoded data removed]",
      "text/plain": [
       "<Figure size 1296x360 with 1 Axes>"
      ]
     },
     "metadata": {
      "needs_background": "light"
     },
     "output_type": "display_data"
    }
   ],
   "source": [
    "pd.DataFrame(y_genres, columns=le.classes_).sum().sort_values().plot(kind='bar', figsize=(18,5), grid=False, ec='black', title='DISTRIBUCIPON DE LAS CATEGORÍAS DE PELÍCULA EN LA BASE');"
   ]
  },
  {
   "cell_type": "markdown",
   "metadata": {
    "id": "GpGzuyijjIFQ"
   },
   "source": [
    "Se observa como las categorías de Drama, Comedy, Thriller y Romance, son las que mayor participación tienen."
   ]
  },
  {
   "cell_type": "markdown",
   "metadata": {
    "id": "iS2ZPwWFJWYi"
   },
   "source": [
    "# 2. LIMPIEZA Y PREPROCESAMIENTO DEL TEXTO"
   ]
  },
  {
   "cell_type": "code",
   "execution_count": 19,
   "metadata": {
    "colab": {
     "base_uri": "https://localhost:8080/"
    },
    "id": "Zgfdsc5Yb1Kz",
    "outputId": "7c63b0c3-f313-496a-f187-39930e6de711"
   },
   "outputs": [
    {
     "name": "stderr",
     "output_type": "stream",
     "text": [
      "[nltk_data] Downloading package wordnet to\n",
      "[nltk_data]     C:\\Users\\sebtc\\AppData\\Roaming\\nltk_data...\n",
      "[nltk_data]   Package wordnet is already up-to-date!\n"
     ]
    }
   ],
   "source": [
    "import re\n",
    "import nltk\n",
    "nltk.corpus.stopwords.words('english')\n",
    "nltk.download('wordnet') \n",
    "from nltk.corpus import stopwords\n",
    "from nltk.stem.porter import PorterStemmer # Stemming\n",
    "from nltk.stem import WordNetLemmatizer # lemmatizacion"
   ]
  },
  {
   "cell_type": "code",
   "execution_count": 20,
   "metadata": {
    "id": "d9WXhz2aJVa2"
   },
   "outputs": [],
   "source": [
    "# Se eliminan caracteres especiales:\n",
    "\n",
    "\n",
    "def pre_process(text):\n",
    "    # lowercase\n",
    "    text = text.lower()\n",
    "    # tags\n",
    "    text = re.sub('&lt;/?.*?&gt;',' &lt;&gt; ',text)\n",
    "    # special characters and digits\n",
    "    text=re.sub('(\\\\d|\\\\W)+',' ',text)\n",
    "    # remove punctuation\n",
    "    #text = re.sub('[.;:!\\'?,\\\"()\\[\\]]', '', text)\n",
    "    #text = [REPLACE.sub('', line) for line in text]\n",
    "    \n",
    "    return text\n",
    "\n",
    "dataTraining['plot_low']=dataTraining['plot'].apply(lambda x:pre_process(x))\n",
    "dataTesting['plot_low']=dataTesting['plot'].apply(lambda x:pre_process(x))\n",
    "\n",
    "\n",
    "\n",
    "###############################################################################\n",
    "\n",
    "# se eliminan stopwords\n",
    "\n",
    "english_stop_words=stopwords.words('english')\n",
    "\n",
    "def remove_stop_words(corpus):\n",
    "    removed_stop_words = []\n",
    "    for review in corpus:\n",
    "        removed_stop_words.append(\n",
    "            ' '.join([word for word in review.split() \n",
    "                      if word not in english_stop_words])\n",
    "        )\n",
    "    return removed_stop_words\n",
    "\n",
    "dataTraining['plot_low_rm'] = remove_stop_words(dataTraining['plot_low'])\n",
    "dataTesting['plot_low_rm'] = remove_stop_words(dataTesting['plot_low'])\n",
    "\n",
    "###############################################################################\n",
    "\n",
    "# Stemming:\n",
    "\n",
    "\n",
    "def get_stemmed_text(corpus):\n",
    "    stemmer = PorterStemmer()\n",
    "    return [' '.join([stemmer.stem(word) for word in review.split()]) for review in corpus]\n",
    "\n",
    "dataTraining['plot_low_rm_stem'] = get_stemmed_text(dataTraining['plot_low_rm'])\n",
    "dataTesting['plot_low_rm_stem'] = get_stemmed_text(dataTesting['plot_low_rm'])\n",
    "\n",
    "###############################################################################\n",
    "\n",
    "# LEMATIZACION:\n",
    "\n",
    "\n",
    "def lemma(texto):\n",
    "  lemmatizador = WordNetLemmatizer()\n",
    "  return [' '.join([lemmatizador.lemmatize(word) for word in review.split()]) for review in texto]\n",
    "\n",
    "dataTraining['plot_low_rm_lemma'] = lemma(dataTraining['plot_low_rm'])\n",
    "dataTesting['plot_low_rm_lemma'] = lemma(dataTesting['plot_low_rm'])\n"
   ]
  },
  {
   "cell_type": "code",
   "execution_count": 21,
   "metadata": {
    "colab": {
     "base_uri": "https://localhost:8080/",
     "height": 145
    },
    "id": "Qx6fzo3jJVRd",
    "outputId": "d0f77648-763d-4a4e-e9b7-072ed5b07d89"
   },
   "outputs": [
    {
     "data": {
      "text/html": [
       "<div>\n",
       "<style scoped>\n",
       "    .dataframe tbody tr th:only-of-type {\n",
       "        vertical-align: middle;\n",
       "    }\n",
       "\n",
       "    .dataframe tbody tr th {\n",
       "        vertical-align: top;\n",
       "    }\n",
       "\n",
       "    .dataframe thead th {\n",
       "        text-align: right;\n",
       "    }\n",
       "</style>\n",
       "<table border=\"1\" class=\"dataframe\">\n",
       "  <thead>\n",
       "    <tr style=\"text-align: right;\">\n",
       "      <th></th>\n",
       "      <th>year</th>\n",
       "      <th>title</th>\n",
       "      <th>plot</th>\n",
       "      <th>genres</th>\n",
       "      <th>rating</th>\n",
       "      <th>plot_low</th>\n",
       "      <th>plot_low_rm</th>\n",
       "      <th>plot_low_rm_stem</th>\n",
       "      <th>plot_low_rm_lemma</th>\n",
       "    </tr>\n",
       "  </thead>\n",
       "  <tbody>\n",
       "    <tr>\n",
       "      <th>3107</th>\n",
       "      <td>2003</td>\n",
       "      <td>Most</td>\n",
       "      <td>most is the story of a single father who takes...</td>\n",
       "      <td>[Short, Drama]</td>\n",
       "      <td>8.0</td>\n",
       "      <td>most is the story of a single father who takes...</td>\n",
       "      <td>story single father takes eight year old son w...</td>\n",
       "      <td>stori singl father take eight year old son wor...</td>\n",
       "      <td>story single father take eight year old son wo...</td>\n",
       "    </tr>\n",
       "    <tr>\n",
       "      <th>900</th>\n",
       "      <td>2008</td>\n",
       "      <td>How to Be a Serial Killer</td>\n",
       "      <td>a serial killer decides to teach the secrets o...</td>\n",
       "      <td>[Comedy, Crime, Horror]</td>\n",
       "      <td>5.6</td>\n",
       "      <td>a serial killer decides to teach the secrets o...</td>\n",
       "      <td>serial killer decides teach secrets satisfying...</td>\n",
       "      <td>serial killer decid teach secret satisfi caree...</td>\n",
       "      <td>serial killer decides teach secret satisfying ...</td>\n",
       "    </tr>\n",
       "  </tbody>\n",
       "</table>\n",
       "</div>"
      ],
      "text/plain": [
       "      year                      title  \\\n",
       "3107  2003                       Most   \n",
       "900   2008  How to Be a Serial Killer   \n",
       "\n",
       "                                                   plot  \\\n",
       "3107  most is the story of a single father who takes...   \n",
       "900   a serial killer decides to teach the secrets o...   \n",
       "\n",
       "                       genres  rating  \\\n",
       "3107           [Short, Drama]     8.0   \n",
       "900   [Comedy, Crime, Horror]     5.6   \n",
       "\n",
       "                                               plot_low  \\\n",
       "3107  most is the story of a single father who takes...   \n",
       "900   a serial killer decides to teach the secrets o...   \n",
       "\n",
       "                                            plot_low_rm  \\\n",
       "3107  story single father takes eight year old son w...   \n",
       "900   serial killer decides teach secrets satisfying...   \n",
       "\n",
       "                                       plot_low_rm_stem  \\\n",
       "3107  stori singl father take eight year old son wor...   \n",
       "900   serial killer decid teach secret satisfi caree...   \n",
       "\n",
       "                                      plot_low_rm_lemma  \n",
       "3107  story single father take eight year old son wo...  \n",
       "900   serial killer decides teach secret satisfying ...  "
      ]
     },
     "execution_count": 21,
     "metadata": {},
     "output_type": "execute_result"
    }
   ],
   "source": [
    "# Visualización de los ajustes en el texto:\n",
    "\n",
    "dataTraining.head(2)"
   ]
  },
  {
   "cell_type": "code",
   "execution_count": null,
   "metadata": {
    "id": "psoasDQ7sE1O"
   },
   "outputs": [],
   "source": []
  },
  {
   "cell_type": "code",
   "execution_count": null,
   "metadata": {
    "id": "AdrCvdwgsEgR"
   },
   "outputs": [],
   "source": []
  },
  {
   "cell_type": "markdown",
   "metadata": {
    "id": "VIqdemAOcc-E"
   },
   "source": [
    "# 2. TOKENIZACIÓN "
   ]
  },
  {
   "cell_type": "markdown",
   "metadata": {
    "id": "KtWSLLDTZl48"
   },
   "source": [
    "## 2.1 USANDO: COUNT VECTORIZER()\n"
   ]
  },
  {
   "cell_type": "code",
   "execution_count": 22,
   "metadata": {
    "colab": {
     "base_uri": "https://localhost:8080/"
    },
    "id": "0esQVnU0Zl4-",
    "outputId": "6b4c9b3f-9e41-4dc3-9322-41dfdb7cfb15"
   },
   "outputs": [
    {
     "name": "stdout",
     "output_type": "stream",
     "text": [
      "(7895, 1997)\n"
     ]
    }
   ],
   "source": [
    "# Usando el countvectorizer de scikit learn:\n",
    "\n",
    "#vect = CountVectorizer(max_features=5000, min_df=0.005)\n",
    "vect = TfidfVectorizer(max_features=5000, min_df=0.005)\n",
    "X_dtm = vect.fit_transform(dataTraining['plot_low_rm_stem'])\n",
    "voca_coun_vec = vect.vocabulary_ # vocabulario de countvectorizer()\n",
    "\n",
    "print(X_dtm.shape)"
   ]
  },
  {
   "cell_type": "code",
   "execution_count": 23,
   "metadata": {
    "colab": {
     "base_uri": "https://localhost:8080/"
    },
    "id": "FcW3XE-ZeB5_",
    "outputId": "ca9c4d8f-d755-4394-d455-fccaa778046c"
   },
   "outputs": [
    {
     "name": "stdout",
     "output_type": "stream",
     "text": [
      "{'stori': 1687, 'singl': 1609, 'father': 667, 'take': 1737, 'eight': 563, 'year': 1989, 'old': 1239, 'son': 1640, 'work': 1975, 'day': 453, 'boy': 217, 'meet': 1118, 'woman': 1970, 'board': 201, 'train': 1820, 'drug': 540, 'abus': 5, 'goe': 776, 'engin': 587, 'room': 1500, 'tell': 1755, 'stay': 1675, 'edg': 557, 'nearbi': 1187, 'lake': 999, 'ship': 1589, 'come': 350, 'though': 1778, 'suppos': 1722, 'arriv': 112, 'hour': 861, 'later': 1005, 'happen': 813, 'see': 1552, 'tri': 1831, 'warn': 1924, 'abl': 3, 'approach': 102, 'fall': 651, 'attempt': 127, 'leav': 1015, 'choic': 308, 'crush': 429, 'peopl': 1288, 'complet': 362, 'fact': 644, 'die': 497, 'save': 1528, 'addict': 28, 'look': 1054, 'window': 1960, 'movi': 1169, 'end': 583, 'man': 1083, 'wander': 1921, 'new': 1200, 'citi': 320, 'longer': 1053, 'hold': 843, 'small': 1623, 'babi': 143, 'run': 1511, 'name': 1179, 'one': 1241, 'femal': 678, 'film': 687, 'serial': 1569, 'killer': 987, 'decid': 464, 'teach': 1746, 'secret': 1547, 'career': 266, 'video': 1899, 'store': 1686, 'clerk': 330, 'blackmail': 193, 'live': 1044, 'beyond': 181, 'mean': 1113, 'becom': 164, 'love': 1062, 'imposs': 888, 'return': 1470, 'affect': 42, 'life': 1033, 'chang': 291, 'victim': 1897, 'prove': 1380, 'wife': 1952, 'catch': 276, 'apart': 98, 'believ': 171, 'thief': 1771, 'rather': 1411, 'offer': 1234, 'chanc': 290, 'like': 1036, 'normal': 1215, 'accept': 7, 'despit': 483, 'oper': 1244, 'meanwhil': 1114, 'form': 718, 'evil': 618, 'scheme': 1534, 'rid': 1478, 'person': 1293, 'stand': 1669, 'way': 1931, 'fortun': 721, 'four': 725, 'nephew': 1196, 'york': 1991, 'presid': 1342, 'corpor': 399, 'send': 1561, 'schedul': 1533, 'factori': 645, 'six': 1616, 'execut': 625, 'never': 1199, 'appoint': 101, 'vice': 1895, 'death': 460, 'previou': 1348, 'get': 764, 'street': 1693, 'steal': 1676, 'money': 1155, 'bodi': 205, 'without': 1968, 'georg': 761, 'use': 1881, 'inform': 903, 'make': 1081, 'ask': 117, 'sell': 1559, 'much': 1171, 'possibl': 1331, 'intent': 924, 'buy': 249, 'back': 144, 'morn': 1160, 'price': 1350, 'profit': 1369, 'unsuccess': 1872, 'wait': 1914, 'learn': 1013, 'dead': 455, 'account': 13, 'control': 389, 'releas': 1440, 'press': 1343, 'balanc': 147, 'show': 1596, 'assum': 125, 'compani': 358, 'expect': 627, 'elect': 566, 'next': 1204, 'seven': 1577, 'member': 1119, 'howev': 864, 'design': 480, 'develop': 492, 'wall': 1919, 'treasur': 1827, 'oppos': 1246, 'struggl': 1699, 'posit': 1329, 'sale': 1522, 'walter': 1920, 'marri': 1095, 'mistress': 1147, 'secretari': 1548, 'need': 1190, 'cover': 412, 'sold': 1630, 'promis': 1374, 'give': 770, 'near': 1186, 'retir': 1468, 'close': 333, 'friend': 736, 'support': 1721, 'respons': 1463, 'cast': 272, 'lo': 1045, 'angel': 84, 'editor': 558, 'publish': 1385, 'hous': 862, 'carol': 267, 'blind': 195, 'date': 449, 'lawyer': 1009, 'michael': 1130, 'power': 1334, 'mobster': 1150, 'accident': 10, 'wit': 1965, 'murder': 1172, 'scare': 1531, 'hide': 834, 'isol': 938, 'cabin': 250, 'district': 515, 'attorney': 131, 'robert': 1490, 'discov': 509, 'report': 1451, 'chief': 302, 'martin': 1098, 'head': 820, 'convinc': 393, 'follow': 709, 'pilot': 1306, 'mafia': 1074, 'flee': 702, 'disclos': 508, 'three': 1783, 'find': 691, 'kill': 986, 'know': 993, 'might': 1133, 'third': 1775, 'betray': 179, 'offic': 1235, 'two': 1850, 'pass': 1279, 'western': 1945, 'town': 1811, 'news': 1202, 'local': 1047, 'farmer': 661, 'stolen': 1683, 'join': 966, 'men': 1121, 'possess': 1330, 'determin': 490, 'justic': 975, 'done': 524, 'spot': 1660, 'gay': 758, 'night': 1208, 'west': 1944, 'hollywood': 845, 'california': 251, 'eddi': 556, 'go': 773, 'encount': 581, 'set': 1575, 'eye': 641, 'stalk': 1668, 'parti': 1274, 'chase': 298, 'dress': 534, 'pursu': 1390, 'jake': 945, 'bad': 146, 'want': 1922, 'better': 180, 'surviv': 1727, 'terror': 1764, 'adult': 34, 'move': 1167, 'away': 142, 'south': 1647, 'mine': 1140, 'villag': 1902, 'entir': 597, 'rememb': 1445, 'grow': 798, 'period': 1292, 'area': 104, 'yet': 1990, 'green': 794, 'valley': 1884, 'five': 698, 'brother': 231, 'sourc': 1646, 'conflict': 374, 'manag': 1084, 'also': 70, 'within': 1967, 'famili': 655, 'individu': 899, 'differ': 498, 'view': 1901, 'role': 1495, 'age': 46, 'immedi': 885, 'fell': 676, 'came': 253, 'front': 739, 'sister': 1612, 'mr': 1170, 'slightli': 1620, 'relationship': 1439, 'would': 1982, 'destroy': 486, 'sibl': 1598, 'obtain': 1229, 'educ': 559, 'book': 208, 'school': 1535, 'first': 695, 'experi': 629, 'post': 1332, 'surpris': 1725, 'result': 1467, 'loss': 1058, 'youth': 1995, 'innoc': 911, 'whose': 1950, 'skill': 1617, 'desir': 481, 'unexpectedli': 1861, 'minut': 1142, 'wake': 1916, 'abil': 2, 'ghost': 765, 'even': 610, 'wors': 1979, 'someth': 1636, 'particularli': 1277, 'frank': 729, 'break': 220, 'marriag': 1096, 'widow': 1951, 'put': 1393, 'middl': 1132, 'spirit': 1658, 'roy': 1506, 'rais': 1405, 'best': 177, 'world': 1977, 'earli': 546, 'fellow': 677, 'punk': 1388, 'poor': 1324, 'hand': 809, 'let': 1027, 'travel': 1826, 'realli': 1419, 'hill': 838, 'farm': 660, 'knew': 991, 'ever': 613, 'seen': 1556, 'reluctantli': 1443, 'agre': 50, 'road': 1486, 'shortli': 1594, 'actual': 23, 'outsid': 1257, 'quit': 1400, 'fun': 744, 'soon': 1642, 'path': 1283, 'cross': 425, 'still': 1682, 'top': 1803, 'rank': 1406, 'land': 1000, 'draw': 531, 'huge': 865, 'crowd': 426, 'ultim': 1852, 'championship': 289, 'truli': 1841, 'champion': 288, 'guy': 805, 'camera': 254, 'chronicl': 314, 'terrifi': 1762, 'lose': 1057, 'virgin': 1906, 'help': 829, 'buddi': 239, 'benefit': 176, 'star': 1670, 'adventur': 37, 'alway': 74, 'plan': 1311, 'nice': 1205, 'summer': 1716, 'good': 779, 'worker': 1976, 'ed': 555, 'car': 263, 'accid': 9, 'teacher': 1747, 'job': 961, 'across': 17, 'open': 1243, 'busi': 247, 'home': 846, 'ice': 874, 'truck': 1839, 'drive': 536, 'idea': 875, 'bigger': 183, 'whole': 1949, 'restaur': 1465, 'blow': 199, 'owner': 1260, 'jail': 944, 'illeg': 882, 'everyth': 616, 'pretti': 1346, 'kind': 988, 'elderli': 565, 'neighbor': 1193, 'keep': 978, 'vow': 1913, 'play': 1315, 'fish': 696, 'check': 300, 'win': 1958, 'number': 1224, 'big': 182, 'ticket': 1791, 'last': 1003, 'card': 264, 'game': 752, 'reason': 1420, 'girlfriend': 769, 'propos': 1377, 'regular': 1435, 'littl': 1043, 'alon': 67, 'photo': 1300, 'whatev': 1946, 'locat': 1048, 'sole': 1632, 'piec': 1305, 'million': 1137, 'mix': 1148, 'emot': 576, 'time': 1793, 'spend': 1655, 'sometim': 1637, 'suspici': 1731, 'behavior': 168, 'lead': 1010, 'may': 1110, 'appear': 100, 'surfac': 1724, 'especi': 604, 'polic': 1320, 'neighborhood': 1194, 'suspect': 1730, 'natur': 1182, 'other': 1253, 'san': 1525, 'witch': 1966, 'jack': 942, 'charm': 297, 'actor': 21, 'track': 1814, 'sight': 1601, 'version': 1892, 'belov': 174, 'situat': 1615, 'comedi': 351, 'fate': 666, 'step': 1678, 'attract': 132, 'bear': 160, 'elizabeth': 570, 'origin': 1250, 'tv': 1845, 'could': 403, 'seri': 1568, 'taken': 1738, 'settl': 1576, 'turn': 1844, 'right': 1480, 'neither': 1195, 'imagin': 884, 'marshal': 1097, 'got': 782, 'sound': 1645, 'stop': 1685, 'young': 1992, 'attent': 129, 'rob': 1487, 'bank': 150, 'wolf': 1969, 'taylor': 1745, 'worth': 1981, 'handsom': 811, 'televis': 1754, 'great': 792, 'difficulti': 500, 'girl': 768, 'clair': 324, 'bet': 178, 'women': 1971, 'chosen': 310, 'must': 1175, 'say': 1530, 'choos': 309, 'sexi': 1580, 'fan': 657, 'american': 77, 'footbal': 712, 'cooper': 396, 'surround': 1726, 'child': 303, 'player': 1316, 'wealthi': 1934, 'demand': 474, 'classic': 326, 'call': 252, 'sinc': 1606, 'real': 1416, 'select': 1557, 'truth': 1843, 'manner': 1089, 'secretli': 1549, 'mob': 1149, 'teen': 1752, 'daughter': 450, 'mother': 1162, 'law': 1008, 'fbi': 670, 'safe': 1519, 'contain': 385, 'kid': 984, 'strang': 1691, 'white': 1948, 'hate': 818, 'ex': 619, 'author': 135, 'kidnap': 985, 'throughout': 1786, 'easi': 550, 'mind': 1139, 'includ': 893, 'regardless': 1434, 'case': 269, 'deal': 457, 'shoot': 1591, 'cia': 316, 'ryan': 1516, 'begin': 167, 'attend': 128, 'london': 1050, 'subsequ': 1707, 'enlist': 591, 'marin': 1092, 'sever': 1578, 'injuri': 908, 'shot': 1595, 'intens': 923, 'finish': 692, 'studi': 1702, 'seek': 1553, 'terrorist': 1765, 'plot': 1317, 'financi': 690, 'ten': 1756, 'russian': 1514, 'think': 1774, 'told': 1798, 'anyon': 96, 'doubt': 528, 'lie': 1031, 'assign': 122, 'someon': 1635, 'assist': 123, 'instead': 918, 'bring': 225, 'fiancé': 679, 'along': 68, 'action': 19, 'heavi': 824, 'obsess': 1227, 'increas': 894, 'forc': 713, 'place': 1309, 'aunt': 134, 'final': 689, 'order': 1248, 'recruit': 1428, 'fashion': 663, 'nativ': 1181, 'countri': 406, 'assassin': 120, 'princ': 1355, 'persuad': 1295, 'ocean': 1232, 'bound': 215, 'unfortun': 1862, 'fill': 686, 'red': 1429, 'well': 1942, 'challeng': 287, 'deliv': 473, 'charg': 294, 'destin': 484, 'among': 79, 'throw': 1787, 'circu': 318, 'perform': 1290, 'mysteri': 1177, 'song': 1641, 'gun': 804, 'british': 226, 'human': 866, 'race': 1401, 'group': 797, 'daili': 439, 'walk': 1917, 'homeless': 847, 'rule': 1509, 'voic': 1911, 'touch': 1807, 'music': 1173, 'scene': 1532, 'focu': 707, 'alic': 61, 'band': 149, 'black': 192, 'cathol': 277, 'circl': 317, 'fear': 671, 'aspir': 119, 'writer': 1985, 'centuri': 284, 'francisco': 728, 'immigr': 886, 'practic': 1335, 'household': 863, 'everi': 614, 'brought': 232, 'kept': 980, 'cash': 270, 'bill': 185, 'enough': 592, 'worst': 1980, 'thing': 1773, 'anyth': 97, 'husband': 873, 'children': 305, 'uncl': 1855, 'chri': 311, 'trio': 1835, 'difficult': 499, 'provid': 1381, 'read': 1414, 'protect': 1379, 'thirti': 1776, 'gordon': 780, 'eccentr': 554, 'although': 73, 'duti': 545, 'deceas': 463, 'care': 265, 'hire': 840, 'full': 743, 'aspect': 118, 'latest': 1006, 'privat': 1359, 'nurs': 1225, 'respect': 1462, 'word': 1974, 'fantasi': 658, 'cruis': 428, 'larri': 1002, 'wilson': 1957, 'receiv': 1423, 'caus': 279, 'hometown': 848, 'continu': 387, 'troubl': 1838, 'seriou': 1570, 'th': 1768, 'mayor': 1112, 'militari': 1136, 'special': 1652, 'team': 1748, 'led': 1016, 'mission': 1145, 'ancient': 81, 'drama': 530, 'share': 1584, 'perhap': 1291, 'left': 1018, 'sexual': 1581, 'former': 719, 'classmat': 327, 'quickli': 1398, 'unravel': 1871, 'long': 1052, 'tommi': 1800, 'accus': 14, 'detect': 489, 'bud': 238, 'investig': 933, 'face': 642, 'trap': 1824, 'gangster': 754, 'fight': 683, 'rocki': 1493, 'billi': 186, 'boat': 202, 'captain': 260, 'highli': 836, 'competit': 361, 'string': 1696, 'crew': 419, 'bobbi': 204, 'newli': 1201, 'devot': 495, 'recent': 1424, 'divorc': 517, 'met': 1125, 'quiet': 1399, 'sail': 1521, 'east': 552, 'ignor': 879, 'storm': 1688, 'behind': 169, 'machin': 1071, 'fail': 646, 'distant': 514, 'futur': 747, 'anoth': 93, 'built': 241, 'advanc': 35, 'slowli': 1622, 'steel': 1677, 'rel': 1437, 'inhabit': 904, 'thousand': 1780, 'hundr': 869, 'await': 138, 'alcohol': 59, 'drink': 535, 'seemingli': 1555, 'pack': 1262, 'remain': 1444, 'pregnant': 1338, 'shelter': 1586, 'doom': 525, 'popul': 1326, 'older': 1240, 'hunt': 870, 'seal': 1542, 'renown': 1448, 'sinist': 1610, 'side': 1600, 'search': 1544, 'miss': 1144, 'student': 1701, 'collect': 344, 'tape': 1742, 'realiz': 1418, 'dark': 448, 'motiv': 1164, 'disappear': 506, 'de': 454, 'prison': 1358, 'dog': 521, 'connect': 377, 'ben': 175, 'treatment': 1829, 'matter': 1107, 'found': 724, 'scientist': 1537, 'cure': 431, 'depress': 478, 'rush': 1513, 'product': 1365, 'test': 1766, 'seem': 1554, 'start': 1671, 'slip': 1621, 'market': 1094, 'depart': 476, 'daniel': 445, 'jersey': 957, 'hard': 816, 'swim': 1735, 'pool': 1323, 'beauti': 162, 'blond': 197, 'gang': 753, 'bulli': 243, 'hell': 828, 'afraid': 43, 'around': 109, 'high': 835, 'mentor': 1123, 'naiv': 1178, 'wing': 1961, 'strength': 1694, 'deep': 468, 'soul': 1644, 'biggest': 184, 'forev': 716, 'beat': 161, 'forget': 717, 'juli': 972, 'teenag': 1753, 'discoveri': 510, 'medic': 1117, 'doctor': 518, 'institut': 919, 'visit': 1910, 'introduc': 929, 'thoma': 1777, 'drawn': 532, 'dedic': 467, 'base': 153, 'refus': 1431, 'build': 240, 'flame': 700, 'rise': 1482, 'confus': 376, 'burn': 246, 'week': 1938, 'wed': 1937, 'issu': 939, 'extend': 638, 'adolesc': 32, 'nearli': 1188, 'gone': 778, 'africa': 44, 'dr': 529, 'caught': 278, 'commit': 355, 'crime': 420, 'imprison': 890, 'florida': 706, 'mental': 1122, 'psychiatrist': 1382, 'import': 887, 'talk': 1741, 'reach': 1413, 'becam': 163, 'broken': 229, 'common': 356, 'true': 1840, 'mankind': 1088, 'valu': 1885, 'exist': 626, 'easili': 551, 'chicago': 301, 'advertis': 38, 'photograph': 1301, 'matthew': 1108, 'chines': 307, 'repres': 1452, 'passion': 1281, 'ago': 49, 'affair': 41, 'vanish': 1889, 'invit': 934, 'inde': 896, 'trip': 1836, 'china': 306, 'jim': 959, 'parent': 1269, 'crimin': 421, 'casino': 271, 'line': 1038, 'went': 1943, 'eventu': 612, 'earn': 548, 'straight': 1689, 'solv': 1633, 'polit': 1321, 'candid': 258, 'governor': 784, 'decis': 465, 'confront': 375, 'destruct': 487, 'ill': 881, 'elimin': 568, 'closer': 334, 'haunt': 819, 'thought': 1779, 'ident': 877, 'late': 1004, 'fame': 654, 'broadway': 227, 'center': 282, 'acquaint': 16, 'univers': 1866, 'albert': 58, 'suffer': 1712, 'lover': 1063, 'england': 588, 'beach': 159, 'celebr': 280, 'battl': 158, 'smuggl': 1627, 'nazi': 1185, 'germani': 763, 'anti': 95, 'danger': 444, 'jewish': 958, 'detail': 488, 'gold': 777, 'camp': 255, 'mountain': 1166, 'grave': 791, 'ruthless': 1515, 'sheriff': 1587, 'nowher': 1222, 'nobodi': 1212, 'past': 1282, 'us': 1879, 'navi': 1183, 'admir': 30, 'extrem': 640, 'greatest': 793, 'project': 1372, 'mani': 1086, 'larg': 1001, 'due': 542, 'van': 1888, 'fire': 693, 'earth': 549, 'discuss': 511, 'state': 1672, 'exactli': 620, 'pacif': 1261, 'unabl': 1853, 'govern': 783, 'intend': 922, 'wish': 1964, 'gener': 759, 'loyal': 1065, 'aboard': 4, 'lee': 1017, 'command': 354, 'susan': 1729, 'research': 1457, 'effect': 561, 'religi': 1441, 'god': 775, 'lieuten': 1032, 'boss': 213, 'engag': 586, 'intern': 926, 'obstacl': 1228, 'potenti': 1333, 'expens': 628, 'paul': 1285, 'pari': 1270, 'french': 733, 'flight': 704, 'trade': 1815, 'filmmak': 688, 'hot': 859, 'cold': 342, 'self': 1558, 'els': 572, 'second': 1546, 'unit': 1865, 'director': 504, 'english': 589, 'sex': 1579, 'actress': 22, 'titl': 1795, 'charact': 293, 'major': 1080, 'produc': 1364, 'vision': 1909, 'direct': 503, 'process': 1363, 'profession': 1366, 'professor': 1367, 'ad': 24, 'newspap': 1203, 'will': 1954, 'box': 216, 'invent': 932, 'answer': 94, 'model': 1151, 'reveng': 1473, 'thu': 1789, 'richard': 1477, 'threaten': 1782, 'made': 1073, 'interest': 925, 'thug': 1790, 'stuck': 1700, 'mexico': 1128, 'border': 209, 'texa': 1767, 'kate': 977, 'nervou': 1197, 'hospit': 856, 'lesbian': 1024, 'romant': 1498, 'involv': 935, 'maid': 1077, 'honor': 850, 'youngest': 1994, 'conspiraci': 380, 'freak': 730, 'feel': 674, 'mutual': 1176, 'stumbl': 1704, 'comfort': 352, 'jason': 950, 'recogn': 1425, 'earlier': 547, 'advic': 39, 'queen': 1394, 'giant': 766, 'anim': 87, 'armi': 108, 'ray': 1412, 'exploit': 634, 'danni': 446, 'grew': 795, 'emerg': 574, 'twenti': 1847, 'anna': 89, 'resist': 1459, 'alreadi': 69, 'eric': 602, 'match': 1103, 'pursuit': 1391, 'cynic': 437, 'karen': 976, 'grace': 785, 'realiti': 1417, 'fiction': 680, 'suicid': 1714, 'creat': 415, 'upon': 1875, 'unknown': 1867, 'disturb': 516, 'fatal': 665, 'complex': 363, 'intrigu': 928, 'notori': 1220, 'art': 114, 'north': 1216, 'rome': 1499, 'reveal': 1472, 'clue': 337, 'uncov': 1856, 'creativ': 416, 'transform': 1822, 'termin': 1759, 'abandon': 0, 'boyfriend': 218, 'noth': 1218, 'given': 771, 'month': 1157, 'rent': 1449, 'empti': 580, 'pay': 1286, 'credit': 418, 'electr': 567, 'childhood': 304, 'effort': 562, 'desper': 482, 'avoid': 137, 'war': 1923, 'rage': 1404, 'jackson': 943, 'door': 526, 'dream': 533, 'diamond': 496, 'knock': 992, 'wind': 1959, 'buri': 245, 'insid': 914, 'sleep': 1619, 'contact': 384, 'except': 622, 'prefer': 1337, 'modern': 1152, 'twin': 1848, 'half': 807, 'mass': 1100, 'similar': 1603, 'insan': 912, 'problem': 1362, 'hilari': 837, 'con': 367, 'king': 989, 'kick': 983, 'smart': 1624, 'spi': 1657, 'agenc': 47, 'attack': 126, 'partner': 1278, 'agent': 48, 'combat': 348, 'airplan': 54, 'territori': 1763, 'feet': 675, 'known': 995, 'america': 76, 'plant': 1314, 'bomb': 206, 'explod': 633, 'concert': 369, 'bell': 172, 'studio': 1703, 'unlik': 1870, 'dirti': 505, 'hip': 839, 'hop': 852, 'type': 1851, 'probabl': 1361, 'blue': 200, 'wild': 1953, 'younger': 1993, 'pick': 1303, 'foster': 723, 'simpl': 1605, 'heart': 823, 'befriend': 166, 'togeth': 1797, 'cannot': 259, 'recov': 1427, 'max': 1109, 'basement': 155, 'threat': 1781, 'embark': 573, 'mile': 1135, 'brutal': 235, 'miami': 1129, 'gain': 749, 'endur': 584, 'ellen': 571, 'survivor': 1728, 'alien': 62, 'awaken': 139, 'welcom': 1941, 'offici': 1236, 'far': 659, 'strip': 1697, 'horror': 854, 'moon': 1158, 'lost': 1059, 'tough': 1808, 'space': 1650, 'lot': 1060, 'nightmar': 1210, 'creatur': 417, 'prepar': 1339, 'monster': 1156, 'manhattan': 1085, 'class': 325, 'lack': 997, 'estat': 606, 'pit': 1308, 'rich': 1476, 'rock': 1492, 'vacat': 1883, 'confid': 373, 'stranger': 1692, 'bar': 151, 'short': 1593, 'appar': 99, 'prime': 1354, 'lt': 1066, 'johnni': 964, 'ii': 880, 'helen': 827, 'less': 1025, 'faith': 649, 'happi': 814, 'hotel': 860, 'primari': 1352, 'maintain': 1079, 'hook': 851, 'memori': 1120, 'confess': 372, 'john': 963, 'companion': 359, 'humili': 867, 'jr': 970, 'waitress': 1915, 'grant': 790, 'arrest': 111, 'hear': 822, 'judg': 971, 'dealer': 458, 'sure': 1723, 'associ': 124, 'heist': 825, 'weapon': 1935, 'expert': 631, 'weak': 1932, 'speak': 1651, 'italian': 941, 'doubl': 527, 'pictur': 1304, 'task': 1744, 'goal': 774, 'seduc': 1551, 'defens': 472, 'concern': 368, 'hall': 808, 'minor': 1141, 'leagu': 1012, 'ball': 148, 'grandfath': 788, 'luci': 1067, 'sign': 1602, 'addit': 29, 'eve': 609, 'tom': 1799, 'current': 432, 'christian': 312, 'psycholog': 1383, 'toward': 1810, 'event': 611, 'perfect': 1289, 'occur': 1231, 'complic': 364, 'alex': 60, 'constantli': 382, 'tear': 1749, 'hit': 842, 'hope': 853, 'ann': 88, 'contract': 388, 'island': 937, 'twelv': 1846, 'sam': 1524, 'note': 1217, 'master': 1102, 'troop': 1837, 'station': 1673, 'incid': 892, 'orphan': 1252, 'system': 1736, 'sort': 1643, 'statu': 1674, 'social': 1628, 'servic': 1574, 'quest': 1395, 'amount': 80, 'letter': 1028, 'knowledg': 994, 'suppli': 1720, 'pair': 1266, 'accomplish': 12, 'understand': 1859, 'combin': 349, 'ride': 1479, 'friendship': 738, 'coach': 339, 'talent': 1740, 'pretend': 1345, 'colleg': 345, 'birth': 187, 'movement': 1168, 'civil': 322, 'leader': 1011, 'organ': 1249, 'torn': 1804, 'secur': 1550, 'non': 1213, 'violenc': 1904, 'inspir': 917, 'journey': 969, 'documentari': 520, 'point': 1318, 'musician': 1174, 'jimmi': 960, 'magazin': 1075, 'jump': 973, 'jeff': 955, 'staff': 1665, 'clear': 329, 'crazi': 414, 'success': 1710, 'write': 1984, 'coupl': 407, 'bond': 207, 'cop': 397, 'promot': 1375, 'homicid': 849, 'desert': 479, 'tale': 1739, 'captiv': 261, 'magic': 1076, 'everyon': 615, 'wear': 1936, 'sent': 1564, 'hors': 855, 'soldier': 1631, 'princess': 1356, 'trust': 1842, 'advis': 40, 'exchang': 623, 'allow': 65, 'floor': 705, 'suddenli': 1711, 'climb': 332, 'cut': 436, 'worri': 1978, 'driven': 537, 'romanc': 1497, 'escap': 603, 'separ': 1566, 'assault': 121, 'prostitut': 1378, 'defend': 471, 'claim': 323, 'evid': 617, 'link': 1039, 'mike': 1134, 'club': 336, 'fascin': 662, 'overcom': 1258, 'opposit': 1247, 'violent': 1905, 'enjoy': 590, 'joe': 962, 'routin': 1505, 'curs': 433, 'pain': 1264, 'tragic': 1818, 'basic': 156, 'none': 1214, 'sergeant': 1567, 'particular': 1276, 'empir': 577, 'domin': 523, 'tribe': 1833, 'mark': 1093, 'blood': 198, 'rescu': 1456, 'captur': 262, 'serv': 1572, 'slave': 1618, 'poison': 1319, 'declar': 466, 'mate': 1104, 'part': 1273, 'funer': 746, 'sea': 1541, 'servant': 1573, 'health': 821, 'guard': 800, 'record': 1426, 'resid': 1458, 'altern': 72, 'paint': 1265, 'figur': 685, 'comput': 366, 'roger': 1494, 'kingdom': 990, 'nine': 1211, 'counti': 405, 'sweetheart': 1734, 'anni': 90, 'buck': 237, 'mexican': 1127, 'lord': 1056, 'arrang': 110, 'ransom': 1407, 'clean': 328, 'often': 1237, 'watch': 1928, 'adam': 25, 'dean': 459, 'specif': 1653, 'singer': 1608, 'popular': 1327, 'court': 410, 'compos': 365, 'equal': 599, 'jealou': 952, 'co': 338, 'ted': 1751, 'paid': 1263, 'unexpect': 1860, 'somewhat': 1638, 'cousin': 411, 'alter': 71, 'increasingli': 895, 'peter': 1298, 'henri': 830, 'iron': 936, 'forest': 715, 'sacrific': 1517, 'stake': 1667, 'hunter': 871, 'consequ': 378, 'uniqu': 1864, 'dancer': 443, 'plane': 1312, 'fli': 703, 'focus': 708, 'today': 1796, 'award': 141, 'orlean': 1251, 'damag': 440, 'african': 45, 'depend': 477, 'reluct': 1442, 'fifteen': 682, 'custodi': 434, 'gambler': 751, 'debt': 461, 'key': 982, 'belong': 173, 'own': 1259, 'pirat': 1307, 'manipul': 1087, 'steve': 1680, 'gift': 767, 'variou': 1890, 'warrior': 1925, 'loos': 1055, 'outlaw': 1256, 'stage': 1666, 'trial': 1832, 'dan': 441, 'mechan': 1115, 'hang': 812, 'wrong': 1987, 'mom': 1153, 'comic': 353, 'famou': 656, 'physic': 1302, 'held': 826, 'activ': 20, 'enter': 595, 'ensu': 593, 'kelli': 979, 'william': 1956, 'vietnam': 1900, 'took': 1802, 'gambl': 750, 'fighter': 684, 'underground': 1858, 'virtual': 1907, 'shi': 1588, 'frequent': 734, 'intellig': 921, 'carri': 268, 'wound': 1983, 'deadli': 456, 'independ': 897, 'ambiti': 75, 'question': 1396, 'priest': 1351, 'patient': 1284, 'screen': 1540, 'liter': 1042, 'launch': 1007, 'act': 18, 'fresh': 735, 'fit': 697, 'zombi': 1996, 'public': 1384, 'aliv': 63, 'la': 996, 'park': 1271, 'free': 731, 'businessman': 248, 'target': 1743, 'lock': 1049, 'establish': 605, 'steven': 1681, 'kevin': 981, 'style': 1705, 'indian': 898, 'adapt': 26, 'push': 1392, 'necessari': 1189, 'dare': 447, 'spent': 1656, 'frame': 726, 'peac': 1287, 'cours': 409, 'fulfil': 742, 'shut': 1597, 'sit': 1613, 'cell': 281, 'super': 1718, 'convict': 392, 'legal': 1020, 'client': 331, 'fix': 699, 'hero': 831, 'cat': 275, 'dump': 544, 'senat': 1560, 'brian': 221, 'terribl': 1761, 'campaign': 256, 'usa': 1880, 'examin': 621, 'harri': 817, 'friendli': 737, 'mari': 1091, 'bit': 189, 'loui': 1061, 'devil': 494, 'arthur': 115, 'fake': 650, 'achiev': 15, 'program': 1370, 'condit': 370, 'colleagu': 343, 'oil': 1238, 'mansion': 1090, 'access': 8, 'properti': 1376, 'birthday': 188, 'europ': 608, 'commun': 357, 'disast': 507, 'resort': 1461, 'readi': 1415, 'replac': 1450, 'critic': 423, 'brown': 233, 'count': 404, 'vampir': 1887, 'influenc': 902, 'histori': 841, 'opportun': 1245, 'rival': 1484, 'graduat': 786, 'failur': 647, 'cheat': 299, 'princip': 1357, 'regain': 1432, 'tie': 1792, 'bed': 165, 'upper': 1876, 'prize': 1360, 'chao': 292, 'legendari': 1022, 'sport': 1659, 'corrupt': 401, 'academi': 6, 'punish': 1387, 'lone': 1051, 'almost': 66, 'airport': 55, 'nation': 1180, 'paper': 1268, 'air': 53, 'resolv': 1460, 'custom': 435, 'pose': 1328, 'prevent': 1347, 'limit': 1037, 'employe': 579, 'initi': 906, 'demon': 475, 'dad': 438, 'grand': 787, 'field': 681, 'danc': 442, 'audienc': 133, 'pet': 1296, 'subject': 1706, 'frustrat': 740, 'insur': 920, 'sick': 1599, 'destini': 485, 'ladi': 998, 'upsid': 1877, 'via': 1894, 'reflect': 1430, 'explain': 632, 'recal': 1422, 'term': 1758, 'least': 1014, 'tragedi': 1817, 'color': 347, 'born': 211, 'hurt': 872, 'wonder': 1972, 'sentenc': 1565, 'deeper': 469, 'jean': 954, 'driver': 538, 'corps': 400, 'grown': 799, 'st': 1664, 'charl': 295, 'enemi': 585, 'david': 452, 'ami': 78, 'advantag': 36, 'construct': 383, 'thiev': 1772, 'alan': 57, 'neglect': 1191, 'arm': 107, 'tire': 1794, 'aid': 52, 'humor': 868, 'alli': 64, 'whether': 1947, 'villain': 1903, 'societi': 1629, 'toy': 1812, 'network': 1198, 'technolog': 1750, 'undercov': 1857, 'particip': 1275, 'robberi': 1489, 'consid': 379, 'stephen': 1679, 'royal': 1507, 'politician': 1322, 'shop': 1592, 'matt': 1106, 'cloth': 335, 'grandmoth': 789, 'aris': 106, 'cost': 402, 'present': 1341, 'rural': 1512, 'church': 315, 'attitud': 130, 'handl': 810, 'mid': 1131, 'wash': 1926, 'pop': 1325, 'smoke': 1626, 'guilti': 803, 'transport': 1823, 'bare': 152, 'host': 857, 'strong': 1698, 'artist': 116, 'strike': 1695, 'gorgeou': 781, 'defeat': 470, 'lure': 1069, 'spell': 1654, 'compet': 360, 'superior': 1719, 'unawar': 1854, 'saw': 1529, 'fast': 664, 'forward': 722, 'soviet': 1649, 'invas': 931, 'sadist': 1518, 'river': 1485, 'suspicion': 1732, 'viciou': 1896, 'hostag': 858, 'heroin': 832, 'era': 601, 'jane': 947, 'inherit': 905, 'foreign': 714, 'sens': 1563, 'robot': 1491, 'christma': 313, 'weird': 1940, 'mad': 1072, 'disguis': 513, 'nick': 1206, 'moment': 1154, 'tortur': 1805, 'crisi': 422, 'site': 1614, 'insist': 915, 'bu': 236, 'code': 341, 'messag': 1124, 'unleash': 1868, 'entertain': 596, 'drunk': 541, 'restor': 1466, 'itali': 940, 'abduct': 1, 'shadow': 1582, 'onto': 1242, 'adopt': 33, 'anger': 85, 'encourag': 582, 'spring': 1662, 'hidden': 833, 'imag': 883, 'millionair': 1138, 'suburban': 1708, 'radio': 1403, 'either': 564, 'somewher': 1639, 'gather': 756, 'pressur': 1344, 'excit': 624, 'elit': 569, 'rape': 1408, 'ruin': 1508, 'jerri': 956, 'risk': 1483, 'round': 1503, 'ring': 1481, 'otherwis': 1254, 'water': 1929, 'wood': 1973, 'angri': 86, 'interview': 927, 'summon': 1717, 'traumat': 1825, 'andrew': 83, 'male': 1082, 'background': 145, 'odd': 1233, 'moral': 1159, 'diseas': 512, 'fallen': 652, 'emili': 575, 'journalist': 968, 'mayb': 1111, 'eat': 553, 'awar': 140, 'low': 1064, 'strand': 1690, 'favorit': 669, 'novel': 1221, 'devast': 491, 'phone': 1299, 'luxuri': 1070, 'invad': 930, 'featur': 672, 'pete': 1297, 'dollar': 522, 'light': 1035, 'rest': 1464, 'ga': 748, 'jame': 946, 'shock': 1590, 'architect': 103, 'sarah': 1527, 'passeng': 1280, 'quick': 1397, 'rout': 1504, 'smith': 1625, 'employ': 578, 'toni': 1801, 'forti': 720, 'tree': 1830, 'remov': 1447, 'andi': 82, 'facil': 643, 'volunt': 1912, 'revolutionari': 1474, 'firm': 694, 'suggest': 1713, 'plagu': 1310, 'ground': 796, 'sean': 1543, 'coast': 340, 'transfer': 1821, 'rachel': 1402, 'leg': 1019, 'blame': 194, 'nicknam': 1207, 'reject': 1436, 'squad': 1663, 'method': 1126, 'wave': 1930, 'robber': 1488, 'inspector': 916, 'castl': 273, 'borrow': 212, 'equip': 600, 'convers': 391, 'reward': 1475, 'crook': 424, 'jone': 967, 'expos': 637, 'bullet': 242, 'brilliant': 224, 'purpos': 1389, 'bizarr': 191, 'guid': 802, 'planet': 1313, 'thriller': 1785, 'colonel': 346, 'rebel': 1421, 'drop': 539, 'mount': 1165, 'willi': 1955, 'roommat': 1501, 'progress': 1371, 'decad': 462, 'profil': 1368, 'convent': 390, 'edward': 560, 'garden': 755, 'stone': 1684, 'german': 762, 'identifi': 878, 'object': 1226, 'presenc': 1340, 'courag': 408, 'industri': 900, 'hair': 806, 'feder': 673, 'bunch': 244, 'thrown': 1788, 'notic': 1219, 'senior': 1562, 'bore': 210, 'somehow': 1634, 'cancer': 257, 'estrang': 607, 'salesman': 1523, 'unless': 1869, 'impress': 889, 'bride': 222, 'rose': 1502, 'citizen': 321, 'inmat': 909, 'dinner': 502, 'negoti': 1192, 'winter': 1962, 'request': 1454, 'jealousi': 953, 'suit': 1715, 'argument': 105, 'arrog': 113, 'environ': 598, 'broke': 228, 'list': 1040, 'scienc': 1536, 'fair': 648, 'happili': 815, 'pull': 1386, 'circumst': 319, 'washington': 1927, 'legend': 1021, 'devic': 493, 'crash': 413, 'written': 1986, 'shark': 1585, 'fund': 745, 'johnson': 965, 'geniu': 760, 'cook': 394, 'materi': 1105, 'guest': 801, 'listen': 1041, 'pal': 1267, 'viru': 1908, 'parker': 1272, 'announc': 91, 'roll': 1496, 'explos': 636, 'urban': 1878, 'spread': 1661, 'luck': 1068, 'global': 772, 'constant': 381, 'season': 1545, 'dave': 451, 'boston': 214, 'admit': 31, 'requir': 1455, 'casual': 274, 'southern': 1648, 'chain': 286, 'sing': 1607, 'lesson': 1026, 'outcast': 1255, 'aveng': 136, 'al': 56, 'food': 710, 'cultur': 430, 'obviou': 1230, 'lifestyl': 1034, 'nuclear': 1223, 'weekend': 1939, 'bob': 203, 'remot': 1446, 'accompani': 11, 'ahead': 51, 'improv': 891, 'trail': 1819, 'usual': 1882, 'flashback': 701, 'insecur': 913, 'charli': 296, 'tradit': 1816, 'trick': 1834, 'treat': 1828, 'jungl': 974, 'jazz': 951, 'brooklyn': 230, 'relat': 1438, 'freedom': 732, 'mostli': 1161, 'extraordinari': 639, 'regard': 1433, 'reput': 1453, 'infiltr': 901, 'contest': 386, 'santa': 1526, 'gave': 757, 'nightclub': 1209, 'terri': 1760, 'theater': 1770, 'sweet': 1733, 'fuel': 741, 'trace': 1813, 'bruce': 234, 'motion': 1163, 'twist': 1849, 'previous': 1349, 'mask': 1099, 'shape': 1583, 'total': 1806, 'add': 27, 'wealth': 1933, 'favor': 668, 'cope': 398, 'rare': 1409, 'retriev': 1469, 'misfit': 1143, 'explor': 635, 'thank': 1769, 'navig': 1184, 'rumor': 1510, 'mistak': 1146, 'vega': 1891, 'simon': 1604, 'ideal': 876, 'tour': 1809, 'primarili': 1353, 'loan': 1046, 'japanes': 949, 'belief': 170, 'franc': 727, 'dig': 501, 'experienc': 630, 'injur': 907, 'promin': 1373, 'document': 519, 'pre': 1336, 'main': 1078, 'brain': 219, 'tension': 1757, 'ensur': 594, 'footag': 711, 'victor': 1898, 'media': 1116, 'japan': 948, 'inner': 910, 'succeed': 1709, 'cruel': 427, 'fals': 653, 'veteran': 1893, 'basebal': 154, 'reunit': 1471, 'conduct': 371, 'rate': 1410, 'certain': 285, 'block': 196, 'sir': 1611, 'wwii': 1988, 'liber': 1030, 'length': 1023, 'duke': 543, 'perspect': 1294, 'scott': 1539, 'walker': 1918, 'wise': 1963, 'central': 283, 'thrill': 1784, 'level': 1029, 'bitter': 190, 'valuabl': 1886, 'basketbal': 157, 'anonym': 92, 'upcom': 1874, 'union': 1863, 'bright': 223, 'cool': 395, 'safeti': 1520, 'massiv': 1101, 'unusu': 1873, 'score': 1538, 'serious': 1571, 'holiday': 844}\n"
     ]
    }
   ],
   "source": [
    "print(voca_coun_vec)"
   ]
  },
  {
   "cell_type": "markdown",
   "metadata": {
    "id": "7oNeBc8jfVVn"
   },
   "source": [
    "## 2.2. USANDO KERAS TOKENIZER()"
   ]
  },
  {
   "cell_type": "code",
   "execution_count": 24,
   "metadata": {
    "id": "ipj5mb0efUji"
   },
   "outputs": [],
   "source": [
    "#tok_keras = Tokenizer(num_words=5000, oov_token='oov')\n",
    "#tok_keras.fit_on_texts(dataTraining['plot_low_rm_stem'])\n",
    "#vocab_keras = tok_keras.word_index"
   ]
  },
  {
   "cell_type": "code",
   "execution_count": 25,
   "metadata": {
    "colab": {
     "base_uri": "https://localhost:8080/"
    },
    "id": "ffBzIPf7f3Tc",
    "outputId": "f2521682-a91b-4951-c933-8f907ba52db1"
   },
   "outputs": [],
   "source": [
    "#print(vocab_keras)"
   ]
  },
  {
   "cell_type": "code",
   "execution_count": 26,
   "metadata": {
    "colab": {
     "base_uri": "https://localhost:8080/"
    },
    "id": "fh0UOPRJmlM0",
    "outputId": "aef9eedd-87a2-4c9b-c21c-95ef62102a3e"
   },
   "outputs": [],
   "source": [
    "#vocab_keras['singl']"
   ]
  },
  {
   "cell_type": "code",
   "execution_count": 27,
   "metadata": {
    "id": "sdI8xIfLk_1R"
   },
   "outputs": [],
   "source": [
    "# Se transforma cada texto en palabras de acuerdo con su diccionario de índices:\n",
    "\n",
    "#frases_num = tok_keras.texts_to_sequences(dataTraining['plot_low_rm_stem'])\n",
    "#matriz_pad =  pad_sequences(frases_num, padding='post')"
   ]
  },
  {
   "cell_type": "code",
   "execution_count": 28,
   "metadata": {
    "colab": {
     "base_uri": "https://localhost:8080/"
    },
    "id": "6jMLp8A8I1CX",
    "outputId": "6e238a27-d613-4a05-d1cc-ebd49f7d8b07"
   },
   "outputs": [],
   "source": [
    "#matriz_pad[1][:20]"
   ]
  },
  {
   "cell_type": "markdown",
   "metadata": {
    "id": "48SegV5Vwa9r"
   },
   "source": [
    "# ------------------------------------------------------------------------------------------------------------"
   ]
  },
  {
   "cell_type": "markdown",
   "metadata": {
    "id": "mZKM4UUswC-X"
   },
   "source": [
    "# 3. MODELAMIENTO"
   ]
  },
  {
   "cell_type": "markdown",
   "metadata": {
    "id": "TAS-yjvXiW0P"
   },
   "source": [
    "## 3.1 PARTICIONN DATOS DE TRAIN Y TEST"
   ]
  },
  {
   "cell_type": "code",
   "execution_count": 29,
   "metadata": {
    "id": "3KJPe4A0Zl5C"
   },
   "outputs": [],
   "source": [
    "X_train, X_test, y_train_genres, y_test_genres = train_test_split(X_dtm.todense(), y_genres, test_size=0.33, random_state=42)\n",
    "#X_train, X_test, y_train_genres, y_test_genres = train_test_split(matriz_pad, y_genres, test_size=0.33, random_state=42)"
   ]
  },
  {
   "cell_type": "markdown",
   "metadata": {
    "id": "k9O22qFiZl5D"
   },
   "source": [
    "### Train multi-class multi-label model"
   ]
  },
  {
   "cell_type": "code",
   "execution_count": 30,
   "metadata": {
    "id": "JDVmEbxxyJS9"
   },
   "outputs": [],
   "source": [
    "from sklearn.naive_bayes import GaussianNB\n",
    "from sklearn.ensemble import GradientBoostingClassifier"
   ]
  },
  {
   "cell_type": "markdown",
   "metadata": {
    "id": "BCJQrUm1pCVu"
   },
   "source": [
    "\n",
    "\n",
    "# Inicio propuesta stacking\n",
    "\n",
    "\n",
    "<br><br><br><br><br><br>\n",
    "## MODELOS iniciales"
   ]
  },
  {
   "cell_type": "code",
   "execution_count": 31,
   "metadata": {
    "id": "Vy_eBR8PyVEp"
   },
   "outputs": [
    {
     "name": "stdout",
     "output_type": "stream",
     "text": [
      "ROC en train: 0.9095379318831585\n",
      "ROC en test: 0.6254715530347942\n",
      "Wall time: 9.62 s\n"
     ]
    }
   ],
   "source": [
    "%%time\n",
    "#Modelo naive bayesiano\n",
    "nb_c = OneVsRestClassifier(GaussianNB())\n",
    "nb_c.fit(X_train, y_train_genres)\n",
    "\n",
    "nb_c_pred_train = nb_c.predict_proba(X_train)\n",
    "nb_c_pred_test  = nb_c.predict_proba(X_test)\n",
    "\n",
    "print(\"ROC en train:\",roc_auc_score(y_train_genres, nb_c_pred_train, average='macro'))\n",
    "print(\"ROC en test:\" ,roc_auc_score(y_test_genres,  nb_c_pred_test,  average='macro'))"
   ]
  },
  {
   "cell_type": "code",
   "execution_count": 32,
   "metadata": {},
   "outputs": [],
   "source": [
    "#%%time\n",
    "#Modelo Gradient boosting classifier\n",
    "#gbc = OneVsRestClassifier(GradientBoostingClassifier())\n",
    "#gbc.fit(X_train, y_train_genres)\n",
    "#gbc_pred_train = gbc.predict_proba(X_test)\n",
    "#print(\"ROC en test:\",roc_auc_score(y_test_genres, gbc_pred_train, average='macro'))"
   ]
  },
  {
   "cell_type": "code",
   "execution_count": 33,
   "metadata": {},
   "outputs": [
    {
     "name": "stdout",
     "output_type": "stream",
     "text": [
      "ROC en train: 0.9554986279637229\n",
      "ROC en test: 0.8230882472690042\n",
      "Wall time: 1min 7s\n"
     ]
    }
   ],
   "source": [
    "%%time\n",
    "#Modelo Random forest classifier\n",
    "rf_c = OneVsRestClassifier(RandomForestClassifier(n_jobs=-1, n_estimators=500, max_depth=5, random_state=42))\n",
    "rf_c.fit(X_train, y_train_genres)\n",
    "\n",
    "rf_c_pred_train = rf_c.predict_proba(X_train)\n",
    "rf_c_pred_test  = rf_c.predict_proba(X_test)\n",
    "\n",
    "print(\"ROC en train:\", roc_auc_score(y_train_genres, rf_c_pred_train, average='macro'))\n",
    "print(\"ROC en test:\",  roc_auc_score(y_test_genres,  rf_c_pred_test,  average='macro'))"
   ]
  },
  {
   "cell_type": "code",
   "execution_count": 34,
   "metadata": {},
   "outputs": [
    {
     "name": "stdout",
     "output_type": "stream",
     "text": [
      "ROC en train: 0.9990067772994339\n",
      "ROC en test: 0.8198891519305352\n",
      "Wall time: 3min 45s\n"
     ]
    }
   ],
   "source": [
    "%%time\n",
    "#Modelo XGBoost\n",
    "xgb_c = OneVsRestClassifier(XGBClassifier(random_state=42,n_estimators=100, learning_rate=0.3, max_depth=7,verbosity=0))\n",
    "xgb_c.fit(X_train, y_train_genres)\n",
    "\n",
    "xgb_c_pred_train = xgb_c.predict_proba(X_train)\n",
    "xgb_c_pred_test  = xgb_c.predict_proba(X_test)\n",
    "\n",
    "print(\"ROC en train:\", roc_auc_score(y_train_genres, xgb_c_pred_train, average='macro'))\n",
    "print(\"ROC en test:\",  roc_auc_score(y_test_genres,  xgb_c_pred_test,  average='macro'))"
   ]
  },
  {
   "cell_type": "markdown",
   "metadata": {},
   "source": [
    "## Stacking con Regresion logistica"
   ]
  },
  {
   "cell_type": "code",
   "execution_count": 35,
   "metadata": {},
   "outputs": [
    {
     "name": "stdout",
     "output_type": "stream",
     "text": [
      "ROC en train: 0.9413667617191717\n",
      "ROC en test: 0.7279780865873619\n"
     ]
    }
   ],
   "source": [
    "#Stacking sobre naive bayesiano\n",
    "stack_logit_nb = OneVsRestClassifier(LogisticRegression(n_jobs=-1))\n",
    "stack_logit_nb.fit(nb_c_pred_train, y_train_genres)\n",
    "stack_logit_nb_pred_train = stack_logit_nb.predict_proba(nb_c_pred_train)\n",
    "stack_logit_nb_pred_test = stack_logit_nb.predict_proba(nb_c_pred_test)\n",
    "print(\"ROC en train:\",roc_auc_score(y_train_genres, stack_logit_nb_pred_train, average='macro'))\n",
    "print(\"ROC en test:\",roc_auc_score(y_test_genres, stack_logit_nb_pred_test, average='macro'))"
   ]
  },
  {
   "cell_type": "code",
   "execution_count": 36,
   "metadata": {},
   "outputs": [
    {
     "name": "stdout",
     "output_type": "stream",
     "text": [
      "ROC en train: 0.9405637037332849\n",
      "ROC en test: 0.8450140759233937\n"
     ]
    }
   ],
   "source": [
    "#Stacking sobre random forest\n",
    "stack_logit_rf = OneVsRestClassifier(LogisticRegression(n_jobs=-1))\n",
    "stack_logit_rf.fit(rf_c_pred_train, y_train_genres)\n",
    "stack_logit_rf_pred_train = stack_logit_rf.predict_proba(rf_c_pred_train)\n",
    "stack_logit_rf_pred_test = stack_logit_rf.predict_proba(rf_c_pred_test)\n",
    "print(\"ROC en train:\",roc_auc_score(y_train_genres, stack_logit_rf_pred_train, average='macro'))\n",
    "print(\"ROC en test:\",roc_auc_score(y_test_genres, stack_logit_rf_pred_test, average='macro'))"
   ]
  },
  {
   "cell_type": "code",
   "execution_count": 37,
   "metadata": {},
   "outputs": [
    {
     "name": "stdout",
     "output_type": "stream",
     "text": [
      "ROC en train: 0.9989216355050644\n",
      "ROC en test: 0.8326024617634071\n"
     ]
    }
   ],
   "source": [
    "#Stacking sobre XGBooost\n",
    "stack_logit_xgb = OneVsRestClassifier(LogisticRegression(n_jobs=-1))\n",
    "stack_logit_xgb.fit(xgb_c_pred_train, y_train_genres)\n",
    "stack_logit_xgb_pred_train = stack_logit_xgb.predict_proba(xgb_c_pred_train)\n",
    "stack_logit_xgb_pred_test = stack_logit_xgb.predict_proba(xgb_c_pred_test)\n",
    "print(\"ROC en train:\",roc_auc_score(y_train_genres, stack_logit_xgb_pred_train, average='macro'))\n",
    "print(\"ROC en test:\",roc_auc_score(y_test_genres, stack_logit_xgb_pred_test, average='macro'))"
   ]
  },
  {
   "cell_type": "markdown",
   "metadata": {},
   "source": [
    "## Stacking con Arbol de decicion"
   ]
  },
  {
   "cell_type": "code",
   "execution_count": 38,
   "metadata": {},
   "outputs": [
    {
     "name": "stdout",
     "output_type": "stream",
     "text": [
      "ROC en train: 0.9955477434995915\n",
      "ROC en test: 0.6566673385635965\n"
     ]
    }
   ],
   "source": [
    "#Stacking sobre naive bayesiano\n",
    "stack_dt_nb = OneVsRestClassifier(RandomForestClassifier(random_state=42))\n",
    "stack_dt_nb.fit(nb_c_pred_train, y_train_genres)\n",
    "stack_dt_nb_pred_train = stack_dt_nb.predict_proba(nb_c_pred_train)\n",
    "stack_dt_nb_pred_test = stack_dt_nb.predict_proba(nb_c_pred_test)\n",
    "print(\"ROC en train:\",roc_auc_score(y_train_genres, stack_dt_nb_pred_train, average='macro'))\n",
    "print(\"ROC en test:\",roc_auc_score(y_test_genres, stack_dt_nb_pred_test, average='macro'))"
   ]
  },
  {
   "cell_type": "code",
   "execution_count": 39,
   "metadata": {},
   "outputs": [
    {
     "name": "stdout",
     "output_type": "stream",
     "text": [
      "ROC en train: 0.9999999578449462\n",
      "ROC en test: 0.7931482887515516\n"
     ]
    }
   ],
   "source": [
    "#Stacking sobre random forest\n",
    "stack_dt_rf = OneVsRestClassifier(RandomForestClassifier(random_state=42))\n",
    "stack_dt_rf.fit(rf_c_pred_train, y_train_genres)\n",
    "\n",
    "stack_dt_rf_pred_train = stack_dt_rf.predict_proba(rf_c_pred_train)\n",
    "stack_dt_rf_pred_test = stack_dt_rf.predict_proba(rf_c_pred_test)\n",
    "\n",
    "print(\"ROC en train:\",roc_auc_score(y_train_genres, stack_dt_rf_pred_train, average='macro'))\n",
    "print(\"ROC en test:\",roc_auc_score(y_test_genres, stack_dt_rf_pred_test, average='macro'))"
   ]
  },
  {
   "cell_type": "code",
   "execution_count": 40,
   "metadata": {},
   "outputs": [
    {
     "name": "stdout",
     "output_type": "stream",
     "text": [
      "ROC en train: 0.9999999638041599\n",
      "ROC en test: 0.7508939274608091\n"
     ]
    }
   ],
   "source": [
    "#Stacking sobre XGBooost\n",
    "stack_dt_xgb = OneVsRestClassifier(RandomForestClassifier(random_state=42))\n",
    "stack_dt_xgb.fit(xgb_c_pred_train, y_train_genres)\n",
    "stack_dt_xgb_pred_train = stack_dt_xgb.predict_proba(xgb_c_pred_train)\n",
    "stack_dt_xgb_pred_test = stack_dt_xgb.predict_proba(xgb_c_pred_test)\n",
    "print(\"ROC en train:\",roc_auc_score(y_train_genres, stack_dt_xgb_pred_train, average='macro'))\n",
    "print(\"ROC en test:\",roc_auc_score(y_test_genres, stack_dt_xgb_pred_test, average='macro'))"
   ]
  },
  {
   "cell_type": "markdown",
   "metadata": {},
   "source": [
    "## Stacking con regresión logistica 2 modelos"
   ]
  },
  {
   "cell_type": "code",
   "execution_count": 41,
   "metadata": {},
   "outputs": [
    {
     "name": "stdout",
     "output_type": "stream",
     "text": [
      "ROC en train: 0.9991038983400564\n",
      "ROC en test: 0.8331287204916298\n"
     ]
    }
   ],
   "source": [
    "#Stacking sobre random forest\n",
    "rf_xgb_pred_train = np.c_[rf_c_pred_train,xgb_c_pred_train]\n",
    "rf_xgb_pred_test = np.c_[rf_c_pred_test,xgb_c_pred_test]\n",
    "\n",
    "stack_logit_rf_xgb = OneVsRestClassifier(LogisticRegression(n_jobs=-1))\n",
    "stack_logit_rf_xgb.fit(rf_xgb_pred_train, y_train_genres)\n",
    "stack_logit_rf_xgb_pred_train = stack_logit_rf_xgb.predict_proba(rf_xgb_pred_train)\n",
    "stack_logit_rf_xgb_pred_test = stack_logit_rf_xgb.predict_proba(rf_xgb_pred_test)\n",
    "print(\"ROC en train:\",roc_auc_score(y_train_genres, stack_logit_rf_xgb_pred_train, average='macro'))\n",
    "print(\"ROC en test:\",roc_auc_score(y_test_genres, stack_logit_rf_xgb_pred_test, average='macro'))"
   ]
  },
  {
   "cell_type": "markdown",
   "metadata": {},
   "source": [
    "## Modelo elegido SC"
   ]
  },
  {
   "cell_type": "code",
   "execution_count": 42,
   "metadata": {},
   "outputs": [
    {
     "name": "stdout",
     "output_type": "stream",
     "text": [
      "ROC en train: 0.9142294271383141\n",
      "Wall time: 2min 27s\n"
     ]
    }
   ],
   "source": [
    "%%time\n",
    "#Modelo Random forest classifier\n",
    "rf_c_ttl = OneVsRestClassifier(RandomForestClassifier(n_jobs=-1, n_estimators=500, max_depth=5, random_state=42))\n",
    "rf_c_ttl.fit(X_dtm.todense(), y_genres)\n",
    "\n",
    "rf_c_ttl_pred_train = rf_c.predict_proba(X_dtm.todense())\n",
    "\n",
    "print(\"ROC en train:\", roc_auc_score(y_genres, rf_c_ttl_pred_train, average='macro'))"
   ]
  },
  {
   "cell_type": "code",
   "execution_count": null,
   "metadata": {},
   "outputs": [],
   "source": [
    "%%time\n",
    "#Modelo XGBoost\n",
    "xgb_c_ttl = OneVsRestClassifier(XGBClassifier(random_state=42,n_estimators=100, learning_rate=0.3, max_depth=7,verbosity=0))\n",
    "xgb_c_ttl.fit(X_dtm.todense(), y_genres)\n",
    "\n",
    "xgb_c_ttl_pred_train = xgb_c.predict_proba(X_dtm.todense())\n",
    "\n",
    "print(\"ROC en train:\", roc_auc_score(y_genres, xgb_c_ttl_pred_train, average='macro'))"
   ]
  },
  {
   "cell_type": "code",
   "execution_count": null,
   "metadata": {},
   "outputs": [],
   "source": [
    "#Stacking sobre random forest & XGBoost\n",
    "rf_xgb_ttl_pred_train = np.c_[rf_c_ttl_pred_train,xgb_c_ttl_pred_train]\n",
    "\n",
    "stack_logit_rf_xgb_ttl = OneVsRestClassifier(LogisticRegression(n_jobs=-1))\n",
    "stack_logit_rf_xgb_ttl.fit(rf_xgb_ttl_pred_train, y_genres)\n",
    "\n",
    "stack_logit_rf_xgb_ttl_pred_train = stack_logit_rf_xgb_ttl.predict_proba(rf_xgb_ttl_pred_train)\n",
    "\n",
    "print(\"ROC en train:\",roc_auc_score(y_train_genres, stack_logit_rf_xgb_pred_train, average='macro'))"
   ]
  },
  {
   "cell_type": "code",
   "execution_count": null,
   "metadata": {},
   "outputs": [],
   "source": [
    "#Evaluacion base test para Kaggle\n",
    "X_dtm_test =  vect.transform(dataTesting['plot_low_rm_stem'])\n",
    "\n",
    "\n",
    "rf_c_ttl_pred_test_ext   = rf_c.predict_proba(X_dtm_test.todense())\n",
    "xgb_c_ttl_pred_test_ext  = xgb_c.predict_proba(X_dtm_test.todense())\n",
    "rf_xgb_ttl_pred_test_ext = np.c_[rf_c_ttl_pred_test_ext,xgb_c_ttl_pred_test_ext]\n",
    "\n",
    "stack_logit_rf_xgb_ttl_pred_test_ext = stack_logit_rf_xgb_ttl.predict_proba(rf_xgb_ttl_pred_test_ext)\n"
   ]
  },
  {
   "cell_type": "code",
   "execution_count": null,
   "metadata": {},
   "outputs": [],
   "source": [
    "stack_logit_rf_xgb_ttl_pred_test_ext.shape"
   ]
  },
  {
   "cell_type": "code",
   "execution_count": null,
   "metadata": {},
   "outputs": [],
   "source": [
    "pred_file = pd.DataFrame(stack_logit_rf_xgb_ttl_pred_test_ext)\n",
    "pred_file.columns = ['p_'+i for i in le.classes_]\n",
    "pred_file.shape\n",
    "pred_file.index= dataTesting.index\n",
    "pred_file\n",
    "pred_file.to_csv('rf_xgb_logit_tfidf.csv')"
   ]
  },
  {
   "cell_type": "code",
   "execution_count": null,
   "metadata": {},
   "outputs": [],
   "source": []
  },
  {
   "cell_type": "code",
   "execution_count": null,
   "metadata": {},
   "outputs": [],
   "source": []
  },
  {
   "cell_type": "code",
   "execution_count": null,
   "metadata": {},
   "outputs": [],
   "source": []
  },
  {
   "cell_type": "code",
   "execution_count": null,
   "metadata": {},
   "outputs": [],
   "source": []
  },
  {
   "cell_type": "markdown",
   "metadata": {},
   "source": [
    "# Fin propuesta stacking\n",
    "<br><br><br><br><br>"
   ]
  },
  {
   "cell_type": "code",
   "execution_count": null,
   "metadata": {
    "id": "p8U7kSYZyEOp"
   },
   "outputs": [],
   "source": [
    "# Usando Naive Bayes:\n",
    "nb_c = OneVsRestClassifier(GaussianNB())\n",
    "#gbc = OneVsRestClassifier(GradientBoostingClassifier(max_depth=10,n_estimators=150,max_features=))"
   ]
  },
  {
   "cell_type": "code",
   "execution_count": null,
   "metadata": {
    "colab": {
     "base_uri": "https://localhost:8080/"
    },
    "id": "8Yvy8dUxydft",
    "outputId": "2e0ceaac-5313-4d26-8ac5-f149ae42aa01"
   },
   "outputs": [],
   "source": [
    "%%time\n",
    "\n",
    "# Entrenamiento modelo Naive Bayes:\n",
    "\n",
    "nb_c.fit(X_train, y_train_genres)"
   ]
  },
  {
   "cell_type": "code",
   "execution_count": null,
   "metadata": {
    "colab": {
     "base_uri": "https://localhost:8080/"
    },
    "id": "K6qU2rk42bBh",
    "outputId": "03198d84-5196-4dba-ccb0-31f67be21c98"
   },
   "outputs": [],
   "source": [
    "# Predicciones modelo Naive Bayes\n",
    "\n",
    "pred_gbc = nb_c.predict_proba(X_test)\n",
    "roc_auc_score(y_test_genres, pred_gbc, average='macro')"
   ]
  },
  {
   "cell_type": "code",
   "execution_count": null,
   "metadata": {
    "colab": {
     "base_uri": "https://localhost:8080/",
     "height": 142
    },
    "id": "JYgNS46s2a2N",
    "outputId": "cae2bf75-0751-405e-a52e-7e4fb89b90db"
   },
   "outputs": [],
   "source": [
    "pd.DataFrame(pred_gbc).head(3)"
   ]
  },
  {
   "cell_type": "code",
   "execution_count": null,
   "metadata": {
    "colab": {
     "base_uri": "https://localhost:8080/"
    },
    "id": "kloil1Fv95G7",
    "outputId": "f77d637c-49c5-41fc-ad50-9051ed609f87"
   },
   "outputs": [],
   "source": [
    "# Calibración Gradient Boosting:\n",
    "\n",
    "\n"
   ]
  },
  {
   "cell_type": "code",
   "execution_count": null,
   "metadata": {
    "colab": {
     "base_uri": "https://localhost:8080/"
    },
    "id": "PufjBN_Jy5r1",
    "outputId": "a9d631c7-e64e-45cb-8920-765efc9c4d60"
   },
   "outputs": [],
   "source": [
    "pred_nb = nb_c.predict_proba(X_test)\n",
    "roc_auc_score(y_test_genres, pred_nb, average='macro')"
   ]
  },
  {
   "cell_type": "markdown",
   "metadata": {
    "id": "WofOmCF2R9BK"
   },
   "source": [
    "## RANDOM FOREST"
   ]
  },
  {
   "cell_type": "code",
   "execution_count": null,
   "metadata": {
    "id": "xm-0YX09Zl5E"
   },
   "outputs": [],
   "source": [
    "clf = OneVsRestClassifier(RandomForestClassifier(n_jobs=-1, n_estimators=500, max_depth=5, random_state=42))"
   ]
  },
  {
   "cell_type": "code",
   "execution_count": null,
   "metadata": {
    "colab": {
     "base_uri": "https://localhost:8080/"
    },
    "id": "fuOMKMiMhtqd",
    "outputId": "85fe884a-8d8a-4355-fecd-3af2992e8140"
   },
   "outputs": [],
   "source": [
    "%%time\n",
    "\n",
    "clf.fit(X_train, y_train_genres);"
   ]
  },
  {
   "cell_type": "code",
   "execution_count": null,
   "metadata": {
    "colab": {
     "base_uri": "https://localhost:8080/"
    },
    "id": "aJtEnbNcZl5F",
    "outputId": "76963d53-e6ce-40d8-bfe7-d1ea6eb2b6bc"
   },
   "outputs": [],
   "source": [
    "rf_pred = clf.predict_proba(X_train)\n",
    "nb_pred = nb_c.predict_proba(X_train)\n",
    "pred_1st_step_test=np.c_[rf_pred,nb_pred]\n",
    "\n",
    "rf_pred.shape,nb_pred.shape,pred_1st_step_test.shape"
   ]
  },
  {
   "cell_type": "code",
   "execution_count": null,
   "metadata": {},
   "outputs": [],
   "source": [
    "\n",
    "\n",
    "clf_rf_logit = OneVsRestClassifier(LogisticRegression(n_jobs=-1))"
   ]
  },
  {
   "cell_type": "code",
   "execution_count": null,
   "metadata": {},
   "outputs": [],
   "source": [
    "%%time\n",
    "\n",
    "clf_rf_logit.fit(pred_1st_step_test, y_train_genres);"
   ]
  },
  {
   "cell_type": "code",
   "execution_count": null,
   "metadata": {},
   "outputs": [],
   "source": [
    "rf_logit_pred = clf_rf_logit.predict_proba(rf_pred)\n",
    "roc_auc_score(y_train_genres, rf_logit_pred, average='macro')"
   ]
  },
  {
   "cell_type": "code",
   "execution_count": null,
   "metadata": {},
   "outputs": [],
   "source": [
    "#prediccion 1er modelo rf\n",
    "rf_pred_test = clf.predict_proba(X_dtm_test)\n",
    "#prediccion 1er modelo nb\n",
    "nb_pred_test = nb_c.predict_proba(X_dtm_test.toarray())\n",
    "\n",
    "pred_1st_step=np.c_[rf_pred_test,nb_pred_test]\n",
    "rf_pred_test.shape,nb_pred_test.shape,pred_1st_step.shape\n",
    "#prediccion 2do modelo rf como insumo de logit\n",
    "rf_logit_pred_test = clf_rf_logit.predict_proba(pred_1st_step)\n",
    "#roc_auc_score(y_test_genres, rf_logit_pred_test, average='macro')"
   ]
  },
  {
   "cell_type": "code",
   "execution_count": null,
   "metadata": {},
   "outputs": [],
   "source": [
    "\n",
    "rf_pred_test.shape,nb_pred_test.shape,pred_1st_step.shape\n"
   ]
  },
  {
   "cell_type": "code",
   "execution_count": null,
   "metadata": {},
   "outputs": [],
   "source": []
  },
  {
   "cell_type": "code",
   "execution_count": null,
   "metadata": {},
   "outputs": [],
   "source": [
    "#roc_auc_score(y_test_genres, rf_pred_test, average='macro')\n",
    "rf_logit_pred_test.shape"
   ]
  },
  {
   "cell_type": "code",
   "execution_count": null,
   "metadata": {
    "id": "qedKW88piQbc"
   },
   "outputs": [],
   "source": [
    "####################### resultados usando COUNTVETORIZER() y Lemma:\n",
    "\n",
    "\n",
    "\"\"\"\n",
    "------- Para un número de palabras = 1 mil\n",
    "\n",
    "n_jobs=-1, n_estimators=200, max_depth=7, random_state=42 : 0.7872131570577036\n",
    "n_jobs=-1, n_estimators=200, max_depth=10, random_state=42 : 0.7840666999257996\n",
    "n_jobs=-1, n_estimators=250, max_depth=7, random_state=42 : 0.7901943042466396\n",
    "n_jobs=-1, n_estimators=250, max_depth=7, random_state=42 : 0.7908025199296361\n",
    "n_jobs=-1, n_estimators=500, max_depth=7, random_state=42 : 0.7931854788836633\n",
    "n_jobs=-1, n_estimators=500, max_depth=5, random_state=42 : 0.7934482357988548\n",
    "n_jobs=-1, n_estimators=700, max_depth=3, random_state=42 : 0.7926350713330667\n",
    "n_jobs=-1, n_estimators=500, max_depth=3, random_state=42 : 0.7918581885906483\n",
    "n_jobs=-1, n_estimators=500, max_depth=4, random_state=42 : 0.7916051690107286\n",
    "\n",
    "\n",
    "------- Para un número de palabras = 3 mil\n",
    "\n",
    "n_jobs=-1, n_estimators=500, max_depth=5, random_state=42 : 0.8105434607387648\n",
    "\n",
    "\n",
    "\n",
    "-------- Para un número de palabras = 5 mil\n",
    "\n",
    "n_jobs=-1, n_estimators=500, max_depth=5, random_state=42  : 0.8203351605539488\n",
    "\n",
    "\"\"\"\n",
    "\n",
    "\n",
    "################## resultados usando COUNTVETORIZER() y Stemm:\n",
    "\"\"\"\n",
    "-------- Para un número de palabras = 5 mil\n",
    "\n",
    "n_jobs=-1, n_estimators=500, max_depth=5, random_state=42  : 0.8238489387536768\n",
    "\n",
    "\n",
    "\"\"\"\n",
    "\n",
    "\n",
    "\n",
    "\n",
    "################## resultados usando COUNTVETORIZER(ngram_range=range(1,2)) y Stemm:\n",
    "\n",
    "\"\"\"\n",
    "\n",
    "n_jobs=-1, n_estimators=500, max_depth=5, random_state=42  : 0.8204102576175692\n",
    "\n",
    "\"\"\"\n",
    "\n",
    "\n",
    "########### resultados countvetorizer(min_df=0.2,max_features=5000 ) y stemma:\n",
    "\n",
    "\"\"\"\n",
    "\n",
    "\n",
    "\"\"\""
   ]
  },
  {
   "cell_type": "code",
   "execution_count": null,
   "metadata": {
    "id": "kbSdJySo6oDk"
   },
   "outputs": [],
   "source": [
    "X_dtm_test =  vect.transform(dataTesting['plot_low_rm_stem'])\n",
    "X_dtm_test.todense()"
   ]
  },
  {
   "cell_type": "code",
   "execution_count": null,
   "metadata": {
    "id": "EN4PJ76nzPsi"
   },
   "outputs": [],
   "source": [
    "# Predicciones en la base de Testing:\n",
    "\n",
    "\n",
    "\n",
    "pred_test_rf = clf.predict_proba(X_dtm_test)\n"
   ]
  },
  {
   "cell_type": "code",
   "execution_count": null,
   "metadata": {},
   "outputs": [],
   "source": [
    "pd.DataFrame(pred_test_rf).head()"
   ]
  },
  {
   "cell_type": "code",
   "execution_count": null,
   "metadata": {
    "id": "KYXWy2YV7EWD"
   },
   "outputs": [],
   "source": [
    "#pred_test_rf = pd.DataFrame(pred_test_rf)\n",
    "pred_test_rf = pd.DataFrame(rf_logit_pred_test)\n",
    "pred_test_rf.columns = ['p_'+i for i in le.classes_]\n",
    "pred_test_rf.shape"
   ]
  },
  {
   "cell_type": "code",
   "execution_count": null,
   "metadata": {
    "id": "gMeWuPaJ_sOt"
   },
   "outputs": [],
   "source": [
    "pred_test_rf.index= dataTesting.index"
   ]
  },
  {
   "cell_type": "code",
   "execution_count": null,
   "metadata": {
    "colab": {
     "base_uri": "https://localhost:8080/",
     "height": 456
    },
    "id": "B6aV6YgW_zWP",
    "outputId": "3193a691-cd96-48e4-dad8-2bac6519c608",
    "scrolled": true
   },
   "outputs": [],
   "source": [
    "pred_test_rf"
   ]
  },
  {
   "cell_type": "code",
   "execution_count": null,
   "metadata": {
    "id": "pHcbS3RS7eO_"
   },
   "outputs": [],
   "source": [
    "pred_test_rf.to_csv('rf_nb_logit.csv')"
   ]
  },
  {
   "cell_type": "code",
   "execution_count": null,
   "metadata": {
    "id": "I70BLGa7_rr0"
   },
   "outputs": [],
   "source": []
  },
  {
   "cell_type": "code",
   "execution_count": null,
   "metadata": {
    "colab": {
     "base_uri": "https://localhost:8080/"
    },
    "id": "arbOmpS17eDA",
    "outputId": "b2e6dd82-86a0-4315-9674-713de1cc411c"
   },
   "outputs": [],
   "source": [
    "pred_test_rf['p_Action'].describe()"
   ]
  },
  {
   "cell_type": "code",
   "execution_count": null,
   "metadata": {
    "id": "sqpHDMOo7dvq"
   },
   "outputs": [],
   "source": []
  },
  {
   "cell_type": "markdown",
   "metadata": {
    "id": "Whuz6ZTm0IOD"
   },
   "source": [
    "## RED NEURONAL - LSTM"
   ]
  },
  {
   "cell_type": "code",
   "execution_count": null,
   "metadata": {
    "colab": {
     "base_uri": "https://localhost:8080/",
     "height": 193
    },
    "id": "NxWpmdM-BNf2",
    "outputId": "cead1fec-a3a1-48d0-f7d8-5b1202e3e53e"
   },
   "outputs": [],
   "source": [
    "dataTraining.head(3)"
   ]
  },
  {
   "cell_type": "code",
   "execution_count": null,
   "metadata": {
    "id": "d84CEpdczPhy"
   },
   "outputs": [],
   "source": [
    "x = dataTraining['plot_low_rm_stem'].tolist()"
   ]
  },
  {
   "cell_type": "code",
   "execution_count": null,
   "metadata": {
    "colab": {
     "base_uri": "https://localhost:8080/",
     "height": 69
    },
    "id": "CvWf5_v4zPXC",
    "outputId": "462f4795-080a-43f5-f81e-0cb26903e122"
   },
   "outputs": [],
   "source": [
    "x[0]"
   ]
  },
  {
   "cell_type": "code",
   "execution_count": null,
   "metadata": {
    "colab": {
     "base_uri": "https://localhost:8080/"
    },
    "id": "K1xVbraSE9PZ",
    "outputId": "2108a4fe-2a31-4fdb-f9ab-7e91bdc8b76e"
   },
   "outputs": [],
   "source": [
    "print(vect.vocabulary_)"
   ]
  },
  {
   "cell_type": "code",
   "execution_count": null,
   "metadata": {
    "id": "nhpCynPkGLkB"
   },
   "outputs": [],
   "source": [
    " "
   ]
  },
  {
   "cell_type": "code",
   "execution_count": null,
   "metadata": {
    "colab": {
     "base_uri": "https://localhost:8080/"
    },
    "id": "pOD7WaG1GxBw",
    "outputId": "7cc90618-e5f2-4365-8113-601f7da51501"
   },
   "outputs": [],
   "source": [
    "plotw = ['the plot was afuel', ' I do not know what to do']\n",
    "\n",
    "set(' '.join(plotw[0].split()))"
   ]
  },
  {
   "cell_type": "code",
   "execution_count": null,
   "metadata": {
    "id": "Tsm1-ccuGw11"
   },
   "outputs": [],
   "source": []
  },
  {
   "cell_type": "code",
   "execution_count": null,
   "metadata": {
    "id": "CAs56yTgGwo_"
   },
   "outputs": [],
   "source": []
  },
  {
   "cell_type": "code",
   "execution_count": null,
   "metadata": {
    "colab": {
     "base_uri": "https://localhost:8080/",
     "height": 129
    },
    "id": "XTPKWQPmzPHp",
    "outputId": "490763e7-6229-4868-cb22-cc21e111cd0f"
   },
   "outputs": [],
   "source": [
    "# For vocabulary only the intersec characters is used to avoid issues with data collection\n",
    "voc = set(''.join(x.str.split()))\n",
    "vocabulary = {x: idx + 1 for idx, x in enumerate(set(voc))}"
   ]
  },
  {
   "cell_type": "code",
   "execution_count": null,
   "metadata": {
    "colab": {
     "base_uri": "https://localhost:8080/"
    },
    "id": "sIJQeMYFE0Sd",
    "outputId": "0de587f5-7365-4dcd-d451-d24a608890f2"
   },
   "outputs": [],
   "source": [
    "print(vocabulary)"
   ]
  },
  {
   "cell_type": "code",
   "execution_count": null,
   "metadata": {
    "colab": {
     "base_uri": "https://localhost:8080/"
    },
    "id": "3flifhevF2P9",
    "outputId": "d7c7584a-a391-4fbd-b053-18239ed4620f"
   },
   "outputs": [],
   "source": [
    "print(voc)"
   ]
  },
  {
   "cell_type": "code",
   "execution_count": null,
   "metadata": {
    "colab": {
     "base_uri": "https://localhost:8080/"
    },
    "id": "PVpM6Ar9tKB2",
    "outputId": "29a0b96b-6dcd-4d4c-8a16-011edcea020e"
   },
   "outputs": [],
   "source": [
    "y_pred_genres"
   ]
  },
  {
   "cell_type": "code",
   "execution_count": null,
   "metadata": {
    "id": "40AKeRBAzOkg"
   },
   "outputs": [],
   "source": []
  },
  {
   "cell_type": "code",
   "execution_count": null,
   "metadata": {
    "colab": {
     "base_uri": "https://localhost:8080/"
    },
    "id": "V1LMKpKEjIOl",
    "outputId": "f341a3f1-436a-46f3-e5bf-bd90b6888a72"
   },
   "outputs": [],
   "source": [
    "fa = pd.DataFrame(y_test_genres)\n",
    "fa.columns = le.classes_\n",
    "fa.sum().sort_values()"
   ]
  },
  {
   "cell_type": "code",
   "execution_count": null,
   "metadata": {
    "colab": {
     "base_uri": "https://localhost:8080/"
    },
    "id": "iT2IWJo7jBYr",
    "outputId": "2b1a90e3-7ff7-4fc5-ab04-4ecc526781c0"
   },
   "outputs": [],
   "source": [
    "y_pred_genres[0].round(2)"
   ]
  },
  {
   "cell_type": "code",
   "execution_count": null,
   "metadata": {
    "colab": {
     "base_uri": "https://localhost:8080/"
    },
    "id": "lnWv8oidZl5G",
    "outputId": "d9f7dad9-c836-481c-c0ee-2bf8b8c7187b"
   },
   "outputs": [],
   "source": [
    "roc_auc_score(y_test_genres, y_pred_genres, average='macro')"
   ]
  },
  {
   "cell_type": "markdown",
   "metadata": {
    "id": "oeBpTUPKZl5G"
   },
   "source": [
    "### Predict the testing dataset"
   ]
  },
  {
   "cell_type": "code",
   "execution_count": null,
   "metadata": {
    "id": "ez5hli8bZl5H"
   },
   "outputs": [],
   "source": [
    "X_test_dtm = vect.transform(dataTesting['plot'])\n",
    "\n",
    "cols = ['p_Action', 'p_Adventure', 'p_Animation', 'p_Biography', 'p_Comedy', 'p_Crime', 'p_Documentary', 'p_Drama', 'p_Family',\n",
    "        'p_Fantasy', 'p_Film-Noir', 'p_History', 'p_Horror', 'p_Music', 'p_Musical', 'p_Mystery', 'p_News', 'p_Romance',\n",
    "        'p_Sci-Fi', 'p_Short', 'p_Sport', 'p_Thriller', 'p_War', 'p_Western']\n",
    "\n",
    "y_pred_test_genres = clf.predict_proba(X_test_dtm)\n"
   ]
  },
  {
   "cell_type": "code",
   "execution_count": null,
   "metadata": {
    "id": "byxErouiZl5I"
   },
   "outputs": [],
   "source": [
    "res = pd.DataFrame(y_pred_test_genres, index=dataTesting.index, columns=cols)"
   ]
  },
  {
   "cell_type": "code",
   "execution_count": null,
   "metadata": {
    "colab": {
     "base_uri": "https://localhost:8080/",
     "height": 241
    },
    "id": "YA4lQJbpZl5J",
    "outputId": "acbf4616-baa8-4918-8747-d5b1cf876fb2"
   },
   "outputs": [],
   "source": [
    "res.head()"
   ]
  },
  {
   "cell_type": "code",
   "execution_count": null,
   "metadata": {
    "id": "JVNJO43yZl5K"
   },
   "outputs": [],
   "source": [
    "res.to_csv('pred_genres_text_RF.csv', index_label='ID')"
   ]
  },
  {
   "cell_type": "code",
   "execution_count": null,
   "metadata": {
    "id": "JBSszOpdZl5L"
   },
   "outputs": [],
   "source": []
  },
  {
   "cell_type": "code",
   "execution_count": null,
   "metadata": {
    "id": "6baFFX1ezIOO"
   },
   "outputs": [],
   "source": []
  }
 ],
 "metadata": {
  "colab": {
   "collapsed_sections": [],
   "include_colab_link": true,
   "name": "Proyecto_3_Leo.ipynb",
   "provenance": []
  },
  "kernelspec": {
   "display_name": "Python 3",
   "language": "python",
   "name": "python3"
  },
  "language_info": {
   "codemirror_mode": {
    "name": "ipython",
    "version": 3
   },
   "file_extension": ".py",
   "mimetype": "text/x-python",
   "name": "python",
   "nbconvert_exporter": "python",
   "pygments_lexer": "ipython3",
   "version": "3.8.8"
  }
 },
 "nbformat": 4,
 "nbformat_minor": 1
}
