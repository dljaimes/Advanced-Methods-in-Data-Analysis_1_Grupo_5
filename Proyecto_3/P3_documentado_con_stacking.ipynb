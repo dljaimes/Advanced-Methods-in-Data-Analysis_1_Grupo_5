{
 "cells": [
  {
   "cell_type": "markdown",
   "metadata": {
    "id": "QparFGCGZl4v"
   },
   "source": [
    "# Proyecto No. 3 -  Modelos Avanzados de Análisis de Datos \n",
    "\n",
    "\n",
    "### Integrantes:\n",
    "- Denis Leonardo Jaimes Campos | Código: 202027884.\n",
    "- Esteban López Zúñiga | Código: 200914313.\n",
    "- Oscar Hernando Ayala Nino | Código: 201920024.\n",
    "- Sebastián Camilo Camargo Bello | Código: 201014774.\n",
    "- Sindy Lorena Murcia Florez | Código: 202028060.\n",
    "\n",
    "\n",
    "\n",
    "\n",
    "\n",
    "\n",
    "# Movie Genre Classification\n",
    "\n",
    "Classify a movie genre based on its plot.\n",
    "\n",
    "<img src=\"https://github.com/dljaimes/AdvancedMethodsinDataAnalysis1Grupo_5/blob/main/moviegenre.png?raw=1\"\n",
    "     style=\"float: left; margin-right: 10px;\" />\n",
    "\n",
    "\n",
    "\n",
    "\n",
    "https://www.kaggle.com/c/miia4201-202019-p3-moviegenreclassification/overview\n",
    "\n",
    "### Data\n",
    "\n",
    "Input:\n",
    "- movie plot\n",
    "\n",
    "Output:\n",
    "- Probability of the movie belonging to each genre\n",
    "\n",
    "\n",
    "### Evaluation\n",
    "\n",
    "- 50% Report with all the details of the solution, the analysis and the conclusions. The report cannot exceed 10 pages, must be send in PDF format and must be self-contained.\n",
    "- 50% Performance in the Kaggle competition (The grade for each group will be proportional to the ranking it occupies in the competition. The group in the first place will obtain 5 points, for each position below, 0.25 points will be subtracted, that is: first place: 5 points, second: 4.75 points, third place: 4.50 points ... eleventh place: 2.50 points, twelfth place: 2.25 points).\n",
    "\n",
    "\n",
    "### Deadline\n",
    "- The project must be carried out in the groups assigned.\n",
    "- Use clear and rigorous procedures.\n",
    "- The delivery of the project is on August 1st, 2021, 11:59 pm, through Bloque Neón.\n",
    "- No projects will be received after the delivery time or by any other means than the one established. \n",
    "\n",
    "\n",
    "\n",
    "\n",
    "### Acknowledgements\n",
    "\n",
    "We thank Professor Fabio Gonzalez, Ph.D. and his student John Arevalo for providing this dataset.\n",
    "\n",
    "See https://arxiv.org/abs/1702.01992"
   ]
  },
  {
   "cell_type": "markdown",
   "metadata": {},
   "source": [
    "# CONTENIDO:\n",
    "\n",
    "\n",
    "- 0. Cargue de los datos.\n",
    "- 1. Análisis Variable de repuesta.\n",
    "- 2. Limpieza y procesamiento.\n",
    "- 3. Modelamiento.\n",
    "- 4. Resultados Finales."
   ]
  },
  {
   "cell_type": "markdown",
   "metadata": {},
   "source": [
    "Instalación de librerías requeridas para el desarrollo del proyecto:"
   ]
  },
  {
   "cell_type": "code",
   "execution_count": 3,
   "metadata": {
    "colab": {
     "base_uri": "https://localhost:8080/"
    },
    "id": "3C77p01CdJu5",
    "outputId": "326f309f-9a70-4a21-ce78-d92f6d076e7b"
   },
   "outputs": [
    {
     "name": "stdout",
     "output_type": "stream",
     "text": [
      "Collecting livelossplot==0.1.2\n",
      "  Downloading livelossplot-0.1.2.tar.gz (3.9 kB)\n",
      "Requirement already satisfied: matplotlib in c:\\users\\sebtc\\anaconda3\\lib\\site-packages (from livelossplot==0.1.2) (3.3.4)\n",
      "Requirement already satisfied: notebook in c:\\users\\sebtc\\anaconda3\\lib\\site-packages (from livelossplot==0.1.2) (6.3.0)\n",
      "Requirement already satisfied: python-dateutil>=2.1 in c:\\users\\sebtc\\anaconda3\\lib\\site-packages (from matplotlib->livelossplot==0.1.2) (2.8.1)\n",
      "Requirement already satisfied: pyparsing!=2.0.4,!=2.1.2,!=2.1.6,>=2.0.3 in c:\\users\\sebtc\\anaconda3\\lib\\site-packages (from matplotlib->livelossplot==0.1.2) (2.4.7)\n",
      "Requirement already satisfied: kiwisolver>=1.0.1 in c:\\users\\sebtc\\anaconda3\\lib\\site-packages (from matplotlib->livelossplot==0.1.2) (1.3.1)\n",
      "Requirement already satisfied: cycler>=0.10 in c:\\users\\sebtc\\anaconda3\\lib\\site-packages (from matplotlib->livelossplot==0.1.2) (0.10.0)\n",
      "Requirement already satisfied: numpy>=1.15 in c:\\users\\sebtc\\anaconda3\\lib\\site-packages (from matplotlib->livelossplot==0.1.2) (1.19.5)\n",
      "Requirement already satisfied: pillow>=6.2.0 in c:\\users\\sebtc\\anaconda3\\lib\\site-packages (from matplotlib->livelossplot==0.1.2) (8.2.0)\n",
      "Requirement already satisfied: six in c:\\users\\sebtc\\anaconda3\\lib\\site-packages (from cycler>=0.10->matplotlib->livelossplot==0.1.2) (1.15.0)\n",
      "Requirement already satisfied: nbformat in c:\\users\\sebtc\\anaconda3\\lib\\site-packages (from notebook->livelossplot==0.1.2) (5.1.3)\n",
      "Requirement already satisfied: nbconvert in c:\\users\\sebtc\\anaconda3\\lib\\site-packages (from notebook->livelossplot==0.1.2) (6.0.7)\n",
      "Requirement already satisfied: terminado>=0.8.3 in c:\\users\\sebtc\\anaconda3\\lib\\site-packages (from notebook->livelossplot==0.1.2) (0.9.4)\n",
      "Requirement already satisfied: ipython-genutils in c:\\users\\sebtc\\anaconda3\\lib\\site-packages (from notebook->livelossplot==0.1.2) (0.2.0)\n",
      "Requirement already satisfied: argon2-cffi in c:\\users\\sebtc\\anaconda3\\lib\\site-packages (from notebook->livelossplot==0.1.2) (20.1.0)\n",
      "Requirement already satisfied: jupyter-core>=4.6.1 in c:\\users\\sebtc\\anaconda3\\lib\\site-packages (from notebook->livelossplot==0.1.2) (4.7.1)\n",
      "Requirement already satisfied: pyzmq>=17 in c:\\users\\sebtc\\anaconda3\\lib\\site-packages (from notebook->livelossplot==0.1.2) (20.0.0)\n",
      "Requirement already satisfied: jupyter-client>=5.3.4 in c:\\users\\sebtc\\anaconda3\\lib\\site-packages (from notebook->livelossplot==0.1.2) (6.1.12)\n",
      "Requirement already satisfied: tornado>=6.1 in c:\\users\\sebtc\\anaconda3\\lib\\site-packages (from notebook->livelossplot==0.1.2) (6.1)\n",
      "Requirement already satisfied: prometheus-client in c:\\users\\sebtc\\anaconda3\\lib\\site-packages (from notebook->livelossplot==0.1.2) (0.10.1)\n",
      "Requirement already satisfied: Send2Trash>=1.5.0 in c:\\users\\sebtc\\anaconda3\\lib\\site-packages (from notebook->livelossplot==0.1.2) (1.5.0)\n",
      "Requirement already satisfied: traitlets>=4.2.1 in c:\\users\\sebtc\\anaconda3\\lib\\site-packages (from notebook->livelossplot==0.1.2) (5.0.5)\n",
      "Requirement already satisfied: jinja2 in c:\\users\\sebtc\\anaconda3\\lib\\site-packages (from notebook->livelossplot==0.1.2) (2.11.3)\n",
      "Requirement already satisfied: ipykernel in c:\\users\\sebtc\\anaconda3\\lib\\site-packages (from notebook->livelossplot==0.1.2) (5.3.4)\n",
      "Requirement already satisfied: pywin32>=1.0 in c:\\users\\sebtc\\anaconda3\\lib\\site-packages (from jupyter-core>=4.6.1->notebook->livelossplot==0.1.2) (227)\n",
      "Requirement already satisfied: pywinpty>=0.5 in c:\\users\\sebtc\\anaconda3\\lib\\site-packages (from terminado>=0.8.3->notebook->livelossplot==0.1.2) (0.5.7)\n",
      "Requirement already satisfied: cffi>=1.0.0 in c:\\users\\sebtc\\anaconda3\\lib\\site-packages (from argon2-cffi->notebook->livelossplot==0.1.2) (1.14.5)\n",
      "Requirement already satisfied: pycparser in c:\\users\\sebtc\\anaconda3\\lib\\site-packages (from cffi>=1.0.0->argon2-cffi->notebook->livelossplot==0.1.2) (2.20)\n",
      "Requirement already satisfied: ipython>=5.0.0 in c:\\users\\sebtc\\anaconda3\\lib\\site-packages (from ipykernel->notebook->livelossplot==0.1.2) (7.22.0)\n",
      "Requirement already satisfied: pickleshare in c:\\users\\sebtc\\anaconda3\\lib\\site-packages (from ipython>=5.0.0->ipykernel->notebook->livelossplot==0.1.2) (0.7.5)\n",
      "Requirement already satisfied: prompt-toolkit!=3.0.0,!=3.0.1,<3.1.0,>=2.0.0 in c:\\users\\sebtc\\anaconda3\\lib\\site-packages (from ipython>=5.0.0->ipykernel->notebook->livelossplot==0.1.2) (3.0.17)\n",
      "Requirement already satisfied: backcall in c:\\users\\sebtc\\anaconda3\\lib\\site-packages (from ipython>=5.0.0->ipykernel->notebook->livelossplot==0.1.2) (0.2.0)\n",
      "Requirement already satisfied: jedi>=0.16 in c:\\users\\sebtc\\anaconda3\\lib\\site-packages (from ipython>=5.0.0->ipykernel->notebook->livelossplot==0.1.2) (0.17.2)\n",
      "Requirement already satisfied: setuptools>=18.5 in c:\\users\\sebtc\\anaconda3\\lib\\site-packages (from ipython>=5.0.0->ipykernel->notebook->livelossplot==0.1.2) (52.0.0.post20210125)\n",
      "Requirement already satisfied: decorator in c:\\users\\sebtc\\anaconda3\\lib\\site-packages (from ipython>=5.0.0->ipykernel->notebook->livelossplot==0.1.2) (5.0.6)\n",
      "Requirement already satisfied: colorama in c:\\users\\sebtc\\anaconda3\\lib\\site-packages (from ipython>=5.0.0->ipykernel->notebook->livelossplot==0.1.2) (0.4.4)\n",
      "Requirement already satisfied: pygments in c:\\users\\sebtc\\anaconda3\\lib\\site-packages (from ipython>=5.0.0->ipykernel->notebook->livelossplot==0.1.2) (2.8.1)\n",
      "Requirement already satisfied: parso<0.8.0,>=0.7.0 in c:\\users\\sebtc\\anaconda3\\lib\\site-packages (from jedi>=0.16->ipython>=5.0.0->ipykernel->notebook->livelossplot==0.1.2) (0.7.0)\n",
      "Requirement already satisfied: wcwidth in c:\\users\\sebtc\\anaconda3\\lib\\site-packages (from prompt-toolkit!=3.0.0,!=3.0.1,<3.1.0,>=2.0.0->ipython>=5.0.0->ipykernel->notebook->livelossplot==0.1.2) (0.2.5)\n",
      "Requirement already satisfied: MarkupSafe>=0.23 in c:\\users\\sebtc\\anaconda3\\lib\\site-packages (from jinja2->notebook->livelossplot==0.1.2) (1.1.1)\n",
      "Requirement already satisfied: entrypoints>=0.2.2 in c:\\users\\sebtc\\anaconda3\\lib\\site-packages (from nbconvert->notebook->livelossplot==0.1.2) (0.3)\n",
      "Requirement already satisfied: bleach in c:\\users\\sebtc\\anaconda3\\lib\\site-packages (from nbconvert->notebook->livelossplot==0.1.2) (3.3.0)\n",
      "Requirement already satisfied: jupyterlab-pygments in c:\\users\\sebtc\\anaconda3\\lib\\site-packages (from nbconvert->notebook->livelossplot==0.1.2) (0.1.2)\n",
      "Requirement already satisfied: testpath in c:\\users\\sebtc\\anaconda3\\lib\\site-packages (from nbconvert->notebook->livelossplot==0.1.2) (0.4.4)\n",
      "Requirement already satisfied: pandocfilters>=1.4.1 in c:\\users\\sebtc\\anaconda3\\lib\\site-packages (from nbconvert->notebook->livelossplot==0.1.2) (1.4.3)\n",
      "Requirement already satisfied: defusedxml in c:\\users\\sebtc\\anaconda3\\lib\\site-packages (from nbconvert->notebook->livelossplot==0.1.2) (0.7.1)\n",
      "Requirement already satisfied: mistune<2,>=0.8.1 in c:\\users\\sebtc\\anaconda3\\lib\\site-packages (from nbconvert->notebook->livelossplot==0.1.2) (0.8.4)\n",
      "Requirement already satisfied: nbclient<0.6.0,>=0.5.0 in c:\\users\\sebtc\\anaconda3\\lib\\site-packages (from nbconvert->notebook->livelossplot==0.1.2) (0.5.3)\n",
      "Requirement already satisfied: nest-asyncio in c:\\users\\sebtc\\anaconda3\\lib\\site-packages (from nbclient<0.6.0,>=0.5.0->nbconvert->notebook->livelossplot==0.1.2) (1.5.1)\n",
      "Requirement already satisfied: async-generator in c:\\users\\sebtc\\anaconda3\\lib\\site-packages (from nbclient<0.6.0,>=0.5.0->nbconvert->notebook->livelossplot==0.1.2) (1.10)\n",
      "Requirement already satisfied: jsonschema!=2.5.0,>=2.4 in c:\\users\\sebtc\\anaconda3\\lib\\site-packages (from nbformat->notebook->livelossplot==0.1.2) (3.2.0)\n",
      "Requirement already satisfied: attrs>=17.4.0 in c:\\users\\sebtc\\anaconda3\\lib\\site-packages (from jsonschema!=2.5.0,>=2.4->nbformat->notebook->livelossplot==0.1.2) (20.3.0)\n",
      "Requirement already satisfied: pyrsistent>=0.14.0 in c:\\users\\sebtc\\anaconda3\\lib\\site-packages (from jsonschema!=2.5.0,>=2.4->nbformat->notebook->livelossplot==0.1.2) (0.17.3)\n",
      "Requirement already satisfied: webencodings in c:\\users\\sebtc\\anaconda3\\lib\\site-packages (from bleach->nbconvert->notebook->livelossplot==0.1.2) (0.5.1)\n",
      "Requirement already satisfied: packaging in c:\\users\\sebtc\\anaconda3\\lib\\site-packages (from bleach->nbconvert->notebook->livelossplot==0.1.2) (20.9)\n",
      "Building wheels for collected packages: livelossplot\n",
      "  Building wheel for livelossplot (setup.py): started\n",
      "  Building wheel for livelossplot (setup.py): finished with status 'done'\n"
     ]
    },
    {
     "name": "stdout",
     "output_type": "stream",
     "text": [
      "  Created wheel for livelossplot: filename=livelossplot-0.1.2-py3-none-any.whl size=3831 sha256=9a89d2392969daa27b39b5307e689f7c998d38e24490eb7410e272d257a2681e\n",
      "  Stored in directory: c:\\users\\sebtc\\appdata\\local\\pip\\cache\\wheels\\cb\\20\\fc\\f488a78c70bd6ca8f00123a39fe239fa80ac36523908c5d298\n",
      "Successfully built livelossplot\n",
      "Installing collected packages: livelossplot\n",
      "Successfully installed livelossplot-0.1.2\n"
     ]
    }
   ],
   "source": [
    "!pip install -q wordcloud\n",
    "!pip install livelossplot==0.1.2"
   ]
  },
  {
   "cell_type": "code",
   "execution_count": 5,
   "metadata": {
    "id": "cxigCCrwZl40"
   },
   "outputs": [],
   "source": [
    "import pandas as pd\n",
    "import os\n",
    "import numpy as np\n",
    "from sklearn.feature_extraction.text import CountVectorizer, TfidfVectorizer\n",
    "from sklearn.preprocessing import MultiLabelBinarizer\n",
    "from sklearn.multiclass import OneVsRestClassifier\n",
    "from sklearn.ensemble import RandomForestRegressor, RandomForestClassifier\n",
    "from sklearn.metrics import r2_score, roc_auc_score\n",
    "from sklearn.model_selection import train_test_split,GridSearchCV\n",
    "from sklearn.linear_model import LogisticRegression\n",
    "from xgboost import XGBClassifier\n",
    "\n",
    "\n",
    "from keras.models import Sequential\n",
    "from keras.layers import Flatten\n",
    "from keras.layers.recurrent import LSTM\n",
    "from keras.layers.core import Dense, Dropout\n",
    "from keras.layers.embeddings import Embedding\n",
    "from keras.preprocessing import sequence\n",
    "from tensorflow.keras.preprocessing.text import Tokenizer\n",
    "from tensorflow.keras.preprocessing.sequence import pad_sequences\n",
    "from livelossplot import PlotLossesKeras\n",
    "\n",
    "import keras\n",
    "from keras import backend as K\n",
    "from sklearn.model_selection import train_test_split\n",
    "import re\n",
    "import nltk\n",
    "\n",
    "from nltk.corpus import stopwords\n",
    "from livelossplot import PlotLossesKeras\n",
    "import warnings\n",
    "warnings.filterwarnings(\"ignore\")"
   ]
  },
  {
   "cell_type": "code",
   "execution_count": 6,
   "metadata": {
    "colab": {
     "base_uri": "https://localhost:8080/"
    },
    "id": "o0v-sfSSdnIb",
    "outputId": "234e5350-3560-4284-be21-2e214785db26"
   },
   "outputs": [
    {
     "name": "stderr",
     "output_type": "stream",
     "text": [
      "[nltk_data] Downloading package stopwords to\n",
      "[nltk_data]     C:\\Users\\sebtc\\AppData\\Roaming\\nltk_data...\n",
      "[nltk_data]   Package stopwords is already up-to-date!\n",
      "[nltk_data] Downloading package wordnet to\n",
      "[nltk_data]     C:\\Users\\sebtc\\AppData\\Roaming\\nltk_data...\n",
      "[nltk_data]   Package wordnet is already up-to-date!\n"
     ]
    }
   ],
   "source": [
    "# Se descargan los Stopwords:\n",
    "nltk.download('stopwords')\n",
    "nltk.corpus.stopwords.words('english')\n",
    "nltk.download('wordnet');"
   ]
  },
  {
   "cell_type": "markdown",
   "metadata": {
    "id": "5FbjuAOfcrgq"
   },
   "source": [
    "# 0. CARGUE DE LOS DATOS"
   ]
  },
  {
   "cell_type": "code",
   "execution_count": 7,
   "metadata": {
    "id": "Z6a4eGeTZl42"
   },
   "outputs": [],
   "source": [
    "# Se cargan las bases de entrenamiento y de Prueba:\n",
    "\n",
    "dataTraining = pd.read_csv('https://github.com/albahnsen/AdvancedMethodsDataAnalysisClass/raw/master/datasets/dataTraining.zip', encoding='UTF-8', index_col=0)\n",
    "dataTesting = pd.read_csv('https://github.com/albahnsen/AdvancedMethodsDataAnalysisClass/raw/master/datasets/dataTesting.zip', encoding='UTF-8', index_col=0)"
   ]
  },
  {
   "cell_type": "code",
   "execution_count": 8,
   "metadata": {
    "colab": {
     "base_uri": "https://localhost:8080/"
    },
    "id": "y_amaMMQZl44",
    "outputId": "626f9496-207d-46db-b11e-a4bb26dc2bcc"
   },
   "outputs": [
    {
     "name": "stdout",
     "output_type": "stream",
     "text": [
      "Training: \n",
      "       year                      title  \\\n",
      "3107  2003                       Most   \n",
      "900   2008  How to Be a Serial Killer   \n",
      "\n",
      "                                                   plot  \\\n",
      "3107  most is the story of a single father who takes...   \n",
      "900   a serial killer decides to teach the secrets o...   \n",
      "\n",
      "                             genres  rating  \n",
      "3107             ['Short', 'Drama']     8.0  \n",
      "900   ['Comedy', 'Crime', 'Horror']     5.6  \n",
      "------------------------------------------------------------------------------------------------------------------------\n",
      "------------------------------------------------------------------------------------------------------------------------\n",
      "Testing: \n",
      "    year                title  \\\n",
      "1  1999  Message in a Bottle   \n",
      "4  1978     Midnight Express   \n",
      "\n",
      "                                                plot  \n",
      "1  who meets by fate ,  shall be sealed by fate ....  \n",
      "4  the true story of billy hayes ,  an american c...  \n"
     ]
    }
   ],
   "source": [
    "print('Training: \\n',dataTraining.head(2))\n",
    "print('----'*30)\n",
    "print('----'*30)\n",
    "print('Testing: \\n',dataTesting.head(2))"
   ]
  },
  {
   "cell_type": "markdown",
   "metadata": {},
   "source": [
    "Se observa que la base consta de 7.895 registros y de 5 variables (año de la película, título, descripción (plot), género(s) y calificación). Al poder tener más de un género por película, se trata de un problema de clasificación 'Multilabel', para ello es necesario separar cada uno de los posibles géneros con sus respectivas columnas y poder entrenar en conjunto, un modelo capáz de usar el texto de la descripción de la película (plot) para predecir la probabilidad de que pertenezca a cada género."
   ]
  },
  {
   "cell_type": "markdown",
   "metadata": {
    "id": "QrcnLScehg34"
   },
   "source": [
    "# 1. ANÁLISIS VARIABLE DE SALIDA"
   ]
  },
  {
   "cell_type": "code",
   "execution_count": 9,
   "metadata": {
    "id": "ekasx5PAhgmN"
   },
   "outputs": [],
   "source": [
    "dataTraining['genres'] = dataTraining['genres'].map(lambda x: eval(x)) \n",
    "\n",
    "le = MultiLabelBinarizer()\n",
    "y_genres = le.fit_transform(dataTraining['genres'])"
   ]
  },
  {
   "cell_type": "code",
   "execution_count": 10,
   "metadata": {
    "colab": {
     "base_uri": "https://localhost:8080/",
     "height": 393
    },
    "id": "SV60M3othgcL",
    "outputId": "fd6e1522-a2ce-4fd3-935e-dff600e0a07a"
   },
   "outputs": [
    {
     "data": {
      "image/png": "[encoded data removed]",
      "text/plain": [
       "<Figure size 1296x360 with 1 Axes>"
      ]
     },
     "metadata": {
      "needs_background": "light"
     },
     "output_type": "display_data"
    }
   ],
   "source": [
    "pd.DataFrame(y_genres, columns=le.classes_).sum().sort_values().plot(kind='bar', figsize=(18,5), grid=False, ec='black', title='DISTRIBUCIPON DE LAS CATEGORÍAS DE PELÍCULA EN LA BASE');"
   ]
  },
  {
   "cell_type": "markdown",
   "metadata": {
    "id": "GpGzuyijjIFQ"
   },
   "source": [
    "Se observa como las categorías de Drama, Comedy, Thriller y Romance, son las que mayor participación tienen. Así mismo, las categorías de News, Short y Film-Noir presentan la menor frecuencia."
   ]
  },
  {
   "cell_type": "markdown",
   "metadata": {
    "id": "iS2ZPwWFJWYi"
   },
   "source": [
    "# 2. LIMPIEZA Y PREPROCESAMIENTO DEL TEXTO"
   ]
  },
  {
   "cell_type": "markdown",
   "metadata": {},
   "source": [
    "Previo a la implementación de cualquier modelo de Machine Learning, se requiere hacer una 'limpieza' sobre los datos:\n",
    "\n",
    "En esta etapa se busca eliminar los caractéres especiales así como las palabras que no agregan 'valor' al texto (stop words), todo esto con el fin de reducir el corpus (texto completo) a usar en el modelo."
   ]
  },
  {
   "cell_type": "code",
   "execution_count": 11,
   "metadata": {
    "colab": {
     "base_uri": "https://localhost:8080/"
    },
    "id": "Zgfdsc5Yb1Kz",
    "outputId": "80b9c0c6-130d-4dfb-919e-ff2a84817e8a"
   },
   "outputs": [
    {
     "name": "stderr",
     "output_type": "stream",
     "text": [
      "[nltk_data] Downloading package wordnet to\n",
      "[nltk_data]     C:\\Users\\sebtc\\AppData\\Roaming\\nltk_data...\n",
      "[nltk_data]   Package wordnet is already up-to-date!\n"
     ]
    }
   ],
   "source": [
    "import re\n",
    "import nltk\n",
    "nltk.corpus.stopwords.words('english')\n",
    "nltk.download('wordnet') \n",
    "from nltk.corpus import stopwords\n",
    "from nltk.stem.porter import PorterStemmer # Stemming\n",
    "from nltk.stem import WordNetLemmatizer # lemmatizacion"
   ]
  },
  {
   "cell_type": "code",
   "execution_count": 12,
   "metadata": {
    "id": "d9WXhz2aJVa2"
   },
   "outputs": [],
   "source": [
    "# Se eliminan caracteres especiales:\n",
    "\n",
    "\n",
    "def pre_process(text):\n",
    "    # lowercase\n",
    "    text = text.lower()\n",
    "    # tags\n",
    "    text = re.sub('&lt;/?.*?&gt;',' &lt;&gt; ',text)\n",
    "    # special characters and digits\n",
    "    text=re.sub('(\\\\d|\\\\W)+',' ',text)\n",
    "    # remove punctuation\n",
    "    #text = re.sub('[.;:!\\'?,\\\"()\\[\\]]', '', text)\n",
    "    #text = [REPLACE.sub('', line) for line in text]\n",
    "    \n",
    "    return text\n",
    "\n",
    "dataTraining['plot_low']=dataTraining['plot'].apply(lambda x:pre_process(x))\n",
    "dataTesting['plot_low']=dataTesting['plot'].apply(lambda x:pre_process(x))\n",
    "\n",
    "\n",
    "\n",
    "###############################################################################\n",
    "\n",
    "# se eliminan stopwords\n",
    "\n",
    "english_stop_words=stopwords.words('english')\n",
    "\n",
    "def remove_stop_words(corpus):\n",
    "    removed_stop_words = []\n",
    "    for review in corpus:\n",
    "        removed_stop_words.append(\n",
    "            ' '.join([word for word in review.split() \n",
    "                      if word not in english_stop_words])\n",
    "        )\n",
    "    return removed_stop_words\n",
    "\n",
    "dataTraining['plot_low_rm'] = remove_stop_words(dataTraining['plot_low'])\n",
    "dataTesting['plot_low_rm'] = remove_stop_words(dataTesting['plot_low'])\n",
    "\n",
    "###############################################################################\n",
    "\n",
    "# Stemming:\n",
    "\n",
    "\n",
    "def get_stemmed_text(corpus):\n",
    "    stemmer = PorterStemmer()\n",
    "    return [' '.join([stemmer.stem(word) for word in review.split()]) for review in corpus]\n",
    "\n",
    "dataTraining['plot_low_rm_stem'] = get_stemmed_text(dataTraining['plot_low_rm'])\n",
    "dataTesting['plot_low_rm_stem'] = get_stemmed_text(dataTesting['plot_low_rm'])\n",
    "\n",
    "###############################################################################\n",
    "\n",
    "# LEMATIZACION:\n",
    "\n",
    "\n",
    "def lemma(texto):\n",
    "  lemmatizador = WordNetLemmatizer()\n",
    "  return [' '.join([lemmatizador.lemmatize(word) for word in review.split()]) for review in texto]\n",
    "\n",
    "dataTraining['plot_low_rm_lemma'] = lemma(dataTraining['plot_low_rm'])\n",
    "dataTesting['plot_low_rm_lemma'] = lemma(dataTesting['plot_low_rm'])\n"
   ]
  },
  {
   "cell_type": "code",
   "execution_count": 13,
   "metadata": {
    "colab": {
     "base_uri": "https://localhost:8080/",
     "height": 145
    },
    "id": "Qx6fzo3jJVRd",
    "outputId": "11eaeb74-28a2-4ea4-87a4-a959b6cd352a"
   },
   "outputs": [
    {
     "data": {
      "text/html": [
       "<div>\n",
       "<style scoped>\n",
       "    .dataframe tbody tr th:only-of-type {\n",
       "        vertical-align: middle;\n",
       "    }\n",
       "\n",
       "    .dataframe tbody tr th {\n",
       "        vertical-align: top;\n",
       "    }\n",
       "\n",
       "    .dataframe thead th {\n",
       "        text-align: right;\n",
       "    }\n",
       "</style>\n",
       "<table border=\"1\" class=\"dataframe\">\n",
       "  <thead>\n",
       "    <tr style=\"text-align: right;\">\n",
       "      <th></th>\n",
       "      <th>year</th>\n",
       "      <th>title</th>\n",
       "      <th>plot</th>\n",
       "      <th>genres</th>\n",
       "      <th>rating</th>\n",
       "      <th>plot_low</th>\n",
       "      <th>plot_low_rm</th>\n",
       "      <th>plot_low_rm_stem</th>\n",
       "      <th>plot_low_rm_lemma</th>\n",
       "    </tr>\n",
       "  </thead>\n",
       "  <tbody>\n",
       "    <tr>\n",
       "      <th>3107</th>\n",
       "      <td>2003</td>\n",
       "      <td>Most</td>\n",
       "      <td>most is the story of a single father who takes...</td>\n",
       "      <td>[Short, Drama]</td>\n",
       "      <td>8.0</td>\n",
       "      <td>most is the story of a single father who takes...</td>\n",
       "      <td>story single father takes eight year old son w...</td>\n",
       "      <td>stori singl father take eight year old son wor...</td>\n",
       "      <td>story single father take eight year old son wo...</td>\n",
       "    </tr>\n",
       "    <tr>\n",
       "      <th>900</th>\n",
       "      <td>2008</td>\n",
       "      <td>How to Be a Serial Killer</td>\n",
       "      <td>a serial killer decides to teach the secrets o...</td>\n",
       "      <td>[Comedy, Crime, Horror]</td>\n",
       "      <td>5.6</td>\n",
       "      <td>a serial killer decides to teach the secrets o...</td>\n",
       "      <td>serial killer decides teach secrets satisfying...</td>\n",
       "      <td>serial killer decid teach secret satisfi caree...</td>\n",
       "      <td>serial killer decides teach secret satisfying ...</td>\n",
       "    </tr>\n",
       "  </tbody>\n",
       "</table>\n",
       "</div>"
      ],
      "text/plain": [
       "      year                      title  \\\n",
       "3107  2003                       Most   \n",
       "900   2008  How to Be a Serial Killer   \n",
       "\n",
       "                                                   plot  \\\n",
       "3107  most is the story of a single father who takes...   \n",
       "900   a serial killer decides to teach the secrets o...   \n",
       "\n",
       "                       genres  rating  \\\n",
       "3107           [Short, Drama]     8.0   \n",
       "900   [Comedy, Crime, Horror]     5.6   \n",
       "\n",
       "                                               plot_low  \\\n",
       "3107  most is the story of a single father who takes...   \n",
       "900   a serial killer decides to teach the secrets o...   \n",
       "\n",
       "                                            plot_low_rm  \\\n",
       "3107  story single father takes eight year old son w...   \n",
       "900   serial killer decides teach secrets satisfying...   \n",
       "\n",
       "                                       plot_low_rm_stem  \\\n",
       "3107  stori singl father take eight year old son wor...   \n",
       "900   serial killer decid teach secret satisfi caree...   \n",
       "\n",
       "                                      plot_low_rm_lemma  \n",
       "3107  story single father take eight year old son wo...  \n",
       "900   serial killer decides teach secret satisfying ...  "
      ]
     },
     "execution_count": 13,
     "metadata": {},
     "output_type": "execute_result"
    }
   ],
   "source": [
    "# Visualización de los ajustes en el texto:\n",
    "\n",
    "dataTraining.head(2)"
   ]
  },
  {
   "cell_type": "markdown",
   "metadata": {
    "id": "psoasDQ7sE1O"
   },
   "source": [
    "Se observa como quedan en el dataframe las columnas con las respectivas depuraciones realizadas al texto."
   ]
  },
  {
   "cell_type": "markdown",
   "metadata": {
    "id": "VIqdemAOcc-E"
   },
   "source": [
    "# 2. TOKENIZACIÓN "
   ]
  },
  {
   "cell_type": "markdown",
   "metadata": {},
   "source": [
    "Una vez depurado el texto de cada reseña (plot), se realiza el proceso de Tokenización para poder separar las palabras del texto y con esto, poder hacer la transformación del texto a un formato numérico, el cual es el que se usaría en la implementación de modelos.\n",
    "\n",
    "Para este caso, se evalúan tres opciones para hacer dicha transformación:\n",
    "\n",
    "- Countvectorizer(): Crea una matriz con cada palabra que se encuentre en el texto, donde cada columna corresponde a la palabra identificada y cada fila al registro del dataframe (7.895 registros).\n",
    "\n",
    "- TfidfVectorizer(): Realiza lo mismo que el anterior pero en vez de asignar valores enteros en la matriz creo porcentajes de participaci´no de cada palabra dentro del documento.\n",
    "\n",
    "- Tokenizer de Keras: Crea un diccionario de la spalabras más recurrentes, en este aparece cada palabra con su respectivo índice."
   ]
  },
  {
   "cell_type": "markdown",
   "metadata": {
    "id": "KtWSLLDTZl48"
   },
   "source": [
    "## 2.1 USANDO: COUNT VECTORIZER()\n"
   ]
  },
  {
   "cell_type": "code",
   "execution_count": 14,
   "metadata": {
    "colab": {
     "base_uri": "https://localhost:8080/"
    },
    "id": "0esQVnU0Zl4-",
    "outputId": "c7e70e03-3660-4b16-946a-e4241ac30bc1"
   },
   "outputs": [
    {
     "name": "stdout",
     "output_type": "stream",
     "text": [
      "(7895, 3000)\n"
     ]
    }
   ],
   "source": [
    "# Usando el countvectorizer de scikit learn:\n",
    "\n",
    "vect = CountVectorizer(max_features=3000, min_df=0.0005)\n",
    "X_dtm = vect.fit_transform(dataTraining['plot_low_rm_stem'])\n",
    "voca_coun_vec = vect.vocabulary_ # vocabulario de countvectorizer()\n",
    "\n",
    "print(X_dtm.shape)"
   ]
  },
  {
   "cell_type": "markdown",
   "metadata": {
    "id": "7oNeBc8jfVVn"
   },
   "source": [
    "## 2.2. USANDO KERAS TOKENIZER()"
   ]
  },
  {
   "cell_type": "code",
   "execution_count": null,
   "metadata": {
    "id": "ipj5mb0efUji"
   },
   "outputs": [],
   "source": [
    "tok_keras = Tokenizer(num_words=5000, oov_token='oov')\n",
    "tok_keras.fit_on_texts(dataTraining['plot_low_rm_stem'])\n",
    "vocab_keras = tok_keras.word_index"
   ]
  },
  {
   "cell_type": "code",
   "execution_count": null,
   "metadata": {
    "colab": {
     "base_uri": "https://localhost:8080/"
    },
    "id": "fh0UOPRJmlM0",
    "outputId": "aef9eedd-87a2-4c9b-c21c-95ef62102a3e"
   },
   "outputs": [],
   "source": [
    "vocab_keras['singl']"
   ]
  },
  {
   "cell_type": "code",
   "execution_count": null,
   "metadata": {
    "id": "sdI8xIfLk_1R"
   },
   "outputs": [],
   "source": [
    "# Se transforma cada texto en palabras de acuerdo con su diccionario de índices:\n",
    "\n",
    "frases_num = tok_keras.texts_to_sequences(dataTraining['plot_low_rm_stem'])\n",
    "matriz_pad =  pad_sequences(frases_num, padding='post')"
   ]
  },
  {
   "cell_type": "code",
   "execution_count": null,
   "metadata": {
    "colab": {
     "base_uri": "https://localhost:8080/"
    },
    "id": "6jMLp8A8I1CX",
    "outputId": "6e238a27-d613-4a05-d1cc-ebd49f7d8b07"
   },
   "outputs": [],
   "source": [
    "matriz_pad[1][:20]"
   ]
  },
  {
   "cell_type": "markdown",
   "metadata": {},
   "source": [
    "## 2.3 Usando TfidfVectorizer"
   ]
  },
  {
   "cell_type": "code",
   "execution_count": 15,
   "metadata": {},
   "outputs": [],
   "source": [
    "tf_vec = TfidfVectorizer(max_features=6000)\n",
    "X_tf = tf_vec.fit_transform(dataTraining['plot_low_rm_stem'])"
   ]
  },
  {
   "cell_type": "code",
   "execution_count": 16,
   "metadata": {},
   "outputs": [],
   "source": [
    "# Tranformación para la base de Testing:\n",
    "f_test = tf_vec.transform(dataTesting['plot_low_rm_stem'])"
   ]
  },
  {
   "cell_type": "markdown",
   "metadata": {
    "id": "48SegV5Vwa9r"
   },
   "source": [
    "# ------------------------------------------------------------------------------------------------------------"
   ]
  },
  {
   "cell_type": "markdown",
   "metadata": {
    "id": "mZKM4UUswC-X"
   },
   "source": [
    "# 3. MODELAMIENTO"
   ]
  },
  {
   "cell_type": "markdown",
   "metadata": {},
   "source": [
    "Ya con los textos transformados en números (paso anterior) se procede a hacer la partición de Train y test para evaluar cada uno de los posibles modelos a implementar.\n",
    "\n",
    "Ya que la matriz de variables regresoras (texto transformado en número) tiene 6 mil registros (máximo de palbras), se prevee que el entrenamiento de los modelos puede consumir bastantes recursos computacionales."
   ]
  },
  {
   "cell_type": "markdown",
   "metadata": {
    "id": "TAS-yjvXiW0P"
   },
   "source": [
    "## 3.1 PARTICION DATOS DE TRAIN Y TEST"
   ]
  },
  {
   "cell_type": "code",
   "execution_count": 17,
   "metadata": {
    "id": "3KJPe4A0Zl5C"
   },
   "outputs": [],
   "source": [
    "X_train, X_test, y_train_genres, y_test_genres = train_test_split(X_dtm.todense(), y_genres, test_size=0.33, random_state=42)\n",
    "#X_train, X_test, y_train_genres, y_test_genres = train_test_split(matriz_pad, y_genres, test_size=0.33, random_state=42)"
   ]
  },
  {
   "cell_type": "markdown",
   "metadata": {
    "id": "k9O22qFiZl5D"
   },
   "source": [
    "### Train multi-class multi-label model"
   ]
  },
  {
   "cell_type": "code",
   "execution_count": 18,
   "metadata": {
    "id": "JDVmEbxxyJS9"
   },
   "outputs": [],
   "source": [
    "from sklearn.naive_bayes import GaussianNB\n",
    "from sklearn.ensemble import GradientBoostingClassifier"
   ]
  },
  {
   "cell_type": "markdown",
   "metadata": {
    "id": "BCJQrUm1pCVu"
   },
   "source": [
    "#### MODELO GAUSIANO NB"
   ]
  },
  {
   "cell_type": "code",
   "execution_count": 19,
   "metadata": {
    "id": "Vy_eBR8PyVEp"
   },
   "outputs": [],
   "source": [
    "modelo_nb = GaussianNB()"
   ]
  },
  {
   "cell_type": "code",
   "execution_count": 20,
   "metadata": {
    "id": "p8U7kSYZyEOp"
   },
   "outputs": [],
   "source": [
    "# Usando Naive Bayes:\n",
    "nb_c = OneVsRestClassifier(GaussianNB())\n",
    "#gbc = OneVsRestClassifier(GradientBoostingClassifier(max_depth=10,n_estimators=150,max_features=))"
   ]
  },
  {
   "cell_type": "code",
   "execution_count": 21,
   "metadata": {
    "colab": {
     "base_uri": "https://localhost:8080/"
    },
    "id": "8Yvy8dUxydft",
    "outputId": "2e0ceaac-5313-4d26-8ac5-f149ae42aa01"
   },
   "outputs": [
    {
     "name": "stdout",
     "output_type": "stream",
     "text": [
      "Wall time: 7.25 s\n"
     ]
    },
    {
     "data": {
      "text/plain": [
       "OneVsRestClassifier(estimator=GaussianNB())"
      ]
     },
     "execution_count": 21,
     "metadata": {},
     "output_type": "execute_result"
    }
   ],
   "source": [
    "%%time\n",
    "\n",
    "# Entrenamiento modelo Naive Bayes:\n",
    "\n",
    "nb_c.fit(X_train, y_train_genres)"
   ]
  },
  {
   "cell_type": "code",
   "execution_count": 22,
   "metadata": {
    "colab": {
     "base_uri": "https://localhost:8080/"
    },
    "id": "K6qU2rk42bBh",
    "outputId": "03198d84-5196-4dba-ccb0-31f67be21c98"
   },
   "outputs": [
    {
     "data": {
      "text/plain": [
       "0.57057863950999"
      ]
     },
     "execution_count": 22,
     "metadata": {},
     "output_type": "execute_result"
    }
   ],
   "source": [
    "# Predicciones modelo Naive Bayes\n",
    "\n",
    "pred_gbc = nb_c.predict_proba(X_test)\n",
    "roc_auc_score(y_test_genres, pred_gbc, average='macro')"
   ]
  },
  {
   "cell_type": "code",
   "execution_count": 23,
   "metadata": {
    "colab": {
     "base_uri": "https://localhost:8080/",
     "height": 142
    },
    "id": "JYgNS46s2a2N",
    "outputId": "cae2bf75-0751-405e-a52e-7e4fb89b90db"
   },
   "outputs": [
    {
     "data": {
      "text/html": [
       "<div>\n",
       "<style scoped>\n",
       "    .dataframe tbody tr th:only-of-type {\n",
       "        vertical-align: middle;\n",
       "    }\n",
       "\n",
       "    .dataframe tbody tr th {\n",
       "        vertical-align: top;\n",
       "    }\n",
       "\n",
       "    .dataframe thead th {\n",
       "        text-align: right;\n",
       "    }\n",
       "</style>\n",
       "<table border=\"1\" class=\"dataframe\">\n",
       "  <thead>\n",
       "    <tr style=\"text-align: right;\">\n",
       "      <th></th>\n",
       "      <th>0</th>\n",
       "      <th>1</th>\n",
       "      <th>2</th>\n",
       "      <th>3</th>\n",
       "      <th>4</th>\n",
       "      <th>5</th>\n",
       "      <th>6</th>\n",
       "      <th>7</th>\n",
       "      <th>8</th>\n",
       "      <th>9</th>\n",
       "      <th>...</th>\n",
       "      <th>14</th>\n",
       "      <th>15</th>\n",
       "      <th>16</th>\n",
       "      <th>17</th>\n",
       "      <th>18</th>\n",
       "      <th>19</th>\n",
       "      <th>20</th>\n",
       "      <th>21</th>\n",
       "      <th>22</th>\n",
       "      <th>23</th>\n",
       "    </tr>\n",
       "  </thead>\n",
       "  <tbody>\n",
       "    <tr>\n",
       "      <th>0</th>\n",
       "      <td>1.0</td>\n",
       "      <td>1.0</td>\n",
       "      <td>0.0</td>\n",
       "      <td>0.0</td>\n",
       "      <td>0.000000e+00</td>\n",
       "      <td>1.0</td>\n",
       "      <td>0.0</td>\n",
       "      <td>9.266874e-48</td>\n",
       "      <td>1.0</td>\n",
       "      <td>1.0</td>\n",
       "      <td>...</td>\n",
       "      <td>0.0</td>\n",
       "      <td>0.0</td>\n",
       "      <td>0.0</td>\n",
       "      <td>1.426413e-39</td>\n",
       "      <td>1.0</td>\n",
       "      <td>0.0</td>\n",
       "      <td>0.0</td>\n",
       "      <td>1.613882e-102</td>\n",
       "      <td>0.0</td>\n",
       "      <td>0.0</td>\n",
       "    </tr>\n",
       "    <tr>\n",
       "      <th>1</th>\n",
       "      <td>1.0</td>\n",
       "      <td>0.0</td>\n",
       "      <td>0.0</td>\n",
       "      <td>0.0</td>\n",
       "      <td>1.586012e-36</td>\n",
       "      <td>1.0</td>\n",
       "      <td>0.0</td>\n",
       "      <td>1.789522e-10</td>\n",
       "      <td>1.0</td>\n",
       "      <td>0.0</td>\n",
       "      <td>...</td>\n",
       "      <td>0.0</td>\n",
       "      <td>1.0</td>\n",
       "      <td>0.0</td>\n",
       "      <td>1.000000e+00</td>\n",
       "      <td>0.0</td>\n",
       "      <td>0.0</td>\n",
       "      <td>0.0</td>\n",
       "      <td>1.000000e+00</td>\n",
       "      <td>0.0</td>\n",
       "      <td>0.0</td>\n",
       "    </tr>\n",
       "    <tr>\n",
       "      <th>2</th>\n",
       "      <td>1.0</td>\n",
       "      <td>1.0</td>\n",
       "      <td>0.0</td>\n",
       "      <td>0.0</td>\n",
       "      <td>0.000000e+00</td>\n",
       "      <td>0.0</td>\n",
       "      <td>0.0</td>\n",
       "      <td>6.802275e-101</td>\n",
       "      <td>0.0</td>\n",
       "      <td>1.0</td>\n",
       "      <td>...</td>\n",
       "      <td>0.0</td>\n",
       "      <td>0.0</td>\n",
       "      <td>0.0</td>\n",
       "      <td>0.000000e+00</td>\n",
       "      <td>1.0</td>\n",
       "      <td>0.0</td>\n",
       "      <td>0.0</td>\n",
       "      <td>1.000000e+00</td>\n",
       "      <td>0.0</td>\n",
       "      <td>0.0</td>\n",
       "    </tr>\n",
       "  </tbody>\n",
       "</table>\n",
       "<p>3 rows × 24 columns</p>\n",
       "</div>"
      ],
      "text/plain": [
       "    0    1    2    3             4    5    6              7    8    9   ...  \\\n",
       "0  1.0  1.0  0.0  0.0  0.000000e+00  1.0  0.0   9.266874e-48  1.0  1.0  ...   \n",
       "1  1.0  0.0  0.0  0.0  1.586012e-36  1.0  0.0   1.789522e-10  1.0  0.0  ...   \n",
       "2  1.0  1.0  0.0  0.0  0.000000e+00  0.0  0.0  6.802275e-101  0.0  1.0  ...   \n",
       "\n",
       "    14   15   16            17   18   19   20             21   22   23  \n",
       "0  0.0  0.0  0.0  1.426413e-39  1.0  0.0  0.0  1.613882e-102  0.0  0.0  \n",
       "1  0.0  1.0  0.0  1.000000e+00  0.0  0.0  0.0   1.000000e+00  0.0  0.0  \n",
       "2  0.0  0.0  0.0  0.000000e+00  1.0  0.0  0.0   1.000000e+00  0.0  0.0  \n",
       "\n",
       "[3 rows x 24 columns]"
      ]
     },
     "execution_count": 23,
     "metadata": {},
     "output_type": "execute_result"
    }
   ],
   "source": [
    "pd.DataFrame(pred_gbc).head(3)"
   ]
  },
  {
   "cell_type": "markdown",
   "metadata": {},
   "source": [
    "Se observa como el modelo da como salida una matriz de 24 columnas (una por cada categoría) en la que se registran las probabilidades de que cada película (fila) pertenezca a dicha categoría."
   ]
  },
  {
   "cell_type": "code",
   "execution_count": 24,
   "metadata": {
    "colab": {
     "base_uri": "https://localhost:8080/"
    },
    "id": "PufjBN_Jy5r1",
    "outputId": "a9d631c7-e64e-45cb-8920-765efc9c4d60"
   },
   "outputs": [
    {
     "data": {
      "text/plain": [
       "0.57057863950999"
      ]
     },
     "execution_count": 24,
     "metadata": {},
     "output_type": "execute_result"
    }
   ],
   "source": [
    "pred_nb = nb_c.predict_proba(X_test)\n",
    "roc_auc_score(y_test_genres, pred_nb, average='macro')"
   ]
  },
  {
   "cell_type": "markdown",
   "metadata": {
    "id": "sdCU_B0x8as6"
   },
   "source": [
    "El modelo arroja como resultado un AUC de 0.65 para los datos de test (datos que nuevos para el modelo)."
   ]
  },
  {
   "cell_type": "markdown",
   "metadata": {
    "id": "IPHCTH828cpr"
   },
   "source": [
    "# XGBOOST"
   ]
  },
  {
   "cell_type": "markdown",
   "metadata": {},
   "source": [
    "Debido a la cantidad de columnas de la matriz de entrada (X), se optó por hacer el Tune-In de este modelo de manera manual, para ello, se corría el modelo con ciertos hiperparámetros predeterminados, calculando el AUC y luego se volviendo a correr el modelo cambiando los hiperparámetros  (básicamente, una validación manual de lo que realiza una grilla)."
   ]
  },
  {
   "cell_type": "code",
   "execution_count": null,
   "metadata": {
    "id": "V6tfcdPQ8jcT"
   },
   "outputs": [],
   "source": [
    "from xgboost import XGBClassifier"
   ]
  },
  {
   "cell_type": "code",
   "execution_count": null,
   "metadata": {
    "id": "0aU2DvIV9d-F"
   },
   "outputs": [],
   "source": [
    "xgb = OneVsRestClassifier(XGBClassifier(random_state=42,n_estimators=200, learning_rate=0.3, max_depth=7))\n",
    "xgb.fit(X_train, y_train_genres)"
   ]
  },
  {
   "cell_type": "code",
   "execution_count": null,
   "metadata": {
    "colab": {
     "base_uri": "https://localhost:8080/"
    },
    "id": "UDUWaVRx-aS7",
    "outputId": "d53abda9-b7d4-4ead-b162-201c315d6ada"
   },
   "outputs": [],
   "source": [
    "y_pred_genresxg = xgb.predict_proba(X_test)\n",
    "roc_auc_score(y_test_genres, y_pred_genresxg, average='macro')"
   ]
  },
  {
   "cell_type": "code",
   "execution_count": null,
   "metadata": {
    "colab": {
     "base_uri": "https://localhost:8080/",
     "height": 129
    },
    "id": "XcMWyQ7aC2V1",
    "outputId": "a039e5eb-8a39-4c5a-b4f9-c440416b3865"
   },
   "outputs": [],
   "source": [
    "####################### resultados usando COUNTVETORIZER() y Lemma:\n",
    "-------- Para un número de palabras = 5 mil\n",
    "\n",
    "learning rate =0.1, n_jobs=1, n_estimators=100, max_depth=3, random_state=42  : 0.8391366613062118\n",
    "learning rate =0.1, n_jobs=1, n_estimators=200, max_depth=3, random_state=42  : 0.8379697098500808\n",
    "learning rate =0.3, n_jobs=1, n_estimators=100, max_depth=5, random_state=42  : 0.8434843032865246\n",
    "learning rate =0.3, n_jobs=1, n_estimators=200, max_depth=5, random_state=42  : 0.8434843032865246\n",
    "learning rate =0.3, n_jobs=1, n_estimators=100, max_depth=7, random_state=42  : 0.8403513018075838\n",
    "learning rate =0.3, n_jobs=1, n_estimators=100, max_depth=3, random_state=42  : 0.8418200586529831\n",
    "learning rate =0.3, n_jobs=1, n_estimators=200, max_depth=3, random_state=42  : 0.8379697098500808\n",
    "learning rate =0.5, n_jobs=1, n_estimators=100, max_depth=3, random_state=42  : 0.834508059445182\n",
    "learning rate =0.5, n_jobs=1, n_estimators=200, max_depth=3, random_state=42  : 0.8334327736298276\n",
    "\n",
    "-------- Para un número de palabras =  3mil\n",
    "learning rate =0.1, n_jobs=1, n_estimators=100, max_depth=3, random_state=42  : 0.8278829167399256\n",
    "learning rate =0.1, n_jobs=1, n_estimators=200, max_depth=3, random_state=42  : 0.8371912538301466\n",
    "learning rate =0.3, n_jobs=1, n_estimators=500, max_depth=3, random_state=42  : 0.8232835712614154\n",
    "learning rate =0.1, n_jobs=1, n_estimators=200, max_depth=5, random_state=42  : 0.8354213500350042\n"
   ]
  },
  {
   "cell_type": "markdown",
   "metadata": {},
   "source": [
    " El mejor modelo se obtiene con el valor de AUC de 0.8434\n",
    " \n",
    " learning rate =0.3, n_jobs=1, n_estimators=200, max_depth=5, random_state=42"
   ]
  },
  {
   "cell_type": "code",
   "execution_count": null,
   "metadata": {
    "id": "4YzzgqlTi7l0"
   },
   "outputs": [],
   "source": [
    "X_test_dtm = vect.transform(dataTesting['plot_low_rm_stem'])\n",
    "\n",
    "cols = ['p_Action', 'p_Adventure', 'p_Animation', 'p_Biography', 'p_Comedy', 'p_Crime', 'p_Documentary', 'p_Drama', 'p_Family',\n",
    "        'p_Fantasy', 'p_Film-Noir', 'p_History', 'p_Horror', 'p_Music', 'p_Musical', 'p_Mystery', 'p_News', 'p_Romance',\n",
    "        'p_Sci-Fi', 'p_Short', 'p_Sport', 'p_Thriller', 'p_War', 'p_Western']\n",
    "\n",
    "y_pred_test_genres = xgb.predict_proba(X_test_dtm)"
   ]
  },
  {
   "cell_type": "markdown",
   "metadata": {
    "id": "iy0WfpMdi8bq"
   },
   "source": [
    "# GradientBoostingClassifier\n"
   ]
  },
  {
   "cell_type": "markdown",
   "metadata": {},
   "source": [
    "Al igual que el XGBoost, el Tune In se realiza de manera manual ya que al intentar hacerlo por grilla, se consume bastantes recursos computacionales (muchísimo tiempo para calibrar)."
   ]
  },
  {
   "cell_type": "code",
   "execution_count": null,
   "metadata": {
    "id": "lvOK0IyrjBdT"
   },
   "outputs": [],
   "source": [
    "from sklearn.ensemble import GradientBoostingClassifier"
   ]
  },
  {
   "cell_type": "code",
   "execution_count": null,
   "metadata": {
    "colab": {
     "base_uri": "https://localhost:8080/"
    },
    "id": "GQ6txK6NjMnM",
    "outputId": "07adfd6b-b2ef-4c80-e687-3d00af976ba8"
   },
   "outputs": [],
   "source": [
    "gb = OneVsRestClassifier(GradientBoostingClassifier(random_state=42,n_estimators=200))\n",
    "gb.fit(X_train, y_train_genres)"
   ]
  },
  {
   "cell_type": "code",
   "execution_count": null,
   "metadata": {
    "colab": {
     "base_uri": "https://localhost:8080/"
    },
    "id": "v1PFAHOXjV2y",
    "outputId": "19c89395-0868-454e-c4f8-dfb69a41f18f"
   },
   "outputs": [],
   "source": [
    "y_pred_genresgb = gb.predict_proba(X_test)\n",
    "roc_auc_score(y_test_genres, y_pred_genresgb, average='macro')"
   ]
  },
  {
   "cell_type": "code",
   "execution_count": null,
   "metadata": {
    "id": "caouOcBMtlDz"
   },
   "outputs": [],
   "source": [
    "####################### resultados usando COUNTVETORIZER() y Lemma:\n",
    "-------- Para un número de palabras = 3 mil\n",
    "\n",
    "learning rate =0.1, n_jobs=1, n_estimators=100, max_depth=3, random_state=42  : 0.791546841465498\n",
    "learning rate =0.1, n_jobs=1, n_estimators=200, max_depth=3, random_state=42  : 0.7919201382227256\n",
    "learning rate =0.1, n_jobs=1, n_estimators=200, max_depth=5, random_state=42  : 0.7945468422746468\n",
    "\n",
    "-------- Para un número de palabras = 5 mil\n",
    "\n",
    "learning rate =0.1, n_jobs=1, n_estimators=200, max_depth=3, random_state=42  : 0.7946901445030538\n",
    "learning rate =0.1, n_jobs=1, n_estimators=200, max_depth=5, random_state=42  : 0.8045030538546875"
   ]
  },
  {
   "cell_type": "code",
   "execution_count": null,
   "metadata": {
    "id": "Xqre40mo3R4U"
   },
   "outputs": [],
   "source": [
    "X_test_dtm = vect.transform(dataTesting['plot_low_rm_stem'])\n",
    "\n",
    "cols = ['p_Action', 'p_Adventure', 'p_Animation', 'p_Biography', 'p_Comedy', 'p_Crime', 'p_Documentary', 'p_Drama', 'p_Family',\n",
    "        'p_Fantasy', 'p_Film-Noir', 'p_History', 'p_Horror', 'p_Music', 'p_Musical', 'p_Mystery', 'p_News', 'p_Romance',\n",
    "        'p_Sci-Fi', 'p_Short', 'p_Sport', 'p_Thriller', 'p_War', 'p_Western']\n",
    "\n",
    "y_pred_test_genres = gb.predict_proba(X_test_dtm)"
   ]
  },
  {
   "cell_type": "markdown",
   "metadata": {
    "id": "CkMQn8ROslw6"
   },
   "source": [
    "No se observa un valor que mejor el XGboost"
   ]
  },
  {
   "cell_type": "markdown",
   "metadata": {
    "id": "WofOmCF2R9BK"
   },
   "source": [
    "## RANDOM FOREST"
   ]
  },
  {
   "cell_type": "code",
   "execution_count": null,
   "metadata": {
    "id": "xm-0YX09Zl5E"
   },
   "outputs": [],
   "source": [
    "clf = OneVsRestClassifier(RandomForestClassifier(n_jobs=-1, n_estimators=500, max_depth=5, random_state=42))"
   ]
  },
  {
   "cell_type": "code",
   "execution_count": null,
   "metadata": {
    "colab": {
     "base_uri": "https://localhost:8080/"
    },
    "id": "fuOMKMiMhtqd",
    "outputId": "85fe884a-8d8a-4355-fecd-3af2992e8140"
   },
   "outputs": [],
   "source": [
    "%%time\n",
    "\n",
    "clf.fit(X_train, y_train_genres);"
   ]
  },
  {
   "cell_type": "code",
   "execution_count": null,
   "metadata": {
    "colab": {
     "base_uri": "https://localhost:8080/"
    },
    "id": "aJtEnbNcZl5F",
    "outputId": "76963d53-e6ce-40d8-bfe7-d1ea6eb2b6bc"
   },
   "outputs": [],
   "source": [
    "y_pred_genres = clf.predict_proba(X_test)\n",
    "roc_auc_score(y_test_genres, y_pred_genres, average='macro')"
   ]
  },
  {
   "cell_type": "code",
   "execution_count": null,
   "metadata": {
    "id": "qedKW88piQbc"
   },
   "outputs": [],
   "source": [
    "####################### resultados usando COUNTVETORIZER() y Lemma:\n",
    "\n",
    "\"\"\"\n",
    "------- Para un número de palabras = 1 mil\n",
    "\n",
    "n_jobs=-1, n_estimators=200, max_depth=7, random_state=42 : 0.7872131570577036\n",
    "n_jobs=-1, n_estimators=200, max_depth=10, random_state=42 : 0.7840666999257996\n",
    "n_jobs=-1, n_estimators=250, max_depth=7, random_state=42 : 0.7901943042466396\n",
    "n_jobs=-1, n_estimators=250, max_depth=7, random_state=42 : 0.7908025199296361\n",
    "n_jobs=-1, n_estimators=500, max_depth=7, random_state=42 : 0.7931854788836633\n",
    "n_jobs=-1, n_estimators=500, max_depth=5, random_state=42 : 0.7934482357988548\n",
    "n_jobs=-1, n_estimators=700, max_depth=3, random_state=42 : 0.7926350713330667\n",
    "n_jobs=-1, n_estimators=500, max_depth=3, random_state=42 : 0.7918581885906483\n",
    "n_jobs=-1, n_estimators=500, max_depth=4, random_state=42 : 0.7916051690107286\n",
    "\n",
    "\n",
    "------- Para un número de palabras = 3 mil\n",
    "\n",
    "n_jobs=-1, n_estimators=500, max_depth=5, random_state=42 : 0.8105434607387648\n",
    "-------- Para un número de palabras = 5 mil\n",
    "\n",
    "n_jobs=-1, n_estimators=500, max_depth=5, random_state=42  : 0.8203351605539488\n",
    "\n",
    "\"\"\"\n",
    "################## resultados usando COUNTVETORIZER() y Stemm:\n",
    "\"\"\"\n",
    "-------- Para un número de palabras = 5 mil\n",
    "\n",
    "n_jobs=-1, n_estimators=500, max_depth=5, random_state=42  : 0.8238489387536768\n",
    "\"\"\"\n",
    "################## resultados usando COUNTVETORIZER(ngram_range=range(1,2)) y Stemm:\n",
    "\n",
    "\"\"\"\n",
    "\n",
    "n_jobs=-1, n_estimators=500, max_depth=5, random_state=42  : 0.8204102576175692\n",
    "\n",
    "\"\"\"\n",
    "########### resultados countvetorizer(min_df=0.2,max_features=5000 ) y stemma:\n",
    "\n",
    "\"\"\"\n",
    "\"\"\""
   ]
  },
  {
   "cell_type": "code",
   "execution_count": null,
   "metadata": {
    "id": "kbSdJySo6oDk"
   },
   "outputs": [],
   "source": [
    "X_dtm_test =  vect.transform(dataTesting['plot_low_rm_stem'])\n",
    "X_dtm_test.todense()"
   ]
  },
  {
   "cell_type": "code",
   "execution_count": null,
   "metadata": {
    "id": "EN4PJ76nzPsi"
   },
   "outputs": [],
   "source": [
    "# Predicciones en la base de Testing:\n",
    "\n",
    "pred_test_rf = clf.predict_proba(X_dtm_test)\n",
    "pred_test_rf = pd.DataFrame(pred_test_rf)\n",
    "pred_test_rf.columns = ['p_'+i for i in le.classes_]\n",
    "pred_test_rf.index= dataTesting.index\n",
    "pred_test_rf.to_csv('pred_test_rf_5mil_dep5_nst500_counvec_stemm.csv')"
   ]
  },
  {
   "cell_type": "markdown",
   "metadata": {
    "id": "KYXWy2YV7EWD"
   },
   "source": [
    "Se observan valores superiores a los del Gradient Boosting"
   ]
  },
  {
   "cell_type": "markdown",
   "metadata": {
    "id": "Whuz6ZTm0IOD"
   },
   "source": [
    "## RED NEURONAL - LSTM"
   ]
  },
  {
   "cell_type": "code",
   "execution_count": null,
   "metadata": {
    "id": "d84CEpdczPhy"
   },
   "outputs": [],
   "source": [
    "x = dataTraining['plot_low_rm_stem'].tolist()"
   ]
  },
  {
   "cell_type": "code",
   "execution_count": null,
   "metadata": {},
   "outputs": [],
   "source": [
    "# Max len\n",
    "max_tokens = 500\n",
    "X = [x.split()[:max_tokens] for x in x]\n",
    "\n",
    "# Usando el vacobulario de countvectorizer:\n",
    "\n",
    "\n",
    "# Convert characters to int and pad\n",
    "X_2 = [[voca_coun_vec[x1] for x1 in x if x1 in voca_coun_vec.keys()] for x in X]\n",
    "\n",
    "# Ahaora se usa el pad_sequence de Keras:\n",
    "X_pad_keras = pad_sequences(X_2, maxlen=max_tokens)"
   ]
  },
  {
   "cell_type": "code",
   "execution_count": null,
   "metadata": {},
   "outputs": [],
   "source": [
    "# Partición de los datos para entrenar la Red:\n",
    "\n",
    "X_train_red, X_test_red, y_train_genres_red, y_test_genres_red = train_test_split(X_pad_keras, df_genre['Adventure'], test_size=0.33, random_state=42)"
   ]
  },
  {
   "cell_type": "markdown",
   "metadata": {},
   "source": [
    "#### Modelamiento de la Red usando un esquema de LSTM"
   ]
  },
  {
   "cell_type": "code",
   "execution_count": null,
   "metadata": {},
   "outputs": [],
   "source": [
    "# Modelo:\n",
    "\n",
    "model = Sequential()\n",
    "model.add(Embedding(len(voca_coun_vec) + 1, 128, input_length=max_tokens))\n",
    "model.add(Bidirectional(LSTM(128)))\n",
    "model.add(Dropout(0.5))\n",
    "model.add(Dense(64, activation='relu'))\n",
    "model.add(Dense(1, activation='sigmoid'))\n",
    "\n",
    "# Se especifica la función de pérdida, optimizador y la métrica de evaluación\n",
    "model.compile(loss='binary_crossentropy', optimizer='rmsprop', metrics=['AUC'])\n",
    "\n",
    "model.summary()"
   ]
  },
  {
   "cell_type": "code",
   "execution_count": null,
   "metadata": {},
   "outputs": [],
   "source": [
    "%%time\n",
    "\n",
    "# Entrenamiento de la RED:\n",
    "\n",
    "model.fit(X_train_red, y_train_genres_red, validation_data=[X_test_red, y_test_genres_red], \n",
    "          batch_size=64, epochs=2, verbose=1)"
   ]
  },
  {
   "cell_type": "markdown",
   "metadata": {
    "id": "oeBpTUPKZl5G"
   },
   "source": [
    "El Tune in también se realiza manual unque en este caso, la calibración delo modelo tomó muchísimo más tiempo (4 horas para 10 epochs)"
   ]
  },
  {
   "cell_type": "code",
   "execution_count": null,
   "metadata": {},
   "outputs": [],
   "source": [
    "# RESULTADOS EN LA RED :\n",
    "\n",
    "# Modelo por defecto:\n",
    "\n",
    "# Modelo:\n",
    "\"\"\"\n",
    "model = Sequential()\n",
    "model.add(Embedding(len(voca_coun_vec) + 1, 128, input_length=max_tokens))\n",
    "model.add(LSTM(32))\n",
    "model.add(Dropout(0.5))\n",
    "model.add(Dense(24, activation='sigmoid'))\n",
    "\n",
    "\n",
    "auc_score = 0.6567200841337979\n",
    "\n",
    "\n",
    "\"\"\"\n",
    "\n",
    "## Se cambio LSTM a 128:\n",
    "\n",
    "\"\"\"\n",
    "auc_score = 0.7000371246853678\n",
    "\"\"\"\n",
    "\n",
    "## Se incluyó el Bidirectional al LSTM y se agregó una capa previa a la capa de salida y se cambia la métrica a AUC:\n",
    "\n",
    "\"\"\"  auc_score= 0.7444601125448411 \"\"\"\n",
    "\n",
    "\n",
    "## Se agregan dos Bidirecionales: la 1ra con una capa de :\n",
    "\n",
    "\"\"\"  auc_scoer= 0.6131181703975308  \"\"\""
   ]
  },
  {
   "cell_type": "markdown",
   "metadata": {},
   "source": [
    "Se observa que los resultados no son los más indicados ya que se encuentran por debajo de lo obtenido en los otros modelos.\n",
    "\n",
    "Es de aclarar que se usaron pocos epochs lo cual hace que la red no calibre en su totalidad, sin embargo, al aumentor estos últimos, el tiempo de entrenamiento aumenta drásticamente razón por la que no se pudo obtener un resultado satisfactorio."
   ]
  },
  {
   "cell_type": "code",
   "execution_count": null,
   "metadata": {
    "id": "byxErouiZl5I"
   },
   "outputs": [],
   "source": [
    "res = pd.DataFrame(y_pred_test_genres, index=dataTesting.index, columns=cols)"
   ]
  },
  {
   "cell_type": "code",
   "execution_count": null,
   "metadata": {
    "colab": {
     "base_uri": "https://localhost:8080/",
     "height": 241
    },
    "id": "YA4lQJbpZl5J",
    "outputId": "acbf4616-baa8-4918-8747-d5b1cf876fb2"
   },
   "outputs": [],
   "source": [
    "res.head()"
   ]
  },
  {
   "cell_type": "code",
   "execution_count": null,
   "metadata": {
    "id": "JBSszOpdZl5L"
   },
   "outputs": [],
   "source": []
  },
  {
   "cell_type": "markdown",
   "metadata": {
    "id": "6baFFX1ezIOO"
   },
   "source": [
    "# 4. RESULTADOS FINALES"
   ]
  },
  {
   "cell_type": "markdown",
   "metadata": {},
   "source": [
    "Al presentar diferentes resultados por los modelos evaluados, se optó por hacer un modelo de stacking con los resultados iniciales obtenidos por los modelos de Random Forest, para ello se usó un modelo de Regresión logística sobre estos resultados, mejorando los resultados obtenidos en la competencia (auc_score= 0.8592 - Cargado por Sebastian.Camargo) \n",
    "<br>Como estrategia definimos usar las probabilidades de salida de los modelos como variables predictoras en un modelo de regresión logistica encontrando que:\n",
    "<br> - El modelo bayesiano con regresión logistica mejora bastante en el conjunto de train, pero su desempeño en conjunto test se mantiene bajo.\n",
    "<br> - El modelo de Random forest con regresión logistica mejora tanto en train como en test postulandose como la mejor opción.\n",
    "<br> - El modelo de XGBoost con regresión logistica mantiene muy buen AUC en el conjunto de train, en el conjunto de test tiene buen desempeño pero se ve superado por el modelo de RF."
   ]
  },
  {
   "cell_type": "code",
   "execution_count": 28,
   "metadata": {},
   "outputs": [
    {
     "name": "stdout",
     "output_type": "stream",
     "text": [
      "ROC en train: 0.8997157155450219\n",
      "ROC en test: 0.57057863950999\n",
      "ROC en train con stacking: 0.949044297171428\n",
      "ROC en test con stacking: 0.6748318354727827\n"
     ]
    }
   ],
   "source": [
    "#Modelo naive bayesiano\n",
    "nb_c = OneVsRestClassifier(GaussianNB())\n",
    "nb_c.fit(X_train, y_train_genres)\n",
    "\n",
    "nb_c_pred_train = nb_c.predict_proba(X_train)\n",
    "nb_c_pred_test  = nb_c.predict_proba(X_test)\n",
    "\n",
    "print(\"ROC en train:\",roc_auc_score(y_train_genres, nb_c_pred_train, average='macro'))\n",
    "print(\"ROC en test:\" ,roc_auc_score(y_test_genres,  nb_c_pred_test,  average='macro'))\n",
    "\n",
    "#Stacking sobre naive bayesiano\n",
    "stack_logit_nb = OneVsRestClassifier(LogisticRegression(n_jobs=-1))\n",
    "stack_logit_nb.fit(nb_c_pred_train, y_train_genres)\n",
    "stack_logit_nb_pred_train = stack_logit_nb.predict_proba(nb_c_pred_train)\n",
    "stack_logit_nb_pred_test = stack_logit_nb.predict_proba(nb_c_pred_test)\n",
    "print(\"ROC en train con stacking:\",roc_auc_score(y_train_genres, stack_logit_nb_pred_train, average='macro'))\n",
    "print(\"ROC en test con stacking:\",roc_auc_score(y_test_genres, stack_logit_nb_pred_test, average='macro'))"
   ]
  },
  {
   "cell_type": "code",
   "execution_count": 33,
   "metadata": {},
   "outputs": [
    {
     "name": "stdout",
     "output_type": "stream",
     "text": [
      "ROC en train: 0.9294125351902108\n",
      "ROC en test: 0.8100366313314673\n",
      "ROC en train con stacking: 0.9252527510594056\n",
      "ROC en test con stacking: 0.847021247266808\n"
     ]
    }
   ],
   "source": [
    "#Modelo Random forest classifier\n",
    "rf_c = OneVsRestClassifier(RandomForestClassifier(n_jobs=-1, n_estimators=500, max_depth=5, random_state=42))\n",
    "rf_c.fit(X_train, y_train_genres)\n",
    "\n",
    "rf_c_pred_train = rf_c.predict_proba(X_train)\n",
    "rf_c_pred_test  = rf_c.predict_proba(X_test)\n",
    "\n",
    "print(\"ROC en train:\", roc_auc_score(y_train_genres, rf_c_pred_train, average='macro'))\n",
    "print(\"ROC en test:\",  roc_auc_score(y_test_genres,  rf_c_pred_test,  average='macro'))\n",
    "\n",
    "#Stacking sobre random forest\n",
    "stack_logit_rf = OneVsRestClassifier(LogisticRegression(n_jobs=-1))\n",
    "stack_logit_rf.fit(rf_c_pred_train, y_train_genres)\n",
    "stack_logit_rf_pred_train = stack_logit_rf.predict_proba(rf_c_pred_train)\n",
    "stack_logit_rf_pred_test = stack_logit_rf.predict_proba(rf_c_pred_test)\n",
    "print(\"ROC en train con stacking:\",roc_auc_score(y_train_genres, stack_logit_rf_pred_train, average='macro'))\n",
    "print(\"ROC en test con stacking:\",roc_auc_score(y_test_genres, stack_logit_rf_pred_test, average='macro'))"
   ]
  },
  {
   "cell_type": "code",
   "execution_count": 32,
   "metadata": {},
   "outputs": [],
   "source": [
    "#Modelo XGBoost\n",
    "xgb_c = OneVsRestClassifier(XGBClassifier(random_state=42,n_estimators=100, learning_rate=0.3, max_depth=7,verbosity=0))\n",
    "xgb_c.fit(X_train, y_train_genres)\n",
    "\n",
    "xgb_c_pred_train = xgb_c.predict_proba(X_train)\n",
    "xgb_c_pred_test  = xgb_c.predict_proba(X_test)\n",
    "\n",
    "print(\"ROC en train:\", roc_auc_score(y_train_genres, xgb_c_pred_train, average='macro'))\n",
    "print(\"ROC en test:\",  roc_auc_score(y_test_genres,  xgb_c_pred_test,  average='macro'))\n",
    "\n",
    "#Stacking sobre XGBooost\n",
    "stack_logit_xgb = OneVsRestClassifier(LogisticRegression(n_jobs=-1))\n",
    "stack_logit_xgb.fit(xgb_c_pred_train, y_train_genres)\n",
    "stack_logit_xgb_pred_train = stack_logit_xgb.predict_proba(xgb_c_pred_train)\n",
    "stack_logit_xgb_pred_test = stack_logit_xgb.predict_proba(xgb_c_pred_test)\n",
    "print(\"ROC en train con stacking::\",roc_auc_score(y_train_genres, stack_logit_xgb_pred_train, average='macro'))\n",
    "print(\"ROC en test con stacking::\",roc_auc_score(y_test_genres, stack_logit_xgb_pred_test, average='macro'))"
   ]
  },
  {
   "cell_type": "markdown",
   "metadata": {},
   "source": [
    "Consideramos tambien la combinación de mas de un modelo en el stacking, por ello dispusimos como variables predictoras tanto las predicciones del Random forest como las predicciones del XGBoost; encontramos que en el conjunto de train alcanza un AUC muy cercano a 100% pero en el conjunto de Test es inferior al modelo de stacking que solo relaciona Random forest."
   ]
  },
  {
   "cell_type": "code",
   "execution_count": null,
   "metadata": {},
   "outputs": [],
   "source": [
    "#Stacking sobre random forest & XGBoost\n",
    "rf_xgb_pred_train = np.c_[rf_c_pred_train,xgb_c_pred_train]\n",
    "rf_xgb_pred_test = np.c_[rf_c_pred_test,xgb_c_pred_test]\n",
    "\n",
    "stack_logit_rf_xgb = OneVsRestClassifier(LogisticRegression(n_jobs=-1))\n",
    "stack_logit_rf_xgb.fit(rf_xgb_pred_train, y_train_genres)\n",
    "stack_logit_rf_xgb_pred_train = stack_logit_rf_xgb.predict_proba(rf_xgb_pred_train)\n",
    "stack_logit_rf_xgb_pred_test = stack_logit_rf_xgb.predict_proba(rf_xgb_pred_test)\n",
    "print(\"ROC en train:\",roc_auc_score(y_train_genres, stack_logit_rf_xgb_pred_train, average='macro'))\n",
    "print(\"ROC en test:\",roc_auc_score(y_test_genres, stack_logit_rf_xgb_pred_test, average='macro'))"
   ]
  },
  {
   "cell_type": "markdown",
   "metadata": {},
   "source": [
    "Finalmente se elige como mejor opción el modelo de Random Forest & Regresión logistica, con el cual se prepara el archivo de predicciones para llevar a la competencia de Kaggle."
   ]
  },
  {
   "cell_type": "code",
   "execution_count": 34,
   "metadata": {},
   "outputs": [
    {
     "name": "stdout",
     "output_type": "stream",
     "text": [
      "ROC en train: 0.8899589646091322\n",
      "Wall time: 3min 10s\n"
     ]
    }
   ],
   "source": [
    "%%time\n",
    "#Modelo Random forest classifier sobre el total de datos disponibles\n",
    "rf_c_ttl = OneVsRestClassifier(RandomForestClassifier(n_jobs=-1, n_estimators=500, max_depth=5, random_state=42))\n",
    "rf_c_ttl.fit(X_dtm.todense(), y_genres)\n",
    "\n",
    "rf_c_ttl_pred_train = rf_c.predict_proba(X_dtm.todense())\n",
    "\n",
    "print(\"ROC en train:\", roc_auc_score(y_genres, rf_c_ttl_pred_train, average='macro'))"
   ]
  },
  {
   "cell_type": "code",
   "execution_count": 35,
   "metadata": {},
   "outputs": [
    {
     "name": "stdout",
     "output_type": "stream",
     "text": [
      "ROC en train: 0.9002881646731945\n"
     ]
    }
   ],
   "source": [
    "#Stacking sobre solo random forest\n",
    "\n",
    "stack_logit_rf_ttl = OneVsRestClassifier(LogisticRegression(n_jobs=-1))\n",
    "stack_logit_rf_ttl.fit(rf_c_ttl_pred_train, y_genres)\n",
    "\n",
    "stack_logit_rf_ttl_pred_train = stack_logit_rf_ttl.predict_proba(rf_c_ttl_pred_train)\n",
    "\n",
    "print(\"ROC en train:\",roc_auc_score(y_genres, stack_logit_rf_ttl_pred_train, average='macro'))"
   ]
  },
  {
   "cell_type": "code",
   "execution_count": 39,
   "metadata": {},
   "outputs": [],
   "source": [
    "#Evaluacion base test para Kaggle\n",
    "X_dtm_test =  vect.transform(dataTesting['plot_low_rm_stem'])\n",
    "\n",
    "rf_c_ttl_pred_test_ext   = rf_c.predict_proba(X_dtm_test.todense())\n",
    "\n",
    "stack_logit_rf_ttl_pred_test_ext = stack_logit_rf_ttl.predict_proba(rf_c_ttl_pred_test_ext)"
   ]
  },
  {
   "cell_type": "code",
   "execution_count": 41,
   "metadata": {},
   "outputs": [],
   "source": [
    "pred_file = pd.DataFrame(stack_logit_rf_ttl_pred_test_ext)\n",
    "pred_file.columns = ['p_'+i for i in le.classes_]\n",
    "pred_file.shape\n",
    "pred_file.index= dataTesting.index\n",
    "pred_file\n",
    "pred_file.to_csv('file_competencia.csv')"
   ]
  }
 ],
 "metadata": {
  "colab": {
   "collapsed_sections": [],
   "name": "Copia de Proyecto_3_Leo.ipynb",
   "provenance": []
  },
  "kernelspec": {
   "display_name": "Python 3",
   "language": "python",
   "name": "python3"
  },
  "language_info": {
   "codemirror_mode": {
    "name": "ipython",
    "version": 3
   },
   "file_extension": ".py",
   "mimetype": "text/x-python",
   "name": "python",
   "nbconvert_exporter": "python",
   "pygments_lexer": "ipython3",
   "version": "3.8.8"
  }
 },
 "nbformat": 4,
 "nbformat_minor": 1
}
