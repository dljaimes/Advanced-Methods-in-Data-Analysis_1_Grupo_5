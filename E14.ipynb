{
 "cells": [
  {
   "cell_type": "markdown",
   "metadata": {},
   "source": [
    "# E14 - Grupo 5"
   ]
  },
  {
   "cell_type": "markdown",
   "metadata": {},
   "source": [
    "# 0. Cargue de datos y librerías"
   ]
  },
  {
   "cell_type": "markdown",
   "metadata": {
    "colab_type": "text",
    "id": "view-in-github"
   },
   "source": [
    "<a href=\"https://colab.research.google.com/github/dljaimes/AdvancedMethodsinDataAnalysis1Grupo_5/blob/main/E_14.ipynb\" target=\"_parent\"><img src=\"https://colab.research.google.com/assets/colab-badge.svg\" alt=\"Open In Colab\"/></a>"
   ]
  },
  {
   "cell_type": "code",
   "execution_count": 7,
   "metadata": {
    "id": "_jVwIXO46tGa"
   },
   "outputs": [],
   "source": [
    "import pandas as pd\n",
    "from keras.models import Sequential\n",
    "from keras.layers.recurrent import LSTM\n",
    "from keras.layers.core import Dense, Dropout\n",
    "from keras.layers.embeddings import Embedding\n",
    "from keras.preprocessing import sequence\n",
    "from livelossplot import PlotLossesKeras\n",
    "import keras\n",
    "from keras import backend as K\n",
    "from sklearn.model_selection import train_test_split\n",
    "import re\n",
    "import nltk\n",
    "from nltk.corpus import stopwords\n",
    "from livelossplot import PlotLossesKeras"
   ]
  },
  {
   "cell_type": "code",
   "execution_count": 11,
   "metadata": {
    "id": "MKaPhESR6vkc"
   },
   "outputs": [],
   "source": [
    "# Cargue del dataset:\n",
    "\n",
    "dataTraining = pd.read_csv('https://github.com/albahnsen/AdvancedMethodsDataAnalysisClass/raw/master/datasets/dataTraining.zip', encoding='UTF-8', index_col=0)"
   ]
  },
  {
   "cell_type": "code",
   "execution_count": 13,
   "metadata": {
    "scrolled": true
   },
   "outputs": [
    {
     "data": {
      "text/html": [
       "<div>\n",
       "<style scoped>\n",
       "    .dataframe tbody tr th:only-of-type {\n",
       "        vertical-align: middle;\n",
       "    }\n",
       "\n",
       "    .dataframe tbody tr th {\n",
       "        vertical-align: top;\n",
       "    }\n",
       "\n",
       "    .dataframe thead th {\n",
       "        text-align: right;\n",
       "    }\n",
       "</style>\n",
       "<table border=\"1\" class=\"dataframe\">\n",
       "  <thead>\n",
       "    <tr style=\"text-align: right;\">\n",
       "      <th></th>\n",
       "      <th>year</th>\n",
       "      <th>title</th>\n",
       "      <th>plot</th>\n",
       "      <th>genres</th>\n",
       "      <th>rating</th>\n",
       "    </tr>\n",
       "  </thead>\n",
       "  <tbody>\n",
       "    <tr>\n",
       "      <th>3107</th>\n",
       "      <td>2003</td>\n",
       "      <td>Most</td>\n",
       "      <td>most is the story of a single father who takes...</td>\n",
       "      <td>['Short', 'Drama']</td>\n",
       "      <td>8.0</td>\n",
       "    </tr>\n",
       "    <tr>\n",
       "      <th>900</th>\n",
       "      <td>2008</td>\n",
       "      <td>How to Be a Serial Killer</td>\n",
       "      <td>a serial killer decides to teach the secrets o...</td>\n",
       "      <td>['Comedy', 'Crime', 'Horror']</td>\n",
       "      <td>5.6</td>\n",
       "    </tr>\n",
       "    <tr>\n",
       "      <th>6724</th>\n",
       "      <td>1941</td>\n",
       "      <td>A Woman's Face</td>\n",
       "      <td>in sweden ,  a female blackmailer with a disfi...</td>\n",
       "      <td>['Drama', 'Film-Noir', 'Thriller']</td>\n",
       "      <td>7.2</td>\n",
       "    </tr>\n",
       "    <tr>\n",
       "      <th>4704</th>\n",
       "      <td>1954</td>\n",
       "      <td>Executive Suite</td>\n",
       "      <td>in a friday afternoon in new york ,  the presi...</td>\n",
       "      <td>['Drama']</td>\n",
       "      <td>7.4</td>\n",
       "    </tr>\n",
       "    <tr>\n",
       "      <th>2582</th>\n",
       "      <td>1990</td>\n",
       "      <td>Narrow Margin</td>\n",
       "      <td>in los angeles ,  the editor of a publishing h...</td>\n",
       "      <td>['Action', 'Crime', 'Thriller']</td>\n",
       "      <td>6.6</td>\n",
       "    </tr>\n",
       "  </tbody>\n",
       "</table>\n",
       "</div>"
      ],
      "text/plain": [
       "      year                      title  \\\n",
       "3107  2003                       Most   \n",
       "900   2008  How to Be a Serial Killer   \n",
       "6724  1941             A Woman's Face   \n",
       "4704  1954            Executive Suite   \n",
       "2582  1990              Narrow Margin   \n",
       "\n",
       "                                                   plot  \\\n",
       "3107  most is the story of a single father who takes...   \n",
       "900   a serial killer decides to teach the secrets o...   \n",
       "6724  in sweden ,  a female blackmailer with a disfi...   \n",
       "4704  in a friday afternoon in new york ,  the presi...   \n",
       "2582  in los angeles ,  the editor of a publishing h...   \n",
       "\n",
       "                                  genres  rating  \n",
       "3107                  ['Short', 'Drama']     8.0  \n",
       "900        ['Comedy', 'Crime', 'Horror']     5.6  \n",
       "6724  ['Drama', 'Film-Noir', 'Thriller']     7.2  \n",
       "4704                           ['Drama']     7.4  \n",
       "2582     ['Action', 'Crime', 'Thriller']     6.6  "
      ]
     },
     "execution_count": 13,
     "metadata": {},
     "output_type": "execute_result"
    }
   ],
   "source": [
    "dataTraining.head()"
   ]
  },
  {
   "cell_type": "markdown",
   "metadata": {},
   "source": [
    "## Exercise 14.1"
   ]
  },
  {
   "cell_type": "markdown",
   "metadata": {},
   "source": [
    "* Removemos caracteres especiales"
   ]
  },
  {
   "cell_type": "code",
   "execution_count": 14,
   "metadata": {
    "id": "8pjVaOcb9vk8"
   },
   "outputs": [],
   "source": [
    "# Se quitan caractéres especiales sobre cada texto:\n",
    "\n",
    "def pre_process(text):\n",
    "    # lowercase\n",
    "    text = text.lower()\n",
    "    # tags\n",
    "    text = re.sub('&lt;/?.*?&gt;',' &lt;&gt; ',text)\n",
    "    # special characters and digits\n",
    "    text=re.sub('(\\\\d|\\\\W)+',' ',text)\n",
    "    # remove punctuation\n",
    "    #text = re.sub('[.;:!\\'?,\\\"()\\[\\]]', '', text)\n",
    "    #text = [REPLACE.sub('', line) for line in text]\n",
    "    return text\n",
    "\n",
    "# Se crea una columna con \n",
    "dataTraining['plot_low']=dataTraining['plot'].apply(lambda x:pre_process(x))\n"
   ]
  },
  {
   "cell_type": "code",
   "execution_count": 15,
   "metadata": {
    "colab": {
     "base_uri": "https://localhost:8080/"
    },
    "id": "esG1fNnk914h",
    "outputId": "0ec7332d-215d-4ba9-f5d7-6859b06fb5ad"
   },
   "outputs": [
    {
     "data": {
      "text/plain": [
       "Index(['year', 'title', 'plot', 'genres', 'rating', 'plot_low'], dtype='object')"
      ]
     },
     "execution_count": 15,
     "metadata": {},
     "output_type": "execute_result"
    }
   ],
   "source": [
    "dataTraining.columns"
   ]
  },
  {
   "cell_type": "markdown",
   "metadata": {},
   "source": [
    "* Removemos Stopwords"
   ]
  },
  {
   "cell_type": "code",
   "execution_count": 21,
   "metadata": {
    "colab": {
     "base_uri": "https://localhost:8080/"
    },
    "id": "SRXpBeNC86Ez",
    "outputId": "818c80c0-bba3-41d1-f86d-31fa3922df37",
    "scrolled": false
   },
   "outputs": [
    {
     "name": "stderr",
     "output_type": "stream",
     "text": [
      "[nltk_data] Downloading package stopwords to\n",
      "[nltk_data]     C:\\Users\\Geotrend\\AppData\\Roaming\\nltk_data...\n",
      "[nltk_data]   Package stopwords is already up-to-date!\n",
      "[nltk_data] Downloading package wordnet to\n",
      "[nltk_data]     C:\\Users\\Geotrend\\AppData\\Roaming\\nltk_data...\n",
      "[nltk_data]   Package wordnet is already up-to-date!\n"
     ]
    },
    {
     "data": {
      "text/plain": [
       "True"
      ]
     },
     "execution_count": 21,
     "metadata": {},
     "output_type": "execute_result"
    }
   ],
   "source": [
    "# Se descargan los Stopwords:\n",
    "import nltk  as nltk  \n",
    "nltk.download('stopwords')\n",
    "nltk.corpus.stopwords.words('english')\n",
    "nltk.download('wordnet')"
   ]
  },
  {
   "cell_type": "code",
   "execution_count": 22,
   "metadata": {
    "id": "L0NecS6L-r7G"
   },
   "outputs": [],
   "source": [
    "# Se quitan los stopwords:\n",
    "english_stop_words=stopwords.words('english')\n",
    "def remove_stop_words(corpus):\n",
    "    removed_stop_words = []\n",
    "    for review in corpus:\n",
    "        removed_stop_words.append(\n",
    "            ' '.join([word for word in review.split() \n",
    "                      if word not in english_stop_words])\n",
    "        )\n",
    "    return removed_stop_words\n",
    "\n",
    "dataTraining['plot_low_rm'] = remove_stop_words(dataTraining['plot_low'])\n",
    "\n",
    "from nltk.stem.porter import PorterStemmer\n",
    "def get_stemmed_text(corpus):\n",
    "    stemmer = PorterStemmer()\n",
    "    return [' '.join([stemmer.stem(word) for word in review.split()]) for review in corpus]\n",
    "\n",
    "dataTraining['plot_low_rm_stem'] = get_stemmed_text(dataTraining['plot_low_rm'])"
   ]
  },
  {
   "cell_type": "code",
   "execution_count": 19,
   "metadata": {
    "colab": {
     "base_uri": "https://localhost:8080/",
     "height": 419
    },
    "id": "yrsxAdWE9yhT",
    "outputId": "3bd034a6-0993-4bfc-f509-305e9b2cf4ab"
   },
   "outputs": [
    {
     "data": {
      "text/html": [
       "<div>\n",
       "<style scoped>\n",
       "    .dataframe tbody tr th:only-of-type {\n",
       "        vertical-align: middle;\n",
       "    }\n",
       "\n",
       "    .dataframe tbody tr th {\n",
       "        vertical-align: top;\n",
       "    }\n",
       "\n",
       "    .dataframe thead th {\n",
       "        text-align: right;\n",
       "    }\n",
       "</style>\n",
       "<table border=\"1\" class=\"dataframe\">\n",
       "  <thead>\n",
       "    <tr style=\"text-align: right;\">\n",
       "      <th></th>\n",
       "      <th>plot</th>\n",
       "      <th>plot_low</th>\n",
       "      <th>plot_low_rm_stem</th>\n",
       "    </tr>\n",
       "  </thead>\n",
       "  <tbody>\n",
       "    <tr>\n",
       "      <th>3107</th>\n",
       "      <td>most is the story of a single father who takes...</td>\n",
       "      <td>most is the story of a single father who takes...</td>\n",
       "      <td>stori singl father take eight year old son wor...</td>\n",
       "    </tr>\n",
       "    <tr>\n",
       "      <th>900</th>\n",
       "      <td>a serial killer decides to teach the secrets o...</td>\n",
       "      <td>a serial killer decides to teach the secrets o...</td>\n",
       "      <td>serial killer decid teach secret satisfi caree...</td>\n",
       "    </tr>\n",
       "    <tr>\n",
       "      <th>6724</th>\n",
       "      <td>in sweden ,  a female blackmailer with a disfi...</td>\n",
       "      <td>in sweden a female blackmailer with a disfigur...</td>\n",
       "      <td>sweden femal blackmail disfigur facial scar me...</td>\n",
       "    </tr>\n",
       "    <tr>\n",
       "      <th>4704</th>\n",
       "      <td>in a friday afternoon in new york ,  the presi...</td>\n",
       "      <td>in a friday afternoon in new york the presiden...</td>\n",
       "      <td>friday afternoon new york presid tredway corpo...</td>\n",
       "    </tr>\n",
       "    <tr>\n",
       "      <th>2582</th>\n",
       "      <td>in los angeles ,  the editor of a publishing h...</td>\n",
       "      <td>in los angeles the editor of a publishing hous...</td>\n",
       "      <td>lo angel editor publish hous carol hunnicut go...</td>\n",
       "    </tr>\n",
       "    <tr>\n",
       "      <th>...</th>\n",
       "      <td>...</td>\n",
       "      <td>...</td>\n",
       "      <td>...</td>\n",
       "    </tr>\n",
       "    <tr>\n",
       "      <th>8417</th>\n",
       "      <td>\" our marriage ,  their wedding .  \"  it ' s l...</td>\n",
       "      <td>our marriage their wedding it s lesson number...</td>\n",
       "      <td>marriag wed lesson number one newli engag coup...</td>\n",
       "    </tr>\n",
       "    <tr>\n",
       "      <th>1592</th>\n",
       "      <td>the wandering barbarian ,  conan ,  alongside ...</td>\n",
       "      <td>the wandering barbarian conan alongside his go...</td>\n",
       "      <td>wander barbarian conan alongsid goofi rogu pal...</td>\n",
       "    </tr>\n",
       "    <tr>\n",
       "      <th>1723</th>\n",
       "      <td>like a tale spun by scheherazade ,  kismet fol...</td>\n",
       "      <td>like a tale spun by scheherazade kismet follow...</td>\n",
       "      <td>like tale spun scheherazad kismet follow remar...</td>\n",
       "    </tr>\n",
       "    <tr>\n",
       "      <th>7605</th>\n",
       "      <td>mrs .  brisby ,  a widowed mouse ,  lives in a...</td>\n",
       "      <td>mrs brisby a widowed mouse lives in a cinder b...</td>\n",
       "      <td>mr brisbi widow mous live cinder block childre...</td>\n",
       "    </tr>\n",
       "    <tr>\n",
       "      <th>215</th>\n",
       "      <td>tinker bell journey far north of never land to...</td>\n",
       "      <td>tinker bell journey far north of never land to...</td>\n",
       "      <td>tinker bell journey far north never land patch...</td>\n",
       "    </tr>\n",
       "  </tbody>\n",
       "</table>\n",
       "<p>7895 rows × 3 columns</p>\n",
       "</div>"
      ],
      "text/plain": [
       "                                                   plot  \\\n",
       "3107  most is the story of a single father who takes...   \n",
       "900   a serial killer decides to teach the secrets o...   \n",
       "6724  in sweden ,  a female blackmailer with a disfi...   \n",
       "4704  in a friday afternoon in new york ,  the presi...   \n",
       "2582  in los angeles ,  the editor of a publishing h...   \n",
       "...                                                 ...   \n",
       "8417  \" our marriage ,  their wedding .  \"  it ' s l...   \n",
       "1592  the wandering barbarian ,  conan ,  alongside ...   \n",
       "1723  like a tale spun by scheherazade ,  kismet fol...   \n",
       "7605  mrs .  brisby ,  a widowed mouse ,  lives in a...   \n",
       "215   tinker bell journey far north of never land to...   \n",
       "\n",
       "                                               plot_low  \\\n",
       "3107  most is the story of a single father who takes...   \n",
       "900   a serial killer decides to teach the secrets o...   \n",
       "6724  in sweden a female blackmailer with a disfigur...   \n",
       "4704  in a friday afternoon in new york the presiden...   \n",
       "2582  in los angeles the editor of a publishing hous...   \n",
       "...                                                 ...   \n",
       "8417   our marriage their wedding it s lesson number...   \n",
       "1592  the wandering barbarian conan alongside his go...   \n",
       "1723  like a tale spun by scheherazade kismet follow...   \n",
       "7605  mrs brisby a widowed mouse lives in a cinder b...   \n",
       "215   tinker bell journey far north of never land to...   \n",
       "\n",
       "                                       plot_low_rm_stem  \n",
       "3107  stori singl father take eight year old son wor...  \n",
       "900   serial killer decid teach secret satisfi caree...  \n",
       "6724  sweden femal blackmail disfigur facial scar me...  \n",
       "4704  friday afternoon new york presid tredway corpo...  \n",
       "2582  lo angel editor publish hous carol hunnicut go...  \n",
       "...                                                 ...  \n",
       "8417  marriag wed lesson number one newli engag coup...  \n",
       "1592  wander barbarian conan alongsid goofi rogu pal...  \n",
       "1723  like tale spun scheherazad kismet follow remar...  \n",
       "7605  mr brisbi widow mous live cinder block childre...  \n",
       "215   tinker bell journey far north never land patch...  \n",
       "\n",
       "[7895 rows x 3 columns]"
      ]
     },
     "execution_count": 19,
     "metadata": {},
     "output_type": "execute_result"
    }
   ],
   "source": [
    "#Revisamos dataframe consolidado \n",
    "dataTraining[['plot','plot_low','plot_low_rm_stem']]"
   ]
  },
  {
   "cell_type": "code",
   "execution_count": 23,
   "metadata": {
    "id": "R1YTX4jc6x1_"
   },
   "outputs": [],
   "source": [
    "# Se separan las variables de salida (y) y el texto transformado (sin stopwords y stemmizado):\n",
    "\n",
    "plots = dataTraining['plot_low_rm_stem']\n",
    "y = (dataTraining['rating'] >= dataTraining['rating'].mean()).astype(int) # se discretiza la variable 1 si la calificacion es >= promedio 0 dlc."
   ]
  },
  {
   "cell_type": "code",
   "execution_count": 24,
   "metadata": {
    "colab": {
     "base_uri": "https://localhost:8080/"
    },
    "id": "74oWcKcn60Uy",
    "outputId": "1e54498e-e011-4c3b-e185-9e259bc37353"
   },
   "outputs": [
    {
     "data": {
      "text/plain": [
       "3107    1\n",
       "900     0\n",
       "6724    1\n",
       "4704    1\n",
       "2582    1\n",
       "       ..\n",
       "8417    0\n",
       "1592    0\n",
       "1723    0\n",
       "7605    1\n",
       "215     1\n",
       "Name: rating, Length: 7895, dtype: int32"
      ]
     },
     "execution_count": 24,
     "metadata": {},
     "output_type": "execute_result"
    }
   ],
   "source": [
    "y"
   ]
  },
  {
   "cell_type": "markdown",
   "metadata": {},
   "source": [
    "* Toquenización"
   ]
  },
  {
   "cell_type": "code",
   "execution_count": 25,
   "metadata": {
    "id": "BZOKXWvkA5KJ"
   },
   "outputs": [],
   "source": [
    "from sklearn.feature_extraction.text import CountVectorizer, TfidfVectorizer\n",
    "from tensorflow.keras.preprocessing.text import Tokenizer\n",
    "from tensorflow.keras.preprocessing.sequence import pad_sequences"
   ]
  },
  {
   "cell_type": "code",
   "execution_count": 26,
   "metadata": {
    "id": "Ug2NWysCBgVA"
   },
   "outputs": [],
   "source": [
    "# Tokenización por palabra:\n",
    "count_ = Tokenizer()\n",
    "count_.fit_on_texts(plots)"
   ]
  },
  {
   "cell_type": "code",
   "execution_count": 27,
   "metadata": {
    "id": "_MLK1j7hBloz"
   },
   "outputs": [],
   "source": [
    "vocabulary = count_.word_index"
   ]
  },
  {
   "cell_type": "code",
   "execution_count": 28,
   "metadata": {
    "colab": {
     "base_uri": "https://localhost:8080/"
    },
    "id": "mCIMTVqQECl8",
    "outputId": "e28f2412-e7d4-4372-ba59-1de9c65f733d"
   },
   "outputs": [
    {
     "data": {
      "text/plain": [
       "True"
      ]
     },
     "execution_count": 28,
     "metadata": {},
     "output_type": "execute_result"
    }
   ],
   "source": [
    "'major' in vocabulary.keys()"
   ]
  },
  {
   "cell_type": "markdown",
   "metadata": {},
   "source": [
    "* Transformación de cada texto en palabras"
   ]
  },
  {
   "cell_type": "code",
   "execution_count": 29,
   "metadata": {
    "id": "f9vw12PaDy46"
   },
   "outputs": [],
   "source": [
    "# Se transforma cada texto en palabras de acuerdo con su diccionario de índices:\n",
    "frases_num = count_.sequences_to_texts(plots)\n",
    "matriz_pad =  pad_sequences(frases_num)"
   ]
  },
  {
   "cell_type": "code",
   "execution_count": 30,
   "metadata": {
    "colab": {
     "base_uri": "https://localhost:8080/"
    },
    "id": "yMsYMhjXDyuL",
    "outputId": "7da89ca8-8e57-4eee-d792-ea5460021510"
   },
   "outputs": [
    {
     "data": {
      "text/plain": [
       "array([], shape=(7895, 0), dtype=int32)"
      ]
     },
     "execution_count": 30,
     "metadata": {},
     "output_type": "execute_result"
    }
   ],
   "source": [
    "matriz_pad"
   ]
  },
  {
   "cell_type": "code",
   "execution_count": 31,
   "metadata": {
    "id": "Zalop-Zp658a"
   },
   "outputs": [],
   "source": [
    "# Se crea diccionario con el índice de cada letra/palabra:\n",
    "voc = set(''.join(plots))\n",
    "vocabulary = {x: idx + 1 for idx, x in enumerate(set(voc))}"
   ]
  },
  {
   "cell_type": "code",
   "execution_count": 32,
   "metadata": {
    "id": "xME8_OtP7nK3"
   },
   "outputs": [
    {
     "data": {
      "text/plain": [
       "{'ø': 1,\n",
       " 'ï': 2,\n",
       " 'ñ': 3,\n",
       " 'ü': 4,\n",
       " ' ': 5,\n",
       " 'q': 6,\n",
       " 's': 7,\n",
       " 'r': 8,\n",
       " 'k': 9,\n",
       " 'á': 10,\n",
       " '¹': 11,\n",
       " 'à': 12,\n",
       " 't': 13,\n",
       " 'ê': 14,\n",
       " 'e': 15,\n",
       " 'ç': 16,\n",
       " 'â': 17,\n",
       " 'j': 18,\n",
       " 'å': 19,\n",
       " 'z': 20,\n",
       " 'ò': 21,\n",
       " '½': 22,\n",
       " 'p': 23,\n",
       " 'h': 24,\n",
       " 'i': 25,\n",
       " 'w': 26,\n",
       " 'g': 27,\n",
       " 'f': 28,\n",
       " 'm': 29,\n",
       " 'v': 30,\n",
       " 'o': 31,\n",
       " 'd': 32,\n",
       " 'x': 33,\n",
       " 'ú': 34,\n",
       " 'é': 35,\n",
       " 'ë': 36,\n",
       " 'y': 37,\n",
       " 'ʼ': 38,\n",
       " 'è': 39,\n",
       " 'û': 40,\n",
       " 'ù': 41,\n",
       " 'a': 42,\n",
       " 'n': 43,\n",
       " 'í': 44,\n",
       " 'ä': 45,\n",
       " 'l': 46,\n",
       " 'b': 47,\n",
       " 'c': 48,\n",
       " 'ö': 49,\n",
       " 'u': 50,\n",
       " 'ô': 51,\n",
       " 'ó': 52}"
      ]
     },
     "execution_count": 32,
     "metadata": {},
     "output_type": "execute_result"
    }
   ],
   "source": [
    "vocabulary"
   ]
  },
  {
   "cell_type": "code",
   "execution_count": 33,
   "metadata": {
    "colab": {
     "base_uri": "https://localhost:8080/"
    },
    "id": "8UQXh3kqFOXT",
    "outputId": "75c9ec6f-37fa-4840-daec-4ee6a93dcd4e"
   },
   "outputs": [
    {
     "data": {
      "text/plain": [
       "['major',\n",
       " 'benson',\n",
       " 'winifr',\n",
       " 'payn',\n",
       " 'discharg',\n",
       " 'marin',\n",
       " 'payn',\n",
       " 'killin',\n",
       " 'machin',\n",
       " 'war']"
      ]
     },
     "execution_count": 33,
     "metadata": {},
     "output_type": "execute_result"
    }
   ],
   "source": [
    "plots[0].split()[:10]"
   ]
  },
  {
   "cell_type": "code",
   "execution_count": 34,
   "metadata": {
    "id": "WmxGLCz87od1"
   },
   "outputs": [],
   "source": [
    "max_url_len = 540\n",
    "X = [x[:max_url_len] for x in plots]\n",
    "# Convert characters to int and pad\n",
    "X = [[vocabulary[x1] for x1 in x if x1 in vocabulary.keys()] for x in plots.str.split()]"
   ]
  },
  {
   "cell_type": "code",
   "execution_count": 35,
   "metadata": {
    "colab": {
     "base_uri": "https://localhost:8080/"
    },
    "id": "CPaA8sT774sk",
    "outputId": "d1f67b55-5e16-4d1a-8737-2e1f6d9e90ec"
   },
   "outputs": [
    {
     "data": {
      "text/plain": [
       "[]"
      ]
     },
     "execution_count": 35,
     "metadata": {},
     "output_type": "execute_result"
    }
   ],
   "source": [
    "X[0][:10]"
   ]
  },
  {
   "cell_type": "code",
   "execution_count": 36,
   "metadata": {
    "colab": {
     "base_uri": "https://localhost:8080/",
     "height": 359
    },
    "id": "pILkWonsF6RV",
    "outputId": "a0080613-15ef-421c-bb95-69d764f97c70"
   },
   "outputs": [
    {
     "data": {
      "text/html": [
       "<div>\n",
       "<style scoped>\n",
       "    .dataframe tbody tr th:only-of-type {\n",
       "        vertical-align: middle;\n",
       "    }\n",
       "\n",
       "    .dataframe tbody tr th {\n",
       "        vertical-align: top;\n",
       "    }\n",
       "\n",
       "    .dataframe thead th {\n",
       "        text-align: right;\n",
       "    }\n",
       "</style>\n",
       "<table border=\"1\" class=\"dataframe\">\n",
       "  <thead>\n",
       "    <tr style=\"text-align: right;\">\n",
       "      <th></th>\n",
       "      <th>plot</th>\n",
       "      <th>plot_low</th>\n",
       "      <th>plot_low_rm_stem</th>\n",
       "    </tr>\n",
       "  </thead>\n",
       "  <tbody>\n",
       "    <tr>\n",
       "      <th>3107</th>\n",
       "      <td>most is the story of a single father who takes...</td>\n",
       "      <td>most is the story of a single father who takes...</td>\n",
       "      <td>stori singl father take eight year old son wor...</td>\n",
       "    </tr>\n",
       "    <tr>\n",
       "      <th>900</th>\n",
       "      <td>a serial killer decides to teach the secrets o...</td>\n",
       "      <td>a serial killer decides to teach the secrets o...</td>\n",
       "      <td>serial killer decid teach secret satisfi caree...</td>\n",
       "    </tr>\n",
       "    <tr>\n",
       "      <th>6724</th>\n",
       "      <td>in sweden ,  a female blackmailer with a disfi...</td>\n",
       "      <td>in sweden a female blackmailer with a disfigur...</td>\n",
       "      <td>sweden femal blackmail disfigur facial scar me...</td>\n",
       "    </tr>\n",
       "    <tr>\n",
       "      <th>4704</th>\n",
       "      <td>in a friday afternoon in new york ,  the presi...</td>\n",
       "      <td>in a friday afternoon in new york the presiden...</td>\n",
       "      <td>friday afternoon new york presid tredway corpo...</td>\n",
       "    </tr>\n",
       "    <tr>\n",
       "      <th>2582</th>\n",
       "      <td>in los angeles ,  the editor of a publishing h...</td>\n",
       "      <td>in los angeles the editor of a publishing hous...</td>\n",
       "      <td>lo angel editor publish hous carol hunnicut go...</td>\n",
       "    </tr>\n",
       "    <tr>\n",
       "      <th>9784</th>\n",
       "      <td>two drifters are passing through a western tow...</td>\n",
       "      <td>two drifters are passing through a western tow...</td>\n",
       "      <td>two drifter pass western town news come local ...</td>\n",
       "    </tr>\n",
       "    <tr>\n",
       "      <th>8804</th>\n",
       "      <td>two gay men on a date are murdered the night b...</td>\n",
       "      <td>two gay men on a date are murdered the night b...</td>\n",
       "      <td>two gay men date murder night halloween west h...</td>\n",
       "    </tr>\n",
       "    <tr>\n",
       "      <th>3501</th>\n",
       "      <td>adult huw morgan is about to move away from th...</td>\n",
       "      <td>adult huw morgan is about to move away from th...</td>\n",
       "      <td>adult huw morgan move away south wale coal min...</td>\n",
       "    </tr>\n",
       "    <tr>\n",
       "      <th>7145</th>\n",
       "      <td>bertram pincus is a man whose people skills le...</td>\n",
       "      <td>bertram pincus is a man whose people skills le...</td>\n",
       "      <td>bertram pincu man whose peopl skill leav much ...</td>\n",
       "    </tr>\n",
       "    <tr>\n",
       "      <th>4067</th>\n",
       "      <td>roy munson was raised to be the best bowler in...</td>\n",
       "      <td>roy munson was raised to be the best bowler in...</td>\n",
       "      <td>roy munson rais best bowler world train earli ...</td>\n",
       "    </tr>\n",
       "  </tbody>\n",
       "</table>\n",
       "</div>"
      ],
      "text/plain": [
       "                                                   plot  \\\n",
       "3107  most is the story of a single father who takes...   \n",
       "900   a serial killer decides to teach the secrets o...   \n",
       "6724  in sweden ,  a female blackmailer with a disfi...   \n",
       "4704  in a friday afternoon in new york ,  the presi...   \n",
       "2582  in los angeles ,  the editor of a publishing h...   \n",
       "9784  two drifters are passing through a western tow...   \n",
       "8804  two gay men on a date are murdered the night b...   \n",
       "3501  adult huw morgan is about to move away from th...   \n",
       "7145  bertram pincus is a man whose people skills le...   \n",
       "4067  roy munson was raised to be the best bowler in...   \n",
       "\n",
       "                                               plot_low  \\\n",
       "3107  most is the story of a single father who takes...   \n",
       "900   a serial killer decides to teach the secrets o...   \n",
       "6724  in sweden a female blackmailer with a disfigur...   \n",
       "4704  in a friday afternoon in new york the presiden...   \n",
       "2582  in los angeles the editor of a publishing hous...   \n",
       "9784  two drifters are passing through a western tow...   \n",
       "8804  two gay men on a date are murdered the night b...   \n",
       "3501  adult huw morgan is about to move away from th...   \n",
       "7145  bertram pincus is a man whose people skills le...   \n",
       "4067  roy munson was raised to be the best bowler in...   \n",
       "\n",
       "                                       plot_low_rm_stem  \n",
       "3107  stori singl father take eight year old son wor...  \n",
       "900   serial killer decid teach secret satisfi caree...  \n",
       "6724  sweden femal blackmail disfigur facial scar me...  \n",
       "4704  friday afternoon new york presid tredway corpo...  \n",
       "2582  lo angel editor publish hous carol hunnicut go...  \n",
       "9784  two drifter pass western town news come local ...  \n",
       "8804  two gay men date murder night halloween west h...  \n",
       "3501  adult huw morgan move away south wale coal min...  \n",
       "7145  bertram pincu man whose peopl skill leav much ...  \n",
       "4067  roy munson rais best bowler world train earli ...  "
      ]
     },
     "execution_count": 36,
     "metadata": {},
     "output_type": "execute_result"
    }
   ],
   "source": [
    "dataTraining[['plot','plot_low','plot_low_rm_stem']].head(10)"
   ]
  },
  {
   "cell_type": "code",
   "execution_count": 38,
   "metadata": {
    "colab": {
     "base_uri": "https://localhost:8080/"
    },
    "id": "FzLQcXXGGKC9",
    "outputId": "9c8d7176-f5be-4012-e39b-0d17ee3eb148"
   },
   "outputs": [
    {
     "data": {
      "text/plain": [
       "count    7895.000000\n",
       "mean      424.891577\n",
       "std       275.441225\n",
       "min         0.000000\n",
       "25%       236.000000\n",
       "50%       371.000000\n",
       "75%       540.000000\n",
       "max      4930.000000\n",
       "Name: plot_low_rm_stem, dtype: float64"
      ]
     },
     "execution_count": 38,
     "metadata": {},
     "output_type": "execute_result"
    }
   ],
   "source": [
    "dataTraining['plot_low_rm_stem'].str.len().describe()"
   ]
  },
  {
   "cell_type": "code",
   "execution_count": 39,
   "metadata": {
    "colab": {
     "base_uri": "https://localhost:8080/"
    },
    "id": "WsYBBcDd75uT",
    "outputId": "af1efc10-8653-4528-b13b-2e0de82f4e99"
   },
   "outputs": [
    {
     "data": {
      "text/plain": [
       "7895"
      ]
     },
     "execution_count": 39,
     "metadata": {},
     "output_type": "execute_result"
    }
   ],
   "source": [
    "len(dataTraining['plot'].tolist())"
   ]
  },
  {
   "cell_type": "code",
   "execution_count": 40,
   "metadata": {
    "colab": {
     "base_uri": "https://localhost:8080/"
    },
    "id": "Pa1XCLIv8K78",
    "outputId": "d98be548-18da-4f09-9e80-cdbe6cb50dec"
   },
   "outputs": [
    {
     "data": {
      "text/plain": [
       "array([[ 0,  0,  0, ...,  0,  0,  0],\n",
       "       [ 0,  0,  0, ...,  0,  0,  0],\n",
       "       [ 0,  0,  0, ...,  0,  0,  0],\n",
       "       ...,\n",
       "       [ 0,  0,  0, ...,  0,  0,  0],\n",
       "       [ 0,  0,  0, ..., 24, 43, 24],\n",
       "       [ 0,  0,  0, ...,  0,  0,  0]])"
      ]
     },
     "execution_count": 40,
     "metadata": {},
     "output_type": "execute_result"
    }
   ],
   "source": [
    "X_pad = sequence.pad_sequences(X, maxlen=max_url_len)\n",
    "X_pad"
   ]
  },
  {
   "cell_type": "code",
   "execution_count": 41,
   "metadata": {
    "colab": {
     "base_uri": "https://localhost:8080/"
    },
    "id": "ss7U2qk9IobX",
    "outputId": "c1239b9b-1205-402c-eb4a-1449ba51b864"
   },
   "outputs": [
    {
     "data": {
      "text/plain": [
       "(7895, 540)"
      ]
     },
     "execution_count": 41,
     "metadata": {},
     "output_type": "execute_result"
    }
   ],
   "source": [
    "X_pad.shape"
   ]
  },
  {
   "cell_type": "markdown",
   "metadata": {},
   "source": [
    "## Exercise 14.2."
   ]
  },
  {
   "cell_type": "markdown",
   "metadata": {},
   "source": [
    "* Creación de una red neuronal LSTM "
   ]
  },
  {
   "cell_type": "code",
   "execution_count": 122,
   "metadata": {
    "colab": {
     "base_uri": "https://localhost:8080/"
    },
    "id": "_MUoiG_NIoRu",
    "outputId": "25ba1cff-e7c2-4f5e-c6a9-aae92d167ff3"
   },
   "outputs": [
    {
     "name": "stdout",
     "output_type": "stream",
     "text": [
      "Model: \"sequential_9\"\n",
      "_________________________________________________________________\n",
      "Layer (type)                 Output Shape              Param #   \n",
      "=================================================================\n",
      "embedding_9 (Embedding)      (None, 540, 128)          6784      \n",
      "_________________________________________________________________\n",
      "bidirectional (Bidirectional (None, 256)               263168    \n",
      "_________________________________________________________________\n",
      "dropout_7 (Dropout)          (None, 256)               0         \n",
      "_________________________________________________________________\n",
      "dense_9 (Dense)              (None, 64)                16448     \n",
      "_________________________________________________________________\n",
      "dense_10 (Dense)             (None, 1)                 65        \n",
      "=================================================================\n",
      "Total params: 286,465\n",
      "Trainable params: 286,465\n",
      "Non-trainable params: 0\n",
      "_________________________________________________________________\n"
     ]
    }
   ],
   "source": [
    "from keras.layers import Bidirectional\n",
    "model = Sequential()\n",
    "model.add(Embedding(len(vocabulary) + 1, 128, input_length=max_url_len))\n",
    "model.add(Bidirectional(LSTM(128)))\n",
    "model.add(Dropout(0.5))\n",
    "model.add(Dense(64, activation='relu'))\n",
    "model.add(Dense(1, activation='sigmoid'))\n",
    "\n",
    "#Se especifica la función de pérdida, optimizador y la métrica de evaluación\n",
    "model.compile(loss='binary_crossentropy', optimizer='rmsprop', metrics=['accuracy'])\n",
    "model.summary()"
   ]
  },
  {
   "cell_type": "code",
   "execution_count": 123,
   "metadata": {
    "id": "Ph9jIBO3Jmr7"
   },
   "outputs": [],
   "source": [
    "X_train, X_test, y_train, y_test = train_test_split(X_pad, y, test_size=0.2, random_state=42)"
   ]
  },
  {
   "cell_type": "code",
   "execution_count": 124,
   "metadata": {
    "colab": {
     "base_uri": "https://localhost:8080/"
    },
    "id": "EpbmgtlTIn65",
    "outputId": "2e33ba32-e9aa-4ccf-baf7-b49847f61ba3"
   },
   "outputs": [
    {
     "name": "stdout",
     "output_type": "stream",
     "text": [
      "Epoch 1/2\n",
      "99/99 [==============================] - 1539s 15s/step - loss: 0.6909 - accuracy: 0.5202 - val_loss: 0.0000e+00 - val_accuracy: 0.0000e+00\n",
      "Epoch 2/2\n",
      "99/99 [==============================] - 1649s 17s/step - loss: 0.6880 - accuracy: 0.5311 - val_loss: 0.0000e+00 - val_accuracy: 0.0000e+00\n"
     ]
    },
    {
     "data": {
      "text/plain": [
       "<keras.callbacks.History at 0x190b65f3e50>"
      ]
     },
     "execution_count": 124,
     "metadata": {},
     "output_type": "execute_result"
    }
   ],
   "source": [
    "model.fit(X_train, y_train, validation_data=[X_test, y_test], \n",
    "          batch_size=64, epochs=2, verbose=1)\n",
    "          #callbacks=[PlotLossesKeras()])"
   ]
  },
  {
   "cell_type": "code",
   "execution_count": 125,
   "metadata": {
    "id": "lG5OQTlrNq6S"
   },
   "outputs": [],
   "source": [
    "from sklearn.metrics import accuracy_score"
   ]
  },
  {
   "cell_type": "code",
   "execution_count": 126,
   "metadata": {
    "colab": {
     "base_uri": "https://localhost:8080/"
    },
    "id": "N5sn40qNN33C",
    "outputId": "3d046609-4b80-40a7-8829-24fe2c496e20"
   },
   "outputs": [],
   "source": [
    "pred_ = model.predict_classes(X_pad)"
   ]
  },
  {
   "cell_type": "code",
   "execution_count": 127,
   "metadata": {
    "id": "FyuVbtTcOBN6"
   },
   "outputs": [],
   "source": [
    "import numpy as np\n",
    "y_real = np.array(y).reshape(-1,1)"
   ]
  },
  {
   "cell_type": "markdown",
   "metadata": {
    "id": "E4oh4hz7PJsb"
   },
   "source": [
    "* Accuracy sobre toda la base"
   ]
  },
  {
   "cell_type": "code",
   "execution_count": 128,
   "metadata": {
    "colab": {
     "base_uri": "https://localhost:8080/"
    },
    "id": "gYbS_B_fNeI_",
    "outputId": "d057485d-3de3-4d19-ac2d-b8251c380d96"
   },
   "outputs": [
    {
     "data": {
      "text/plain": [
       "0.5400886637112097"
      ]
     },
     "execution_count": 128,
     "metadata": {},
     "output_type": "execute_result"
    }
   ],
   "source": [
    "accuracy_score(pred_, y_real)"
   ]
  },
  {
   "cell_type": "markdown",
   "metadata": {},
   "source": [
    "* Accuracy sobre test"
   ]
  },
  {
   "cell_type": "code",
   "execution_count": 129,
   "metadata": {
    "colab": {
     "base_uri": "https://localhost:8080/"
    },
    "id": "cxkUrBSlOK6q",
    "outputId": "7f4bbb53-18ac-41db-9835-1e3a9b0f2fd0",
    "scrolled": false
   },
   "outputs": [
    {
     "data": {
      "text/plain": [
       "0.5174160861304623"
      ]
     },
     "execution_count": 129,
     "metadata": {},
     "output_type": "execute_result"
    }
   ],
   "source": [
    "# Se calcula el accuracy sobre la base de Test:\n",
    "pred_test = model.predict_classes(X_test)\n",
    "accuracy_score(pred_test, y_test)"
   ]
  },
  {
   "cell_type": "markdown",
   "metadata": {},
   "source": [
    "El Accuracy obtenido en la base de test creada equivale a **0.52**"
   ]
  }
 ],
 "metadata": {
  "colab": {
   "authorship_tag": "ABX9TyM0NAVWlr9PXKO7xtp3Ckv1",
   "collapsed_sections": [],
   "include_colab_link": true,
   "name": "E_14.ipynb",
   "provenance": []
  },
  "kernelspec": {
   "display_name": "Python 3",
   "language": "python",
   "name": "python3"
  },
  "language_info": {
   "codemirror_mode": {
    "name": "ipython",
    "version": 3
   },
   "file_extension": ".py",
   "mimetype": "text/x-python",
   "name": "python",
   "nbconvert_exporter": "python",
   "pygments_lexer": "ipython3",
   "version": "3.8.3"
  }
 },
 "nbformat": 4,
 "nbformat_minor": 1
}
