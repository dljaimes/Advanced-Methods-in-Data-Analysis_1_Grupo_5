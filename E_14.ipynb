{
  "nbformat": 4,
  "nbformat_minor": 0,
  "metadata": {
    "colab": {
      "name": "E_14.ipynb",
      "provenance": [],
      "collapsed_sections": [],
      "authorship_tag": "ABX9TyM0NAVWlr9PXKO7xtp3Ckv1",
      "include_colab_link": true
    },
    "kernelspec": {
      "name": "python3",
      "display_name": "Python 3"
    },
    "language_info": {
      "name": "python"
    }
  },
  "cells": [
    {
      "cell_type": "markdown",
      "metadata": {
        "id": "view-in-github",
        "colab_type": "text"
      },
      "source": [
        "<a href=\"https://colab.research.google.com/github/dljaimes/AdvancedMethodsinDataAnalysis1Grupo_5/blob/main/E_14.ipynb\" target=\"_parent\"><img src=\"https://colab.research.google.com/assets/colab-badge.svg\" alt=\"Open In Colab\"/></a>"
      ]
    },
    {
      "cell_type": "code",
      "metadata": {
        "id": "_jVwIXO46tGa"
      },
      "source": [
        "!pip install -q wordcloud\n",
        "!pip install livelossplot==0.1.2\n",
        "import pandas as pd\n",
        "from keras.models import Sequential\n",
        "from keras.layers.recurrent import LSTM\n",
        "from keras.layers.core import Dense, Dropout\n",
        "from keras.layers.embeddings import Embedding\n",
        "from keras.preprocessing import sequence\n",
        "#from livelossplot import PlotLossesKeras\n",
        "import keras\n",
        "from keras import backend as K\n",
        "from sklearn.model_selection import train_test_split\n",
        "import re\n",
        "import nltk\n",
        "from nltk.corpus import stopwords\n",
        "from livelossplot import PlotLossesKeras"
      ],
      "execution_count": 109,
      "outputs": []
    },
    {
      "cell_type": "code",
      "metadata": {
        "colab": {
          "base_uri": "https://localhost:8080/"
        },
        "id": "SRXpBeNC86Ez",
        "outputId": "818c80c0-bba3-41d1-f86d-31fa3922df37"
      },
      "source": [
        "# Se descargan los Stopwords:\n",
        "\n",
        "nltk.corpus.stopwords.words('english')\n",
        "nltk.download('wordnet')"
      ],
      "execution_count": 38,
      "outputs": [
        {
          "output_type": "stream",
          "text": [
            "[nltk_data] Downloading package wordnet to /root/nltk_data...\n",
            "[nltk_data]   Package wordnet is already up-to-date!\n"
          ],
          "name": "stdout"
        },
        {
          "output_type": "execute_result",
          "data": {
            "text/plain": [
              "True"
            ]
          },
          "metadata": {
            "tags": []
          },
          "execution_count": 38
        }
      ]
    },
    {
      "cell_type": "code",
      "metadata": {
        "id": "MKaPhESR6vkc"
      },
      "source": [
        "# Cargue del dataset:\n",
        "\n",
        "dataTraining = pd.read_csv('https://github.com/albahnsen/AdvancedMethodsDataAnalysisClass/raw/master/datasets/dataTraining.zip', encoding='UTF-8', index_col=0)"
      ],
      "execution_count": 40,
      "outputs": []
    },
    {
      "cell_type": "code",
      "metadata": {
        "id": "8pjVaOcb9vk8"
      },
      "source": [
        "# Se quitan caractéres especiales sobre cada texto:\n",
        "\n",
        "def pre_process(text):\n",
        "    # lowercase\n",
        "    text = text.lower()\n",
        "    # tags\n",
        "    text = re.sub('&lt;/?.*?&gt;',' &lt;&gt; ',text)\n",
        "    # special characters and digits\n",
        "    text=re.sub('(\\\\d|\\\\W)+',' ',text)\n",
        "    # remove punctuation\n",
        "    #text = re.sub('[.;:!\\'?,\\\"()\\[\\]]', '', text)\n",
        "    #text = [REPLACE.sub('', line) for line in text]\n",
        "    \n",
        "    return text\n",
        "\n",
        "# Se frea una columna con \n",
        "dataTraining['plot_low']=dataTraining['plot'].apply(lambda x:pre_process(x))\n",
        "\n",
        "\n"
      ],
      "execution_count": 41,
      "outputs": []
    },
    {
      "cell_type": "code",
      "metadata": {
        "id": "L0NecS6L-r7G"
      },
      "source": [
        "# Se quitan los stopwords:\n",
        "\n",
        "english_stop_words=stopwords.words('english')\n",
        "def remove_stop_words(corpus):\n",
        "    removed_stop_words = []\n",
        "    for review in corpus:\n",
        "        removed_stop_words.append(\n",
        "            ' '.join([word for word in review.split() \n",
        "                      if word not in english_stop_words])\n",
        "        )\n",
        "    return removed_stop_words\n",
        "\n",
        "dataTraining['plot_low_rm'] = remove_stop_words(dataTraining['plot_low'])\n",
        "\n",
        "\n",
        "from nltk.stem.porter import PorterStemmer\n",
        "def get_stemmed_text(corpus):\n",
        "    stemmer = PorterStemmer()\n",
        "    return [' '.join([stemmer.stem(word) for word in review.split()]) for review in corpus]\n",
        "\n",
        "dataTraining['plot_low_rm_stem'] = get_stemmed_text(dataTraining['plot_low_rm'])"
      ],
      "execution_count": 45,
      "outputs": []
    },
    {
      "cell_type": "code",
      "metadata": {
        "colab": {
          "base_uri": "https://localhost:8080/"
        },
        "id": "esG1fNnk914h",
        "outputId": "0ec7332d-215d-4ba9-f5d7-6859b06fb5ad"
      },
      "source": [
        "dataTraining.columns"
      ],
      "execution_count": 46,
      "outputs": [
        {
          "output_type": "execute_result",
          "data": {
            "text/plain": [
              "Index(['year', 'title', 'plot', 'genres', 'rating', 'plot_low', 'plot_low_rm',\n",
              "       'plot_low_rm_stem'],\n",
              "      dtype='object')"
            ]
          },
          "metadata": {
            "tags": []
          },
          "execution_count": 46
        }
      ]
    },
    {
      "cell_type": "code",
      "metadata": {
        "colab": {
          "base_uri": "https://localhost:8080/",
          "height": 419
        },
        "id": "yrsxAdWE9yhT",
        "outputId": "3bd034a6-0993-4bfc-f509-305e9b2cf4ab"
      },
      "source": [
        "dataTraining[['plot','plot_low','plot_low_rm_stem']]"
      ],
      "execution_count": 47,
      "outputs": [
        {
          "output_type": "execute_result",
          "data": {
            "text/html": [
              "<div>\n",
              "<style scoped>\n",
              "    .dataframe tbody tr th:only-of-type {\n",
              "        vertical-align: middle;\n",
              "    }\n",
              "\n",
              "    .dataframe tbody tr th {\n",
              "        vertical-align: top;\n",
              "    }\n",
              "\n",
              "    .dataframe thead th {\n",
              "        text-align: right;\n",
              "    }\n",
              "</style>\n",
              "<table border=\"1\" class=\"dataframe\">\n",
              "  <thead>\n",
              "    <tr style=\"text-align: right;\">\n",
              "      <th></th>\n",
              "      <th>plot</th>\n",
              "      <th>plot_low</th>\n",
              "      <th>plot_low_rm_stem</th>\n",
              "    </tr>\n",
              "  </thead>\n",
              "  <tbody>\n",
              "    <tr>\n",
              "      <th>3107</th>\n",
              "      <td>most is the story of a single father who takes...</td>\n",
              "      <td>most is the story of a single father who takes...</td>\n",
              "      <td>stori singl father take eight year old son wor...</td>\n",
              "    </tr>\n",
              "    <tr>\n",
              "      <th>900</th>\n",
              "      <td>a serial killer decides to teach the secrets o...</td>\n",
              "      <td>a serial killer decides to teach the secrets o...</td>\n",
              "      <td>serial killer decid teach secret satisfi caree...</td>\n",
              "    </tr>\n",
              "    <tr>\n",
              "      <th>6724</th>\n",
              "      <td>in sweden ,  a female blackmailer with a disfi...</td>\n",
              "      <td>in sweden a female blackmailer with a disfigur...</td>\n",
              "      <td>sweden femal blackmail disfigur facial scar me...</td>\n",
              "    </tr>\n",
              "    <tr>\n",
              "      <th>4704</th>\n",
              "      <td>in a friday afternoon in new york ,  the presi...</td>\n",
              "      <td>in a friday afternoon in new york the presiden...</td>\n",
              "      <td>friday afternoon new york presid tredway corpo...</td>\n",
              "    </tr>\n",
              "    <tr>\n",
              "      <th>2582</th>\n",
              "      <td>in los angeles ,  the editor of a publishing h...</td>\n",
              "      <td>in los angeles the editor of a publishing hous...</td>\n",
              "      <td>lo angel editor publish hous carol hunnicut go...</td>\n",
              "    </tr>\n",
              "    <tr>\n",
              "      <th>...</th>\n",
              "      <td>...</td>\n",
              "      <td>...</td>\n",
              "      <td>...</td>\n",
              "    </tr>\n",
              "    <tr>\n",
              "      <th>8417</th>\n",
              "      <td>\" our marriage ,  their wedding .  \"  it ' s l...</td>\n",
              "      <td>our marriage their wedding it s lesson number...</td>\n",
              "      <td>marriag wed lesson number one newli engag coup...</td>\n",
              "    </tr>\n",
              "    <tr>\n",
              "      <th>1592</th>\n",
              "      <td>the wandering barbarian ,  conan ,  alongside ...</td>\n",
              "      <td>the wandering barbarian conan alongside his go...</td>\n",
              "      <td>wander barbarian conan alongsid goofi rogu pal...</td>\n",
              "    </tr>\n",
              "    <tr>\n",
              "      <th>1723</th>\n",
              "      <td>like a tale spun by scheherazade ,  kismet fol...</td>\n",
              "      <td>like a tale spun by scheherazade kismet follow...</td>\n",
              "      <td>like tale spun scheherazad kismet follow remar...</td>\n",
              "    </tr>\n",
              "    <tr>\n",
              "      <th>7605</th>\n",
              "      <td>mrs .  brisby ,  a widowed mouse ,  lives in a...</td>\n",
              "      <td>mrs brisby a widowed mouse lives in a cinder b...</td>\n",
              "      <td>mr brisbi widow mous live cinder block childre...</td>\n",
              "    </tr>\n",
              "    <tr>\n",
              "      <th>215</th>\n",
              "      <td>tinker bell journey far north of never land to...</td>\n",
              "      <td>tinker bell journey far north of never land to...</td>\n",
              "      <td>tinker bell journey far north never land patch...</td>\n",
              "    </tr>\n",
              "  </tbody>\n",
              "</table>\n",
              "<p>7895 rows × 3 columns</p>\n",
              "</div>"
            ],
            "text/plain": [
              "                                                   plot  ...                                   plot_low_rm_stem\n",
              "3107  most is the story of a single father who takes...  ...  stori singl father take eight year old son wor...\n",
              "900   a serial killer decides to teach the secrets o...  ...  serial killer decid teach secret satisfi caree...\n",
              "6724  in sweden ,  a female blackmailer with a disfi...  ...  sweden femal blackmail disfigur facial scar me...\n",
              "4704  in a friday afternoon in new york ,  the presi...  ...  friday afternoon new york presid tredway corpo...\n",
              "2582  in los angeles ,  the editor of a publishing h...  ...  lo angel editor publish hous carol hunnicut go...\n",
              "...                                                 ...  ...                                                ...\n",
              "8417  \" our marriage ,  their wedding .  \"  it ' s l...  ...  marriag wed lesson number one newli engag coup...\n",
              "1592  the wandering barbarian ,  conan ,  alongside ...  ...  wander barbarian conan alongsid goofi rogu pal...\n",
              "1723  like a tale spun by scheherazade ,  kismet fol...  ...  like tale spun scheherazad kismet follow remar...\n",
              "7605  mrs .  brisby ,  a widowed mouse ,  lives in a...  ...  mr brisbi widow mous live cinder block childre...\n",
              "215   tinker bell journey far north of never land to...  ...  tinker bell journey far north never land patch...\n",
              "\n",
              "[7895 rows x 3 columns]"
            ]
          },
          "metadata": {
            "tags": []
          },
          "execution_count": 47
        }
      ]
    },
    {
      "cell_type": "code",
      "metadata": {
        "id": "R1YTX4jc6x1_"
      },
      "source": [
        "# Se separan las variables de salida (y) y el texto transformado (sin stopwords y stemmizado):\n",
        "\n",
        "plots = dataTraining['plot_low_rm_stem']\n",
        "y = (dataTraining['rating'] >= dataTraining['rating'].mean()).astype(int) # se discretiza la variable 1 si la calificacion es >= promedio 0 dlc."
      ],
      "execution_count": 49,
      "outputs": []
    },
    {
      "cell_type": "code",
      "metadata": {
        "colab": {
          "base_uri": "https://localhost:8080/"
        },
        "id": "74oWcKcn60Uy",
        "outputId": "1e54498e-e011-4c3b-e185-9e259bc37353"
      },
      "source": [
        "y"
      ],
      "execution_count": 50,
      "outputs": [
        {
          "output_type": "execute_result",
          "data": {
            "text/plain": [
              "3107    1\n",
              "900     0\n",
              "6724    1\n",
              "4704    1\n",
              "2582    1\n",
              "       ..\n",
              "8417    0\n",
              "1592    0\n",
              "1723    0\n",
              "7605    1\n",
              "215     1\n",
              "Name: rating, Length: 7895, dtype: int64"
            ]
          },
          "metadata": {
            "tags": []
          },
          "execution_count": 50
        }
      ]
    },
    {
      "cell_type": "code",
      "metadata": {
        "id": "BZOKXWvkA5KJ"
      },
      "source": [
        "from sklearn.feature_extraction.text import CountVectorizer, TfidfVectorizer\n",
        "from tensorflow.keras.preprocessing.text import Tokenizer\n",
        "from tensorflow.keras.preprocessing.sequence import pad_sequences"
      ],
      "execution_count": 72,
      "outputs": []
    },
    {
      "cell_type": "code",
      "metadata": {
        "id": "Ug2NWysCBgVA"
      },
      "source": [
        "# Tokenización por palabra:\n",
        "\n",
        "count_ = Tokenizer()\n",
        "count_.fit_on_texts(plots)"
      ],
      "execution_count": 69,
      "outputs": []
    },
    {
      "cell_type": "code",
      "metadata": {
        "id": "_MLK1j7hBloz"
      },
      "source": [
        "vocabulary = count_.word_index"
      ],
      "execution_count": 83,
      "outputs": []
    },
    {
      "cell_type": "code",
      "metadata": {
        "colab": {
          "base_uri": "https://localhost:8080/"
        },
        "id": "mCIMTVqQECl8",
        "outputId": "e28f2412-e7d4-4372-ba59-1de9c65f733d"
      },
      "source": [
        "'major' in vocabulary.keys()"
      ],
      "execution_count": 84,
      "outputs": [
        {
          "output_type": "execute_result",
          "data": {
            "text/plain": [
              "True"
            ]
          },
          "metadata": {
            "tags": []
          },
          "execution_count": 84
        }
      ]
    },
    {
      "cell_type": "code",
      "metadata": {
        "id": "f9vw12PaDy46"
      },
      "source": [
        "# Se transforma cada texto en palabras de acuerdo con su diccionario de ínidices:\n",
        "\n",
        "frases_num = count_.sequences_to_texts(plots)\n",
        "matriz_pad =  pad_sequences(frases_num)"
      ],
      "execution_count": 77,
      "outputs": []
    },
    {
      "cell_type": "code",
      "metadata": {
        "colab": {
          "base_uri": "https://localhost:8080/"
        },
        "id": "yMsYMhjXDyuL",
        "outputId": "7da89ca8-8e57-4eee-d792-ea5460021510"
      },
      "source": [
        "matriz_pad"
      ],
      "execution_count": 78,
      "outputs": [
        {
          "output_type": "execute_result",
          "data": {
            "text/plain": [
              "array([], shape=(7895, 0), dtype=int32)"
            ]
          },
          "metadata": {
            "tags": []
          },
          "execution_count": 78
        }
      ]
    },
    {
      "cell_type": "code",
      "metadata": {
        "id": "XHIZYEO-Dyhl"
      },
      "source": [
        ""
      ],
      "execution_count": null,
      "outputs": []
    },
    {
      "cell_type": "code",
      "metadata": {
        "id": "Dgsitn4CDyKS"
      },
      "source": [
        ""
      ],
      "execution_count": null,
      "outputs": []
    },
    {
      "cell_type": "code",
      "metadata": {
        "id": "_ujEOgyGDxkF"
      },
      "source": [
        "aaa"
      ],
      "execution_count": null,
      "outputs": []
    },
    {
      "cell_type": "code",
      "metadata": {
        "id": "Zalop-Zp658a"
      },
      "source": [
        "# Se crea diccionario con el índice de cada letra/palabra:\n",
        "\n",
        "voc = set(''.join(plots))\n",
        "vocabulary = {x: idx + 1 for idx, x in enumerate(set(voc))}"
      ],
      "execution_count": 51,
      "outputs": []
    },
    {
      "cell_type": "code",
      "metadata": {
        "id": "xME8_OtP7nK3"
      },
      "source": [
        "vocabulary"
      ],
      "execution_count": null,
      "outputs": []
    },
    {
      "cell_type": "code",
      "metadata": {
        "colab": {
          "base_uri": "https://localhost:8080/"
        },
        "id": "8UQXh3kqFOXT",
        "outputId": "75c9ec6f-37fa-4840-daec-4ee6a93dcd4e"
      },
      "source": [
        "plots[0].split()[:10]"
      ],
      "execution_count": 82,
      "outputs": [
        {
          "output_type": "execute_result",
          "data": {
            "text/plain": [
              "['major',\n",
              " 'benson',\n",
              " 'winifr',\n",
              " 'payn',\n",
              " 'discharg',\n",
              " 'marin',\n",
              " 'payn',\n",
              " 'killin',\n",
              " 'machin',\n",
              " 'war']"
            ]
          },
          "metadata": {
            "tags": []
          },
          "execution_count": 82
        }
      ]
    },
    {
      "cell_type": "code",
      "metadata": {
        "id": "WmxGLCz87od1"
      },
      "source": [
        "max_url_len = 540\n",
        "X = [x[:max_url_len] for x in plots]\n",
        "# Convert characters to int and pad\n",
        "X = [[vocabulary[x1] for x1 in x if x1 in vocabulary.keys()] for x in plots.str.split()]"
      ],
      "execution_count": 100,
      "outputs": []
    },
    {
      "cell_type": "code",
      "metadata": {
        "colab": {
          "base_uri": "https://localhost:8080/"
        },
        "id": "CPaA8sT774sk",
        "outputId": "d1f67b55-5e16-4d1a-8737-2e1f6d9e90ec"
      },
      "source": [
        "X[0][:10]"
      ],
      "execution_count": 91,
      "outputs": [
        {
          "output_type": "execute_result",
          "data": {
            "text/plain": [
              "[39, 629, 22, 12, 1046, 8, 31, 45, 17, 2744]"
            ]
          },
          "metadata": {
            "tags": []
          },
          "execution_count": 91
        }
      ]
    },
    {
      "cell_type": "code",
      "metadata": {
        "colab": {
          "base_uri": "https://localhost:8080/",
          "height": 359
        },
        "id": "pILkWonsF6RV",
        "outputId": "a0080613-15ef-421c-bb95-69d764f97c70"
      },
      "source": [
        "dataTraining[['plot','plot_low','plot_low_rm_stem']].head(10)"
      ],
      "execution_count": 92,
      "outputs": [
        {
          "output_type": "execute_result",
          "data": {
            "text/html": [
              "<div>\n",
              "<style scoped>\n",
              "    .dataframe tbody tr th:only-of-type {\n",
              "        vertical-align: middle;\n",
              "    }\n",
              "\n",
              "    .dataframe tbody tr th {\n",
              "        vertical-align: top;\n",
              "    }\n",
              "\n",
              "    .dataframe thead th {\n",
              "        text-align: right;\n",
              "    }\n",
              "</style>\n",
              "<table border=\"1\" class=\"dataframe\">\n",
              "  <thead>\n",
              "    <tr style=\"text-align: right;\">\n",
              "      <th></th>\n",
              "      <th>plot</th>\n",
              "      <th>plot_low</th>\n",
              "      <th>plot_low_rm_stem</th>\n",
              "    </tr>\n",
              "  </thead>\n",
              "  <tbody>\n",
              "    <tr>\n",
              "      <th>3107</th>\n",
              "      <td>most is the story of a single father who takes...</td>\n",
              "      <td>most is the story of a single father who takes...</td>\n",
              "      <td>stori singl father take eight year old son wor...</td>\n",
              "    </tr>\n",
              "    <tr>\n",
              "      <th>900</th>\n",
              "      <td>a serial killer decides to teach the secrets o...</td>\n",
              "      <td>a serial killer decides to teach the secrets o...</td>\n",
              "      <td>serial killer decid teach secret satisfi caree...</td>\n",
              "    </tr>\n",
              "    <tr>\n",
              "      <th>6724</th>\n",
              "      <td>in sweden ,  a female blackmailer with a disfi...</td>\n",
              "      <td>in sweden a female blackmailer with a disfigur...</td>\n",
              "      <td>sweden femal blackmail disfigur facial scar me...</td>\n",
              "    </tr>\n",
              "    <tr>\n",
              "      <th>4704</th>\n",
              "      <td>in a friday afternoon in new york ,  the presi...</td>\n",
              "      <td>in a friday afternoon in new york the presiden...</td>\n",
              "      <td>friday afternoon new york presid tredway corpo...</td>\n",
              "    </tr>\n",
              "    <tr>\n",
              "      <th>2582</th>\n",
              "      <td>in los angeles ,  the editor of a publishing h...</td>\n",
              "      <td>in los angeles the editor of a publishing hous...</td>\n",
              "      <td>lo angel editor publish hous carol hunnicut go...</td>\n",
              "    </tr>\n",
              "    <tr>\n",
              "      <th>9784</th>\n",
              "      <td>two drifters are passing through a western tow...</td>\n",
              "      <td>two drifters are passing through a western tow...</td>\n",
              "      <td>two drifter pass western town news come local ...</td>\n",
              "    </tr>\n",
              "    <tr>\n",
              "      <th>8804</th>\n",
              "      <td>two gay men on a date are murdered the night b...</td>\n",
              "      <td>two gay men on a date are murdered the night b...</td>\n",
              "      <td>two gay men date murder night halloween west h...</td>\n",
              "    </tr>\n",
              "    <tr>\n",
              "      <th>3501</th>\n",
              "      <td>adult huw morgan is about to move away from th...</td>\n",
              "      <td>adult huw morgan is about to move away from th...</td>\n",
              "      <td>adult huw morgan move away south wale coal min...</td>\n",
              "    </tr>\n",
              "    <tr>\n",
              "      <th>7145</th>\n",
              "      <td>bertram pincus is a man whose people skills le...</td>\n",
              "      <td>bertram pincus is a man whose people skills le...</td>\n",
              "      <td>bertram pincu man whose peopl skill leav much ...</td>\n",
              "    </tr>\n",
              "    <tr>\n",
              "      <th>4067</th>\n",
              "      <td>roy munson was raised to be the best bowler in...</td>\n",
              "      <td>roy munson was raised to be the best bowler in...</td>\n",
              "      <td>roy munson rais best bowler world train earli ...</td>\n",
              "    </tr>\n",
              "  </tbody>\n",
              "</table>\n",
              "</div>"
            ],
            "text/plain": [
              "                                                   plot  ...                                   plot_low_rm_stem\n",
              "3107  most is the story of a single father who takes...  ...  stori singl father take eight year old son wor...\n",
              "900   a serial killer decides to teach the secrets o...  ...  serial killer decid teach secret satisfi caree...\n",
              "6724  in sweden ,  a female blackmailer with a disfi...  ...  sweden femal blackmail disfigur facial scar me...\n",
              "4704  in a friday afternoon in new york ,  the presi...  ...  friday afternoon new york presid tredway corpo...\n",
              "2582  in los angeles ,  the editor of a publishing h...  ...  lo angel editor publish hous carol hunnicut go...\n",
              "9784  two drifters are passing through a western tow...  ...  two drifter pass western town news come local ...\n",
              "8804  two gay men on a date are murdered the night b...  ...  two gay men date murder night halloween west h...\n",
              "3501  adult huw morgan is about to move away from th...  ...  adult huw morgan move away south wale coal min...\n",
              "7145  bertram pincus is a man whose people skills le...  ...  bertram pincu man whose peopl skill leav much ...\n",
              "4067  roy munson was raised to be the best bowler in...  ...  roy munson rais best bowler world train earli ...\n",
              "\n",
              "[10 rows x 3 columns]"
            ]
          },
          "metadata": {
            "tags": []
          },
          "execution_count": 92
        }
      ]
    },
    {
      "cell_type": "code",
      "metadata": {
        "id": "LTPVYYTGGJvb"
      },
      "source": [
        "vocabulary[]"
      ],
      "execution_count": null,
      "outputs": []
    },
    {
      "cell_type": "code",
      "metadata": {
        "colab": {
          "base_uri": "https://localhost:8080/"
        },
        "id": "FzLQcXXGGKC9",
        "outputId": "9c8d7176-f5be-4012-e39b-0d17ee3eb148"
      },
      "source": [
        "dataTraining['plot_low_rm_stem'].str.len().describe()"
      ],
      "execution_count": 99,
      "outputs": [
        {
          "output_type": "execute_result",
          "data": {
            "text/plain": [
              "count    7895.000000\n",
              "mean      424.891577\n",
              "std       275.441225\n",
              "min         0.000000\n",
              "25%       236.000000\n",
              "50%       371.000000\n",
              "75%       540.000000\n",
              "max      4930.000000\n",
              "Name: plot_low_rm_stem, dtype: float64"
            ]
          },
          "metadata": {
            "tags": []
          },
          "execution_count": 99
        }
      ]
    },
    {
      "cell_type": "code",
      "metadata": {
        "id": "fo_0s8UwGKJ8"
      },
      "source": [
        ""
      ],
      "execution_count": null,
      "outputs": []
    },
    {
      "cell_type": "code",
      "metadata": {
        "id": "lFTg4VDlGKQF"
      },
      "source": [
        ""
      ],
      "execution_count": null,
      "outputs": []
    },
    {
      "cell_type": "code",
      "metadata": {
        "id": "N9__WBjZGKV6"
      },
      "source": [
        ""
      ],
      "execution_count": null,
      "outputs": []
    },
    {
      "cell_type": "code",
      "metadata": {
        "id": "nCKu9WdnGKZO"
      },
      "source": [
        ""
      ],
      "execution_count": null,
      "outputs": []
    },
    {
      "cell_type": "code",
      "metadata": {
        "id": "HNxme8Z5GKdh"
      },
      "source": [
        ""
      ],
      "execution_count": null,
      "outputs": []
    },
    {
      "cell_type": "code",
      "metadata": {
        "colab": {
          "base_uri": "https://localhost:8080/"
        },
        "id": "WsYBBcDd75uT",
        "outputId": "af1efc10-8653-4528-b13b-2e0de82f4e99"
      },
      "source": [
        "len(dataTraining['plot'].tolist())"
      ],
      "execution_count": 18,
      "outputs": [
        {
          "output_type": "execute_result",
          "data": {
            "text/plain": [
              "7895"
            ]
          },
          "metadata": {
            "tags": []
          },
          "execution_count": 18
        }
      ]
    },
    {
      "cell_type": "code",
      "metadata": {
        "colab": {
          "base_uri": "https://localhost:8080/"
        },
        "id": "Pa1XCLIv8K78",
        "outputId": "d98be548-18da-4f09-9e80-cdbe6cb50dec"
      },
      "source": [
        "X_pad = sequence.pad_sequences(X, maxlen=max_url_len)\n",
        "X_pad"
      ],
      "execution_count": 101,
      "outputs": [
        {
          "output_type": "execute_result",
          "data": {
            "text/plain": [
              "array([[    0,     0,     0, ...,  3760,  6588,    69],\n",
              "       [    0,     0,     0, ...,  1100,   490,  1646],\n",
              "       [    0,     0,     0, ...,     8,    31,  1773],\n",
              "       ...,\n",
              "       [    0,     0,     0, ...,   616,    12,   196],\n",
              "       [    0,     0,     0, ...,    24, 17083,   105],\n",
              "       [    0,     0,     0, ..., 13014,  3529,  1484]], dtype=int32)"
            ]
          },
          "metadata": {
            "tags": []
          },
          "execution_count": 101
        }
      ]
    },
    {
      "cell_type": "code",
      "metadata": {
        "colab": {
          "base_uri": "https://localhost:8080/"
        },
        "id": "ss7U2qk9IobX",
        "outputId": "c1239b9b-1205-402c-eb4a-1449ba51b864"
      },
      "source": [
        "X_pad.shape"
      ],
      "execution_count": 102,
      "outputs": [
        {
          "output_type": "execute_result",
          "data": {
            "text/plain": [
              "(7895, 540)"
            ]
          },
          "metadata": {
            "tags": []
          },
          "execution_count": 102
        }
      ]
    },
    {
      "cell_type": "code",
      "metadata": {
        "colab": {
          "base_uri": "https://localhost:8080/"
        },
        "id": "_MUoiG_NIoRu",
        "outputId": "25ba1cff-e7c2-4f5e-c6a9-aae92d167ff3"
      },
      "source": [
        "\n",
        "model = Sequential()\n",
        "model.add(Embedding(len(vocabulary) + 1, 128, input_length=max_url_len))\n",
        "model.add(LSTM(32))\n",
        "model.add(Dropout(0.5))\n",
        "model.add(Dense(1, activation='sigmoid'))\n",
        "model.compile(loss='binary_crossentropy', optimizer='rmsprop', metrics=['accuracy'])\n",
        "\n",
        "model.summary()"
      ],
      "execution_count": 143,
      "outputs": [
        {
          "output_type": "stream",
          "text": [
            "Model: \"sequential_3\"\n",
            "_________________________________________________________________\n",
            "Layer (type)                 Output Shape              Param #   \n",
            "=================================================================\n",
            "embedding_3 (Embedding)      (None, 540, 128)          3460864   \n",
            "_________________________________________________________________\n",
            "lstm_3 (LSTM)                (None, 32)                20608     \n",
            "_________________________________________________________________\n",
            "dropout_3 (Dropout)          (None, 32)                0         \n",
            "_________________________________________________________________\n",
            "dense_3 (Dense)              (None, 1)                 33        \n",
            "=================================================================\n",
            "Total params: 3,481,505\n",
            "Trainable params: 3,481,505\n",
            "Non-trainable params: 0\n",
            "_________________________________________________________________\n"
          ],
          "name": "stdout"
        }
      ]
    },
    {
      "cell_type": "code",
      "metadata": {
        "id": "Ph9jIBO3Jmr7"
      },
      "source": [
        "X_train, X_test, y_train, y_test = train_test_split(X_pad, y, test_size=0.33, random_state=42)"
      ],
      "execution_count": 118,
      "outputs": []
    },
    {
      "cell_type": "code",
      "metadata": {
        "colab": {
          "base_uri": "https://localhost:8080/"
        },
        "id": "EpbmgtlTIn65",
        "outputId": "2e33ba32-e9aa-4ccf-baf7-b49847f61ba3"
      },
      "source": [
        "model.fit(X_train, y_train, validation_data=[X_test, y_test], \n",
        "          batch_size=128, epochs=10, verbose=1)\n",
        "          #callbacks=[PlotLossesKeras()])"
      ],
      "execution_count": 121,
      "outputs": [
        {
          "output_type": "stream",
          "text": [
            "Epoch 1/10\n",
            "42/42 [==============================] - 67s 976ms/step - loss: 0.6911 - accuracy: 0.5305 - val_loss: 0.0000e+00 - val_accuracy: 0.0000e+00\n",
            "Epoch 2/10\n",
            "42/42 [==============================] - 40s 946ms/step - loss: 0.6166 - accuracy: 0.6940 - val_loss: 0.0000e+00 - val_accuracy: 0.0000e+00\n",
            "Epoch 3/10\n",
            "42/42 [==============================] - 40s 952ms/step - loss: 0.4551 - accuracy: 0.8308 - val_loss: 0.0000e+00 - val_accuracy: 0.0000e+00\n",
            "Epoch 4/10\n",
            "42/42 [==============================] - 40s 952ms/step - loss: 0.3170 - accuracy: 0.8890 - val_loss: 0.0000e+00 - val_accuracy: 0.0000e+00\n",
            "Epoch 5/10\n",
            "42/42 [==============================] - 40s 949ms/step - loss: 0.1768 - accuracy: 0.9475 - val_loss: 0.0000e+00 - val_accuracy: 0.0000e+00\n",
            "Epoch 6/10\n",
            "42/42 [==============================] - 40s 952ms/step - loss: 0.1171 - accuracy: 0.9727 - val_loss: 0.0000e+00 - val_accuracy: 0.0000e+00\n",
            "Epoch 7/10\n",
            "42/42 [==============================] - 40s 962ms/step - loss: 0.0648 - accuracy: 0.9892 - val_loss: 0.0000e+00 - val_accuracy: 0.0000e+00\n",
            "Epoch 8/10\n",
            "42/42 [==============================] - 40s 951ms/step - loss: 0.0496 - accuracy: 0.9879 - val_loss: 0.0000e+00 - val_accuracy: 0.0000e+00\n",
            "Epoch 9/10\n",
            "42/42 [==============================] - 40s 950ms/step - loss: 0.0319 - accuracy: 0.9936 - val_loss: 0.0000e+00 - val_accuracy: 0.0000e+00\n",
            "Epoch 10/10\n",
            "42/42 [==============================] - 40s 945ms/step - loss: 0.0221 - accuracy: 0.9974 - val_loss: 0.0000e+00 - val_accuracy: 0.0000e+00\n"
          ],
          "name": "stdout"
        },
        {
          "output_type": "execute_result",
          "data": {
            "text/plain": [
              "<keras.callbacks.History at 0x7fd18ee92890>"
            ]
          },
          "metadata": {
            "tags": []
          },
          "execution_count": 121
        }
      ]
    },
    {
      "cell_type": "code",
      "metadata": {
        "colab": {
          "base_uri": "https://localhost:8080/"
        },
        "id": "93vf1n4w8S2W",
        "outputId": "b93fb41d-3a0d-4406-9a5b-cd1cb13c6d67"
      },
      "source": [
        "X_train.shape"
      ],
      "execution_count": 122,
      "outputs": [
        {
          "output_type": "execute_result",
          "data": {
            "text/plain": [
              "(5289, 540)"
            ]
          },
          "metadata": {
            "tags": []
          },
          "execution_count": 122
        }
      ]
    },
    {
      "cell_type": "code",
      "metadata": {
        "colab": {
          "base_uri": "https://localhost:8080/"
        },
        "id": "hPDoOYGq8Ypc",
        "outputId": "ca1bcfd3-8a82-4db6-e3cd-7ad4dc5fc009"
      },
      "source": [
        "X_test.shape"
      ],
      "execution_count": 123,
      "outputs": [
        {
          "output_type": "execute_result",
          "data": {
            "text/plain": [
              "(2606, 540)"
            ]
          },
          "metadata": {
            "tags": []
          },
          "execution_count": 123
        }
      ]
    },
    {
      "cell_type": "code",
      "metadata": {
        "id": "lG5OQTlrNq6S"
      },
      "source": [
        "from sklearn.metrics import accuracy_score"
      ],
      "execution_count": 125,
      "outputs": []
    },
    {
      "cell_type": "code",
      "metadata": {
        "colab": {
          "base_uri": "https://localhost:8080/"
        },
        "id": "N5sn40qNN33C",
        "outputId": "3d046609-4b80-40a7-8829-24fe2c496e20"
      },
      "source": [
        "pred_ = model.predict_classes(X_pad)"
      ],
      "execution_count": 139,
      "outputs": [
        {
          "output_type": "stream",
          "text": [
            "/usr/local/lib/python3.7/dist-packages/keras/engine/sequential.py:450: UserWarning: `model.predict_classes()` is deprecated and will be removed after 2021-01-01. Please use instead:* `np.argmax(model.predict(x), axis=-1)`,   if your model does multi-class classification   (e.g. if it uses a `softmax` last-layer activation).* `(model.predict(x) > 0.5).astype(\"int32\")`,   if your model does binary classification   (e.g. if it uses a `sigmoid` last-layer activation).\n",
            "  warnings.warn('`model.predict_classes()` is deprecated and '\n"
          ],
          "name": "stderr"
        }
      ]
    },
    {
      "cell_type": "code",
      "metadata": {
        "id": "FyuVbtTcOBN6"
      },
      "source": [
        "y_real = np.array(y).reshape(-1,1)"
      ],
      "execution_count": 140,
      "outputs": []
    },
    {
      "cell_type": "markdown",
      "metadata": {
        "id": "E4oh4hz7PJsb"
      },
      "source": [
        "# Accuracy sobre toda la base"
      ]
    },
    {
      "cell_type": "code",
      "metadata": {
        "colab": {
          "base_uri": "https://localhost:8080/"
        },
        "id": "gYbS_B_fNeI_",
        "outputId": "d057485d-3de3-4d19-ac2d-b8251c380d96"
      },
      "source": [
        "accuracy_score(pred_, y_real)"
      ],
      "execution_count": 141,
      "outputs": [
        {
          "output_type": "execute_result",
          "data": {
            "text/plain": [
              "0.8635845471817606"
            ]
          },
          "metadata": {
            "tags": []
          },
          "execution_count": 141
        }
      ]
    },
    {
      "cell_type": "code",
      "metadata": {
        "colab": {
          "base_uri": "https://localhost:8080/"
        },
        "id": "cxkUrBSlOK6q",
        "outputId": "7f4bbb53-18ac-41db-9835-1e3a9b0f2fd0"
      },
      "source": [
        "# Se calcula el accuracy sobre la base de Test:\n",
        "\n",
        "pred_test = model.predict_classes(X_test)\n",
        "\n",
        "accuracy_score(pred_test, y_test)"
      ],
      "execution_count": 142,
      "outputs": [
        {
          "output_type": "stream",
          "text": [
            "/usr/local/lib/python3.7/dist-packages/keras/engine/sequential.py:450: UserWarning: `model.predict_classes()` is deprecated and will be removed after 2021-01-01. Please use instead:* `np.argmax(model.predict(x), axis=-1)`,   if your model does multi-class classification   (e.g. if it uses a `softmax` last-layer activation).* `(model.predict(x) > 0.5).astype(\"int32\")`,   if your model does binary classification   (e.g. if it uses a `sigmoid` last-layer activation).\n",
            "  warnings.warn('`model.predict_classes()` is deprecated and '\n"
          ],
          "name": "stderr"
        },
        {
          "output_type": "execute_result",
          "data": {
            "text/plain": [
              "0.5897927858787414"
            ]
          },
          "metadata": {
            "tags": []
          },
          "execution_count": 142
        }
      ]
    },
    {
      "cell_type": "code",
      "metadata": {
        "id": "XTYIvV_tPbxS"
      },
      "source": [
        ""
      ],
      "execution_count": null,
      "outputs": []
    }
  ]
}