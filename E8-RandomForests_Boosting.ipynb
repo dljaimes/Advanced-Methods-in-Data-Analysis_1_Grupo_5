{
 "cells": [
  {
   "cell_type": "markdown",
   "metadata": {},
   "source": [
    "# Exercise 8 - Grupo 5\n",
    "\n",
    "The result will be evaluated from a report in Jupyter, which must be found in a public GitHub repository. The project must be carried out in the groups assigned in class. Use clear and rigorous procedures. Due date: July 18, 2021, 11:59 pm, through Bloque Neón + (Upload repository link)\n",
    "\n",
    "## Car Price Prediction\n",
    "\n",
    "Predict if the price of a car is low or high"
   ]
  },
  {
   "cell_type": "code",
   "execution_count": 1,
   "metadata": {},
   "outputs": [],
   "source": [
    "%matplotlib inline\n",
    "\n",
    "import pandas            as pd \n",
    "import numpy             as np \n",
    "import matplotlib.pyplot as plt\n",
    "import warnings\n",
    "warnings.filterwarnings('ignore')\n",
    "\n",
    "from sklearn                 import metrics\n",
    "from sklearn.tree            import DecisionTreeClassifier\n",
    "from sklearn.ensemble        import RandomForestClassifier\n",
    "from sklearn.model_selection import cross_val_score\n",
    "from sklearn.model_selection import train_test_split\n",
    "from matplotlib.pyplot       import figure\n",
    "from xgboost                 import XGBClassifier\n",
    "\n",
    "plt.style.use('classic')"
   ]
  },
  {
   "cell_type": "code",
   "execution_count": 2,
   "metadata": {},
   "outputs": [
    {
     "data": {
      "text/html": [
       "<div>\n",
       "<style scoped>\n",
       "    .dataframe tbody tr th:only-of-type {\n",
       "        vertical-align: middle;\n",
       "    }\n",
       "\n",
       "    .dataframe tbody tr th {\n",
       "        vertical-align: top;\n",
       "    }\n",
       "\n",
       "    .dataframe thead th {\n",
       "        text-align: right;\n",
       "    }\n",
       "</style>\n",
       "<table border=\"1\" class=\"dataframe\">\n",
       "  <thead>\n",
       "    <tr style=\"text-align: right;\">\n",
       "      <th></th>\n",
       "      <th>Year</th>\n",
       "      <th>Mileage</th>\n",
       "      <th>M_Camry</th>\n",
       "      <th>M_Camry4dr</th>\n",
       "      <th>M_CamryBase</th>\n",
       "      <th>M_CamryL</th>\n",
       "      <th>M_CamryLE</th>\n",
       "      <th>M_CamrySE</th>\n",
       "      <th>M_CamryXLE</th>\n",
       "      <th>HighPrice</th>\n",
       "    </tr>\n",
       "  </thead>\n",
       "  <tbody>\n",
       "    <tr>\n",
       "      <th>15</th>\n",
       "      <td>2016</td>\n",
       "      <td>29242</td>\n",
       "      <td>0</td>\n",
       "      <td>0</td>\n",
       "      <td>0</td>\n",
       "      <td>0</td>\n",
       "      <td>1</td>\n",
       "      <td>0</td>\n",
       "      <td>0</td>\n",
       "      <td>1</td>\n",
       "    </tr>\n",
       "    <tr>\n",
       "      <th>47</th>\n",
       "      <td>2015</td>\n",
       "      <td>26465</td>\n",
       "      <td>0</td>\n",
       "      <td>0</td>\n",
       "      <td>0</td>\n",
       "      <td>0</td>\n",
       "      <td>1</td>\n",
       "      <td>0</td>\n",
       "      <td>0</td>\n",
       "      <td>1</td>\n",
       "    </tr>\n",
       "    <tr>\n",
       "      <th>85</th>\n",
       "      <td>2012</td>\n",
       "      <td>46739</td>\n",
       "      <td>0</td>\n",
       "      <td>1</td>\n",
       "      <td>0</td>\n",
       "      <td>0</td>\n",
       "      <td>0</td>\n",
       "      <td>0</td>\n",
       "      <td>0</td>\n",
       "      <td>1</td>\n",
       "    </tr>\n",
       "    <tr>\n",
       "      <th>141</th>\n",
       "      <td>2017</td>\n",
       "      <td>41722</td>\n",
       "      <td>0</td>\n",
       "      <td>0</td>\n",
       "      <td>0</td>\n",
       "      <td>0</td>\n",
       "      <td>0</td>\n",
       "      <td>1</td>\n",
       "      <td>0</td>\n",
       "      <td>1</td>\n",
       "    </tr>\n",
       "    <tr>\n",
       "      <th>226</th>\n",
       "      <td>2014</td>\n",
       "      <td>77669</td>\n",
       "      <td>0</td>\n",
       "      <td>0</td>\n",
       "      <td>0</td>\n",
       "      <td>0</td>\n",
       "      <td>0</td>\n",
       "      <td>0</td>\n",
       "      <td>1</td>\n",
       "      <td>0</td>\n",
       "    </tr>\n",
       "  </tbody>\n",
       "</table>\n",
       "</div>"
      ],
      "text/plain": [
       "     Year  Mileage  M_Camry  M_Camry4dr  M_CamryBase  M_CamryL  M_CamryLE  \\\n",
       "15   2016    29242        0           0            0         0          1   \n",
       "47   2015    26465        0           0            0         0          1   \n",
       "85   2012    46739        0           1            0         0          0   \n",
       "141  2017    41722        0           0            0         0          0   \n",
       "226  2014    77669        0           0            0         0          0   \n",
       "\n",
       "     M_CamrySE  M_CamryXLE  HighPrice  \n",
       "15           0           0          1  \n",
       "47           0           0          1  \n",
       "85           0           0          1  \n",
       "141          1           0          1  \n",
       "226          0           1          0  "
      ]
     },
     "execution_count": 2,
     "metadata": {},
     "output_type": "execute_result"
    }
   ],
   "source": [
    "data = pd.read_csv('../datasets/dataTrain_carListings.zip')\n",
    "data = data.loc[data['Model'].str.contains('Camry')].drop(['Make', 'State'], axis=1)\n",
    "data = data.join(pd.get_dummies(data['Model'], prefix='M'))\n",
    "data['HighPrice'] = (data['Price'] > data['Price'].mean()).astype(int)\n",
    "data = data.drop(['Model', 'Price'], axis=1)\n",
    "\n",
    "data.head()"
   ]
  },
  {
   "cell_type": "code",
   "execution_count": 3,
   "metadata": {},
   "outputs": [
    {
     "data": {
      "text/plain": [
       "(13150, 10)"
      ]
     },
     "execution_count": 3,
     "metadata": {},
     "output_type": "execute_result"
    }
   ],
   "source": [
    "data.shape"
   ]
  },
  {
   "cell_type": "code",
   "execution_count": 4,
   "metadata": {},
   "outputs": [],
   "source": [
    "y = data['HighPrice']\n",
    "X = data.drop(['HighPrice'], axis=1)"
   ]
  },
  {
   "cell_type": "code",
   "execution_count": 5,
   "metadata": {},
   "outputs": [],
   "source": [
    "X_train, X_test, y_train, y_test = train_test_split(X, y, test_size=0.33, random_state=42)"
   ]
  },
  {
   "cell_type": "markdown",
   "metadata": {},
   "source": [
    "# Exercise 8.1\n",
    "\n",
    "Estimate a Decision Tree Classifier Manually using the code created in the decision trees notebook.\n",
    "\n",
    "## Definición de funciones necesarias"
   ]
  },
  {
   "cell_type": "code",
   "execution_count": 6,
   "metadata": {},
   "outputs": [],
   "source": [
    "#Función para cálculo de Gini\n",
    "def gini(y):\n",
    "    if y.shape[0] == 0:\n",
    "        return 0\n",
    "    else:\n",
    "        return 1 - (y.mean()**2 + (1 - y.mean())**2)\n",
    "\n",
    "#Función para cálculo de Gini gain\n",
    "def gini_impurity(X_col, y, split):\n",
    "    filter_l = X_col < split\n",
    "    y_l = y.loc[filter_l]    \n",
    "    y_r = y.loc[~filter_l]   \n",
    "    n_l = y_l.shape[0] \n",
    "    n_r = y_r.shape[0] \n",
    "    gini_y = gini(y)   \n",
    "    gini_l = gini(y_l) \n",
    "    gini_r = gini(y_r) \n",
    "    gini_impurity_ = gini_y - (n_l / (n_l + n_r) * gini_l + n_r / (n_l + n_r) * gini_r) \n",
    "    return gini_impurity_\n",
    "\n",
    "#Función para elegir variable y punto de corte\n",
    "def best_split(X, y, num_pct=10):\n",
    "    features = range(X.shape[1])\n",
    "    best_split = [0, 0, 0]\n",
    "    for j in features:\n",
    "        splits = np.percentile(X.iloc[:, j], np.arange(0, 100, 100.0 / (num_pct+1)).tolist()) \n",
    "        splits = np.unique(splits)[1:]\n",
    "        for split in splits:\n",
    "            gain = gini_impurity(X.iloc[:, j], y, split)\n",
    "            if gain > best_split[2]: \n",
    "                best_split = [j, split, gain]\n",
    "    return best_split\n",
    "\n",
    "#Función para entrenar árbol\n",
    "def tree_grow(X, y, level=0, min_gain=0.001, max_depth=None, num_pct=10):\n",
    "    if X.shape[0] == 1:\n",
    "        tree = dict(y_pred=y.iloc[:1].values[0], y_prob=0.5, level=level, split=-1, n_samples=1, gain=0)\n",
    "        return tree\n",
    "    j, split, gain = best_split(X, y, num_pct)\n",
    "    y_pred = int(y.mean() >= 0.5)\n",
    "    y_prob = (y.sum() + 1.0) / (y.shape[0] + 2.0)\n",
    "    tree = dict(y_pred=y_pred, y_prob=y_prob, level=level, split=-1, n_samples=X.shape[0], gain=gain) \n",
    "    if gain < min_gain:\n",
    "        return tree\n",
    "    if max_depth is not None:\n",
    "        if level >= max_depth:\n",
    "            return tree   \n",
    "    filter_l = X.iloc[:, j] < split\n",
    "    X_l, y_l = X.loc[filter_l], y.loc[filter_l]\n",
    "    X_r, y_r = X.loc[~filter_l], y.loc[~filter_l] \n",
    "    tree['split'] = [j, split]\n",
    "    tree['sl'] = tree_grow(X_l, y_l, level + 1, min_gain=min_gain, max_depth=max_depth, num_pct=num_pct) \n",
    "    tree['sr'] = tree_grow(X_r, y_r, level + 1, min_gain=min_gain, max_depth=max_depth, num_pct=num_pct)\n",
    "    return tree\n",
    "\n",
    "#Función para predecir sobre árbol entrenado\n",
    "def tree_predict(X, tree, proba=False):\n",
    "    predicted = np.ones(X.shape[0])\n",
    "    if tree['split'] == -1: \n",
    "        if not proba:\n",
    "            predicted = predicted * tree['y_pred']\n",
    "        else:\n",
    "            predicted = predicted * tree['y_prob']\n",
    "    else:\n",
    "        j, split = tree['split']\n",
    "        filter_l = (X.iloc[:, j] < split)\n",
    "        X_l = X.loc[filter_l]\n",
    "        X_r = X.loc[~filter_l]\n",
    "        if X_l.shape[0] == 0:\n",
    "            predicted[~filter_l] = tree_predict(X_r, tree['sr'], proba)\n",
    "        elif X_r.shape[0] == 0:\n",
    "            predicted[filter_l] = tree_predict(X_l, tree['sl'], proba)\n",
    "        else:\n",
    "            predicted[filter_l] = tree_predict(X_l, tree['sl'], proba)\n",
    "            predicted[~filter_l] = tree_predict(X_r, tree['sr'], proba)\n",
    "    return predicted   "
   ]
  },
  {
   "cell_type": "markdown",
   "metadata": {},
   "source": [
    "Se entrena el árbol sobre el set de training y los parámetros por defecto."
   ]
  },
  {
   "cell_type": "code",
   "execution_count": 7,
   "metadata": {},
   "outputs": [],
   "source": [
    "tree = tree_grow(X_train, y_train)"
   ]
  },
  {
   "cell_type": "markdown",
   "metadata": {},
   "source": [
    "Evaluate the accuracy on the testing set"
   ]
  },
  {
   "cell_type": "code",
   "execution_count": 8,
   "metadata": {},
   "outputs": [
    {
     "data": {
      "text/plain": [
       "0.8433179723502304"
      ]
     },
     "execution_count": 8,
     "metadata": {},
     "output_type": "execute_result"
    }
   ],
   "source": [
    "pred_tree = tree_predict(X_test, tree)\n",
    "metrics.accuracy_score(pred_tree, y_test)"
   ]
  },
  {
   "cell_type": "markdown",
   "metadata": {},
   "source": [
    "Con el árbol entrenado se tiene el 84.33% de las observaciones clasificadas correctamente.\n",
    "\n",
    "# Exercise 8.2\n",
    "\n",
    "Estimate a Bagging of 10 Decision Tree Classifiers Manually using the code created in bagging notebook."
   ]
  },
  {
   "cell_type": "code",
   "execution_count": 9,
   "metadata": {},
   "outputs": [],
   "source": [
    "np.random.seed(123)\n",
    "n_samples = X_train.shape[0]\n",
    "n_B = 10\n",
    "samples = [np.random.choice(a=n_samples, size=n_samples, replace=True) for _ in range(1, n_B +1 )]\n",
    "treeClf = DecisionTreeClassifier(max_depth=None, random_state=123)\n",
    "pred_bag10 = pd.DataFrame(index=y_test.index, columns=[list(range(n_B))])\n",
    "for i, sample in enumerate(samples):\n",
    "    X_train_ = X_train.iloc[sample,:]\n",
    "    y_train_ = y_train.iloc[sample, ]\n",
    "    treeClf.fit(X_train_, y_train_)\n",
    "    pred_bag10[i] = treeClf.predict(X_test)"
   ]
  },
  {
   "cell_type": "markdown",
   "metadata": {},
   "source": [
    "Evaluate the accuracy on the testing set\n"
   ]
  },
  {
   "cell_type": "code",
   "execution_count": 10,
   "metadata": {},
   "outputs": [
    {
     "data": {
      "text/plain": [
       "0.8476958525345623"
      ]
     },
     "execution_count": 10,
     "metadata": {},
     "output_type": "execute_result"
    }
   ],
   "source": [
    "pred_bag10=(pred_bag10.sum(axis=1) >= n_B / 2).astype(np.int32)\n",
    "metrics.accuracy_score(pred_bag10, y_test)"
   ]
  },
  {
   "cell_type": "markdown",
   "metadata": {},
   "source": [
    "Con el modelo de bagging de 10 árboles se obtiene el 84.79% de las observaciones clasificadas correctamente.\n",
    "# Exercise 8.3\n",
    "\n",
    "Implement the variable max_features on the Decision Tree Classifier created in 11.1.\n",
    "<br>Compare the impact in the results by varing the parameter max_features\n",
    "<br>Evaluate the accuracy on the testing set\n",
    "<br><br>Entrenamos el árbol incorporando el parametro 'max_depth' con valores de 1 a 20."
   ]
  },
  {
   "cell_type": "code",
   "execution_count": 11,
   "metadata": {},
   "outputs": [],
   "source": [
    "max_depth_range = range(1, 21)\n",
    "accuracy_scores = []\n",
    "for depth in max_depth_range:\n",
    "    tree = tree_grow(X_train, y_train, level=0, min_gain=0.001, max_depth=depth, num_pct=10)\n",
    "    pred_tree_depth = tree_predict(X_test, tree)\n",
    "    accuracy_scores.append(metrics.accuracy_score(pred_tree_depth, y_test))"
   ]
  },
  {
   "cell_type": "code",
   "execution_count": 12,
   "metadata": {},
   "outputs": [
    {
     "data": {
      "image/png": "[encoded data removed]",
      "text/plain": [
       "<Figure size 800x320 with 1 Axes>"
      ]
     },
     "metadata": {},
     "output_type": "display_data"
    }
   ],
   "source": [
    "best_depth=sorted(zip(accuracy_scores, max_depth_range))[::-1][0][1]\n",
    "best_acc=sorted(zip(accuracy_scores, max_depth_range))[::-1][0][0]\n",
    "\n",
    "figure(figsize=(10, 4))\n",
    "plt.plot(max_depth_range, accuracy_scores, linewidth=1)\n",
    "plt.axvline(best_depth, color =\"red\", linestyle=\"dashed\")\n",
    "plt.xlabel('max_depth')\n",
    "plt.xticks(ticks=range(1, 21))\n",
    "plt.ylabel('Accuracy')\n",
    "plt.annotate(np.int32(1000*best_acc)/1000, (best_depth+0.5,best_acc))\n",
    "plt.title('Accuracy vs max_depth');"
   ]
  },
  {
   "cell_type": "markdown",
   "metadata": {},
   "source": [
    "Al variar el parámetro 'max_depth' se encuentra que alcanza el mejor accuracy en el valor 6 clasificando correctamente el 87.7% de las observaciones.\n",
    "# Exercise 8.4\n",
    "\n",
    "Estimate a Bagging of 10 Decision Tree Classifiers with `max_features = log(n_features)`\n",
    "\n",
    "Esta opción se ingresa con el argumento 'max_features'=\"log2\" en la función 'DecisionTreeRegressor'."
   ]
  },
  {
   "cell_type": "code",
   "execution_count": 13,
   "metadata": {},
   "outputs": [],
   "source": [
    "np.random.seed(123)\n",
    "n_samples = X_train.shape[0]\n",
    "n_B = 10\n",
    "samples = [np.random.choice(a=n_samples, size=n_samples, replace=True) for _ in range(1, n_B +1 )]\n",
    "treeClf = DecisionTreeClassifier(max_depth=None, random_state=123,max_features=\"log2\")\n",
    "pred_bag_feat_log = pd.DataFrame(index=y_test.index, columns=[list(range(n_B))])\n",
    "for i, sample in enumerate(samples):\n",
    "    X_train_ = X_train.iloc[sample,:]\n",
    "    y_train_ = y_train.iloc[sample, ]\n",
    "    treeClf.fit(X_train_, y_train_)\n",
    "    pred_bag_feat_log[i] = treeClf.predict(X_test)\n",
    "pred_bag_feat_log=(pred_bag_feat_log.sum(axis=1) >= n_B / 2).astype(np.int32)"
   ]
  },
  {
   "cell_type": "markdown",
   "metadata": {},
   "source": [
    "Evaluate the accuracy on the testing set"
   ]
  },
  {
   "cell_type": "code",
   "execution_count": 14,
   "metadata": {},
   "outputs": [
    {
     "data": {
      "text/plain": [
       "0.8423963133640553"
      ]
     },
     "execution_count": 14,
     "metadata": {},
     "output_type": "execute_result"
    }
   ],
   "source": [
    "metrics.accuracy_score(pred_bag_feat_log, y_test)"
   ]
  },
  {
   "cell_type": "markdown",
   "metadata": {},
   "source": [
    "Al incluir el argumento 'max_features'=\"log2\" se obtiene el 84.23% de las observaciones clasificadas correctamente.\n",
    "# Exercise 8.5\n",
    "Using sklearn, train a RandomForestClassifier"
   ]
  },
  {
   "cell_type": "code",
   "execution_count": 15,
   "metadata": {},
   "outputs": [],
   "source": [
    "RFclf = RandomForestClassifier()\n",
    "RFclf.fit(X_train,y_train);"
   ]
  },
  {
   "cell_type": "markdown",
   "metadata": {},
   "source": [
    "Evaluate the accuracy on the testing set"
   ]
  },
  {
   "cell_type": "code",
   "execution_count": 16,
   "metadata": {},
   "outputs": [
    {
     "data": {
      "text/plain": [
       "0.8377880184331797"
      ]
     },
     "execution_count": 16,
     "metadata": {},
     "output_type": "execute_result"
    }
   ],
   "source": [
    "pred_rf=RFclf.predict(X_test)\n",
    "metrics.accuracy_score(pred_rf, y_test)"
   ]
  },
  {
   "cell_type": "markdown",
   "metadata": {},
   "source": [
    "Con el modelo de random forest se tiene el 83.8% de las observaciones clasificadas correctamente.\n",
    "# Exercise 8.6\n",
    "\n",
    "Find the best parameters of the RandomForestClassifier (max_depth, max_features, n_estimators) and evaluate the accuracy on the testing set.\n",
    "<br>Para seleccionar cada parámetro se iterará sobre un rango de valores posibles manteniendo los demás en su valor default.\n",
    "## 'max_depth'"
   ]
  },
  {
   "cell_type": "code",
   "execution_count": 17,
   "metadata": {},
   "outputs": [
    {
     "data": {
      "image/png": "[encoded data removed]",
      "text/plain": [
       "<Figure size 800x320 with 1 Axes>"
      ]
     },
     "metadata": {},
     "output_type": "display_data"
    }
   ],
   "source": [
    "#max_depth\n",
    "depth_range = range(1, 21)\n",
    "accuracy_scores_depth = []\n",
    "for depth in depth_range:\n",
    "    rfclf_ = RandomForestClassifier(max_depth=depth,random_state=1, n_jobs=-1)\n",
    "    rfclf_.fit(X_train,y_train)\n",
    "    pred_rf_depth=rfclf_.predict(X_test)\n",
    "    accuracy_scores_depth.append(metrics.accuracy_score(pred_rf_depth, y_test))\n",
    "best_depth=sorted(zip(accuracy_scores_depth, depth_range))[::-1][0][1]\n",
    "figure(figsize=(10, 4))\n",
    "plt.plot(depth_range, accuracy_scores_depth, linewidth=1)\n",
    "plt.axvline(best_depth, color =\"red\", linestyle=\"dashed\")\n",
    "plt.xlabel('max_depth')\n",
    "plt.xticks(ticks=depth_range)\n",
    "plt.ylabel('Accuracy')\n",
    "plt.ylim(0.84,0.885)\n",
    "plt.title('Accuracy vs max_depth');"
   ]
  },
  {
   "cell_type": "markdown",
   "metadata": {},
   "source": [
    "Manteniendo los demás parámetros en su valor default, el valor de 'max_depth' que maximiza el accuracy para el modelo es 7.\n",
    "## 'max_features'"
   ]
  },
  {
   "cell_type": "code",
   "execution_count": 18,
   "metadata": {},
   "outputs": [
    {
     "data": {
      "image/png": "[encoded data removed]",
      "text/plain": [
       "<Figure size 800x320 with 1 Axes>"
      ]
     },
     "metadata": {},
     "output_type": "display_data"
    }
   ],
   "source": [
    "#max_features\n",
    "feature_range = range(1,1+len(X_train.columns))\n",
    "accuracy_scores_features = []\n",
    "for feature in feature_range:\n",
    "    rfclf_ = RandomForestClassifier(max_features=feature, random_state=1, n_jobs=-1)\n",
    "    rfclf_.fit(X_train,y_train)\n",
    "    pred_rf_feat=rfclf_.predict(X_test)\n",
    "    accuracy_scores_features.append(metrics.accuracy_score(pred_rf_feat, y_test))\n",
    "best_features=sorted(zip(accuracy_scores_features, feature_range))[::-1][0][1]\n",
    "figure(figsize=(10, 4))\n",
    "plt.plot(feature_range, accuracy_scores_features, linewidth=1)\n",
    "plt.axvline(best_features, color =\"red\", linestyle=\"dashed\")\n",
    "plt.xlabel('max_features')\n",
    "plt.xticks(ticks=range(1,11))\n",
    "plt.ylabel('Accuracy')\n",
    "plt.ylim(0.83,0.85)\n",
    "plt.title('Accuracy vs max_features');"
   ]
  },
  {
   "cell_type": "markdown",
   "metadata": {},
   "source": [
    "Manteniendo los demás parámetros en su valor default, el valor de 'max_features' que maximiza el accuracy para el modelo es 9, la mejor opción es la que tiene disponibles todas las variables predictoras, sin embargo la diferencia no es muy amplia.\n",
    "## 'n_estimators'"
   ]
  },
  {
   "cell_type": "code",
   "execution_count": 19,
   "metadata": {},
   "outputs": [
    {
     "data": {
      "image/png": "[encoded data removed]",
      "text/plain": [
       "<Figure size 800x320 with 1 Axes>"
      ]
     },
     "metadata": {},
     "output_type": "display_data"
    }
   ],
   "source": [
    "#estimators\n",
    "estimators_range = range(5, 100,5)\n",
    "accuracy_scores_estimators = []\n",
    "for estimator in estimators_range:\n",
    "    rfclf_ = RandomForestClassifier(n_estimators=estimator,  random_state=1, n_jobs=-1)\n",
    "    rfclf_.fit(X_train,y_train)\n",
    "    pred_rf_estimators=rfclf_.predict(X_test)\n",
    "    accuracy_scores_estimators.append(metrics.accuracy_score(pred_rf_estimators, y_test))\n",
    "best_estimators=sorted(zip(accuracy_scores_estimators, estimators_range))[::-1][0][1]\n",
    "figure(figsize=(10, 4))\n",
    "plt.plot(estimators_range, accuracy_scores_estimators, linewidth=1)\n",
    "plt.axvline(best_estimators, color =\"red\", linestyle=\"dashed\")\n",
    "plt.xlabel('n_estimators')\n",
    "plt.xticks(ticks=estimators_range)\n",
    "plt.ylabel('Accuracy')\n",
    "plt.ylim(0.836,0.844)\n",
    "plt.title('Accuracy vs n_estimators');"
   ]
  },
  {
   "cell_type": "markdown",
   "metadata": {},
   "source": [
    "Manteniendo los demás parámetros en su valor default, el valor de 'n_estimators' que maximiza el accuracy para el modelo es 30.\n",
    "<br>Con el modelo de random forest parametrizado con los valores hallados se tiene el 87.78% de las observaciones clasificadas correctamente."
   ]
  },
  {
   "cell_type": "code",
   "execution_count": 20,
   "metadata": {},
   "outputs": [
    {
     "data": {
      "text/plain": [
       "0.8776497695852534"
      ]
     },
     "execution_count": 20,
     "metadata": {},
     "output_type": "execute_result"
    }
   ],
   "source": [
    "rfclf_ = RandomForestClassifier(n_estimators=30,max_depth=7,max_features=9,random_state=1, n_jobs=-1)\n",
    "rfclf_.fit(X_train,y_train)\n",
    "pred_rf_ttl=rfclf_.predict(X_test)\n",
    "metrics.accuracy_score(pred_rf_ttl, y_test)"
   ]
  },
  {
   "cell_type": "markdown",
   "metadata": {},
   "source": [
    "# Exercise 8.7 \n",
    "\n",
    "Using xgboost train a XGBClassifier and evaluate the accuracy on the testing set"
   ]
  },
  {
   "cell_type": "code",
   "execution_count": 21,
   "metadata": {},
   "outputs": [
    {
     "name": "stdout",
     "output_type": "stream",
     "text": [
      "[20:34:55] WARNING: C:/Users/Administrator/workspace/xgboost-win64_release_1.4.0/src/learner.cc:1095: Starting in XGBoost 1.3.0, the default evaluation metric used with the objective 'binary:logistic' was changed from 'error' to 'logloss'. Explicitly set eval_metric if you'd like to restore the old behavior.\n"
     ]
    },
    {
     "data": {
      "text/plain": [
       "0.8790322580645161"
      ]
     },
     "execution_count": 21,
     "metadata": {},
     "output_type": "execute_result"
    }
   ],
   "source": [
    "XGBclf = XGBClassifier()\n",
    "XGBclf.fit(X_train,y_train)\n",
    "pred_XGB=XGBclf.predict(X_test)\n",
    "metrics.accuracy_score(pred_XGB, y_test)"
   ]
  },
  {
   "cell_type": "markdown",
   "metadata": {},
   "source": [
    "Con el modelo de xgboost se tiene el 87.9% de las observaciones clasificadas correctamente.\n",
    "# Exercise 8.8\n",
    "\n",
    "Using xgboost train a XGBClassifier \n",
    "\n",
    "Modify the parameters learning rate, gamma, colsample_bytree. Explain what each parameter means."
   ]
  },
  {
   "cell_type": "code",
   "execution_count": 22,
   "metadata": {},
   "outputs": [
    {
     "name": "stdout",
     "output_type": "stream",
     "text": [
      "[20:34:56] WARNING: C:/Users/Administrator/workspace/xgboost-win64_release_1.4.0/src/learner.cc:1095: Starting in XGBoost 1.3.0, the default evaluation metric used with the objective 'binary:logistic' was changed from 'error' to 'logloss'. Explicitly set eval_metric if you'd like to restore the old behavior.\n"
     ]
    }
   ],
   "source": [
    "XGBclf = XGBClassifier(eta=0.2,gamma=0.001,colsample_bytree=0.9)\n",
    "XGBclf.fit(X_train,y_train)\n",
    "pred_XGB=XGBclf.predict(X_test)"
   ]
  },
  {
   "cell_type": "markdown",
   "metadata": {},
   "source": [
    "El parámetro **learning rate** o 'eta' controla el grado de mejora de un árbol respecto al anterior; un learning rate pequeño implica una mejora más lenta, pero se adapta mejor a los datos y generalmente consigue mejores resultados a costa de un mayor consumo de recursos.\n",
    "<br>El parámetro **gamma** es un parámetro de regularización, su función es evitar el sobreajuste.\n",
    "<br>El parámetro **colsample_bytree** controla la cantidad de variables que estarán disponibles al construir los árboles, sigue el mismo principio de 'max_features' en el algoritmo 'DecisionTreeClassifier' con la diferencia de que en 'XGBClassifier' se expresa como porcentaje.\n",
    "\n",
    "Evaluate the accuracy on the testing set"
   ]
  },
  {
   "cell_type": "code",
   "execution_count": 23,
   "metadata": {},
   "outputs": [
    {
     "data": {
      "text/plain": [
       "0.8804147465437788"
      ]
     },
     "execution_count": 23,
     "metadata": {},
     "output_type": "execute_result"
    }
   ],
   "source": [
    "metrics.accuracy_score(pred_XGB, y_test)"
   ]
  },
  {
   "cell_type": "markdown",
   "metadata": {},
   "source": [
    "En el modelo de xgboost donde se modificaron los parámetros mencionados se tiene el 88.04% de las observaciones clasificadas correctamente.\n",
    "<br><br>Se observa que de todos los modelos ejecutados el ranking de desempeño estaría liderado por XGBoost seguido por Random forest, sin embargo la diferencia no es muy alta."
   ]
  }
 ],
 "metadata": {
  "kernelspec": {
   "display_name": "Python 3",
   "language": "python",
   "name": "python3"
  },
  "language_info": {
   "codemirror_mode": {
    "name": "ipython",
    "version": 3
   },
   "file_extension": ".py",
   "mimetype": "text/x-python",
   "name": "python",
   "nbconvert_exporter": "python",
   "pygments_lexer": "ipython3",
   "version": "3.8.8"
  }
 },
 "nbformat": 4,
 "nbformat_minor": 4
}
